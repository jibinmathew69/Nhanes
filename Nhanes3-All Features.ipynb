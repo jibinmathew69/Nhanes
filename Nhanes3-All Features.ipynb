{
 "cells": [
  {
   "cell_type": "code",
   "execution_count": 1,
   "metadata": {},
   "outputs": [
    {
     "data": {
      "text/html": [
       "<script type=\"text/javascript\">window.PlotlyConfig = {MathJaxConfig: 'local'};</script><script type=\"text/javascript\">if (window.MathJax) {MathJax.Hub.Config({SVG: {font: \"STIX-Web\"}});}</script><script>requirejs.config({paths: { 'plotly': ['https://cdn.plot.ly/plotly-latest.min']},});if(!window._Plotly) {require(['plotly'],function(plotly) {window._Plotly=plotly;});}</script>"
      ],
      "text/vnd.plotly.v1+html": [
       "<script type=\"text/javascript\">window.PlotlyConfig = {MathJaxConfig: 'local'};</script><script type=\"text/javascript\">if (window.MathJax) {MathJax.Hub.Config({SVG: {font: \"STIX-Web\"}});}</script><script>requirejs.config({paths: { 'plotly': ['https://cdn.plot.ly/plotly-latest.min']},});if(!window._Plotly) {require(['plotly'],function(plotly) {window._Plotly=plotly;});}</script>"
      ]
     },
     "metadata": {},
     "output_type": "display_data"
    }
   ],
   "source": [
    "import numpy as np\n",
    "import pandas as pd\n",
    "\n",
    "import plotly.graph_objs as go\n",
    "from plotly.offline import init_notebook_mode, plot, iplot\n",
    "init_notebook_mode(connected=True)\n",
    "\n",
    "from statsmodels.stats.outliers_influence import variance_inflation_factor\n",
    "\n",
    "import seaborn as sns\n",
    "import matplotlib.pyplot as plt\n",
    "%matplotlib inline\n",
    "\n",
    "import sklearn\n",
    "from sklearn.model_selection import train_test_split, RandomizedSearchCV, GridSearchCV\n",
    "from sklearn.ensemble import RandomForestClassifier\n",
    "\n",
    "from sklearn.metrics import roc_auc_score, roc_curve, auc, confusion_matrix, classification_report, accuracy_score\n",
    "\n",
    "from xgboost import XGBClassifier"
   ]
  },
  {
   "cell_type": "code",
   "execution_count": 2,
   "metadata": {},
   "outputs": [],
   "source": [
    "data = pd.read_csv('data/nhanes32006data.csv')"
   ]
  },
  {
   "cell_type": "code",
   "execution_count": 3,
   "metadata": {},
   "outputs": [
    {
     "data": {
      "text/html": [
       "<div>\n",
       "<style scoped>\n",
       "    .dataframe tbody tr th:only-of-type {\n",
       "        vertical-align: middle;\n",
       "    }\n",
       "\n",
       "    .dataframe tbody tr th {\n",
       "        vertical-align: top;\n",
       "    }\n",
       "\n",
       "    .dataframe thead th {\n",
       "        text-align: right;\n",
       "    }\n",
       "</style>\n",
       "<table border=\"1\" class=\"dataframe\">\n",
       "  <thead>\n",
       "    <tr style=\"text-align: right;\">\n",
       "      <th></th>\n",
       "      <th>Unnamed: 0</th>\n",
       "      <th>age</th>\n",
       "      <th>agestrat</th>\n",
       "      <th>sex</th>\n",
       "      <th>race</th>\n",
       "      <th>ses</th>\n",
       "      <th>smokehx</th>\n",
       "      <th>bmi</th>\n",
       "      <th>obese</th>\n",
       "      <th>htnhx</th>\n",
       "      <th>...</th>\n",
       "      <th>higlu</th>\n",
       "      <th>hba1c</th>\n",
       "      <th>dm</th>\n",
       "      <th>hf</th>\n",
       "      <th>stroke</th>\n",
       "      <th>mi</th>\n",
       "      <th>fasttime</th>\n",
       "      <th>fast</th>\n",
       "      <th>mortstat</th>\n",
       "      <th>PERMTH_INT</th>\n",
       "    </tr>\n",
       "  </thead>\n",
       "  <tbody>\n",
       "    <tr>\n",
       "      <th>0</th>\n",
       "      <td>1</td>\n",
       "      <td>21.750000</td>\n",
       "      <td>21-35</td>\n",
       "      <td>male</td>\n",
       "      <td>non hispanic black</td>\n",
       "      <td>0.641</td>\n",
       "      <td>yes</td>\n",
       "      <td>25.5</td>\n",
       "      <td>no</td>\n",
       "      <td>hypertensive</td>\n",
       "      <td>...</td>\n",
       "      <td>no</td>\n",
       "      <td>5.3</td>\n",
       "      <td>no</td>\n",
       "      <td>no</td>\n",
       "      <td>no</td>\n",
       "      <td>no</td>\n",
       "      <td>6.52</td>\n",
       "      <td>no</td>\n",
       "      <td>alive</td>\n",
       "      <td>203.0</td>\n",
       "    </tr>\n",
       "    <tr>\n",
       "      <th>1</th>\n",
       "      <td>2</td>\n",
       "      <td>32.000000</td>\n",
       "      <td>21-35</td>\n",
       "      <td>female</td>\n",
       "      <td>non hispanic black</td>\n",
       "      <td>4.803</td>\n",
       "      <td>yes</td>\n",
       "      <td>23.4</td>\n",
       "      <td>yes</td>\n",
       "      <td>no</td>\n",
       "      <td>...</td>\n",
       "      <td>no</td>\n",
       "      <td>4.6</td>\n",
       "      <td>no</td>\n",
       "      <td>no</td>\n",
       "      <td>no</td>\n",
       "      <td>no</td>\n",
       "      <td>6.12</td>\n",
       "      <td>no</td>\n",
       "      <td>alive</td>\n",
       "      <td>201.0</td>\n",
       "    </tr>\n",
       "    <tr>\n",
       "      <th>2</th>\n",
       "      <td>3</td>\n",
       "      <td>48.583333</td>\n",
       "      <td>35-50</td>\n",
       "      <td>female</td>\n",
       "      <td>hispanic</td>\n",
       "      <td>3.747</td>\n",
       "      <td>no</td>\n",
       "      <td>27.6</td>\n",
       "      <td>yes</td>\n",
       "      <td>no</td>\n",
       "      <td>...</td>\n",
       "      <td>no</td>\n",
       "      <td>5.3</td>\n",
       "      <td>no</td>\n",
       "      <td>no</td>\n",
       "      <td>no</td>\n",
       "      <td>no</td>\n",
       "      <td>13.73</td>\n",
       "      <td>no</td>\n",
       "      <td>alive</td>\n",
       "      <td>201.0</td>\n",
       "    </tr>\n",
       "    <tr>\n",
       "      <th>3</th>\n",
       "      <td>4</td>\n",
       "      <td>35.666667</td>\n",
       "      <td>35-50</td>\n",
       "      <td>male</td>\n",
       "      <td>hispanic</td>\n",
       "      <td>5.406</td>\n",
       "      <td>yes</td>\n",
       "      <td>29.4</td>\n",
       "      <td>yes</td>\n",
       "      <td>hypertensive</td>\n",
       "      <td>...</td>\n",
       "      <td>no</td>\n",
       "      <td>4.6</td>\n",
       "      <td>no</td>\n",
       "      <td>no</td>\n",
       "      <td>no</td>\n",
       "      <td>no</td>\n",
       "      <td>15.45</td>\n",
       "      <td>no</td>\n",
       "      <td>alive</td>\n",
       "      <td>196.0</td>\n",
       "    </tr>\n",
       "    <tr>\n",
       "      <th>4</th>\n",
       "      <td>5</td>\n",
       "      <td>48.500000</td>\n",
       "      <td>35-50</td>\n",
       "      <td>male</td>\n",
       "      <td>non hispanic black</td>\n",
       "      <td>1.676</td>\n",
       "      <td>no</td>\n",
       "      <td>25.0</td>\n",
       "      <td>no</td>\n",
       "      <td>no</td>\n",
       "      <td>...</td>\n",
       "      <td>yes</td>\n",
       "      <td>9.1</td>\n",
       "      <td>diabetes</td>\n",
       "      <td>no</td>\n",
       "      <td>no</td>\n",
       "      <td>no</td>\n",
       "      <td>1.85</td>\n",
       "      <td>yes</td>\n",
       "      <td>alive</td>\n",
       "      <td>190.0</td>\n",
       "    </tr>\n",
       "  </tbody>\n",
       "</table>\n",
       "<p>5 rows × 33 columns</p>\n",
       "</div>"
      ],
      "text/plain": [
       "   Unnamed: 0        age agestrat     sex                race    ses smokehx  \\\n",
       "0           1  21.750000    21-35    male  non hispanic black  0.641     yes   \n",
       "1           2  32.000000    21-35  female  non hispanic black  4.803     yes   \n",
       "2           3  48.583333    35-50  female            hispanic  3.747      no   \n",
       "3           4  35.666667    35-50    male            hispanic  5.406     yes   \n",
       "4           5  48.500000    35-50    male  non hispanic black  1.676      no   \n",
       "\n",
       "    bmi obese         htnhx  ...  higlu  hba1c        dm  hf  stroke  mi  \\\n",
       "0  25.5    no  hypertensive  ...     no    5.3        no  no      no  no   \n",
       "1  23.4   yes            no  ...     no    4.6        no  no      no  no   \n",
       "2  27.6   yes            no  ...     no    5.3        no  no      no  no   \n",
       "3  29.4   yes  hypertensive  ...     no    4.6        no  no      no  no   \n",
       "4  25.0    no            no  ...    yes    9.1  diabetes  no      no  no   \n",
       "\n",
       "  fasttime fast mortstat  PERMTH_INT  \n",
       "0     6.52   no    alive       203.0  \n",
       "1     6.12   no    alive       201.0  \n",
       "2    13.73   no    alive       201.0  \n",
       "3    15.45   no    alive       196.0  \n",
       "4     1.85  yes    alive       190.0  \n",
       "\n",
       "[5 rows x 33 columns]"
      ]
     },
     "execution_count": 3,
     "metadata": {},
     "output_type": "execute_result"
    }
   ],
   "source": [
    "data.head()"
   ]
  },
  {
   "cell_type": "code",
   "execution_count": 4,
   "metadata": {},
   "outputs": [
    {
     "data": {
      "text/plain": [
       "(18414, 33)"
      ]
     },
     "execution_count": 4,
     "metadata": {},
     "output_type": "execute_result"
    }
   ],
   "source": [
    "data.shape"
   ]
  },
  {
   "cell_type": "code",
   "execution_count": 5,
   "metadata": {},
   "outputs": [],
   "source": [
    "required_columns = ['obese', 'uralb', 'trig', 'hdl', 'chol', 'hldhx', 'htnhx', 'sbp', 'dbp', 'bmi', 'smokehx', 'ses', 'race', 'sex', 'age', 'hf', 'stroke', 'mi', 'hba1c']\n",
    "target = \"mortstat\""
   ]
  },
  {
   "cell_type": "code",
   "execution_count": 6,
   "metadata": {},
   "outputs": [
    {
     "data": {
      "text/plain": [
       "obese       object\n",
       "uralb      float64\n",
       "trig       float64\n",
       "hdl        float64\n",
       "chol       float64\n",
       "hldhx      float64\n",
       "htnhx       object\n",
       "sbp        float64\n",
       "dbp        float64\n",
       "bmi        float64\n",
       "smokehx     object\n",
       "ses        float64\n",
       "race        object\n",
       "sex         object\n",
       "age        float64\n",
       "hf          object\n",
       "stroke      object\n",
       "mi          object\n",
       "hba1c      float64\n",
       "dtype: object"
      ]
     },
     "execution_count": 6,
     "metadata": {},
     "output_type": "execute_result"
    }
   ],
   "source": [
    "data[required_columns].dtypes"
   ]
  },
  {
   "cell_type": "code",
   "execution_count": 7,
   "metadata": {},
   "outputs": [],
   "source": [
    "data = data[required_columns + [target]]"
   ]
  },
  {
   "cell_type": "code",
   "execution_count": 8,
   "metadata": {},
   "outputs": [
    {
     "data": {
      "text/html": [
       "<div>\n",
       "<style scoped>\n",
       "    .dataframe tbody tr th:only-of-type {\n",
       "        vertical-align: middle;\n",
       "    }\n",
       "\n",
       "    .dataframe tbody tr th {\n",
       "        vertical-align: top;\n",
       "    }\n",
       "\n",
       "    .dataframe thead th {\n",
       "        text-align: right;\n",
       "    }\n",
       "</style>\n",
       "<table border=\"1\" class=\"dataframe\">\n",
       "  <thead>\n",
       "    <tr style=\"text-align: right;\">\n",
       "      <th></th>\n",
       "      <th>obese</th>\n",
       "      <th>uralb</th>\n",
       "      <th>trig</th>\n",
       "      <th>hdl</th>\n",
       "      <th>chol</th>\n",
       "      <th>hldhx</th>\n",
       "      <th>htnhx</th>\n",
       "      <th>sbp</th>\n",
       "      <th>dbp</th>\n",
       "      <th>bmi</th>\n",
       "      <th>smokehx</th>\n",
       "      <th>ses</th>\n",
       "      <th>race</th>\n",
       "      <th>sex</th>\n",
       "      <th>age</th>\n",
       "      <th>hf</th>\n",
       "      <th>stroke</th>\n",
       "      <th>mi</th>\n",
       "      <th>hba1c</th>\n",
       "      <th>mortstat</th>\n",
       "    </tr>\n",
       "  </thead>\n",
       "  <tbody>\n",
       "    <tr>\n",
       "      <th>0</th>\n",
       "      <td>no</td>\n",
       "      <td>5.8</td>\n",
       "      <td>174.0</td>\n",
       "      <td>38.0</td>\n",
       "      <td>268.0</td>\n",
       "      <td>1.0</td>\n",
       "      <td>hypertensive</td>\n",
       "      <td>120.0</td>\n",
       "      <td>67.0</td>\n",
       "      <td>25.5</td>\n",
       "      <td>yes</td>\n",
       "      <td>0.641</td>\n",
       "      <td>non hispanic black</td>\n",
       "      <td>male</td>\n",
       "      <td>21.750000</td>\n",
       "      <td>no</td>\n",
       "      <td>no</td>\n",
       "      <td>no</td>\n",
       "      <td>5.3</td>\n",
       "      <td>alive</td>\n",
       "    </tr>\n",
       "    <tr>\n",
       "      <th>1</th>\n",
       "      <td>yes</td>\n",
       "      <td>2.2</td>\n",
       "      <td>84.0</td>\n",
       "      <td>55.0</td>\n",
       "      <td>160.0</td>\n",
       "      <td>1.0</td>\n",
       "      <td>no</td>\n",
       "      <td>126.0</td>\n",
       "      <td>86.0</td>\n",
       "      <td>23.4</td>\n",
       "      <td>yes</td>\n",
       "      <td>4.803</td>\n",
       "      <td>non hispanic black</td>\n",
       "      <td>female</td>\n",
       "      <td>32.000000</td>\n",
       "      <td>no</td>\n",
       "      <td>no</td>\n",
       "      <td>no</td>\n",
       "      <td>4.6</td>\n",
       "      <td>alive</td>\n",
       "    </tr>\n",
       "    <tr>\n",
       "      <th>2</th>\n",
       "      <td>yes</td>\n",
       "      <td>1.6</td>\n",
       "      <td>98.0</td>\n",
       "      <td>66.0</td>\n",
       "      <td>236.0</td>\n",
       "      <td>2.0</td>\n",
       "      <td>no</td>\n",
       "      <td>131.0</td>\n",
       "      <td>73.0</td>\n",
       "      <td>27.6</td>\n",
       "      <td>no</td>\n",
       "      <td>3.747</td>\n",
       "      <td>hispanic</td>\n",
       "      <td>female</td>\n",
       "      <td>48.583333</td>\n",
       "      <td>no</td>\n",
       "      <td>no</td>\n",
       "      <td>no</td>\n",
       "      <td>5.3</td>\n",
       "      <td>alive</td>\n",
       "    </tr>\n",
       "    <tr>\n",
       "      <th>3</th>\n",
       "      <td>yes</td>\n",
       "      <td>8.5</td>\n",
       "      <td>109.0</td>\n",
       "      <td>43.0</td>\n",
       "      <td>225.0</td>\n",
       "      <td>2.0</td>\n",
       "      <td>hypertensive</td>\n",
       "      <td>130.0</td>\n",
       "      <td>82.0</td>\n",
       "      <td>29.4</td>\n",
       "      <td>yes</td>\n",
       "      <td>5.406</td>\n",
       "      <td>hispanic</td>\n",
       "      <td>male</td>\n",
       "      <td>35.666667</td>\n",
       "      <td>no</td>\n",
       "      <td>no</td>\n",
       "      <td>no</td>\n",
       "      <td>4.6</td>\n",
       "      <td>alive</td>\n",
       "    </tr>\n",
       "    <tr>\n",
       "      <th>4</th>\n",
       "      <td>no</td>\n",
       "      <td>11.3</td>\n",
       "      <td>94.0</td>\n",
       "      <td>51.0</td>\n",
       "      <td>260.0</td>\n",
       "      <td>1.0</td>\n",
       "      <td>no</td>\n",
       "      <td>120.0</td>\n",
       "      <td>70.0</td>\n",
       "      <td>25.0</td>\n",
       "      <td>no</td>\n",
       "      <td>1.676</td>\n",
       "      <td>non hispanic black</td>\n",
       "      <td>male</td>\n",
       "      <td>48.500000</td>\n",
       "      <td>no</td>\n",
       "      <td>no</td>\n",
       "      <td>no</td>\n",
       "      <td>9.1</td>\n",
       "      <td>alive</td>\n",
       "    </tr>\n",
       "  </tbody>\n",
       "</table>\n",
       "</div>"
      ],
      "text/plain": [
       "  obese  uralb   trig   hdl   chol  hldhx         htnhx    sbp   dbp   bmi  \\\n",
       "0    no    5.8  174.0  38.0  268.0    1.0  hypertensive  120.0  67.0  25.5   \n",
       "1   yes    2.2   84.0  55.0  160.0    1.0            no  126.0  86.0  23.4   \n",
       "2   yes    1.6   98.0  66.0  236.0    2.0            no  131.0  73.0  27.6   \n",
       "3   yes    8.5  109.0  43.0  225.0    2.0  hypertensive  130.0  82.0  29.4   \n",
       "4    no   11.3   94.0  51.0  260.0    1.0            no  120.0  70.0  25.0   \n",
       "\n",
       "  smokehx    ses                race     sex        age  hf stroke  mi  hba1c  \\\n",
       "0     yes  0.641  non hispanic black    male  21.750000  no     no  no    5.3   \n",
       "1     yes  4.803  non hispanic black  female  32.000000  no     no  no    4.6   \n",
       "2      no  3.747            hispanic  female  48.583333  no     no  no    5.3   \n",
       "3     yes  5.406            hispanic    male  35.666667  no     no  no    4.6   \n",
       "4      no  1.676  non hispanic black    male  48.500000  no     no  no    9.1   \n",
       "\n",
       "  mortstat  \n",
       "0    alive  \n",
       "1    alive  \n",
       "2    alive  \n",
       "3    alive  \n",
       "4    alive  "
      ]
     },
     "execution_count": 8,
     "metadata": {},
     "output_type": "execute_result"
    }
   ],
   "source": [
    "data.head()"
   ]
  },
  {
   "cell_type": "code",
   "execution_count": 9,
   "metadata": {},
   "outputs": [
    {
     "data": {
      "text/plain": [
       "(18414, 20)"
      ]
     },
     "execution_count": 9,
     "metadata": {},
     "output_type": "execute_result"
    }
   ],
   "source": [
    "data.shape"
   ]
  },
  {
   "cell_type": "code",
   "execution_count": 10,
   "metadata": {},
   "outputs": [],
   "source": [
    "data = data[(data['age'] >= 45 ) & (data['age'] <= 65)]"
   ]
  },
  {
   "cell_type": "code",
   "execution_count": 11,
   "metadata": {},
   "outputs": [
    {
     "data": {
      "text/plain": [
       "(4545, 20)"
      ]
     },
     "execution_count": 11,
     "metadata": {},
     "output_type": "execute_result"
    }
   ],
   "source": [
    "data.shape"
   ]
  },
  {
   "cell_type": "markdown",
   "metadata": {},
   "source": [
    "Read the number of nan values"
   ]
  },
  {
   "cell_type": "code",
   "execution_count": 12,
   "metadata": {},
   "outputs": [
    {
     "name": "stdout",
     "output_type": "stream",
     "text": [
      "<class 'pandas.core.frame.DataFrame'>\n",
      "Int64Index: 4545 entries, 2 to 18407\n",
      "Data columns (total 20 columns):\n",
      "obese       4115 non-null object\n",
      "uralb       4115 non-null float64\n",
      "trig        3974 non-null float64\n",
      "hdl         3949 non-null float64\n",
      "chol        3980 non-null float64\n",
      "hldhx       4418 non-null float64\n",
      "htnhx       4525 non-null object\n",
      "sbp         4108 non-null float64\n",
      "dbp         4107 non-null float64\n",
      "bmi         4141 non-null float64\n",
      "smokehx     4545 non-null object\n",
      "ses         4545 non-null float64\n",
      "race        4545 non-null object\n",
      "sex         4545 non-null object\n",
      "age         4545 non-null float64\n",
      "hf          4541 non-null object\n",
      "stroke      4543 non-null object\n",
      "mi          4484 non-null object\n",
      "hba1c       4022 non-null float64\n",
      "mortstat    4541 non-null object\n",
      "dtypes: float64(11), object(9)\n",
      "memory usage: 745.7+ KB\n"
     ]
    }
   ],
   "source": [
    "data.info()"
   ]
  },
  {
   "cell_type": "markdown",
   "metadata": {},
   "source": [
    "Percentage of missing data"
   ]
  },
  {
   "cell_type": "code",
   "execution_count": 13,
   "metadata": {},
   "outputs": [
    {
     "data": {
      "text/plain": [
       "821"
      ]
     },
     "execution_count": 13,
     "metadata": {},
     "output_type": "execute_result"
    }
   ],
   "source": [
    "data.isna().any(axis = 1).sum()"
   ]
  },
  {
   "cell_type": "code",
   "execution_count": 14,
   "metadata": {},
   "outputs": [
    {
     "data": {
      "text/plain": [
       "18.063806380638063"
      ]
     },
     "execution_count": 14,
     "metadata": {},
     "output_type": "execute_result"
    }
   ],
   "source": [
    "100*data.isna().any(axis = 1).sum()/data.shape[0]"
   ]
  },
  {
   "cell_type": "code",
   "execution_count": 15,
   "metadata": {},
   "outputs": [],
   "source": [
    "data['hldhx'] = data['hldhx'].astype(object)"
   ]
  },
  {
   "cell_type": "code",
   "execution_count": 16,
   "metadata": {},
   "outputs": [
    {
     "data": {
      "text/plain": [
       "Index(['obese', 'hldhx', 'htnhx', 'smokehx', 'race', 'sex', 'hf', 'stroke',\n",
       "       'mi', 'mortstat'],\n",
       "      dtype='object')"
      ]
     },
     "execution_count": 16,
     "metadata": {},
     "output_type": "execute_result"
    }
   ],
   "source": [
    "categorical_columns = data.select_dtypes('object').columns\n",
    "categorical_columns"
   ]
  },
  {
   "cell_type": "code",
   "execution_count": 17,
   "metadata": {},
   "outputs": [
    {
     "data": {
      "text/plain": [
       "['ses', 'sbp', 'age', 'dbp', 'bmi', 'uralb', 'hdl', 'chol', 'hba1c', 'trig']"
      ]
     },
     "execution_count": 17,
     "metadata": {},
     "output_type": "execute_result"
    }
   ],
   "source": [
    "numerical_columns = list(set(data.columns) - set(categorical_columns))\n",
    "numerical_columns"
   ]
  },
  {
   "cell_type": "markdown",
   "metadata": {},
   "source": [
    "Missing data in Categorical Columns"
   ]
  },
  {
   "cell_type": "code",
   "execution_count": 18,
   "metadata": {},
   "outputs": [],
   "source": [
    "def count_empty(data, columns):\n",
    "    return data[columns].isna().sum()"
   ]
  },
  {
   "cell_type": "markdown",
   "metadata": {},
   "source": [
    "Percentage of missing data in each column"
   ]
  },
  {
   "cell_type": "code",
   "execution_count": 19,
   "metadata": {},
   "outputs": [],
   "source": [
    "def percentage_empty(data, columns):\n",
    "    return 100*data[columns].isna().sum()/data.shape[0]"
   ]
  },
  {
   "cell_type": "code",
   "execution_count": 20,
   "metadata": {},
   "outputs": [
    {
     "data": {
      "text/plain": [
       "obese       9.460946\n",
       "hldhx       2.794279\n",
       "htnhx       0.440044\n",
       "smokehx     0.000000\n",
       "race        0.000000\n",
       "sex         0.000000\n",
       "hf          0.088009\n",
       "stroke      0.044004\n",
       "mi          1.342134\n",
       "mortstat    0.088009\n",
       "dtype: float64"
      ]
     },
     "execution_count": 20,
     "metadata": {},
     "output_type": "execute_result"
    }
   ],
   "source": [
    "percentage_empty(data, categorical_columns)"
   ]
  },
  {
   "cell_type": "code",
   "execution_count": 21,
   "metadata": {},
   "outputs": [],
   "source": [
    "data.loc[data['obese'].isnull(), 'obese'] = \"Not_Available\"\n",
    "data.loc[data['htnhx'].isnull(), 'htnhx'] = \"Not_Available\"\n",
    "data.loc[data['mi'].isnull(), 'mi'] = \"Not_Available\""
   ]
  },
  {
   "cell_type": "code",
   "execution_count": 22,
   "metadata": {},
   "outputs": [
    {
     "data": {
      "text/plain": [
       "obese       0.000000\n",
       "hldhx       2.794279\n",
       "htnhx       0.000000\n",
       "smokehx     0.000000\n",
       "race        0.000000\n",
       "sex         0.000000\n",
       "hf          0.088009\n",
       "stroke      0.044004\n",
       "mi          0.000000\n",
       "mortstat    0.088009\n",
       "dtype: float64"
      ]
     },
     "execution_count": 22,
     "metadata": {},
     "output_type": "execute_result"
    }
   ],
   "source": [
    "percentage_empty(data, categorical_columns)"
   ]
  },
  {
   "cell_type": "code",
   "execution_count": 23,
   "metadata": {},
   "outputs": [
    {
     "data": {
      "text/plain": [
       "obese         0\n",
       "hldhx       127\n",
       "htnhx         0\n",
       "smokehx       0\n",
       "race          0\n",
       "sex           0\n",
       "hf            4\n",
       "stroke        2\n",
       "mi            0\n",
       "mortstat      4\n",
       "dtype: int64"
      ]
     },
     "execution_count": 23,
     "metadata": {},
     "output_type": "execute_result"
    }
   ],
   "source": [
    "count_empty(data, categorical_columns)"
   ]
  },
  {
   "cell_type": "code",
   "execution_count": 24,
   "metadata": {},
   "outputs": [
    {
     "data": {
      "text/plain": [
       "no     4344\n",
       "yes     197\n",
       "NaN       4\n",
       "Name: hf, dtype: int64"
      ]
     },
     "execution_count": 24,
     "metadata": {},
     "output_type": "execute_result"
    }
   ],
   "source": [
    "data['hf'].value_counts(dropna = False)"
   ]
  },
  {
   "cell_type": "code",
   "execution_count": 25,
   "metadata": {},
   "outputs": [
    {
     "data": {
      "text/plain": [
       "no     4423\n",
       "yes     120\n",
       "NaN       2\n",
       "Name: stroke, dtype: int64"
      ]
     },
     "execution_count": 25,
     "metadata": {},
     "output_type": "execute_result"
    }
   ],
   "source": [
    "data['stroke'].value_counts(dropna = False)"
   ]
  },
  {
   "cell_type": "code",
   "execution_count": 26,
   "metadata": {},
   "outputs": [],
   "source": [
    "data.loc[data['hf'].isna(), 'hf'] = 'no'\n",
    "data.loc[data['stroke'].isna(), 'stroke'] = 'no'"
   ]
  },
  {
   "cell_type": "code",
   "execution_count": 27,
   "metadata": {},
   "outputs": [],
   "source": [
    "data.dropna(subset=['mortstat'], inplace=True)"
   ]
  },
  {
   "cell_type": "code",
   "execution_count": 28,
   "metadata": {},
   "outputs": [
    {
     "data": {
      "text/plain": [
       "(4541, 20)"
      ]
     },
     "execution_count": 28,
     "metadata": {},
     "output_type": "execute_result"
    }
   ],
   "source": [
    "data.shape"
   ]
  },
  {
   "cell_type": "code",
   "execution_count": 29,
   "metadata": {},
   "outputs": [
    {
     "data": {
      "text/plain": [
       "obese         0\n",
       "hldhx       126\n",
       "htnhx         0\n",
       "smokehx       0\n",
       "race          0\n",
       "sex           0\n",
       "hf            0\n",
       "stroke        0\n",
       "mi            0\n",
       "mortstat      0\n",
       "dtype: int64"
      ]
     },
     "execution_count": 29,
     "metadata": {},
     "output_type": "execute_result"
    }
   ],
   "source": [
    "count_empty(data, categorical_columns)"
   ]
  },
  {
   "cell_type": "markdown",
   "metadata": {},
   "source": [
    "Missing values in Numeric columns"
   ]
  },
  {
   "cell_type": "code",
   "execution_count": 30,
   "metadata": {},
   "outputs": [
    {
     "data": {
      "text/html": [
       "<div>\n",
       "<style scoped>\n",
       "    .dataframe tbody tr th:only-of-type {\n",
       "        vertical-align: middle;\n",
       "    }\n",
       "\n",
       "    .dataframe tbody tr th {\n",
       "        vertical-align: top;\n",
       "    }\n",
       "\n",
       "    .dataframe thead th {\n",
       "        text-align: right;\n",
       "    }\n",
       "</style>\n",
       "<table border=\"1\" class=\"dataframe\">\n",
       "  <thead>\n",
       "    <tr style=\"text-align: right;\">\n",
       "      <th></th>\n",
       "      <th>ses</th>\n",
       "      <th>sbp</th>\n",
       "      <th>age</th>\n",
       "      <th>dbp</th>\n",
       "      <th>bmi</th>\n",
       "      <th>uralb</th>\n",
       "      <th>hdl</th>\n",
       "      <th>chol</th>\n",
       "      <th>hba1c</th>\n",
       "      <th>trig</th>\n",
       "    </tr>\n",
       "  </thead>\n",
       "  <tbody>\n",
       "    <tr>\n",
       "      <th>2</th>\n",
       "      <td>3.747</td>\n",
       "      <td>131.0</td>\n",
       "      <td>48.583333</td>\n",
       "      <td>73.0</td>\n",
       "      <td>27.6</td>\n",
       "      <td>1.6</td>\n",
       "      <td>66.0</td>\n",
       "      <td>236.0</td>\n",
       "      <td>5.3</td>\n",
       "      <td>98.0</td>\n",
       "    </tr>\n",
       "    <tr>\n",
       "      <th>4</th>\n",
       "      <td>1.676</td>\n",
       "      <td>120.0</td>\n",
       "      <td>48.500000</td>\n",
       "      <td>70.0</td>\n",
       "      <td>25.0</td>\n",
       "      <td>11.3</td>\n",
       "      <td>51.0</td>\n",
       "      <td>260.0</td>\n",
       "      <td>9.1</td>\n",
       "      <td>94.0</td>\n",
       "    </tr>\n",
       "    <tr>\n",
       "      <th>9</th>\n",
       "      <td>5.690</td>\n",
       "      <td>128.0</td>\n",
       "      <td>56.750000</td>\n",
       "      <td>73.0</td>\n",
       "      <td>37.0</td>\n",
       "      <td>0.4</td>\n",
       "      <td>42.0</td>\n",
       "      <td>156.0</td>\n",
       "      <td>5.0</td>\n",
       "      <td>171.0</td>\n",
       "    </tr>\n",
       "    <tr>\n",
       "      <th>12</th>\n",
       "      <td>3.416</td>\n",
       "      <td>117.0</td>\n",
       "      <td>50.166667</td>\n",
       "      <td>74.0</td>\n",
       "      <td>25.1</td>\n",
       "      <td>1.8</td>\n",
       "      <td>47.0</td>\n",
       "      <td>244.0</td>\n",
       "      <td>5.9</td>\n",
       "      <td>204.0</td>\n",
       "    </tr>\n",
       "    <tr>\n",
       "      <th>14</th>\n",
       "      <td>0.622</td>\n",
       "      <td>155.0</td>\n",
       "      <td>48.416667</td>\n",
       "      <td>91.0</td>\n",
       "      <td>37.5</td>\n",
       "      <td>105.0</td>\n",
       "      <td>30.0</td>\n",
       "      <td>212.0</td>\n",
       "      <td>5.7</td>\n",
       "      <td>479.0</td>\n",
       "    </tr>\n",
       "  </tbody>\n",
       "</table>\n",
       "</div>"
      ],
      "text/plain": [
       "      ses    sbp        age   dbp   bmi  uralb   hdl   chol  hba1c   trig\n",
       "2   3.747  131.0  48.583333  73.0  27.6    1.6  66.0  236.0    5.3   98.0\n",
       "4   1.676  120.0  48.500000  70.0  25.0   11.3  51.0  260.0    9.1   94.0\n",
       "9   5.690  128.0  56.750000  73.0  37.0    0.4  42.0  156.0    5.0  171.0\n",
       "12  3.416  117.0  50.166667  74.0  25.1    1.8  47.0  244.0    5.9  204.0\n",
       "14  0.622  155.0  48.416667  91.0  37.5  105.0  30.0  212.0    5.7  479.0"
      ]
     },
     "execution_count": 30,
     "metadata": {},
     "output_type": "execute_result"
    }
   ],
   "source": [
    "data[numerical_columns].head()"
   ]
  },
  {
   "cell_type": "code",
   "execution_count": 31,
   "metadata": {},
   "outputs": [
    {
     "data": {
      "text/plain": [
       "ses        0\n",
       "sbp      435\n",
       "age        0\n",
       "dbp      436\n",
       "bmi      402\n",
       "uralb    428\n",
       "hdl      594\n",
       "chol     563\n",
       "hba1c    521\n",
       "trig     569\n",
       "dtype: int64"
      ]
     },
     "execution_count": 31,
     "metadata": {},
     "output_type": "execute_result"
    }
   ],
   "source": [
    "count_empty(data, numerical_columns)"
   ]
  },
  {
   "cell_type": "code",
   "execution_count": 32,
   "metadata": {},
   "outputs": [
    {
     "data": {
      "text/html": [
       "<div>\n",
       "<style scoped>\n",
       "    .dataframe tbody tr th:only-of-type {\n",
       "        vertical-align: middle;\n",
       "    }\n",
       "\n",
       "    .dataframe tbody tr th {\n",
       "        vertical-align: top;\n",
       "    }\n",
       "\n",
       "    .dataframe thead th {\n",
       "        text-align: right;\n",
       "    }\n",
       "</style>\n",
       "<table border=\"1\" class=\"dataframe\">\n",
       "  <thead>\n",
       "    <tr style=\"text-align: right;\">\n",
       "      <th></th>\n",
       "      <th>ses</th>\n",
       "      <th>sbp</th>\n",
       "      <th>age</th>\n",
       "      <th>dbp</th>\n",
       "      <th>bmi</th>\n",
       "      <th>uralb</th>\n",
       "      <th>hdl</th>\n",
       "      <th>chol</th>\n",
       "      <th>hba1c</th>\n",
       "      <th>trig</th>\n",
       "    </tr>\n",
       "  </thead>\n",
       "  <tbody>\n",
       "    <tr>\n",
       "      <th>count</th>\n",
       "      <td>4541.000000</td>\n",
       "      <td>4106.000000</td>\n",
       "      <td>4541.000000</td>\n",
       "      <td>4105.000000</td>\n",
       "      <td>4139.000000</td>\n",
       "      <td>4113.000000</td>\n",
       "      <td>3947.000000</td>\n",
       "      <td>3978.000000</td>\n",
       "      <td>4020.000000</td>\n",
       "      <td>3972.000000</td>\n",
       "    </tr>\n",
       "    <tr>\n",
       "      <th>mean</th>\n",
       "      <td>90829.226700</td>\n",
       "      <td>130.559425</td>\n",
       "      <td>55.274829</td>\n",
       "      <td>78.114007</td>\n",
       "      <td>28.259169</td>\n",
       "      <td>16481.607464</td>\n",
       "      <td>50.940208</td>\n",
       "      <td>220.635244</td>\n",
       "      <td>5.856741</td>\n",
       "      <td>168.083082</td>\n",
       "    </tr>\n",
       "    <tr>\n",
       "      <th>std</th>\n",
       "      <td>269259.686231</td>\n",
       "      <td>18.245931</td>\n",
       "      <td>6.021957</td>\n",
       "      <td>9.881913</td>\n",
       "      <td>5.752427</td>\n",
       "      <td>119715.813978</td>\n",
       "      <td>16.529811</td>\n",
       "      <td>44.678731</td>\n",
       "      <td>1.371941</td>\n",
       "      <td>140.306292</td>\n",
       "    </tr>\n",
       "    <tr>\n",
       "      <th>min</th>\n",
       "      <td>0.000000</td>\n",
       "      <td>81.000000</td>\n",
       "      <td>45.000000</td>\n",
       "      <td>43.000000</td>\n",
       "      <td>13.300000</td>\n",
       "      <td>0.400000</td>\n",
       "      <td>12.000000</td>\n",
       "      <td>59.000000</td>\n",
       "      <td>3.300000</td>\n",
       "      <td>22.000000</td>\n",
       "    </tr>\n",
       "    <tr>\n",
       "      <th>25%</th>\n",
       "      <td>1.345000</td>\n",
       "      <td>118.000000</td>\n",
       "      <td>50.000000</td>\n",
       "      <td>71.000000</td>\n",
       "      <td>24.299999</td>\n",
       "      <td>2.700000</td>\n",
       "      <td>40.000000</td>\n",
       "      <td>191.000000</td>\n",
       "      <td>5.200000</td>\n",
       "      <td>93.000000</td>\n",
       "    </tr>\n",
       "    <tr>\n",
       "      <th>50%</th>\n",
       "      <td>2.701000</td>\n",
       "      <td>128.000000</td>\n",
       "      <td>55.333333</td>\n",
       "      <td>77.000000</td>\n",
       "      <td>27.400000</td>\n",
       "      <td>6.800000</td>\n",
       "      <td>48.000000</td>\n",
       "      <td>218.000000</td>\n",
       "      <td>5.500000</td>\n",
       "      <td>133.000000</td>\n",
       "    </tr>\n",
       "    <tr>\n",
       "      <th>75%</th>\n",
       "      <td>4.810000</td>\n",
       "      <td>141.000000</td>\n",
       "      <td>60.833333</td>\n",
       "      <td>84.000000</td>\n",
       "      <td>31.299999</td>\n",
       "      <td>16.200000</td>\n",
       "      <td>59.000000</td>\n",
       "      <td>246.000000</td>\n",
       "      <td>6.000000</td>\n",
       "      <td>197.000000</td>\n",
       "    </tr>\n",
       "    <tr>\n",
       "      <th>max</th>\n",
       "      <td>888888.000000</td>\n",
       "      <td>237.000000</td>\n",
       "      <td>65.000000</td>\n",
       "      <td>134.000000</td>\n",
       "      <td>67.300003</td>\n",
       "      <td>888888.000000</td>\n",
       "      <td>191.000000</td>\n",
       "      <td>702.000000</td>\n",
       "      <td>16.200001</td>\n",
       "      <td>3616.000000</td>\n",
       "    </tr>\n",
       "  </tbody>\n",
       "</table>\n",
       "</div>"
      ],
      "text/plain": [
       "                 ses          sbp          age          dbp          bmi  \\\n",
       "count    4541.000000  4106.000000  4541.000000  4105.000000  4139.000000   \n",
       "mean    90829.226700   130.559425    55.274829    78.114007    28.259169   \n",
       "std    269259.686231    18.245931     6.021957     9.881913     5.752427   \n",
       "min         0.000000    81.000000    45.000000    43.000000    13.300000   \n",
       "25%         1.345000   118.000000    50.000000    71.000000    24.299999   \n",
       "50%         2.701000   128.000000    55.333333    77.000000    27.400000   \n",
       "75%         4.810000   141.000000    60.833333    84.000000    31.299999   \n",
       "max    888888.000000   237.000000    65.000000   134.000000    67.300003   \n",
       "\n",
       "               uralb          hdl         chol        hba1c         trig  \n",
       "count    4113.000000  3947.000000  3978.000000  4020.000000  3972.000000  \n",
       "mean    16481.607464    50.940208   220.635244     5.856741   168.083082  \n",
       "std    119715.813978    16.529811    44.678731     1.371941   140.306292  \n",
       "min         0.400000    12.000000    59.000000     3.300000    22.000000  \n",
       "25%         2.700000    40.000000   191.000000     5.200000    93.000000  \n",
       "50%         6.800000    48.000000   218.000000     5.500000   133.000000  \n",
       "75%        16.200000    59.000000   246.000000     6.000000   197.000000  \n",
       "max    888888.000000   191.000000   702.000000    16.200001  3616.000000  "
      ]
     },
     "execution_count": 32,
     "metadata": {},
     "output_type": "execute_result"
    }
   ],
   "source": [
    "data[numerical_columns].describe()"
   ]
  },
  {
   "cell_type": "code",
   "execution_count": 33,
   "metadata": {},
   "outputs": [],
   "source": [
    "data.loc[data['uralb'] == 888888.000, 'uralb'] = np.nan\n",
    "data.loc[data['ses'] == 888888.000, 'ses'] = np.nan"
   ]
  },
  {
   "cell_type": "code",
   "execution_count": 34,
   "metadata": {},
   "outputs": [
    {
     "data": {
      "text/html": [
       "<div>\n",
       "<style scoped>\n",
       "    .dataframe tbody tr th:only-of-type {\n",
       "        vertical-align: middle;\n",
       "    }\n",
       "\n",
       "    .dataframe tbody tr th {\n",
       "        vertical-align: top;\n",
       "    }\n",
       "\n",
       "    .dataframe thead th {\n",
       "        text-align: right;\n",
       "    }\n",
       "</style>\n",
       "<table border=\"1\" class=\"dataframe\">\n",
       "  <thead>\n",
       "    <tr style=\"text-align: right;\">\n",
       "      <th></th>\n",
       "      <th>ses</th>\n",
       "      <th>sbp</th>\n",
       "      <th>age</th>\n",
       "      <th>dbp</th>\n",
       "      <th>bmi</th>\n",
       "      <th>uralb</th>\n",
       "      <th>hdl</th>\n",
       "      <th>chol</th>\n",
       "      <th>hba1c</th>\n",
       "      <th>trig</th>\n",
       "    </tr>\n",
       "  </thead>\n",
       "  <tbody>\n",
       "    <tr>\n",
       "      <th>count</th>\n",
       "      <td>4077.000000</td>\n",
       "      <td>4106.000000</td>\n",
       "      <td>4541.000000</td>\n",
       "      <td>4105.000000</td>\n",
       "      <td>4139.000000</td>\n",
       "      <td>4037.000000</td>\n",
       "      <td>3947.000000</td>\n",
       "      <td>3978.000000</td>\n",
       "      <td>4020.000000</td>\n",
       "      <td>3972.000000</td>\n",
       "    </tr>\n",
       "    <tr>\n",
       "      <th>mean</th>\n",
       "      <td>2.817377</td>\n",
       "      <td>130.559425</td>\n",
       "      <td>55.274829</td>\n",
       "      <td>78.114007</td>\n",
       "      <td>28.259169</td>\n",
       "      <td>57.806168</td>\n",
       "      <td>50.940208</td>\n",
       "      <td>220.635244</td>\n",
       "      <td>5.856741</td>\n",
       "      <td>168.083082</td>\n",
       "    </tr>\n",
       "    <tr>\n",
       "      <th>std</th>\n",
       "      <td>1.967585</td>\n",
       "      <td>18.245931</td>\n",
       "      <td>6.021957</td>\n",
       "      <td>9.881913</td>\n",
       "      <td>5.752427</td>\n",
       "      <td>406.745718</td>\n",
       "      <td>16.529811</td>\n",
       "      <td>44.678731</td>\n",
       "      <td>1.371941</td>\n",
       "      <td>140.306292</td>\n",
       "    </tr>\n",
       "    <tr>\n",
       "      <th>min</th>\n",
       "      <td>0.000000</td>\n",
       "      <td>81.000000</td>\n",
       "      <td>45.000000</td>\n",
       "      <td>43.000000</td>\n",
       "      <td>13.300000</td>\n",
       "      <td>0.400000</td>\n",
       "      <td>12.000000</td>\n",
       "      <td>59.000000</td>\n",
       "      <td>3.300000</td>\n",
       "      <td>22.000000</td>\n",
       "    </tr>\n",
       "    <tr>\n",
       "      <th>25%</th>\n",
       "      <td>1.215000</td>\n",
       "      <td>118.000000</td>\n",
       "      <td>50.000000</td>\n",
       "      <td>71.000000</td>\n",
       "      <td>24.299999</td>\n",
       "      <td>2.700000</td>\n",
       "      <td>40.000000</td>\n",
       "      <td>191.000000</td>\n",
       "      <td>5.200000</td>\n",
       "      <td>93.000000</td>\n",
       "    </tr>\n",
       "    <tr>\n",
       "      <th>50%</th>\n",
       "      <td>2.383000</td>\n",
       "      <td>128.000000</td>\n",
       "      <td>55.333333</td>\n",
       "      <td>77.000000</td>\n",
       "      <td>27.400000</td>\n",
       "      <td>6.600000</td>\n",
       "      <td>48.000000</td>\n",
       "      <td>218.000000</td>\n",
       "      <td>5.500000</td>\n",
       "      <td>133.000000</td>\n",
       "    </tr>\n",
       "    <tr>\n",
       "      <th>75%</th>\n",
       "      <td>4.020000</td>\n",
       "      <td>141.000000</td>\n",
       "      <td>60.833333</td>\n",
       "      <td>84.000000</td>\n",
       "      <td>31.299999</td>\n",
       "      <td>15.000000</td>\n",
       "      <td>59.000000</td>\n",
       "      <td>246.000000</td>\n",
       "      <td>6.000000</td>\n",
       "      <td>197.000000</td>\n",
       "    </tr>\n",
       "    <tr>\n",
       "      <th>max</th>\n",
       "      <td>11.290000</td>\n",
       "      <td>237.000000</td>\n",
       "      <td>65.000000</td>\n",
       "      <td>134.000000</td>\n",
       "      <td>67.300003</td>\n",
       "      <td>12400.000000</td>\n",
       "      <td>191.000000</td>\n",
       "      <td>702.000000</td>\n",
       "      <td>16.200001</td>\n",
       "      <td>3616.000000</td>\n",
       "    </tr>\n",
       "  </tbody>\n",
       "</table>\n",
       "</div>"
      ],
      "text/plain": [
       "               ses          sbp          age          dbp          bmi  \\\n",
       "count  4077.000000  4106.000000  4541.000000  4105.000000  4139.000000   \n",
       "mean      2.817377   130.559425    55.274829    78.114007    28.259169   \n",
       "std       1.967585    18.245931     6.021957     9.881913     5.752427   \n",
       "min       0.000000    81.000000    45.000000    43.000000    13.300000   \n",
       "25%       1.215000   118.000000    50.000000    71.000000    24.299999   \n",
       "50%       2.383000   128.000000    55.333333    77.000000    27.400000   \n",
       "75%       4.020000   141.000000    60.833333    84.000000    31.299999   \n",
       "max      11.290000   237.000000    65.000000   134.000000    67.300003   \n",
       "\n",
       "              uralb          hdl         chol        hba1c         trig  \n",
       "count   4037.000000  3947.000000  3978.000000  4020.000000  3972.000000  \n",
       "mean      57.806168    50.940208   220.635244     5.856741   168.083082  \n",
       "std      406.745718    16.529811    44.678731     1.371941   140.306292  \n",
       "min        0.400000    12.000000    59.000000     3.300000    22.000000  \n",
       "25%        2.700000    40.000000   191.000000     5.200000    93.000000  \n",
       "50%        6.600000    48.000000   218.000000     5.500000   133.000000  \n",
       "75%       15.000000    59.000000   246.000000     6.000000   197.000000  \n",
       "max    12400.000000   191.000000   702.000000    16.200001  3616.000000  "
      ]
     },
     "execution_count": 34,
     "metadata": {},
     "output_type": "execute_result"
    }
   ],
   "source": [
    "data[numerical_columns].describe()"
   ]
  },
  {
   "cell_type": "markdown",
   "metadata": {},
   "source": [
    "Data shows outliers in trig and uralb"
   ]
  },
  {
   "cell_type": "code",
   "execution_count": 35,
   "metadata": {},
   "outputs": [
    {
     "data": {
      "text/plain": [
       "717.5799999999999"
      ]
     },
     "execution_count": 35,
     "metadata": {},
     "output_type": "execute_result"
    }
   ],
   "source": [
    "np.nanpercentile(data['trig'], 99)"
   ]
  },
  {
   "cell_type": "code",
   "execution_count": 36,
   "metadata": {},
   "outputs": [
    {
     "data": {
      "text/plain": [
       "2700.0"
      ]
     },
     "execution_count": 36,
     "metadata": {},
     "output_type": "execute_result"
    }
   ],
   "source": [
    "np.nanpercentile(data['uralb'], 99.5)"
   ]
  },
  {
   "cell_type": "code",
   "execution_count": 37,
   "metadata": {},
   "outputs": [],
   "source": [
    "data.loc[data['trig'] > np.nanpercentile(data['trig'], 99), 'trig'] = np.nanpercentile(data['trig'], 99)"
   ]
  },
  {
   "cell_type": "code",
   "execution_count": 38,
   "metadata": {},
   "outputs": [],
   "source": [
    "data.loc[data['uralb'] > np.nanpercentile(data['uralb'], 99.5), 'uralb'] = np.nanpercentile(data['uralb'], 99.5)"
   ]
  },
  {
   "cell_type": "code",
   "execution_count": 39,
   "metadata": {},
   "outputs": [
    {
     "data": {
      "text/html": [
       "<div>\n",
       "<style scoped>\n",
       "    .dataframe tbody tr th:only-of-type {\n",
       "        vertical-align: middle;\n",
       "    }\n",
       "\n",
       "    .dataframe tbody tr th {\n",
       "        vertical-align: top;\n",
       "    }\n",
       "\n",
       "    .dataframe thead th {\n",
       "        text-align: right;\n",
       "    }\n",
       "</style>\n",
       "<table border=\"1\" class=\"dataframe\">\n",
       "  <thead>\n",
       "    <tr style=\"text-align: right;\">\n",
       "      <th></th>\n",
       "      <th>uralb</th>\n",
       "      <th>trig</th>\n",
       "      <th>hdl</th>\n",
       "      <th>chol</th>\n",
       "      <th>sbp</th>\n",
       "      <th>dbp</th>\n",
       "      <th>bmi</th>\n",
       "      <th>ses</th>\n",
       "      <th>age</th>\n",
       "      <th>hba1c</th>\n",
       "    </tr>\n",
       "  </thead>\n",
       "  <tbody>\n",
       "    <tr>\n",
       "      <th>count</th>\n",
       "      <td>4037.000000</td>\n",
       "      <td>3972.000000</td>\n",
       "      <td>3947.000000</td>\n",
       "      <td>3978.000000</td>\n",
       "      <td>4106.000000</td>\n",
       "      <td>4105.000000</td>\n",
       "      <td>4139.000000</td>\n",
       "      <td>4077.000000</td>\n",
       "      <td>4541.000000</td>\n",
       "      <td>4020.000000</td>\n",
       "    </tr>\n",
       "    <tr>\n",
       "      <th>mean</th>\n",
       "      <td>46.896086</td>\n",
       "      <td>165.133736</td>\n",
       "      <td>50.940208</td>\n",
       "      <td>220.635244</td>\n",
       "      <td>130.559425</td>\n",
       "      <td>78.114007</td>\n",
       "      <td>28.259169</td>\n",
       "      <td>2.817377</td>\n",
       "      <td>55.274829</td>\n",
       "      <td>5.856741</td>\n",
       "    </tr>\n",
       "    <tr>\n",
       "      <th>std</th>\n",
       "      <td>243.498289</td>\n",
       "      <td>114.508905</td>\n",
       "      <td>16.529811</td>\n",
       "      <td>44.678731</td>\n",
       "      <td>18.245931</td>\n",
       "      <td>9.881913</td>\n",
       "      <td>5.752427</td>\n",
       "      <td>1.967585</td>\n",
       "      <td>6.021957</td>\n",
       "      <td>1.371941</td>\n",
       "    </tr>\n",
       "    <tr>\n",
       "      <th>min</th>\n",
       "      <td>0.400000</td>\n",
       "      <td>22.000000</td>\n",
       "      <td>12.000000</td>\n",
       "      <td>59.000000</td>\n",
       "      <td>81.000000</td>\n",
       "      <td>43.000000</td>\n",
       "      <td>13.300000</td>\n",
       "      <td>0.000000</td>\n",
       "      <td>45.000000</td>\n",
       "      <td>3.300000</td>\n",
       "    </tr>\n",
       "    <tr>\n",
       "      <th>25%</th>\n",
       "      <td>2.700000</td>\n",
       "      <td>93.000000</td>\n",
       "      <td>40.000000</td>\n",
       "      <td>191.000000</td>\n",
       "      <td>118.000000</td>\n",
       "      <td>71.000000</td>\n",
       "      <td>24.299999</td>\n",
       "      <td>1.215000</td>\n",
       "      <td>50.000000</td>\n",
       "      <td>5.200000</td>\n",
       "    </tr>\n",
       "    <tr>\n",
       "      <th>50%</th>\n",
       "      <td>6.600000</td>\n",
       "      <td>133.000000</td>\n",
       "      <td>48.000000</td>\n",
       "      <td>218.000000</td>\n",
       "      <td>128.000000</td>\n",
       "      <td>77.000000</td>\n",
       "      <td>27.400000</td>\n",
       "      <td>2.383000</td>\n",
       "      <td>55.333333</td>\n",
       "      <td>5.500000</td>\n",
       "    </tr>\n",
       "    <tr>\n",
       "      <th>75%</th>\n",
       "      <td>15.000000</td>\n",
       "      <td>197.000000</td>\n",
       "      <td>59.000000</td>\n",
       "      <td>246.000000</td>\n",
       "      <td>141.000000</td>\n",
       "      <td>84.000000</td>\n",
       "      <td>31.299999</td>\n",
       "      <td>4.020000</td>\n",
       "      <td>60.833333</td>\n",
       "      <td>6.000000</td>\n",
       "    </tr>\n",
       "    <tr>\n",
       "      <th>max</th>\n",
       "      <td>2700.000000</td>\n",
       "      <td>717.580000</td>\n",
       "      <td>191.000000</td>\n",
       "      <td>702.000000</td>\n",
       "      <td>237.000000</td>\n",
       "      <td>134.000000</td>\n",
       "      <td>67.300003</td>\n",
       "      <td>11.290000</td>\n",
       "      <td>65.000000</td>\n",
       "      <td>16.200001</td>\n",
       "    </tr>\n",
       "  </tbody>\n",
       "</table>\n",
       "</div>"
      ],
      "text/plain": [
       "             uralb         trig          hdl         chol          sbp  \\\n",
       "count  4037.000000  3972.000000  3947.000000  3978.000000  4106.000000   \n",
       "mean     46.896086   165.133736    50.940208   220.635244   130.559425   \n",
       "std     243.498289   114.508905    16.529811    44.678731    18.245931   \n",
       "min       0.400000    22.000000    12.000000    59.000000    81.000000   \n",
       "25%       2.700000    93.000000    40.000000   191.000000   118.000000   \n",
       "50%       6.600000   133.000000    48.000000   218.000000   128.000000   \n",
       "75%      15.000000   197.000000    59.000000   246.000000   141.000000   \n",
       "max    2700.000000   717.580000   191.000000   702.000000   237.000000   \n",
       "\n",
       "               dbp          bmi          ses          age        hba1c  \n",
       "count  4105.000000  4139.000000  4077.000000  4541.000000  4020.000000  \n",
       "mean     78.114007    28.259169     2.817377    55.274829     5.856741  \n",
       "std       9.881913     5.752427     1.967585     6.021957     1.371941  \n",
       "min      43.000000    13.300000     0.000000    45.000000     3.300000  \n",
       "25%      71.000000    24.299999     1.215000    50.000000     5.200000  \n",
       "50%      77.000000    27.400000     2.383000    55.333333     5.500000  \n",
       "75%      84.000000    31.299999     4.020000    60.833333     6.000000  \n",
       "max     134.000000    67.300003    11.290000    65.000000    16.200001  "
      ]
     },
     "execution_count": 39,
     "metadata": {},
     "output_type": "execute_result"
    }
   ],
   "source": [
    "data.describe()"
   ]
  },
  {
   "cell_type": "code",
   "execution_count": 40,
   "metadata": {},
   "outputs": [],
   "source": [
    "for column in numerical_columns:\n",
    "    data.loc[data[column].isna(), column] = data[column].mean()"
   ]
  },
  {
   "cell_type": "code",
   "execution_count": 41,
   "metadata": {},
   "outputs": [
    {
     "data": {
      "text/plain": [
       "ses      0\n",
       "sbp      0\n",
       "age      0\n",
       "dbp      0\n",
       "bmi      0\n",
       "uralb    0\n",
       "hdl      0\n",
       "chol     0\n",
       "hba1c    0\n",
       "trig     0\n",
       "dtype: int64"
      ]
     },
     "execution_count": 41,
     "metadata": {},
     "output_type": "execute_result"
    }
   ],
   "source": [
    "count_empty(data, numerical_columns)"
   ]
  },
  {
   "cell_type": "code",
   "execution_count": 42,
   "metadata": {},
   "outputs": [
    {
     "data": {
      "text/plain": [
       "Index(['obese', 'uralb', 'trig', 'hdl', 'chol', 'hldhx', 'htnhx', 'sbp', 'dbp',\n",
       "       'bmi', 'smokehx', 'ses', 'race', 'sex', 'age', 'hf', 'stroke', 'mi',\n",
       "       'hba1c', 'mortstat'],\n",
       "      dtype='object')"
      ]
     },
     "execution_count": 42,
     "metadata": {},
     "output_type": "execute_result"
    }
   ],
   "source": [
    "data.columns"
   ]
  },
  {
   "cell_type": "code",
   "execution_count": 43,
   "metadata": {},
   "outputs": [
    {
     "data": {
      "text/plain": [
       "alive    3494\n",
       "dead     1047\n",
       "Name: mortstat, dtype: int64"
      ]
     },
     "execution_count": 43,
     "metadata": {},
     "output_type": "execute_result"
    }
   ],
   "source": [
    "data['mortstat'].value_counts()"
   ]
  },
  {
   "cell_type": "markdown",
   "metadata": {},
   "source": [
    "Removing Bivariate"
   ]
  },
  {
   "cell_type": "code",
   "execution_count": 44,
   "metadata": {},
   "outputs": [],
   "source": [
    "data['mortstat'] = data['mortstat'].map({\n",
    "    'alive' : 0,\n",
    "    'dead' : 1\n",
    "})"
   ]
  },
  {
   "cell_type": "code",
   "execution_count": 45,
   "metadata": {},
   "outputs": [
    {
     "data": {
      "text/plain": [
       "0    0.769434\n",
       "1    0.230566\n",
       "Name: mortstat, dtype: float64"
      ]
     },
     "execution_count": 45,
     "metadata": {},
     "output_type": "execute_result"
    }
   ],
   "source": [
    "data['mortstat'].value_counts(normalize = True)"
   ]
  },
  {
   "cell_type": "code",
   "execution_count": 46,
   "metadata": {},
   "outputs": [],
   "source": [
    "categorical_columns = list(categorical_columns)\n",
    "categorical_columns.remove('mortstat')"
   ]
  },
  {
   "cell_type": "code",
   "execution_count": 47,
   "metadata": {},
   "outputs": [],
   "source": [
    "er_data = pd.DataFrame()\n",
    "for column in categorical_columns:\n",
    "    groupby_data = data[[column] + ['mortstat']].groupby(column).agg({'mortstat' : ['sum', 'count']})\n",
    "    groupby_data.columns = ['deaths', 'population']\n",
    "    groupby_data.reset_index(inplace=True)\n",
    "    groupby_data['event_rate'] = 100*groupby_data['deaths']/groupby_data['population']\n",
    "    groupby_data['population_dist'] = 100*groupby_data['population']/ groupby_data['population'].sum()\n",
    "    groupby_data.columns = ['levels', 'deaths', 'population', 'death_rate', 'population_dist']\n",
    "    groupby_data['field'] = column\n",
    "    er_data = er_data.append(groupby_data)\n",
    "er_data = er_data[['field', 'levels', 'deaths', 'population', 'death_rate', 'population_dist']]"
   ]
  },
  {
   "cell_type": "code",
   "execution_count": 48,
   "metadata": {
    "scrolled": true
   },
   "outputs": [
    {
     "data": {
      "text/html": [
       "<div>\n",
       "<style scoped>\n",
       "    .dataframe tbody tr th:only-of-type {\n",
       "        vertical-align: middle;\n",
       "    }\n",
       "\n",
       "    .dataframe tbody tr th {\n",
       "        vertical-align: top;\n",
       "    }\n",
       "\n",
       "    .dataframe thead th {\n",
       "        text-align: right;\n",
       "    }\n",
       "</style>\n",
       "<table border=\"1\" class=\"dataframe\">\n",
       "  <thead>\n",
       "    <tr style=\"text-align: right;\">\n",
       "      <th></th>\n",
       "      <th>field</th>\n",
       "      <th>levels</th>\n",
       "      <th>deaths</th>\n",
       "      <th>population</th>\n",
       "      <th>death_rate</th>\n",
       "      <th>population_dist</th>\n",
       "    </tr>\n",
       "  </thead>\n",
       "  <tbody>\n",
       "    <tr>\n",
       "      <th>0</th>\n",
       "      <td>obese</td>\n",
       "      <td>Not_Available</td>\n",
       "      <td>132</td>\n",
       "      <td>428</td>\n",
       "      <td>30.841121</td>\n",
       "      <td>9.425237</td>\n",
       "    </tr>\n",
       "    <tr>\n",
       "      <th>1</th>\n",
       "      <td>obese</td>\n",
       "      <td>no</td>\n",
       "      <td>369</td>\n",
       "      <td>1778</td>\n",
       "      <td>20.753656</td>\n",
       "      <td>39.154371</td>\n",
       "    </tr>\n",
       "    <tr>\n",
       "      <th>2</th>\n",
       "      <td>obese</td>\n",
       "      <td>yes</td>\n",
       "      <td>546</td>\n",
       "      <td>2335</td>\n",
       "      <td>23.383298</td>\n",
       "      <td>51.420392</td>\n",
       "    </tr>\n",
       "    <tr>\n",
       "      <th>0</th>\n",
       "      <td>hldhx</td>\n",
       "      <td>1</td>\n",
       "      <td>375</td>\n",
       "      <td>1530</td>\n",
       "      <td>24.509804</td>\n",
       "      <td>34.654587</td>\n",
       "    </tr>\n",
       "    <tr>\n",
       "      <th>1</th>\n",
       "      <td>hldhx</td>\n",
       "      <td>2</td>\n",
       "      <td>625</td>\n",
       "      <td>2885</td>\n",
       "      <td>21.663778</td>\n",
       "      <td>65.345413</td>\n",
       "    </tr>\n",
       "    <tr>\n",
       "      <th>0</th>\n",
       "      <td>htnhx</td>\n",
       "      <td>Not_Available</td>\n",
       "      <td>4</td>\n",
       "      <td>20</td>\n",
       "      <td>20.000000</td>\n",
       "      <td>0.440432</td>\n",
       "    </tr>\n",
       "    <tr>\n",
       "      <th>1</th>\n",
       "      <td>htnhx</td>\n",
       "      <td>hypertensive</td>\n",
       "      <td>522</td>\n",
       "      <td>1689</td>\n",
       "      <td>30.905861</td>\n",
       "      <td>37.194451</td>\n",
       "    </tr>\n",
       "    <tr>\n",
       "      <th>2</th>\n",
       "      <td>htnhx</td>\n",
       "      <td>no</td>\n",
       "      <td>521</td>\n",
       "      <td>2832</td>\n",
       "      <td>18.396893</td>\n",
       "      <td>62.365118</td>\n",
       "    </tr>\n",
       "    <tr>\n",
       "      <th>0</th>\n",
       "      <td>smokehx</td>\n",
       "      <td>no</td>\n",
       "      <td>784</td>\n",
       "      <td>2743</td>\n",
       "      <td>28.581845</td>\n",
       "      <td>60.405197</td>\n",
       "    </tr>\n",
       "    <tr>\n",
       "      <th>1</th>\n",
       "      <td>smokehx</td>\n",
       "      <td>yes</td>\n",
       "      <td>263</td>\n",
       "      <td>1798</td>\n",
       "      <td>14.627364</td>\n",
       "      <td>39.594803</td>\n",
       "    </tr>\n",
       "    <tr>\n",
       "      <th>0</th>\n",
       "      <td>race</td>\n",
       "      <td>hispanic</td>\n",
       "      <td>412</td>\n",
       "      <td>2037</td>\n",
       "      <td>20.225822</td>\n",
       "      <td>44.857961</td>\n",
       "    </tr>\n",
       "    <tr>\n",
       "      <th>1</th>\n",
       "      <td>race</td>\n",
       "      <td>multiracial</td>\n",
       "      <td>25</td>\n",
       "      <td>197</td>\n",
       "      <td>12.690355</td>\n",
       "      <td>4.338251</td>\n",
       "    </tr>\n",
       "    <tr>\n",
       "      <th>2</th>\n",
       "      <td>race</td>\n",
       "      <td>non hispanic black</td>\n",
       "      <td>251</td>\n",
       "      <td>1114</td>\n",
       "      <td>22.531418</td>\n",
       "      <td>24.532041</td>\n",
       "    </tr>\n",
       "    <tr>\n",
       "      <th>3</th>\n",
       "      <td>race</td>\n",
       "      <td>non hispanic white</td>\n",
       "      <td>359</td>\n",
       "      <td>1193</td>\n",
       "      <td>30.092205</td>\n",
       "      <td>26.271746</td>\n",
       "    </tr>\n",
       "    <tr>\n",
       "      <th>0</th>\n",
       "      <td>sex</td>\n",
       "      <td>female</td>\n",
       "      <td>454</td>\n",
       "      <td>2358</td>\n",
       "      <td>19.253605</td>\n",
       "      <td>51.926888</td>\n",
       "    </tr>\n",
       "    <tr>\n",
       "      <th>1</th>\n",
       "      <td>sex</td>\n",
       "      <td>male</td>\n",
       "      <td>593</td>\n",
       "      <td>2183</td>\n",
       "      <td>27.164453</td>\n",
       "      <td>48.073112</td>\n",
       "    </tr>\n",
       "    <tr>\n",
       "      <th>0</th>\n",
       "      <td>hf</td>\n",
       "      <td>no</td>\n",
       "      <td>933</td>\n",
       "      <td>4344</td>\n",
       "      <td>21.477901</td>\n",
       "      <td>95.661749</td>\n",
       "    </tr>\n",
       "    <tr>\n",
       "      <th>1</th>\n",
       "      <td>hf</td>\n",
       "      <td>yes</td>\n",
       "      <td>114</td>\n",
       "      <td>197</td>\n",
       "      <td>57.868020</td>\n",
       "      <td>4.338251</td>\n",
       "    </tr>\n",
       "    <tr>\n",
       "      <th>0</th>\n",
       "      <td>stroke</td>\n",
       "      <td>no</td>\n",
       "      <td>985</td>\n",
       "      <td>4421</td>\n",
       "      <td>22.280027</td>\n",
       "      <td>97.357410</td>\n",
       "    </tr>\n",
       "    <tr>\n",
       "      <th>1</th>\n",
       "      <td>stroke</td>\n",
       "      <td>yes</td>\n",
       "      <td>62</td>\n",
       "      <td>120</td>\n",
       "      <td>51.666667</td>\n",
       "      <td>2.642590</td>\n",
       "    </tr>\n",
       "    <tr>\n",
       "      <th>0</th>\n",
       "      <td>mi</td>\n",
       "      <td>Not_Available</td>\n",
       "      <td>13</td>\n",
       "      <td>61</td>\n",
       "      <td>21.311475</td>\n",
       "      <td>1.343316</td>\n",
       "    </tr>\n",
       "    <tr>\n",
       "      <th>1</th>\n",
       "      <td>mi</td>\n",
       "      <td>no</td>\n",
       "      <td>906</td>\n",
       "      <td>4225</td>\n",
       "      <td>21.443787</td>\n",
       "      <td>93.041180</td>\n",
       "    </tr>\n",
       "    <tr>\n",
       "      <th>2</th>\n",
       "      <td>mi</td>\n",
       "      <td>yes</td>\n",
       "      <td>128</td>\n",
       "      <td>255</td>\n",
       "      <td>50.196078</td>\n",
       "      <td>5.615503</td>\n",
       "    </tr>\n",
       "  </tbody>\n",
       "</table>\n",
       "</div>"
      ],
      "text/plain": [
       "     field              levels  deaths  population  death_rate  \\\n",
       "0    obese       Not_Available     132         428   30.841121   \n",
       "1    obese                  no     369        1778   20.753656   \n",
       "2    obese                 yes     546        2335   23.383298   \n",
       "0    hldhx                   1     375        1530   24.509804   \n",
       "1    hldhx                   2     625        2885   21.663778   \n",
       "0    htnhx       Not_Available       4          20   20.000000   \n",
       "1    htnhx        hypertensive     522        1689   30.905861   \n",
       "2    htnhx                  no     521        2832   18.396893   \n",
       "0  smokehx                  no     784        2743   28.581845   \n",
       "1  smokehx                 yes     263        1798   14.627364   \n",
       "0     race            hispanic     412        2037   20.225822   \n",
       "1     race         multiracial      25         197   12.690355   \n",
       "2     race  non hispanic black     251        1114   22.531418   \n",
       "3     race  non hispanic white     359        1193   30.092205   \n",
       "0      sex              female     454        2358   19.253605   \n",
       "1      sex                male     593        2183   27.164453   \n",
       "0       hf                  no     933        4344   21.477901   \n",
       "1       hf                 yes     114         197   57.868020   \n",
       "0   stroke                  no     985        4421   22.280027   \n",
       "1   stroke                 yes      62         120   51.666667   \n",
       "0       mi       Not_Available      13          61   21.311475   \n",
       "1       mi                  no     906        4225   21.443787   \n",
       "2       mi                 yes     128         255   50.196078   \n",
       "\n",
       "   population_dist  \n",
       "0         9.425237  \n",
       "1        39.154371  \n",
       "2        51.420392  \n",
       "0        34.654587  \n",
       "1        65.345413  \n",
       "0         0.440432  \n",
       "1        37.194451  \n",
       "2        62.365118  \n",
       "0        60.405197  \n",
       "1        39.594803  \n",
       "0        44.857961  \n",
       "1         4.338251  \n",
       "2        24.532041  \n",
       "3        26.271746  \n",
       "0        51.926888  \n",
       "1        48.073112  \n",
       "0        95.661749  \n",
       "1         4.338251  \n",
       "0        97.357410  \n",
       "1         2.642590  \n",
       "0         1.343316  \n",
       "1        93.041180  \n",
       "2         5.615503  "
      ]
     },
     "execution_count": 48,
     "metadata": {},
     "output_type": "execute_result"
    }
   ],
   "source": [
    "er_data"
   ]
  },
  {
   "cell_type": "markdown",
   "metadata": {},
   "source": [
    "Ploting death rates"
   ]
  },
  {
   "cell_type": "code",
   "execution_count": 49,
   "metadata": {},
   "outputs": [],
   "source": [
    "def plt_event_rate(er_data):\n",
    "    for field in er_data['field'].unique():\n",
    "        trace1 = go.Bar(x=list(er_data[er_data['field'] == field]['levels'].values), y=list(er_data[er_data['field'] == field]['population_dist'].values))\n",
    "        trace2 = go.Scatter(x=list(er_data[er_data['field'] == field]['levels'].values), y=list(er_data[er_data['field'] == field]['death_rate'].values), yaxis='y2')\n",
    "        data = [trace1, trace2]\n",
    "        layout = go.Layout(\n",
    "            title=\"Double Y axis - \"+field.capitalize(),\n",
    "            yaxis=dict(\n",
    "                title='Population Distibution'\n",
    "            ),\n",
    "            yaxis2=dict(\n",
    "                title='Death Rate',\n",
    "                titlefont=dict(\n",
    "                    color='rgb(148, 103, 189)'\n",
    "                ),\n",
    "                tickfont=dict(\n",
    "                    color='rgb(148, 103, 189)'\n",
    "                ),\n",
    "                overlaying='y',\n",
    "                side='right'\n",
    "            )\n",
    "        )\n",
    "        fig = go.Figure(data=data, layout=layout)\n",
    "        plot_url = iplot(fig, filename='multiple-axes-double')"
   ]
  },
  {
   "cell_type": "code",
   "execution_count": 50,
   "metadata": {},
   "outputs": [
    {
     "data": {
      "application/vnd.plotly.v1+json": {
       "config": {
        "linkText": "Export to plot.ly",
        "plotlyServerURL": "https://plot.ly",
        "showLink": false
       },
       "data": [
        {
         "type": "bar",
         "uid": "c5d3e34f-e001-4010-b341-29f8e94c614b",
         "x": [
          "Not_Available",
          "no",
          "yes"
         ],
         "y": [
          9.425236731997357,
          39.15437128385818,
          51.42039198414446
         ]
        },
        {
         "type": "scatter",
         "uid": "ac049f0c-3d9d-49b9-964a-341877e5e160",
         "x": [
          "Not_Available",
          "no",
          "yes"
         ],
         "y": [
          30.8411214953271,
          20.75365579302587,
          23.383297644539613
         ],
         "yaxis": "y2"
        }
       ],
       "layout": {
        "title": {
         "text": "Double Y axis - Obese"
        },
        "yaxis": {
         "title": {
          "text": "Population Distibution"
         }
        },
        "yaxis2": {
         "overlaying": "y",
         "side": "right",
         "tickfont": {
          "color": "rgb(148, 103, 189)"
         },
         "title": {
          "font": {
           "color": "rgb(148, 103, 189)"
          },
          "text": "Death Rate"
         }
        }
       }
      },
      "text/html": [
       "<div id=\"e58718b9-d879-499b-844a-79148b037bb2\" style=\"height: 525px; width: 100%;\" class=\"plotly-graph-div\"></div><script type=\"text/javascript\">require([\"plotly\"], function(Plotly) { window.PLOTLYENV=window.PLOTLYENV || {};window.PLOTLYENV.BASE_URL=\"https://plot.ly\";\n",
       "if (document.getElementById(\"e58718b9-d879-499b-844a-79148b037bb2\")) {\n",
       "    Plotly.newPlot(\"e58718b9-d879-499b-844a-79148b037bb2\", [{\"x\": [\"Not_Available\", \"no\", \"yes\"], \"y\": [9.425236731997357, 39.15437128385818, 51.42039198414446], \"type\": \"bar\", \"uid\": \"c5d3e34f-e001-4010-b341-29f8e94c614b\"}, {\"x\": [\"Not_Available\", \"no\", \"yes\"], \"y\": [30.8411214953271, 20.75365579302587, 23.383297644539613], \"yaxis\": \"y2\", \"type\": \"scatter\", \"uid\": \"ac049f0c-3d9d-49b9-964a-341877e5e160\"}], {\"title\": {\"text\": \"Double Y axis - Obese\"}, \"yaxis\": {\"title\": {\"text\": \"Population Distibution\"}}, \"yaxis2\": {\"overlaying\": \"y\", \"side\": \"right\", \"tickfont\": {\"color\": \"rgb(148, 103, 189)\"}, \"title\": {\"font\": {\"color\": \"rgb(148, 103, 189)\"}, \"text\": \"Death Rate\"}}}, {\"showLink\": false, \"linkText\": \"Export to plot.ly\", \"plotlyServerURL\": \"https://plot.ly\"}); \n",
       "}\n",
       "});</script><script type=\"text/javascript\">window.addEventListener(\"resize\", function(){if (document.getElementById(\"e58718b9-d879-499b-844a-79148b037bb2\")) {window._Plotly.Plots.resize(document.getElementById(\"e58718b9-d879-499b-844a-79148b037bb2\"));};})</script>"
      ],
      "text/vnd.plotly.v1+html": [
       "<div id=\"e58718b9-d879-499b-844a-79148b037bb2\" style=\"height: 525px; width: 100%;\" class=\"plotly-graph-div\"></div><script type=\"text/javascript\">require([\"plotly\"], function(Plotly) { window.PLOTLYENV=window.PLOTLYENV || {};window.PLOTLYENV.BASE_URL=\"https://plot.ly\";\n",
       "if (document.getElementById(\"e58718b9-d879-499b-844a-79148b037bb2\")) {\n",
       "    Plotly.newPlot(\"e58718b9-d879-499b-844a-79148b037bb2\", [{\"x\": [\"Not_Available\", \"no\", \"yes\"], \"y\": [9.425236731997357, 39.15437128385818, 51.42039198414446], \"type\": \"bar\", \"uid\": \"c5d3e34f-e001-4010-b341-29f8e94c614b\"}, {\"x\": [\"Not_Available\", \"no\", \"yes\"], \"y\": [30.8411214953271, 20.75365579302587, 23.383297644539613], \"yaxis\": \"y2\", \"type\": \"scatter\", \"uid\": \"ac049f0c-3d9d-49b9-964a-341877e5e160\"}], {\"title\": {\"text\": \"Double Y axis - Obese\"}, \"yaxis\": {\"title\": {\"text\": \"Population Distibution\"}}, \"yaxis2\": {\"overlaying\": \"y\", \"side\": \"right\", \"tickfont\": {\"color\": \"rgb(148, 103, 189)\"}, \"title\": {\"font\": {\"color\": \"rgb(148, 103, 189)\"}, \"text\": \"Death Rate\"}}}, {\"showLink\": false, \"linkText\": \"Export to plot.ly\", \"plotlyServerURL\": \"https://plot.ly\"}); \n",
       "}\n",
       "});</script><script type=\"text/javascript\">window.addEventListener(\"resize\", function(){if (document.getElementById(\"e58718b9-d879-499b-844a-79148b037bb2\")) {window._Plotly.Plots.resize(document.getElementById(\"e58718b9-d879-499b-844a-79148b037bb2\"));};})</script>"
      ]
     },
     "metadata": {},
     "output_type": "display_data"
    },
    {
     "data": {
      "application/vnd.plotly.v1+json": {
       "config": {
        "linkText": "Export to plot.ly",
        "plotlyServerURL": "https://plot.ly",
        "showLink": false
       },
       "data": [
        {
         "type": "bar",
         "uid": "cbeea57f-16b8-4cfb-934f-c6a5cfcba58a",
         "x": [
          1,
          2
         ],
         "y": [
          34.65458663646659,
          65.34541336353341
         ]
        },
        {
         "type": "scatter",
         "uid": "ce79ca5f-4389-436a-af19-7ddab56d674e",
         "x": [
          1,
          2
         ],
         "y": [
          24.50980392156863,
          21.663778162911612
         ],
         "yaxis": "y2"
        }
       ],
       "layout": {
        "title": {
         "text": "Double Y axis - Hldhx"
        },
        "yaxis": {
         "title": {
          "text": "Population Distibution"
         }
        },
        "yaxis2": {
         "overlaying": "y",
         "side": "right",
         "tickfont": {
          "color": "rgb(148, 103, 189)"
         },
         "title": {
          "font": {
           "color": "rgb(148, 103, 189)"
          },
          "text": "Death Rate"
         }
        }
       }
      },
      "text/html": [
       "<div id=\"d064912d-863e-4b89-b3d3-66e9491afe6e\" style=\"height: 525px; width: 100%;\" class=\"plotly-graph-div\"></div><script type=\"text/javascript\">require([\"plotly\"], function(Plotly) { window.PLOTLYENV=window.PLOTLYENV || {};window.PLOTLYENV.BASE_URL=\"https://plot.ly\";\n",
       "if (document.getElementById(\"d064912d-863e-4b89-b3d3-66e9491afe6e\")) {\n",
       "    Plotly.newPlot(\"d064912d-863e-4b89-b3d3-66e9491afe6e\", [{\"x\": [1.0, 2.0], \"y\": [34.65458663646659, 65.34541336353341], \"type\": \"bar\", \"uid\": \"cbeea57f-16b8-4cfb-934f-c6a5cfcba58a\"}, {\"x\": [1.0, 2.0], \"y\": [24.50980392156863, 21.663778162911612], \"yaxis\": \"y2\", \"type\": \"scatter\", \"uid\": \"ce79ca5f-4389-436a-af19-7ddab56d674e\"}], {\"title\": {\"text\": \"Double Y axis - Hldhx\"}, \"yaxis\": {\"title\": {\"text\": \"Population Distibution\"}}, \"yaxis2\": {\"overlaying\": \"y\", \"side\": \"right\", \"tickfont\": {\"color\": \"rgb(148, 103, 189)\"}, \"title\": {\"font\": {\"color\": \"rgb(148, 103, 189)\"}, \"text\": \"Death Rate\"}}}, {\"showLink\": false, \"linkText\": \"Export to plot.ly\", \"plotlyServerURL\": \"https://plot.ly\"}); \n",
       "}\n",
       "});</script><script type=\"text/javascript\">window.addEventListener(\"resize\", function(){if (document.getElementById(\"d064912d-863e-4b89-b3d3-66e9491afe6e\")) {window._Plotly.Plots.resize(document.getElementById(\"d064912d-863e-4b89-b3d3-66e9491afe6e\"));};})</script>"
      ],
      "text/vnd.plotly.v1+html": [
       "<div id=\"d064912d-863e-4b89-b3d3-66e9491afe6e\" style=\"height: 525px; width: 100%;\" class=\"plotly-graph-div\"></div><script type=\"text/javascript\">require([\"plotly\"], function(Plotly) { window.PLOTLYENV=window.PLOTLYENV || {};window.PLOTLYENV.BASE_URL=\"https://plot.ly\";\n",
       "if (document.getElementById(\"d064912d-863e-4b89-b3d3-66e9491afe6e\")) {\n",
       "    Plotly.newPlot(\"d064912d-863e-4b89-b3d3-66e9491afe6e\", [{\"x\": [1.0, 2.0], \"y\": [34.65458663646659, 65.34541336353341], \"type\": \"bar\", \"uid\": \"cbeea57f-16b8-4cfb-934f-c6a5cfcba58a\"}, {\"x\": [1.0, 2.0], \"y\": [24.50980392156863, 21.663778162911612], \"yaxis\": \"y2\", \"type\": \"scatter\", \"uid\": \"ce79ca5f-4389-436a-af19-7ddab56d674e\"}], {\"title\": {\"text\": \"Double Y axis - Hldhx\"}, \"yaxis\": {\"title\": {\"text\": \"Population Distibution\"}}, \"yaxis2\": {\"overlaying\": \"y\", \"side\": \"right\", \"tickfont\": {\"color\": \"rgb(148, 103, 189)\"}, \"title\": {\"font\": {\"color\": \"rgb(148, 103, 189)\"}, \"text\": \"Death Rate\"}}}, {\"showLink\": false, \"linkText\": \"Export to plot.ly\", \"plotlyServerURL\": \"https://plot.ly\"}); \n",
       "}\n",
       "});</script><script type=\"text/javascript\">window.addEventListener(\"resize\", function(){if (document.getElementById(\"d064912d-863e-4b89-b3d3-66e9491afe6e\")) {window._Plotly.Plots.resize(document.getElementById(\"d064912d-863e-4b89-b3d3-66e9491afe6e\"));};})</script>"
      ]
     },
     "metadata": {},
     "output_type": "display_data"
    },
    {
     "data": {
      "application/vnd.plotly.v1+json": {
       "config": {
        "linkText": "Export to plot.ly",
        "plotlyServerURL": "https://plot.ly",
        "showLink": false
       },
       "data": [
        {
         "type": "bar",
         "uid": "9dda2a34-dfb3-4049-be3d-9406819ae0e4",
         "x": [
          "Not_Available",
          "hypertensive",
          "no"
         ],
         "y": [
          0.44043162299053074,
          37.19445056155032,
          62.36511781545915
         ]
        },
        {
         "type": "scatter",
         "uid": "562b0a7d-d8bb-461d-ace8-5e381a8531dc",
         "x": [
          "Not_Available",
          "hypertensive",
          "no"
         ],
         "y": [
          20,
          30.905861456483127,
          18.396892655367232
         ],
         "yaxis": "y2"
        }
       ],
       "layout": {
        "title": {
         "text": "Double Y axis - Htnhx"
        },
        "yaxis": {
         "title": {
          "text": "Population Distibution"
         }
        },
        "yaxis2": {
         "overlaying": "y",
         "side": "right",
         "tickfont": {
          "color": "rgb(148, 103, 189)"
         },
         "title": {
          "font": {
           "color": "rgb(148, 103, 189)"
          },
          "text": "Death Rate"
         }
        }
       }
      },
      "text/html": [
       "<div id=\"d20f1546-4c0e-4cc1-bf3e-f7e2b60578c3\" style=\"height: 525px; width: 100%;\" class=\"plotly-graph-div\"></div><script type=\"text/javascript\">require([\"plotly\"], function(Plotly) { window.PLOTLYENV=window.PLOTLYENV || {};window.PLOTLYENV.BASE_URL=\"https://plot.ly\";\n",
       "if (document.getElementById(\"d20f1546-4c0e-4cc1-bf3e-f7e2b60578c3\")) {\n",
       "    Plotly.newPlot(\"d20f1546-4c0e-4cc1-bf3e-f7e2b60578c3\", [{\"x\": [\"Not_Available\", \"hypertensive\", \"no\"], \"y\": [0.44043162299053074, 37.19445056155032, 62.36511781545915], \"type\": \"bar\", \"uid\": \"9dda2a34-dfb3-4049-be3d-9406819ae0e4\"}, {\"x\": [\"Not_Available\", \"hypertensive\", \"no\"], \"y\": [20.0, 30.905861456483127, 18.396892655367232], \"yaxis\": \"y2\", \"type\": \"scatter\", \"uid\": \"562b0a7d-d8bb-461d-ace8-5e381a8531dc\"}], {\"title\": {\"text\": \"Double Y axis - Htnhx\"}, \"yaxis\": {\"title\": {\"text\": \"Population Distibution\"}}, \"yaxis2\": {\"overlaying\": \"y\", \"side\": \"right\", \"tickfont\": {\"color\": \"rgb(148, 103, 189)\"}, \"title\": {\"font\": {\"color\": \"rgb(148, 103, 189)\"}, \"text\": \"Death Rate\"}}}, {\"showLink\": false, \"linkText\": \"Export to plot.ly\", \"plotlyServerURL\": \"https://plot.ly\"}); \n",
       "}\n",
       "});</script><script type=\"text/javascript\">window.addEventListener(\"resize\", function(){if (document.getElementById(\"d20f1546-4c0e-4cc1-bf3e-f7e2b60578c3\")) {window._Plotly.Plots.resize(document.getElementById(\"d20f1546-4c0e-4cc1-bf3e-f7e2b60578c3\"));};})</script>"
      ],
      "text/vnd.plotly.v1+html": [
       "<div id=\"d20f1546-4c0e-4cc1-bf3e-f7e2b60578c3\" style=\"height: 525px; width: 100%;\" class=\"plotly-graph-div\"></div><script type=\"text/javascript\">require([\"plotly\"], function(Plotly) { window.PLOTLYENV=window.PLOTLYENV || {};window.PLOTLYENV.BASE_URL=\"https://plot.ly\";\n",
       "if (document.getElementById(\"d20f1546-4c0e-4cc1-bf3e-f7e2b60578c3\")) {\n",
       "    Plotly.newPlot(\"d20f1546-4c0e-4cc1-bf3e-f7e2b60578c3\", [{\"x\": [\"Not_Available\", \"hypertensive\", \"no\"], \"y\": [0.44043162299053074, 37.19445056155032, 62.36511781545915], \"type\": \"bar\", \"uid\": \"9dda2a34-dfb3-4049-be3d-9406819ae0e4\"}, {\"x\": [\"Not_Available\", \"hypertensive\", \"no\"], \"y\": [20.0, 30.905861456483127, 18.396892655367232], \"yaxis\": \"y2\", \"type\": \"scatter\", \"uid\": \"562b0a7d-d8bb-461d-ace8-5e381a8531dc\"}], {\"title\": {\"text\": \"Double Y axis - Htnhx\"}, \"yaxis\": {\"title\": {\"text\": \"Population Distibution\"}}, \"yaxis2\": {\"overlaying\": \"y\", \"side\": \"right\", \"tickfont\": {\"color\": \"rgb(148, 103, 189)\"}, \"title\": {\"font\": {\"color\": \"rgb(148, 103, 189)\"}, \"text\": \"Death Rate\"}}}, {\"showLink\": false, \"linkText\": \"Export to plot.ly\", \"plotlyServerURL\": \"https://plot.ly\"}); \n",
       "}\n",
       "});</script><script type=\"text/javascript\">window.addEventListener(\"resize\", function(){if (document.getElementById(\"d20f1546-4c0e-4cc1-bf3e-f7e2b60578c3\")) {window._Plotly.Plots.resize(document.getElementById(\"d20f1546-4c0e-4cc1-bf3e-f7e2b60578c3\"));};})</script>"
      ]
     },
     "metadata": {},
     "output_type": "display_data"
    },
    {
     "data": {
      "application/vnd.plotly.v1+json": {
       "config": {
        "linkText": "Export to plot.ly",
        "plotlyServerURL": "https://plot.ly",
        "showLink": false
       },
       "data": [
        {
         "type": "bar",
         "uid": "2eb630a2-cd58-4cc6-87d2-caa9f2f41531",
         "x": [
          "no",
          "yes"
         ],
         "y": [
          60.40519709315129,
          39.59480290684871
         ]
        },
        {
         "type": "scatter",
         "uid": "6cf5f01f-be49-4b7f-a25c-63eeb21fa88f",
         "x": [
          "no",
          "yes"
         ],
         "y": [
          28.58184469558877,
          14.627363737486096
         ],
         "yaxis": "y2"
        }
       ],
       "layout": {
        "title": {
         "text": "Double Y axis - Smokehx"
        },
        "yaxis": {
         "title": {
          "text": "Population Distibution"
         }
        },
        "yaxis2": {
         "overlaying": "y",
         "side": "right",
         "tickfont": {
          "color": "rgb(148, 103, 189)"
         },
         "title": {
          "font": {
           "color": "rgb(148, 103, 189)"
          },
          "text": "Death Rate"
         }
        }
       }
      },
      "text/html": [
       "<div id=\"55dec928-74d3-4fad-b570-6e58994c5fe5\" style=\"height: 525px; width: 100%;\" class=\"plotly-graph-div\"></div><script type=\"text/javascript\">require([\"plotly\"], function(Plotly) { window.PLOTLYENV=window.PLOTLYENV || {};window.PLOTLYENV.BASE_URL=\"https://plot.ly\";\n",
       "if (document.getElementById(\"55dec928-74d3-4fad-b570-6e58994c5fe5\")) {\n",
       "    Plotly.newPlot(\"55dec928-74d3-4fad-b570-6e58994c5fe5\", [{\"x\": [\"no\", \"yes\"], \"y\": [60.40519709315129, 39.59480290684871], \"type\": \"bar\", \"uid\": \"2eb630a2-cd58-4cc6-87d2-caa9f2f41531\"}, {\"x\": [\"no\", \"yes\"], \"y\": [28.58184469558877, 14.627363737486096], \"yaxis\": \"y2\", \"type\": \"scatter\", \"uid\": \"6cf5f01f-be49-4b7f-a25c-63eeb21fa88f\"}], {\"title\": {\"text\": \"Double Y axis - Smokehx\"}, \"yaxis\": {\"title\": {\"text\": \"Population Distibution\"}}, \"yaxis2\": {\"overlaying\": \"y\", \"side\": \"right\", \"tickfont\": {\"color\": \"rgb(148, 103, 189)\"}, \"title\": {\"font\": {\"color\": \"rgb(148, 103, 189)\"}, \"text\": \"Death Rate\"}}}, {\"showLink\": false, \"linkText\": \"Export to plot.ly\", \"plotlyServerURL\": \"https://plot.ly\"}); \n",
       "}\n",
       "});</script><script type=\"text/javascript\">window.addEventListener(\"resize\", function(){if (document.getElementById(\"55dec928-74d3-4fad-b570-6e58994c5fe5\")) {window._Plotly.Plots.resize(document.getElementById(\"55dec928-74d3-4fad-b570-6e58994c5fe5\"));};})</script>"
      ],
      "text/vnd.plotly.v1+html": [
       "<div id=\"55dec928-74d3-4fad-b570-6e58994c5fe5\" style=\"height: 525px; width: 100%;\" class=\"plotly-graph-div\"></div><script type=\"text/javascript\">require([\"plotly\"], function(Plotly) { window.PLOTLYENV=window.PLOTLYENV || {};window.PLOTLYENV.BASE_URL=\"https://plot.ly\";\n",
       "if (document.getElementById(\"55dec928-74d3-4fad-b570-6e58994c5fe5\")) {\n",
       "    Plotly.newPlot(\"55dec928-74d3-4fad-b570-6e58994c5fe5\", [{\"x\": [\"no\", \"yes\"], \"y\": [60.40519709315129, 39.59480290684871], \"type\": \"bar\", \"uid\": \"2eb630a2-cd58-4cc6-87d2-caa9f2f41531\"}, {\"x\": [\"no\", \"yes\"], \"y\": [28.58184469558877, 14.627363737486096], \"yaxis\": \"y2\", \"type\": \"scatter\", \"uid\": \"6cf5f01f-be49-4b7f-a25c-63eeb21fa88f\"}], {\"title\": {\"text\": \"Double Y axis - Smokehx\"}, \"yaxis\": {\"title\": {\"text\": \"Population Distibution\"}}, \"yaxis2\": {\"overlaying\": \"y\", \"side\": \"right\", \"tickfont\": {\"color\": \"rgb(148, 103, 189)\"}, \"title\": {\"font\": {\"color\": \"rgb(148, 103, 189)\"}, \"text\": \"Death Rate\"}}}, {\"showLink\": false, \"linkText\": \"Export to plot.ly\", \"plotlyServerURL\": \"https://plot.ly\"}); \n",
       "}\n",
       "});</script><script type=\"text/javascript\">window.addEventListener(\"resize\", function(){if (document.getElementById(\"55dec928-74d3-4fad-b570-6e58994c5fe5\")) {window._Plotly.Plots.resize(document.getElementById(\"55dec928-74d3-4fad-b570-6e58994c5fe5\"));};})</script>"
      ]
     },
     "metadata": {},
     "output_type": "display_data"
    },
    {
     "data": {
      "application/vnd.plotly.v1+json": {
       "config": {
        "linkText": "Export to plot.ly",
        "plotlyServerURL": "https://plot.ly",
        "showLink": false
       },
       "data": [
        {
         "type": "bar",
         "uid": "7c54f8f1-9f4a-4381-b971-5282a87f4559",
         "x": [
          "hispanic",
          "multiracial",
          "non hispanic black",
          "non hispanic white"
         ],
         "y": [
          44.857960801585556,
          4.338251486456728,
          24.53204140057256,
          26.271746311385158
         ]
        },
        {
         "type": "scatter",
         "uid": "bcba9b6b-1ec7-4f4d-ab57-4331cc835627",
         "x": [
          "hispanic",
          "multiracial",
          "non hispanic black",
          "non hispanic white"
         ],
         "y": [
          20.225822287677957,
          12.690355329949238,
          22.531418312387792,
          30.092204526404025
         ],
         "yaxis": "y2"
        }
       ],
       "layout": {
        "title": {
         "text": "Double Y axis - Race"
        },
        "yaxis": {
         "title": {
          "text": "Population Distibution"
         }
        },
        "yaxis2": {
         "overlaying": "y",
         "side": "right",
         "tickfont": {
          "color": "rgb(148, 103, 189)"
         },
         "title": {
          "font": {
           "color": "rgb(148, 103, 189)"
          },
          "text": "Death Rate"
         }
        }
       }
      },
      "text/html": [
       "<div id=\"879f1847-6f9d-46b2-b25f-3795b92b469e\" style=\"height: 525px; width: 100%;\" class=\"plotly-graph-div\"></div><script type=\"text/javascript\">require([\"plotly\"], function(Plotly) { window.PLOTLYENV=window.PLOTLYENV || {};window.PLOTLYENV.BASE_URL=\"https://plot.ly\";\n",
       "if (document.getElementById(\"879f1847-6f9d-46b2-b25f-3795b92b469e\")) {\n",
       "    Plotly.newPlot(\"879f1847-6f9d-46b2-b25f-3795b92b469e\", [{\"x\": [\"hispanic\", \"multiracial\", \"non hispanic black\", \"non hispanic white\"], \"y\": [44.857960801585556, 4.338251486456728, 24.53204140057256, 26.271746311385158], \"type\": \"bar\", \"uid\": \"7c54f8f1-9f4a-4381-b971-5282a87f4559\"}, {\"x\": [\"hispanic\", \"multiracial\", \"non hispanic black\", \"non hispanic white\"], \"y\": [20.225822287677957, 12.690355329949238, 22.531418312387792, 30.092204526404025], \"yaxis\": \"y2\", \"type\": \"scatter\", \"uid\": \"bcba9b6b-1ec7-4f4d-ab57-4331cc835627\"}], {\"title\": {\"text\": \"Double Y axis - Race\"}, \"yaxis\": {\"title\": {\"text\": \"Population Distibution\"}}, \"yaxis2\": {\"overlaying\": \"y\", \"side\": \"right\", \"tickfont\": {\"color\": \"rgb(148, 103, 189)\"}, \"title\": {\"font\": {\"color\": \"rgb(148, 103, 189)\"}, \"text\": \"Death Rate\"}}}, {\"showLink\": false, \"linkText\": \"Export to plot.ly\", \"plotlyServerURL\": \"https://plot.ly\"}); \n",
       "}\n",
       "});</script><script type=\"text/javascript\">window.addEventListener(\"resize\", function(){if (document.getElementById(\"879f1847-6f9d-46b2-b25f-3795b92b469e\")) {window._Plotly.Plots.resize(document.getElementById(\"879f1847-6f9d-46b2-b25f-3795b92b469e\"));};})</script>"
      ],
      "text/vnd.plotly.v1+html": [
       "<div id=\"879f1847-6f9d-46b2-b25f-3795b92b469e\" style=\"height: 525px; width: 100%;\" class=\"plotly-graph-div\"></div><script type=\"text/javascript\">require([\"plotly\"], function(Plotly) { window.PLOTLYENV=window.PLOTLYENV || {};window.PLOTLYENV.BASE_URL=\"https://plot.ly\";\n",
       "if (document.getElementById(\"879f1847-6f9d-46b2-b25f-3795b92b469e\")) {\n",
       "    Plotly.newPlot(\"879f1847-6f9d-46b2-b25f-3795b92b469e\", [{\"x\": [\"hispanic\", \"multiracial\", \"non hispanic black\", \"non hispanic white\"], \"y\": [44.857960801585556, 4.338251486456728, 24.53204140057256, 26.271746311385158], \"type\": \"bar\", \"uid\": \"7c54f8f1-9f4a-4381-b971-5282a87f4559\"}, {\"x\": [\"hispanic\", \"multiracial\", \"non hispanic black\", \"non hispanic white\"], \"y\": [20.225822287677957, 12.690355329949238, 22.531418312387792, 30.092204526404025], \"yaxis\": \"y2\", \"type\": \"scatter\", \"uid\": \"bcba9b6b-1ec7-4f4d-ab57-4331cc835627\"}], {\"title\": {\"text\": \"Double Y axis - Race\"}, \"yaxis\": {\"title\": {\"text\": \"Population Distibution\"}}, \"yaxis2\": {\"overlaying\": \"y\", \"side\": \"right\", \"tickfont\": {\"color\": \"rgb(148, 103, 189)\"}, \"title\": {\"font\": {\"color\": \"rgb(148, 103, 189)\"}, \"text\": \"Death Rate\"}}}, {\"showLink\": false, \"linkText\": \"Export to plot.ly\", \"plotlyServerURL\": \"https://plot.ly\"}); \n",
       "}\n",
       "});</script><script type=\"text/javascript\">window.addEventListener(\"resize\", function(){if (document.getElementById(\"879f1847-6f9d-46b2-b25f-3795b92b469e\")) {window._Plotly.Plots.resize(document.getElementById(\"879f1847-6f9d-46b2-b25f-3795b92b469e\"));};})</script>"
      ]
     },
     "metadata": {},
     "output_type": "display_data"
    },
    {
     "data": {
      "application/vnd.plotly.v1+json": {
       "config": {
        "linkText": "Export to plot.ly",
        "plotlyServerURL": "https://plot.ly",
        "showLink": false
       },
       "data": [
        {
         "type": "bar",
         "uid": "012d1321-516a-4614-aae2-10d3d37dfac7",
         "x": [
          "female",
          "male"
         ],
         "y": [
          51.926888350583575,
          48.073111649416425
         ]
        },
        {
         "type": "scatter",
         "uid": "78b0979a-cda1-494a-9a77-8e112adff7ac",
         "x": [
          "female",
          "male"
         ],
         "y": [
          19.253604749787957,
          27.1644525881814
         ],
         "yaxis": "y2"
        }
       ],
       "layout": {
        "title": {
         "text": "Double Y axis - Sex"
        },
        "yaxis": {
         "title": {
          "text": "Population Distibution"
         }
        },
        "yaxis2": {
         "overlaying": "y",
         "side": "right",
         "tickfont": {
          "color": "rgb(148, 103, 189)"
         },
         "title": {
          "font": {
           "color": "rgb(148, 103, 189)"
          },
          "text": "Death Rate"
         }
        }
       }
      },
      "text/html": [
       "<div id=\"f6bd0eda-8a61-41ec-85c8-c945970ccd50\" style=\"height: 525px; width: 100%;\" class=\"plotly-graph-div\"></div><script type=\"text/javascript\">require([\"plotly\"], function(Plotly) { window.PLOTLYENV=window.PLOTLYENV || {};window.PLOTLYENV.BASE_URL=\"https://plot.ly\";\n",
       "if (document.getElementById(\"f6bd0eda-8a61-41ec-85c8-c945970ccd50\")) {\n",
       "    Plotly.newPlot(\"f6bd0eda-8a61-41ec-85c8-c945970ccd50\", [{\"x\": [\"female\", \"male\"], \"y\": [51.926888350583575, 48.073111649416425], \"type\": \"bar\", \"uid\": \"012d1321-516a-4614-aae2-10d3d37dfac7\"}, {\"x\": [\"female\", \"male\"], \"y\": [19.253604749787957, 27.1644525881814], \"yaxis\": \"y2\", \"type\": \"scatter\", \"uid\": \"78b0979a-cda1-494a-9a77-8e112adff7ac\"}], {\"title\": {\"text\": \"Double Y axis - Sex\"}, \"yaxis\": {\"title\": {\"text\": \"Population Distibution\"}}, \"yaxis2\": {\"overlaying\": \"y\", \"side\": \"right\", \"tickfont\": {\"color\": \"rgb(148, 103, 189)\"}, \"title\": {\"font\": {\"color\": \"rgb(148, 103, 189)\"}, \"text\": \"Death Rate\"}}}, {\"showLink\": false, \"linkText\": \"Export to plot.ly\", \"plotlyServerURL\": \"https://plot.ly\"}); \n",
       "}\n",
       "});</script><script type=\"text/javascript\">window.addEventListener(\"resize\", function(){if (document.getElementById(\"f6bd0eda-8a61-41ec-85c8-c945970ccd50\")) {window._Plotly.Plots.resize(document.getElementById(\"f6bd0eda-8a61-41ec-85c8-c945970ccd50\"));};})</script>"
      ],
      "text/vnd.plotly.v1+html": [
       "<div id=\"f6bd0eda-8a61-41ec-85c8-c945970ccd50\" style=\"height: 525px; width: 100%;\" class=\"plotly-graph-div\"></div><script type=\"text/javascript\">require([\"plotly\"], function(Plotly) { window.PLOTLYENV=window.PLOTLYENV || {};window.PLOTLYENV.BASE_URL=\"https://plot.ly\";\n",
       "if (document.getElementById(\"f6bd0eda-8a61-41ec-85c8-c945970ccd50\")) {\n",
       "    Plotly.newPlot(\"f6bd0eda-8a61-41ec-85c8-c945970ccd50\", [{\"x\": [\"female\", \"male\"], \"y\": [51.926888350583575, 48.073111649416425], \"type\": \"bar\", \"uid\": \"012d1321-516a-4614-aae2-10d3d37dfac7\"}, {\"x\": [\"female\", \"male\"], \"y\": [19.253604749787957, 27.1644525881814], \"yaxis\": \"y2\", \"type\": \"scatter\", \"uid\": \"78b0979a-cda1-494a-9a77-8e112adff7ac\"}], {\"title\": {\"text\": \"Double Y axis - Sex\"}, \"yaxis\": {\"title\": {\"text\": \"Population Distibution\"}}, \"yaxis2\": {\"overlaying\": \"y\", \"side\": \"right\", \"tickfont\": {\"color\": \"rgb(148, 103, 189)\"}, \"title\": {\"font\": {\"color\": \"rgb(148, 103, 189)\"}, \"text\": \"Death Rate\"}}}, {\"showLink\": false, \"linkText\": \"Export to plot.ly\", \"plotlyServerURL\": \"https://plot.ly\"}); \n",
       "}\n",
       "});</script><script type=\"text/javascript\">window.addEventListener(\"resize\", function(){if (document.getElementById(\"f6bd0eda-8a61-41ec-85c8-c945970ccd50\")) {window._Plotly.Plots.resize(document.getElementById(\"f6bd0eda-8a61-41ec-85c8-c945970ccd50\"));};})</script>"
      ]
     },
     "metadata": {},
     "output_type": "display_data"
    },
    {
     "data": {
      "application/vnd.plotly.v1+json": {
       "config": {
        "linkText": "Export to plot.ly",
        "plotlyServerURL": "https://plot.ly",
        "showLink": false
       },
       "data": [
        {
         "type": "bar",
         "uid": "092ffb9c-2d86-4e2f-b01a-7e82b4fd7789",
         "x": [
          "no",
          "yes"
         ],
         "y": [
          95.66174851354327,
          4.338251486456728
         ]
        },
        {
         "type": "scatter",
         "uid": "00932014-349b-4bca-920c-047748118ce3",
         "x": [
          "no",
          "yes"
         ],
         "y": [
          21.477900552486187,
          57.868020304568525
         ],
         "yaxis": "y2"
        }
       ],
       "layout": {
        "title": {
         "text": "Double Y axis - Hf"
        },
        "yaxis": {
         "title": {
          "text": "Population Distibution"
         }
        },
        "yaxis2": {
         "overlaying": "y",
         "side": "right",
         "tickfont": {
          "color": "rgb(148, 103, 189)"
         },
         "title": {
          "font": {
           "color": "rgb(148, 103, 189)"
          },
          "text": "Death Rate"
         }
        }
       }
      },
      "text/html": [
       "<div id=\"cdc14eb8-683f-4847-86a2-e5efbea4ec22\" style=\"height: 525px; width: 100%;\" class=\"plotly-graph-div\"></div><script type=\"text/javascript\">require([\"plotly\"], function(Plotly) { window.PLOTLYENV=window.PLOTLYENV || {};window.PLOTLYENV.BASE_URL=\"https://plot.ly\";\n",
       "if (document.getElementById(\"cdc14eb8-683f-4847-86a2-e5efbea4ec22\")) {\n",
       "    Plotly.newPlot(\"cdc14eb8-683f-4847-86a2-e5efbea4ec22\", [{\"x\": [\"no\", \"yes\"], \"y\": [95.66174851354327, 4.338251486456728], \"type\": \"bar\", \"uid\": \"092ffb9c-2d86-4e2f-b01a-7e82b4fd7789\"}, {\"x\": [\"no\", \"yes\"], \"y\": [21.477900552486187, 57.868020304568525], \"yaxis\": \"y2\", \"type\": \"scatter\", \"uid\": \"00932014-349b-4bca-920c-047748118ce3\"}], {\"title\": {\"text\": \"Double Y axis - Hf\"}, \"yaxis\": {\"title\": {\"text\": \"Population Distibution\"}}, \"yaxis2\": {\"overlaying\": \"y\", \"side\": \"right\", \"tickfont\": {\"color\": \"rgb(148, 103, 189)\"}, \"title\": {\"font\": {\"color\": \"rgb(148, 103, 189)\"}, \"text\": \"Death Rate\"}}}, {\"showLink\": false, \"linkText\": \"Export to plot.ly\", \"plotlyServerURL\": \"https://plot.ly\"}); \n",
       "}\n",
       "});</script><script type=\"text/javascript\">window.addEventListener(\"resize\", function(){if (document.getElementById(\"cdc14eb8-683f-4847-86a2-e5efbea4ec22\")) {window._Plotly.Plots.resize(document.getElementById(\"cdc14eb8-683f-4847-86a2-e5efbea4ec22\"));};})</script>"
      ],
      "text/vnd.plotly.v1+html": [
       "<div id=\"cdc14eb8-683f-4847-86a2-e5efbea4ec22\" style=\"height: 525px; width: 100%;\" class=\"plotly-graph-div\"></div><script type=\"text/javascript\">require([\"plotly\"], function(Plotly) { window.PLOTLYENV=window.PLOTLYENV || {};window.PLOTLYENV.BASE_URL=\"https://plot.ly\";\n",
       "if (document.getElementById(\"cdc14eb8-683f-4847-86a2-e5efbea4ec22\")) {\n",
       "    Plotly.newPlot(\"cdc14eb8-683f-4847-86a2-e5efbea4ec22\", [{\"x\": [\"no\", \"yes\"], \"y\": [95.66174851354327, 4.338251486456728], \"type\": \"bar\", \"uid\": \"092ffb9c-2d86-4e2f-b01a-7e82b4fd7789\"}, {\"x\": [\"no\", \"yes\"], \"y\": [21.477900552486187, 57.868020304568525], \"yaxis\": \"y2\", \"type\": \"scatter\", \"uid\": \"00932014-349b-4bca-920c-047748118ce3\"}], {\"title\": {\"text\": \"Double Y axis - Hf\"}, \"yaxis\": {\"title\": {\"text\": \"Population Distibution\"}}, \"yaxis2\": {\"overlaying\": \"y\", \"side\": \"right\", \"tickfont\": {\"color\": \"rgb(148, 103, 189)\"}, \"title\": {\"font\": {\"color\": \"rgb(148, 103, 189)\"}, \"text\": \"Death Rate\"}}}, {\"showLink\": false, \"linkText\": \"Export to plot.ly\", \"plotlyServerURL\": \"https://plot.ly\"}); \n",
       "}\n",
       "});</script><script type=\"text/javascript\">window.addEventListener(\"resize\", function(){if (document.getElementById(\"cdc14eb8-683f-4847-86a2-e5efbea4ec22\")) {window._Plotly.Plots.resize(document.getElementById(\"cdc14eb8-683f-4847-86a2-e5efbea4ec22\"));};})</script>"
      ]
     },
     "metadata": {},
     "output_type": "display_data"
    },
    {
     "data": {
      "application/vnd.plotly.v1+json": {
       "config": {
        "linkText": "Export to plot.ly",
        "plotlyServerURL": "https://plot.ly",
        "showLink": false
       },
       "data": [
        {
         "type": "bar",
         "uid": "c9fd89c7-c16f-44a1-8a78-a8992a640f1b",
         "x": [
          "no",
          "yes"
         ],
         "y": [
          97.35741026205682,
          2.6425897379431844
         ]
        },
        {
         "type": "scatter",
         "uid": "8986f318-17be-48ab-bd44-37a11504c854",
         "x": [
          "no",
          "yes"
         ],
         "y": [
          22.280027143180277,
          51.666666666666664
         ],
         "yaxis": "y2"
        }
       ],
       "layout": {
        "title": {
         "text": "Double Y axis - Stroke"
        },
        "yaxis": {
         "title": {
          "text": "Population Distibution"
         }
        },
        "yaxis2": {
         "overlaying": "y",
         "side": "right",
         "tickfont": {
          "color": "rgb(148, 103, 189)"
         },
         "title": {
          "font": {
           "color": "rgb(148, 103, 189)"
          },
          "text": "Death Rate"
         }
        }
       }
      },
      "text/html": [
       "<div id=\"4e1ec50d-aa10-412d-bde1-868af86de7ca\" style=\"height: 525px; width: 100%;\" class=\"plotly-graph-div\"></div><script type=\"text/javascript\">require([\"plotly\"], function(Plotly) { window.PLOTLYENV=window.PLOTLYENV || {};window.PLOTLYENV.BASE_URL=\"https://plot.ly\";\n",
       "if (document.getElementById(\"4e1ec50d-aa10-412d-bde1-868af86de7ca\")) {\n",
       "    Plotly.newPlot(\"4e1ec50d-aa10-412d-bde1-868af86de7ca\", [{\"x\": [\"no\", \"yes\"], \"y\": [97.35741026205682, 2.6425897379431844], \"type\": \"bar\", \"uid\": \"c9fd89c7-c16f-44a1-8a78-a8992a640f1b\"}, {\"x\": [\"no\", \"yes\"], \"y\": [22.280027143180277, 51.666666666666664], \"yaxis\": \"y2\", \"type\": \"scatter\", \"uid\": \"8986f318-17be-48ab-bd44-37a11504c854\"}], {\"title\": {\"text\": \"Double Y axis - Stroke\"}, \"yaxis\": {\"title\": {\"text\": \"Population Distibution\"}}, \"yaxis2\": {\"overlaying\": \"y\", \"side\": \"right\", \"tickfont\": {\"color\": \"rgb(148, 103, 189)\"}, \"title\": {\"font\": {\"color\": \"rgb(148, 103, 189)\"}, \"text\": \"Death Rate\"}}}, {\"showLink\": false, \"linkText\": \"Export to plot.ly\", \"plotlyServerURL\": \"https://plot.ly\"}); \n",
       "}\n",
       "});</script><script type=\"text/javascript\">window.addEventListener(\"resize\", function(){if (document.getElementById(\"4e1ec50d-aa10-412d-bde1-868af86de7ca\")) {window._Plotly.Plots.resize(document.getElementById(\"4e1ec50d-aa10-412d-bde1-868af86de7ca\"));};})</script>"
      ],
      "text/vnd.plotly.v1+html": [
       "<div id=\"4e1ec50d-aa10-412d-bde1-868af86de7ca\" style=\"height: 525px; width: 100%;\" class=\"plotly-graph-div\"></div><script type=\"text/javascript\">require([\"plotly\"], function(Plotly) { window.PLOTLYENV=window.PLOTLYENV || {};window.PLOTLYENV.BASE_URL=\"https://plot.ly\";\n",
       "if (document.getElementById(\"4e1ec50d-aa10-412d-bde1-868af86de7ca\")) {\n",
       "    Plotly.newPlot(\"4e1ec50d-aa10-412d-bde1-868af86de7ca\", [{\"x\": [\"no\", \"yes\"], \"y\": [97.35741026205682, 2.6425897379431844], \"type\": \"bar\", \"uid\": \"c9fd89c7-c16f-44a1-8a78-a8992a640f1b\"}, {\"x\": [\"no\", \"yes\"], \"y\": [22.280027143180277, 51.666666666666664], \"yaxis\": \"y2\", \"type\": \"scatter\", \"uid\": \"8986f318-17be-48ab-bd44-37a11504c854\"}], {\"title\": {\"text\": \"Double Y axis - Stroke\"}, \"yaxis\": {\"title\": {\"text\": \"Population Distibution\"}}, \"yaxis2\": {\"overlaying\": \"y\", \"side\": \"right\", \"tickfont\": {\"color\": \"rgb(148, 103, 189)\"}, \"title\": {\"font\": {\"color\": \"rgb(148, 103, 189)\"}, \"text\": \"Death Rate\"}}}, {\"showLink\": false, \"linkText\": \"Export to plot.ly\", \"plotlyServerURL\": \"https://plot.ly\"}); \n",
       "}\n",
       "});</script><script type=\"text/javascript\">window.addEventListener(\"resize\", function(){if (document.getElementById(\"4e1ec50d-aa10-412d-bde1-868af86de7ca\")) {window._Plotly.Plots.resize(document.getElementById(\"4e1ec50d-aa10-412d-bde1-868af86de7ca\"));};})</script>"
      ]
     },
     "metadata": {},
     "output_type": "display_data"
    },
    {
     "data": {
      "application/vnd.plotly.v1+json": {
       "config": {
        "linkText": "Export to plot.ly",
        "plotlyServerURL": "https://plot.ly",
        "showLink": false
       },
       "data": [
        {
         "type": "bar",
         "uid": "a13e0e0f-d8dc-436f-bed0-70a2a8619464",
         "x": [
          "Not_Available",
          "no",
          "yes"
         ],
         "y": [
          1.3433164501211188,
          93.04118035674962,
          5.615503193129267
         ]
        },
        {
         "type": "scatter",
         "uid": "085bcee7-d9c8-47c3-9b02-7404153a6b3a",
         "x": [
          "Not_Available",
          "no",
          "yes"
         ],
         "y": [
          21.311475409836067,
          21.443786982248522,
          50.19607843137255
         ],
         "yaxis": "y2"
        }
       ],
       "layout": {
        "title": {
         "text": "Double Y axis - Mi"
        },
        "yaxis": {
         "title": {
          "text": "Population Distibution"
         }
        },
        "yaxis2": {
         "overlaying": "y",
         "side": "right",
         "tickfont": {
          "color": "rgb(148, 103, 189)"
         },
         "title": {
          "font": {
           "color": "rgb(148, 103, 189)"
          },
          "text": "Death Rate"
         }
        }
       }
      },
      "text/html": [
       "<div id=\"ab15b6a9-30a4-4258-aeff-14b6923c8a05\" style=\"height: 525px; width: 100%;\" class=\"plotly-graph-div\"></div><script type=\"text/javascript\">require([\"plotly\"], function(Plotly) { window.PLOTLYENV=window.PLOTLYENV || {};window.PLOTLYENV.BASE_URL=\"https://plot.ly\";\n",
       "if (document.getElementById(\"ab15b6a9-30a4-4258-aeff-14b6923c8a05\")) {\n",
       "    Plotly.newPlot(\"ab15b6a9-30a4-4258-aeff-14b6923c8a05\", [{\"x\": [\"Not_Available\", \"no\", \"yes\"], \"y\": [1.3433164501211188, 93.04118035674962, 5.615503193129267], \"type\": \"bar\", \"uid\": \"a13e0e0f-d8dc-436f-bed0-70a2a8619464\"}, {\"x\": [\"Not_Available\", \"no\", \"yes\"], \"y\": [21.311475409836067, 21.443786982248522, 50.19607843137255], \"yaxis\": \"y2\", \"type\": \"scatter\", \"uid\": \"085bcee7-d9c8-47c3-9b02-7404153a6b3a\"}], {\"title\": {\"text\": \"Double Y axis - Mi\"}, \"yaxis\": {\"title\": {\"text\": \"Population Distibution\"}}, \"yaxis2\": {\"overlaying\": \"y\", \"side\": \"right\", \"tickfont\": {\"color\": \"rgb(148, 103, 189)\"}, \"title\": {\"font\": {\"color\": \"rgb(148, 103, 189)\"}, \"text\": \"Death Rate\"}}}, {\"showLink\": false, \"linkText\": \"Export to plot.ly\", \"plotlyServerURL\": \"https://plot.ly\"}); \n",
       "}\n",
       "});</script><script type=\"text/javascript\">window.addEventListener(\"resize\", function(){if (document.getElementById(\"ab15b6a9-30a4-4258-aeff-14b6923c8a05\")) {window._Plotly.Plots.resize(document.getElementById(\"ab15b6a9-30a4-4258-aeff-14b6923c8a05\"));};})</script>"
      ],
      "text/vnd.plotly.v1+html": [
       "<div id=\"ab15b6a9-30a4-4258-aeff-14b6923c8a05\" style=\"height: 525px; width: 100%;\" class=\"plotly-graph-div\"></div><script type=\"text/javascript\">require([\"plotly\"], function(Plotly) { window.PLOTLYENV=window.PLOTLYENV || {};window.PLOTLYENV.BASE_URL=\"https://plot.ly\";\n",
       "if (document.getElementById(\"ab15b6a9-30a4-4258-aeff-14b6923c8a05\")) {\n",
       "    Plotly.newPlot(\"ab15b6a9-30a4-4258-aeff-14b6923c8a05\", [{\"x\": [\"Not_Available\", \"no\", \"yes\"], \"y\": [1.3433164501211188, 93.04118035674962, 5.615503193129267], \"type\": \"bar\", \"uid\": \"a13e0e0f-d8dc-436f-bed0-70a2a8619464\"}, {\"x\": [\"Not_Available\", \"no\", \"yes\"], \"y\": [21.311475409836067, 21.443786982248522, 50.19607843137255], \"yaxis\": \"y2\", \"type\": \"scatter\", \"uid\": \"085bcee7-d9c8-47c3-9b02-7404153a6b3a\"}], {\"title\": {\"text\": \"Double Y axis - Mi\"}, \"yaxis\": {\"title\": {\"text\": \"Population Distibution\"}}, \"yaxis2\": {\"overlaying\": \"y\", \"side\": \"right\", \"tickfont\": {\"color\": \"rgb(148, 103, 189)\"}, \"title\": {\"font\": {\"color\": \"rgb(148, 103, 189)\"}, \"text\": \"Death Rate\"}}}, {\"showLink\": false, \"linkText\": \"Export to plot.ly\", \"plotlyServerURL\": \"https://plot.ly\"}); \n",
       "}\n",
       "});</script><script type=\"text/javascript\">window.addEventListener(\"resize\", function(){if (document.getElementById(\"ab15b6a9-30a4-4258-aeff-14b6923c8a05\")) {window._Plotly.Plots.resize(document.getElementById(\"ab15b6a9-30a4-4258-aeff-14b6923c8a05\"));};})</script>"
      ]
     },
     "metadata": {},
     "output_type": "display_data"
    }
   ],
   "source": [
    "plt_event_rate(er_data)"
   ]
  },
  {
   "cell_type": "code",
   "execution_count": 51,
   "metadata": {},
   "outputs": [],
   "source": [
    "er_data = pd.DataFrame()\n",
    "for column in numerical_columns:\n",
    "    data['decile'] = pd.qcut(data[column], q=10, duplicates='drop', labels=False)\n",
    "    groupby_data = data[['decile'] + ['mortstat']].groupby('decile').agg({'mortstat' : ['sum', 'count']})\n",
    "    groupby_data.columns = ['deaths', 'population']\n",
    "    groupby_data.reset_index(inplace=True)\n",
    "    groupby_data['event_rate'] = 100*groupby_data['deaths']/groupby_data['population']\n",
    "    groupby_data['population_dist'] = 100*groupby_data['population']/ groupby_data['population'].sum()\n",
    "    groupby_data.columns = ['levels', 'deaths', 'population', 'death_rate', 'population_dist']\n",
    "    groupby_data['field'] = column\n",
    "    er_data = er_data.append(groupby_data)"
   ]
  },
  {
   "cell_type": "code",
   "execution_count": 52,
   "metadata": {},
   "outputs": [
    {
     "data": {
      "text/html": [
       "<div>\n",
       "<style scoped>\n",
       "    .dataframe tbody tr th:only-of-type {\n",
       "        vertical-align: middle;\n",
       "    }\n",
       "\n",
       "    .dataframe tbody tr th {\n",
       "        vertical-align: top;\n",
       "    }\n",
       "\n",
       "    .dataframe thead th {\n",
       "        text-align: right;\n",
       "    }\n",
       "</style>\n",
       "<table border=\"1\" class=\"dataframe\">\n",
       "  <thead>\n",
       "    <tr style=\"text-align: right;\">\n",
       "      <th></th>\n",
       "      <th>levels</th>\n",
       "      <th>deaths</th>\n",
       "      <th>population</th>\n",
       "      <th>death_rate</th>\n",
       "      <th>population_dist</th>\n",
       "      <th>field</th>\n",
       "    </tr>\n",
       "  </thead>\n",
       "  <tbody>\n",
       "    <tr>\n",
       "      <th>0</th>\n",
       "      <td>0</td>\n",
       "      <td>146</td>\n",
       "      <td>455</td>\n",
       "      <td>32.087912</td>\n",
       "      <td>10.019819</td>\n",
       "      <td>ses</td>\n",
       "    </tr>\n",
       "    <tr>\n",
       "      <th>1</th>\n",
       "      <td>1</td>\n",
       "      <td>180</td>\n",
       "      <td>458</td>\n",
       "      <td>39.301310</td>\n",
       "      <td>10.085884</td>\n",
       "      <td>ses</td>\n",
       "    </tr>\n",
       "    <tr>\n",
       "      <th>2</th>\n",
       "      <td>2</td>\n",
       "      <td>117</td>\n",
       "      <td>451</td>\n",
       "      <td>25.942350</td>\n",
       "      <td>9.931733</td>\n",
       "      <td>ses</td>\n",
       "    </tr>\n",
       "    <tr>\n",
       "      <th>3</th>\n",
       "      <td>3</td>\n",
       "      <td>105</td>\n",
       "      <td>455</td>\n",
       "      <td>23.076923</td>\n",
       "      <td>10.019819</td>\n",
       "      <td>ses</td>\n",
       "    </tr>\n",
       "    <tr>\n",
       "      <th>4</th>\n",
       "      <td>4</td>\n",
       "      <td>94</td>\n",
       "      <td>472</td>\n",
       "      <td>19.915254</td>\n",
       "      <td>10.394186</td>\n",
       "      <td>ses</td>\n",
       "    </tr>\n",
       "    <tr>\n",
       "      <th>5</th>\n",
       "      <td>5</td>\n",
       "      <td>123</td>\n",
       "      <td>521</td>\n",
       "      <td>23.608445</td>\n",
       "      <td>11.473244</td>\n",
       "      <td>ses</td>\n",
       "    </tr>\n",
       "    <tr>\n",
       "      <th>6</th>\n",
       "      <td>6</td>\n",
       "      <td>67</td>\n",
       "      <td>369</td>\n",
       "      <td>18.157182</td>\n",
       "      <td>8.125963</td>\n",
       "      <td>ses</td>\n",
       "    </tr>\n",
       "    <tr>\n",
       "      <th>7</th>\n",
       "      <td>7</td>\n",
       "      <td>82</td>\n",
       "      <td>453</td>\n",
       "      <td>18.101545</td>\n",
       "      <td>9.975776</td>\n",
       "      <td>ses</td>\n",
       "    </tr>\n",
       "    <tr>\n",
       "      <th>8</th>\n",
       "      <td>8</td>\n",
       "      <td>66</td>\n",
       "      <td>462</td>\n",
       "      <td>14.285714</td>\n",
       "      <td>10.173970</td>\n",
       "      <td>ses</td>\n",
       "    </tr>\n",
       "    <tr>\n",
       "      <th>9</th>\n",
       "      <td>9</td>\n",
       "      <td>67</td>\n",
       "      <td>445</td>\n",
       "      <td>15.056180</td>\n",
       "      <td>9.799604</td>\n",
       "      <td>ses</td>\n",
       "    </tr>\n",
       "    <tr>\n",
       "      <th>0</th>\n",
       "      <td>0</td>\n",
       "      <td>80</td>\n",
       "      <td>515</td>\n",
       "      <td>15.533981</td>\n",
       "      <td>11.341114</td>\n",
       "      <td>sbp</td>\n",
       "    </tr>\n",
       "    <tr>\n",
       "      <th>1</th>\n",
       "      <td>1</td>\n",
       "      <td>59</td>\n",
       "      <td>398</td>\n",
       "      <td>14.824121</td>\n",
       "      <td>8.764589</td>\n",
       "      <td>sbp</td>\n",
       "    </tr>\n",
       "    <tr>\n",
       "      <th>2</th>\n",
       "      <td>2</td>\n",
       "      <td>84</td>\n",
       "      <td>507</td>\n",
       "      <td>16.568047</td>\n",
       "      <td>11.164942</td>\n",
       "      <td>sbp</td>\n",
       "    </tr>\n",
       "    <tr>\n",
       "      <th>3</th>\n",
       "      <td>3</td>\n",
       "      <td>76</td>\n",
       "      <td>472</td>\n",
       "      <td>16.101695</td>\n",
       "      <td>10.394186</td>\n",
       "      <td>sbp</td>\n",
       "    </tr>\n",
       "    <tr>\n",
       "      <th>4</th>\n",
       "      <td>4</td>\n",
       "      <td>81</td>\n",
       "      <td>415</td>\n",
       "      <td>19.518072</td>\n",
       "      <td>9.138956</td>\n",
       "      <td>sbp</td>\n",
       "    </tr>\n",
       "    <tr>\n",
       "      <th>5</th>\n",
       "      <td>5</td>\n",
       "      <td>135</td>\n",
       "      <td>435</td>\n",
       "      <td>31.034483</td>\n",
       "      <td>9.579388</td>\n",
       "      <td>sbp</td>\n",
       "    </tr>\n",
       "    <tr>\n",
       "      <th>6</th>\n",
       "      <td>6</td>\n",
       "      <td>105</td>\n",
       "      <td>488</td>\n",
       "      <td>21.516393</td>\n",
       "      <td>10.746532</td>\n",
       "      <td>sbp</td>\n",
       "    </tr>\n",
       "    <tr>\n",
       "      <th>7</th>\n",
       "      <td>7</td>\n",
       "      <td>118</td>\n",
       "      <td>461</td>\n",
       "      <td>25.596529</td>\n",
       "      <td>10.151949</td>\n",
       "      <td>sbp</td>\n",
       "    </tr>\n",
       "    <tr>\n",
       "      <th>8</th>\n",
       "      <td>8</td>\n",
       "      <td>130</td>\n",
       "      <td>426</td>\n",
       "      <td>30.516432</td>\n",
       "      <td>9.381194</td>\n",
       "      <td>sbp</td>\n",
       "    </tr>\n",
       "    <tr>\n",
       "      <th>9</th>\n",
       "      <td>9</td>\n",
       "      <td>179</td>\n",
       "      <td>424</td>\n",
       "      <td>42.216981</td>\n",
       "      <td>9.337150</td>\n",
       "      <td>sbp</td>\n",
       "    </tr>\n",
       "    <tr>\n",
       "      <th>0</th>\n",
       "      <td>0</td>\n",
       "      <td>37</td>\n",
       "      <td>461</td>\n",
       "      <td>8.026030</td>\n",
       "      <td>10.151949</td>\n",
       "      <td>age</td>\n",
       "    </tr>\n",
       "    <tr>\n",
       "      <th>1</th>\n",
       "      <td>1</td>\n",
       "      <td>69</td>\n",
       "      <td>449</td>\n",
       "      <td>15.367483</td>\n",
       "      <td>9.887690</td>\n",
       "      <td>age</td>\n",
       "    </tr>\n",
       "    <tr>\n",
       "      <th>2</th>\n",
       "      <td>2</td>\n",
       "      <td>72</td>\n",
       "      <td>465</td>\n",
       "      <td>15.483871</td>\n",
       "      <td>10.240035</td>\n",
       "      <td>age</td>\n",
       "    </tr>\n",
       "    <tr>\n",
       "      <th>3</th>\n",
       "      <td>3</td>\n",
       "      <td>77</td>\n",
       "      <td>442</td>\n",
       "      <td>17.420814</td>\n",
       "      <td>9.733539</td>\n",
       "      <td>age</td>\n",
       "    </tr>\n",
       "    <tr>\n",
       "      <th>4</th>\n",
       "      <td>4</td>\n",
       "      <td>85</td>\n",
       "      <td>454</td>\n",
       "      <td>18.722467</td>\n",
       "      <td>9.997798</td>\n",
       "      <td>age</td>\n",
       "    </tr>\n",
       "    <tr>\n",
       "      <th>5</th>\n",
       "      <td>5</td>\n",
       "      <td>103</td>\n",
       "      <td>463</td>\n",
       "      <td>22.246220</td>\n",
       "      <td>10.195992</td>\n",
       "      <td>age</td>\n",
       "    </tr>\n",
       "    <tr>\n",
       "      <th>6</th>\n",
       "      <td>6</td>\n",
       "      <td>132</td>\n",
       "      <td>465</td>\n",
       "      <td>28.387097</td>\n",
       "      <td>10.240035</td>\n",
       "      <td>age</td>\n",
       "    </tr>\n",
       "    <tr>\n",
       "      <th>7</th>\n",
       "      <td>7</td>\n",
       "      <td>127</td>\n",
       "      <td>439</td>\n",
       "      <td>28.929385</td>\n",
       "      <td>9.667474</td>\n",
       "      <td>age</td>\n",
       "    </tr>\n",
       "    <tr>\n",
       "      <th>8</th>\n",
       "      <td>8</td>\n",
       "      <td>173</td>\n",
       "      <td>462</td>\n",
       "      <td>37.445887</td>\n",
       "      <td>10.173970</td>\n",
       "      <td>age</td>\n",
       "    </tr>\n",
       "    <tr>\n",
       "      <th>9</th>\n",
       "      <td>9</td>\n",
       "      <td>172</td>\n",
       "      <td>441</td>\n",
       "      <td>39.002268</td>\n",
       "      <td>9.711517</td>\n",
       "      <td>age</td>\n",
       "    </tr>\n",
       "    <tr>\n",
       "      <th>...</th>\n",
       "      <td>...</td>\n",
       "      <td>...</td>\n",
       "      <td>...</td>\n",
       "      <td>...</td>\n",
       "      <td>...</td>\n",
       "      <td>...</td>\n",
       "    </tr>\n",
       "    <tr>\n",
       "      <th>0</th>\n",
       "      <td>0</td>\n",
       "      <td>131</td>\n",
       "      <td>465</td>\n",
       "      <td>28.172043</td>\n",
       "      <td>10.240035</td>\n",
       "      <td>chol</td>\n",
       "    </tr>\n",
       "    <tr>\n",
       "      <th>1</th>\n",
       "      <td>1</td>\n",
       "      <td>102</td>\n",
       "      <td>474</td>\n",
       "      <td>21.518987</td>\n",
       "      <td>10.438229</td>\n",
       "      <td>chol</td>\n",
       "    </tr>\n",
       "    <tr>\n",
       "      <th>2</th>\n",
       "      <td>2</td>\n",
       "      <td>89</td>\n",
       "      <td>425</td>\n",
       "      <td>20.941176</td>\n",
       "      <td>9.359172</td>\n",
       "      <td>chol</td>\n",
       "    </tr>\n",
       "    <tr>\n",
       "      <th>3</th>\n",
       "      <td>3</td>\n",
       "      <td>92</td>\n",
       "      <td>457</td>\n",
       "      <td>20.131291</td>\n",
       "      <td>10.063863</td>\n",
       "      <td>chol</td>\n",
       "    </tr>\n",
       "    <tr>\n",
       "      <th>4</th>\n",
       "      <td>4</td>\n",
       "      <td>224</td>\n",
       "      <td>814</td>\n",
       "      <td>27.518428</td>\n",
       "      <td>17.925567</td>\n",
       "      <td>chol</td>\n",
       "    </tr>\n",
       "    <tr>\n",
       "      <th>5</th>\n",
       "      <td>5</td>\n",
       "      <td>18</td>\n",
       "      <td>90</td>\n",
       "      <td>20.000000</td>\n",
       "      <td>1.981942</td>\n",
       "      <td>chol</td>\n",
       "    </tr>\n",
       "    <tr>\n",
       "      <th>6</th>\n",
       "      <td>6</td>\n",
       "      <td>88</td>\n",
       "      <td>455</td>\n",
       "      <td>19.340659</td>\n",
       "      <td>10.019819</td>\n",
       "      <td>chol</td>\n",
       "    </tr>\n",
       "    <tr>\n",
       "      <th>7</th>\n",
       "      <td>7</td>\n",
       "      <td>93</td>\n",
       "      <td>457</td>\n",
       "      <td>20.350109</td>\n",
       "      <td>10.063863</td>\n",
       "      <td>chol</td>\n",
       "    </tr>\n",
       "    <tr>\n",
       "      <th>8</th>\n",
       "      <td>8</td>\n",
       "      <td>100</td>\n",
       "      <td>450</td>\n",
       "      <td>22.222222</td>\n",
       "      <td>9.909712</td>\n",
       "      <td>chol</td>\n",
       "    </tr>\n",
       "    <tr>\n",
       "      <th>9</th>\n",
       "      <td>9</td>\n",
       "      <td>110</td>\n",
       "      <td>454</td>\n",
       "      <td>24.229075</td>\n",
       "      <td>9.997798</td>\n",
       "      <td>chol</td>\n",
       "    </tr>\n",
       "    <tr>\n",
       "      <th>0</th>\n",
       "      <td>0</td>\n",
       "      <td>104</td>\n",
       "      <td>502</td>\n",
       "      <td>20.717131</td>\n",
       "      <td>11.054834</td>\n",
       "      <td>hba1c</td>\n",
       "    </tr>\n",
       "    <tr>\n",
       "      <th>1</th>\n",
       "      <td>1</td>\n",
       "      <td>67</td>\n",
       "      <td>424</td>\n",
       "      <td>15.801887</td>\n",
       "      <td>9.337150</td>\n",
       "      <td>hba1c</td>\n",
       "    </tr>\n",
       "    <tr>\n",
       "      <th>2</th>\n",
       "      <td>2</td>\n",
       "      <td>97</td>\n",
       "      <td>544</td>\n",
       "      <td>17.830882</td>\n",
       "      <td>11.979740</td>\n",
       "      <td>hba1c</td>\n",
       "    </tr>\n",
       "    <tr>\n",
       "      <th>3</th>\n",
       "      <td>3</td>\n",
       "      <td>112</td>\n",
       "      <td>601</td>\n",
       "      <td>18.635607</td>\n",
       "      <td>13.234970</td>\n",
       "      <td>hba1c</td>\n",
       "    </tr>\n",
       "    <tr>\n",
       "      <th>4</th>\n",
       "      <td>4</td>\n",
       "      <td>61</td>\n",
       "      <td>308</td>\n",
       "      <td>19.805195</td>\n",
       "      <td>6.782647</td>\n",
       "      <td>hba1c</td>\n",
       "    </tr>\n",
       "    <tr>\n",
       "      <th>5</th>\n",
       "      <td>5</td>\n",
       "      <td>87</td>\n",
       "      <td>448</td>\n",
       "      <td>19.419643</td>\n",
       "      <td>9.865668</td>\n",
       "      <td>hba1c</td>\n",
       "    </tr>\n",
       "    <tr>\n",
       "      <th>6</th>\n",
       "      <td>6</td>\n",
       "      <td>151</td>\n",
       "      <td>521</td>\n",
       "      <td>28.982726</td>\n",
       "      <td>11.473244</td>\n",
       "      <td>hba1c</td>\n",
       "    </tr>\n",
       "    <tr>\n",
       "      <th>7</th>\n",
       "      <td>7</td>\n",
       "      <td>69</td>\n",
       "      <td>314</td>\n",
       "      <td>21.974522</td>\n",
       "      <td>6.914776</td>\n",
       "      <td>hba1c</td>\n",
       "    </tr>\n",
       "    <tr>\n",
       "      <th>8</th>\n",
       "      <td>8</td>\n",
       "      <td>125</td>\n",
       "      <td>445</td>\n",
       "      <td>28.089888</td>\n",
       "      <td>9.799604</td>\n",
       "      <td>hba1c</td>\n",
       "    </tr>\n",
       "    <tr>\n",
       "      <th>9</th>\n",
       "      <td>9</td>\n",
       "      <td>174</td>\n",
       "      <td>434</td>\n",
       "      <td>40.092166</td>\n",
       "      <td>9.557366</td>\n",
       "      <td>hba1c</td>\n",
       "    </tr>\n",
       "    <tr>\n",
       "      <th>0</th>\n",
       "      <td>0</td>\n",
       "      <td>89</td>\n",
       "      <td>476</td>\n",
       "      <td>18.697479</td>\n",
       "      <td>10.482273</td>\n",
       "      <td>trig</td>\n",
       "    </tr>\n",
       "    <tr>\n",
       "      <th>1</th>\n",
       "      <td>1</td>\n",
       "      <td>95</td>\n",
       "      <td>457</td>\n",
       "      <td>20.787746</td>\n",
       "      <td>10.063863</td>\n",
       "      <td>trig</td>\n",
       "    </tr>\n",
       "    <tr>\n",
       "      <th>2</th>\n",
       "      <td>2</td>\n",
       "      <td>90</td>\n",
       "      <td>435</td>\n",
       "      <td>20.689655</td>\n",
       "      <td>9.579388</td>\n",
       "      <td>trig</td>\n",
       "    </tr>\n",
       "    <tr>\n",
       "      <th>3</th>\n",
       "      <td>3</td>\n",
       "      <td>99</td>\n",
       "      <td>463</td>\n",
       "      <td>21.382289</td>\n",
       "      <td>10.195992</td>\n",
       "      <td>trig</td>\n",
       "    </tr>\n",
       "    <tr>\n",
       "      <th>4</th>\n",
       "      <td>4</td>\n",
       "      <td>104</td>\n",
       "      <td>463</td>\n",
       "      <td>22.462203</td>\n",
       "      <td>10.195992</td>\n",
       "      <td>trig</td>\n",
       "    </tr>\n",
       "    <tr>\n",
       "      <th>5</th>\n",
       "      <td>5</td>\n",
       "      <td>240</td>\n",
       "      <td>867</td>\n",
       "      <td>27.681661</td>\n",
       "      <td>19.092711</td>\n",
       "      <td>trig</td>\n",
       "    </tr>\n",
       "    <tr>\n",
       "      <th>6</th>\n",
       "      <td>6</td>\n",
       "      <td>2</td>\n",
       "      <td>19</td>\n",
       "      <td>10.526316</td>\n",
       "      <td>0.418410</td>\n",
       "      <td>trig</td>\n",
       "    </tr>\n",
       "    <tr>\n",
       "      <th>7</th>\n",
       "      <td>7</td>\n",
       "      <td>98</td>\n",
       "      <td>454</td>\n",
       "      <td>21.585903</td>\n",
       "      <td>9.997798</td>\n",
       "      <td>trig</td>\n",
       "    </tr>\n",
       "    <tr>\n",
       "      <th>8</th>\n",
       "      <td>8</td>\n",
       "      <td>105</td>\n",
       "      <td>453</td>\n",
       "      <td>23.178808</td>\n",
       "      <td>9.975776</td>\n",
       "      <td>trig</td>\n",
       "    </tr>\n",
       "    <tr>\n",
       "      <th>9</th>\n",
       "      <td>9</td>\n",
       "      <td>125</td>\n",
       "      <td>454</td>\n",
       "      <td>27.533040</td>\n",
       "      <td>9.997798</td>\n",
       "      <td>trig</td>\n",
       "    </tr>\n",
       "  </tbody>\n",
       "</table>\n",
       "<p>99 rows × 6 columns</p>\n",
       "</div>"
      ],
      "text/plain": [
       "    levels  deaths  population  death_rate  population_dist  field\n",
       "0        0     146         455   32.087912        10.019819    ses\n",
       "1        1     180         458   39.301310        10.085884    ses\n",
       "2        2     117         451   25.942350         9.931733    ses\n",
       "3        3     105         455   23.076923        10.019819    ses\n",
       "4        4      94         472   19.915254        10.394186    ses\n",
       "5        5     123         521   23.608445        11.473244    ses\n",
       "6        6      67         369   18.157182         8.125963    ses\n",
       "7        7      82         453   18.101545         9.975776    ses\n",
       "8        8      66         462   14.285714        10.173970    ses\n",
       "9        9      67         445   15.056180         9.799604    ses\n",
       "0        0      80         515   15.533981        11.341114    sbp\n",
       "1        1      59         398   14.824121         8.764589    sbp\n",
       "2        2      84         507   16.568047        11.164942    sbp\n",
       "3        3      76         472   16.101695        10.394186    sbp\n",
       "4        4      81         415   19.518072         9.138956    sbp\n",
       "5        5     135         435   31.034483         9.579388    sbp\n",
       "6        6     105         488   21.516393        10.746532    sbp\n",
       "7        7     118         461   25.596529        10.151949    sbp\n",
       "8        8     130         426   30.516432         9.381194    sbp\n",
       "9        9     179         424   42.216981         9.337150    sbp\n",
       "0        0      37         461    8.026030        10.151949    age\n",
       "1        1      69         449   15.367483         9.887690    age\n",
       "2        2      72         465   15.483871        10.240035    age\n",
       "3        3      77         442   17.420814         9.733539    age\n",
       "4        4      85         454   18.722467         9.997798    age\n",
       "5        5     103         463   22.246220        10.195992    age\n",
       "6        6     132         465   28.387097        10.240035    age\n",
       "7        7     127         439   28.929385         9.667474    age\n",
       "8        8     173         462   37.445887        10.173970    age\n",
       "9        9     172         441   39.002268         9.711517    age\n",
       "..     ...     ...         ...         ...              ...    ...\n",
       "0        0     131         465   28.172043        10.240035   chol\n",
       "1        1     102         474   21.518987        10.438229   chol\n",
       "2        2      89         425   20.941176         9.359172   chol\n",
       "3        3      92         457   20.131291        10.063863   chol\n",
       "4        4     224         814   27.518428        17.925567   chol\n",
       "5        5      18          90   20.000000         1.981942   chol\n",
       "6        6      88         455   19.340659        10.019819   chol\n",
       "7        7      93         457   20.350109        10.063863   chol\n",
       "8        8     100         450   22.222222         9.909712   chol\n",
       "9        9     110         454   24.229075         9.997798   chol\n",
       "0        0     104         502   20.717131        11.054834  hba1c\n",
       "1        1      67         424   15.801887         9.337150  hba1c\n",
       "2        2      97         544   17.830882        11.979740  hba1c\n",
       "3        3     112         601   18.635607        13.234970  hba1c\n",
       "4        4      61         308   19.805195         6.782647  hba1c\n",
       "5        5      87         448   19.419643         9.865668  hba1c\n",
       "6        6     151         521   28.982726        11.473244  hba1c\n",
       "7        7      69         314   21.974522         6.914776  hba1c\n",
       "8        8     125         445   28.089888         9.799604  hba1c\n",
       "9        9     174         434   40.092166         9.557366  hba1c\n",
       "0        0      89         476   18.697479        10.482273   trig\n",
       "1        1      95         457   20.787746        10.063863   trig\n",
       "2        2      90         435   20.689655         9.579388   trig\n",
       "3        3      99         463   21.382289        10.195992   trig\n",
       "4        4     104         463   22.462203        10.195992   trig\n",
       "5        5     240         867   27.681661        19.092711   trig\n",
       "6        6       2          19   10.526316         0.418410   trig\n",
       "7        7      98         454   21.585903         9.997798   trig\n",
       "8        8     105         453   23.178808         9.975776   trig\n",
       "9        9     125         454   27.533040         9.997798   trig\n",
       "\n",
       "[99 rows x 6 columns]"
      ]
     },
     "execution_count": 52,
     "metadata": {},
     "output_type": "execute_result"
    }
   ],
   "source": [
    "er_data"
   ]
  },
  {
   "cell_type": "markdown",
   "metadata": {},
   "source": [
    "Plot death rates using numeric columns"
   ]
  },
  {
   "cell_type": "code",
   "execution_count": 53,
   "metadata": {},
   "outputs": [
    {
     "data": {
      "application/vnd.plotly.v1+json": {
       "config": {
        "linkText": "Export to plot.ly",
        "plotlyServerURL": "https://plot.ly",
        "showLink": false
       },
       "data": [
        {
         "type": "bar",
         "uid": "6dcd25bd-7498-4e3b-aff4-643838d0d90c",
         "x": [
          0,
          1,
          2,
          3,
          4,
          5,
          6,
          7,
          8,
          9
         ],
         "y": [
          10.019819423034575,
          10.085884166483153,
          9.931733098436467,
          10.019819423034575,
          10.394186302576525,
          11.473243778903326,
          8.125963444175293,
          9.97577626073552,
          10.17397049108126,
          9.79960361153931
         ]
        },
        {
         "type": "scatter",
         "uid": "4014f310-00c5-4e6e-8a55-2b8b500bd113",
         "x": [
          0,
          1,
          2,
          3,
          4,
          5,
          6,
          7,
          8,
          9
         ],
         "y": [
          32.08791208791209,
          39.301310043668124,
          25.942350332594234,
          23.076923076923077,
          19.915254237288135,
          23.608445297504797,
          18.15718157181572,
          18.101545253863133,
          14.285714285714286,
          15.0561797752809
         ],
         "yaxis": "y2"
        }
       ],
       "layout": {
        "title": {
         "text": "Double Y axis - Ses"
        },
        "yaxis": {
         "title": {
          "text": "Population Distibution"
         }
        },
        "yaxis2": {
         "overlaying": "y",
         "side": "right",
         "tickfont": {
          "color": "rgb(148, 103, 189)"
         },
         "title": {
          "font": {
           "color": "rgb(148, 103, 189)"
          },
          "text": "Death Rate"
         }
        }
       }
      },
      "text/html": [
       "<div id=\"3b8a6949-d76f-4637-a9ff-8b289192c895\" style=\"height: 525px; width: 100%;\" class=\"plotly-graph-div\"></div><script type=\"text/javascript\">require([\"plotly\"], function(Plotly) { window.PLOTLYENV=window.PLOTLYENV || {};window.PLOTLYENV.BASE_URL=\"https://plot.ly\";\n",
       "if (document.getElementById(\"3b8a6949-d76f-4637-a9ff-8b289192c895\")) {\n",
       "    Plotly.newPlot(\"3b8a6949-d76f-4637-a9ff-8b289192c895\", [{\"x\": [0, 1, 2, 3, 4, 5, 6, 7, 8, 9], \"y\": [10.019819423034575, 10.085884166483153, 9.931733098436467, 10.019819423034575, 10.394186302576525, 11.473243778903326, 8.125963444175293, 9.97577626073552, 10.17397049108126, 9.79960361153931], \"type\": \"bar\", \"uid\": \"6dcd25bd-7498-4e3b-aff4-643838d0d90c\"}, {\"x\": [0, 1, 2, 3, 4, 5, 6, 7, 8, 9], \"y\": [32.08791208791209, 39.301310043668124, 25.942350332594234, 23.076923076923077, 19.915254237288135, 23.608445297504797, 18.15718157181572, 18.101545253863133, 14.285714285714286, 15.0561797752809], \"yaxis\": \"y2\", \"type\": \"scatter\", \"uid\": \"4014f310-00c5-4e6e-8a55-2b8b500bd113\"}], {\"title\": {\"text\": \"Double Y axis - Ses\"}, \"yaxis\": {\"title\": {\"text\": \"Population Distibution\"}}, \"yaxis2\": {\"overlaying\": \"y\", \"side\": \"right\", \"tickfont\": {\"color\": \"rgb(148, 103, 189)\"}, \"title\": {\"font\": {\"color\": \"rgb(148, 103, 189)\"}, \"text\": \"Death Rate\"}}}, {\"showLink\": false, \"linkText\": \"Export to plot.ly\", \"plotlyServerURL\": \"https://plot.ly\"}); \n",
       "}\n",
       "});</script><script type=\"text/javascript\">window.addEventListener(\"resize\", function(){if (document.getElementById(\"3b8a6949-d76f-4637-a9ff-8b289192c895\")) {window._Plotly.Plots.resize(document.getElementById(\"3b8a6949-d76f-4637-a9ff-8b289192c895\"));};})</script>"
      ],
      "text/vnd.plotly.v1+html": [
       "<div id=\"3b8a6949-d76f-4637-a9ff-8b289192c895\" style=\"height: 525px; width: 100%;\" class=\"plotly-graph-div\"></div><script type=\"text/javascript\">require([\"plotly\"], function(Plotly) { window.PLOTLYENV=window.PLOTLYENV || {};window.PLOTLYENV.BASE_URL=\"https://plot.ly\";\n",
       "if (document.getElementById(\"3b8a6949-d76f-4637-a9ff-8b289192c895\")) {\n",
       "    Plotly.newPlot(\"3b8a6949-d76f-4637-a9ff-8b289192c895\", [{\"x\": [0, 1, 2, 3, 4, 5, 6, 7, 8, 9], \"y\": [10.019819423034575, 10.085884166483153, 9.931733098436467, 10.019819423034575, 10.394186302576525, 11.473243778903326, 8.125963444175293, 9.97577626073552, 10.17397049108126, 9.79960361153931], \"type\": \"bar\", \"uid\": \"6dcd25bd-7498-4e3b-aff4-643838d0d90c\"}, {\"x\": [0, 1, 2, 3, 4, 5, 6, 7, 8, 9], \"y\": [32.08791208791209, 39.301310043668124, 25.942350332594234, 23.076923076923077, 19.915254237288135, 23.608445297504797, 18.15718157181572, 18.101545253863133, 14.285714285714286, 15.0561797752809], \"yaxis\": \"y2\", \"type\": \"scatter\", \"uid\": \"4014f310-00c5-4e6e-8a55-2b8b500bd113\"}], {\"title\": {\"text\": \"Double Y axis - Ses\"}, \"yaxis\": {\"title\": {\"text\": \"Population Distibution\"}}, \"yaxis2\": {\"overlaying\": \"y\", \"side\": \"right\", \"tickfont\": {\"color\": \"rgb(148, 103, 189)\"}, \"title\": {\"font\": {\"color\": \"rgb(148, 103, 189)\"}, \"text\": \"Death Rate\"}}}, {\"showLink\": false, \"linkText\": \"Export to plot.ly\", \"plotlyServerURL\": \"https://plot.ly\"}); \n",
       "}\n",
       "});</script><script type=\"text/javascript\">window.addEventListener(\"resize\", function(){if (document.getElementById(\"3b8a6949-d76f-4637-a9ff-8b289192c895\")) {window._Plotly.Plots.resize(document.getElementById(\"3b8a6949-d76f-4637-a9ff-8b289192c895\"));};})</script>"
      ]
     },
     "metadata": {},
     "output_type": "display_data"
    },
    {
     "data": {
      "application/vnd.plotly.v1+json": {
       "config": {
        "linkText": "Export to plot.ly",
        "plotlyServerURL": "https://plot.ly",
        "showLink": false
       },
       "data": [
        {
         "type": "bar",
         "uid": "810487d6-1b4e-4762-b6b6-52ba338d2d71",
         "x": [
          0,
          1,
          2,
          3,
          4,
          5,
          6,
          7,
          8,
          9
         ],
         "y": [
          11.341114292006166,
          8.764589297511561,
          11.164941642809953,
          10.394186302576525,
          9.138956177053512,
          9.579387800044044,
          10.74653160096895,
          10.151948909931733,
          9.381193569698304,
          9.337150407399252
         ]
        },
        {
         "type": "scatter",
         "uid": "20b36876-c520-43ce-9192-8d8f09c78b10",
         "x": [
          0,
          1,
          2,
          3,
          4,
          5,
          6,
          7,
          8,
          9
         ],
         "y": [
          15.533980582524272,
          14.824120603015075,
          16.568047337278106,
          16.10169491525424,
          19.518072289156628,
          31.03448275862069,
          21.516393442622952,
          25.59652928416486,
          30.516431924882628,
          42.216981132075475
         ],
         "yaxis": "y2"
        }
       ],
       "layout": {
        "title": {
         "text": "Double Y axis - Sbp"
        },
        "yaxis": {
         "title": {
          "text": "Population Distibution"
         }
        },
        "yaxis2": {
         "overlaying": "y",
         "side": "right",
         "tickfont": {
          "color": "rgb(148, 103, 189)"
         },
         "title": {
          "font": {
           "color": "rgb(148, 103, 189)"
          },
          "text": "Death Rate"
         }
        }
       }
      },
      "text/html": [
       "<div id=\"3f1350fa-c819-4f76-ba20-cd5b294f7a83\" style=\"height: 525px; width: 100%;\" class=\"plotly-graph-div\"></div><script type=\"text/javascript\">require([\"plotly\"], function(Plotly) { window.PLOTLYENV=window.PLOTLYENV || {};window.PLOTLYENV.BASE_URL=\"https://plot.ly\";\n",
       "if (document.getElementById(\"3f1350fa-c819-4f76-ba20-cd5b294f7a83\")) {\n",
       "    Plotly.newPlot(\"3f1350fa-c819-4f76-ba20-cd5b294f7a83\", [{\"x\": [0, 1, 2, 3, 4, 5, 6, 7, 8, 9], \"y\": [11.341114292006166, 8.764589297511561, 11.164941642809953, 10.394186302576525, 9.138956177053512, 9.579387800044044, 10.74653160096895, 10.151948909931733, 9.381193569698304, 9.337150407399252], \"type\": \"bar\", \"uid\": \"810487d6-1b4e-4762-b6b6-52ba338d2d71\"}, {\"x\": [0, 1, 2, 3, 4, 5, 6, 7, 8, 9], \"y\": [15.533980582524272, 14.824120603015075, 16.568047337278106, 16.10169491525424, 19.518072289156628, 31.03448275862069, 21.516393442622952, 25.59652928416486, 30.516431924882628, 42.216981132075475], \"yaxis\": \"y2\", \"type\": \"scatter\", \"uid\": \"20b36876-c520-43ce-9192-8d8f09c78b10\"}], {\"title\": {\"text\": \"Double Y axis - Sbp\"}, \"yaxis\": {\"title\": {\"text\": \"Population Distibution\"}}, \"yaxis2\": {\"overlaying\": \"y\", \"side\": \"right\", \"tickfont\": {\"color\": \"rgb(148, 103, 189)\"}, \"title\": {\"font\": {\"color\": \"rgb(148, 103, 189)\"}, \"text\": \"Death Rate\"}}}, {\"showLink\": false, \"linkText\": \"Export to plot.ly\", \"plotlyServerURL\": \"https://plot.ly\"}); \n",
       "}\n",
       "});</script><script type=\"text/javascript\">window.addEventListener(\"resize\", function(){if (document.getElementById(\"3f1350fa-c819-4f76-ba20-cd5b294f7a83\")) {window._Plotly.Plots.resize(document.getElementById(\"3f1350fa-c819-4f76-ba20-cd5b294f7a83\"));};})</script>"
      ],
      "text/vnd.plotly.v1+html": [
       "<div id=\"3f1350fa-c819-4f76-ba20-cd5b294f7a83\" style=\"height: 525px; width: 100%;\" class=\"plotly-graph-div\"></div><script type=\"text/javascript\">require([\"plotly\"], function(Plotly) { window.PLOTLYENV=window.PLOTLYENV || {};window.PLOTLYENV.BASE_URL=\"https://plot.ly\";\n",
       "if (document.getElementById(\"3f1350fa-c819-4f76-ba20-cd5b294f7a83\")) {\n",
       "    Plotly.newPlot(\"3f1350fa-c819-4f76-ba20-cd5b294f7a83\", [{\"x\": [0, 1, 2, 3, 4, 5, 6, 7, 8, 9], \"y\": [11.341114292006166, 8.764589297511561, 11.164941642809953, 10.394186302576525, 9.138956177053512, 9.579387800044044, 10.74653160096895, 10.151948909931733, 9.381193569698304, 9.337150407399252], \"type\": \"bar\", \"uid\": \"810487d6-1b4e-4762-b6b6-52ba338d2d71\"}, {\"x\": [0, 1, 2, 3, 4, 5, 6, 7, 8, 9], \"y\": [15.533980582524272, 14.824120603015075, 16.568047337278106, 16.10169491525424, 19.518072289156628, 31.03448275862069, 21.516393442622952, 25.59652928416486, 30.516431924882628, 42.216981132075475], \"yaxis\": \"y2\", \"type\": \"scatter\", \"uid\": \"20b36876-c520-43ce-9192-8d8f09c78b10\"}], {\"title\": {\"text\": \"Double Y axis - Sbp\"}, \"yaxis\": {\"title\": {\"text\": \"Population Distibution\"}}, \"yaxis2\": {\"overlaying\": \"y\", \"side\": \"right\", \"tickfont\": {\"color\": \"rgb(148, 103, 189)\"}, \"title\": {\"font\": {\"color\": \"rgb(148, 103, 189)\"}, \"text\": \"Death Rate\"}}}, {\"showLink\": false, \"linkText\": \"Export to plot.ly\", \"plotlyServerURL\": \"https://plot.ly\"}); \n",
       "}\n",
       "});</script><script type=\"text/javascript\">window.addEventListener(\"resize\", function(){if (document.getElementById(\"3f1350fa-c819-4f76-ba20-cd5b294f7a83\")) {window._Plotly.Plots.resize(document.getElementById(\"3f1350fa-c819-4f76-ba20-cd5b294f7a83\"));};})</script>"
      ]
     },
     "metadata": {},
     "output_type": "display_data"
    },
    {
     "data": {
      "application/vnd.plotly.v1+json": {
       "config": {
        "linkText": "Export to plot.ly",
        "plotlyServerURL": "https://plot.ly",
        "showLink": false
       },
       "data": [
        {
         "type": "bar",
         "uid": "c0b2c7a1-fa47-41d1-b003-28c585ace568",
         "x": [
          0,
          1,
          2,
          3,
          4,
          5,
          6,
          7,
          8,
          9
         ],
         "y": [
          10.151948909931733,
          9.887689936137415,
          10.24003523452984,
          9.73353886809073,
          9.997797841885047,
          10.195992072230785,
          10.24003523452984,
          9.66747412464215,
          10.17397049108126,
          9.711517286941202
         ]
        },
        {
         "type": "scatter",
         "uid": "6a23e1a3-1fe1-44a5-a10d-2b66b91246c5",
         "x": [
          0,
          1,
          2,
          3,
          4,
          5,
          6,
          7,
          8,
          9
         ],
         "y": [
          8.026030368763557,
          15.367483296213809,
          15.483870967741936,
          17.420814479638008,
          18.722466960352424,
          22.24622030237581,
          28.387096774193548,
          28.929384965831435,
          37.44588744588744,
          39.002267573696145
         ],
         "yaxis": "y2"
        }
       ],
       "layout": {
        "title": {
         "text": "Double Y axis - Age"
        },
        "yaxis": {
         "title": {
          "text": "Population Distibution"
         }
        },
        "yaxis2": {
         "overlaying": "y",
         "side": "right",
         "tickfont": {
          "color": "rgb(148, 103, 189)"
         },
         "title": {
          "font": {
           "color": "rgb(148, 103, 189)"
          },
          "text": "Death Rate"
         }
        }
       }
      },
      "text/html": [
       "<div id=\"e1c26e5a-b2b5-45e6-8995-2537953577b1\" style=\"height: 525px; width: 100%;\" class=\"plotly-graph-div\"></div><script type=\"text/javascript\">require([\"plotly\"], function(Plotly) { window.PLOTLYENV=window.PLOTLYENV || {};window.PLOTLYENV.BASE_URL=\"https://plot.ly\";\n",
       "if (document.getElementById(\"e1c26e5a-b2b5-45e6-8995-2537953577b1\")) {\n",
       "    Plotly.newPlot(\"e1c26e5a-b2b5-45e6-8995-2537953577b1\", [{\"x\": [0, 1, 2, 3, 4, 5, 6, 7, 8, 9], \"y\": [10.151948909931733, 9.887689936137415, 10.24003523452984, 9.73353886809073, 9.997797841885047, 10.195992072230785, 10.24003523452984, 9.66747412464215, 10.17397049108126, 9.711517286941202], \"type\": \"bar\", \"uid\": \"c0b2c7a1-fa47-41d1-b003-28c585ace568\"}, {\"x\": [0, 1, 2, 3, 4, 5, 6, 7, 8, 9], \"y\": [8.026030368763557, 15.367483296213809, 15.483870967741936, 17.420814479638008, 18.722466960352424, 22.24622030237581, 28.387096774193548, 28.929384965831435, 37.44588744588744, 39.002267573696145], \"yaxis\": \"y2\", \"type\": \"scatter\", \"uid\": \"6a23e1a3-1fe1-44a5-a10d-2b66b91246c5\"}], {\"title\": {\"text\": \"Double Y axis - Age\"}, \"yaxis\": {\"title\": {\"text\": \"Population Distibution\"}}, \"yaxis2\": {\"overlaying\": \"y\", \"side\": \"right\", \"tickfont\": {\"color\": \"rgb(148, 103, 189)\"}, \"title\": {\"font\": {\"color\": \"rgb(148, 103, 189)\"}, \"text\": \"Death Rate\"}}}, {\"showLink\": false, \"linkText\": \"Export to plot.ly\", \"plotlyServerURL\": \"https://plot.ly\"}); \n",
       "}\n",
       "});</script><script type=\"text/javascript\">window.addEventListener(\"resize\", function(){if (document.getElementById(\"e1c26e5a-b2b5-45e6-8995-2537953577b1\")) {window._Plotly.Plots.resize(document.getElementById(\"e1c26e5a-b2b5-45e6-8995-2537953577b1\"));};})</script>"
      ],
      "text/vnd.plotly.v1+html": [
       "<div id=\"e1c26e5a-b2b5-45e6-8995-2537953577b1\" style=\"height: 525px; width: 100%;\" class=\"plotly-graph-div\"></div><script type=\"text/javascript\">require([\"plotly\"], function(Plotly) { window.PLOTLYENV=window.PLOTLYENV || {};window.PLOTLYENV.BASE_URL=\"https://plot.ly\";\n",
       "if (document.getElementById(\"e1c26e5a-b2b5-45e6-8995-2537953577b1\")) {\n",
       "    Plotly.newPlot(\"e1c26e5a-b2b5-45e6-8995-2537953577b1\", [{\"x\": [0, 1, 2, 3, 4, 5, 6, 7, 8, 9], \"y\": [10.151948909931733, 9.887689936137415, 10.24003523452984, 9.73353886809073, 9.997797841885047, 10.195992072230785, 10.24003523452984, 9.66747412464215, 10.17397049108126, 9.711517286941202], \"type\": \"bar\", \"uid\": \"c0b2c7a1-fa47-41d1-b003-28c585ace568\"}, {\"x\": [0, 1, 2, 3, 4, 5, 6, 7, 8, 9], \"y\": [8.026030368763557, 15.367483296213809, 15.483870967741936, 17.420814479638008, 18.722466960352424, 22.24622030237581, 28.387096774193548, 28.929384965831435, 37.44588744588744, 39.002267573696145], \"yaxis\": \"y2\", \"type\": \"scatter\", \"uid\": \"6a23e1a3-1fe1-44a5-a10d-2b66b91246c5\"}], {\"title\": {\"text\": \"Double Y axis - Age\"}, \"yaxis\": {\"title\": {\"text\": \"Population Distibution\"}}, \"yaxis2\": {\"overlaying\": \"y\", \"side\": \"right\", \"tickfont\": {\"color\": \"rgb(148, 103, 189)\"}, \"title\": {\"font\": {\"color\": \"rgb(148, 103, 189)\"}, \"text\": \"Death Rate\"}}}, {\"showLink\": false, \"linkText\": \"Export to plot.ly\", \"plotlyServerURL\": \"https://plot.ly\"}); \n",
       "}\n",
       "});</script><script type=\"text/javascript\">window.addEventListener(\"resize\", function(){if (document.getElementById(\"e1c26e5a-b2b5-45e6-8995-2537953577b1\")) {window._Plotly.Plots.resize(document.getElementById(\"e1c26e5a-b2b5-45e6-8995-2537953577b1\"));};})</script>"
      ]
     },
     "metadata": {},
     "output_type": "display_data"
    },
    {
     "data": {
      "application/vnd.plotly.v1+json": {
       "config": {
        "linkText": "Export to plot.ly",
        "plotlyServerURL": "https://plot.ly",
        "showLink": false
       },
       "data": [
        {
         "type": "bar",
         "uid": "b9773176-f33a-42c0-9219-419c4c9d553a",
         "x": [
          0,
          1,
          2,
          3,
          4,
          5,
          6,
          7,
          8,
          9
         ],
         "y": [
          11.429200616604271,
          11.319092710856639,
          10.24003523452984,
          8.32415767452103,
          17.198854877780224,
          3.721647214269985,
          10.526315789473685,
          8.654481391763928,
          9.46927989429641,
          9.116934595903986
         ]
        },
        {
         "type": "scatter",
         "uid": "4f3b5d07-56dc-4f44-88bf-899c22b225d2",
         "x": [
          0,
          1,
          2,
          3,
          4,
          5,
          6,
          7,
          8,
          9
         ],
         "y": [
          24.277456647398843,
          19.844357976653697,
          18.27956989247312,
          18.51851851851852,
          26.5044814340589,
          23.076923076923077,
          19.8744769874477,
          23.155216284987276,
          26.976744186046513,
          28.019323671497585
         ],
         "yaxis": "y2"
        }
       ],
       "layout": {
        "title": {
         "text": "Double Y axis - Dbp"
        },
        "yaxis": {
         "title": {
          "text": "Population Distibution"
         }
        },
        "yaxis2": {
         "overlaying": "y",
         "side": "right",
         "tickfont": {
          "color": "rgb(148, 103, 189)"
         },
         "title": {
          "font": {
           "color": "rgb(148, 103, 189)"
          },
          "text": "Death Rate"
         }
        }
       }
      },
      "text/html": [
       "<div id=\"9d4ace32-83cc-4440-9b91-c7063342337f\" style=\"height: 525px; width: 100%;\" class=\"plotly-graph-div\"></div><script type=\"text/javascript\">require([\"plotly\"], function(Plotly) { window.PLOTLYENV=window.PLOTLYENV || {};window.PLOTLYENV.BASE_URL=\"https://plot.ly\";\n",
       "if (document.getElementById(\"9d4ace32-83cc-4440-9b91-c7063342337f\")) {\n",
       "    Plotly.newPlot(\"9d4ace32-83cc-4440-9b91-c7063342337f\", [{\"x\": [0, 1, 2, 3, 4, 5, 6, 7, 8, 9], \"y\": [11.429200616604271, 11.319092710856639, 10.24003523452984, 8.32415767452103, 17.198854877780224, 3.721647214269985, 10.526315789473685, 8.654481391763928, 9.46927989429641, 9.116934595903986], \"type\": \"bar\", \"uid\": \"b9773176-f33a-42c0-9219-419c4c9d553a\"}, {\"x\": [0, 1, 2, 3, 4, 5, 6, 7, 8, 9], \"y\": [24.277456647398843, 19.844357976653697, 18.27956989247312, 18.51851851851852, 26.5044814340589, 23.076923076923077, 19.8744769874477, 23.155216284987276, 26.976744186046513, 28.019323671497585], \"yaxis\": \"y2\", \"type\": \"scatter\", \"uid\": \"4f3b5d07-56dc-4f44-88bf-899c22b225d2\"}], {\"title\": {\"text\": \"Double Y axis - Dbp\"}, \"yaxis\": {\"title\": {\"text\": \"Population Distibution\"}}, \"yaxis2\": {\"overlaying\": \"y\", \"side\": \"right\", \"tickfont\": {\"color\": \"rgb(148, 103, 189)\"}, \"title\": {\"font\": {\"color\": \"rgb(148, 103, 189)\"}, \"text\": \"Death Rate\"}}}, {\"showLink\": false, \"linkText\": \"Export to plot.ly\", \"plotlyServerURL\": \"https://plot.ly\"}); \n",
       "}\n",
       "});</script><script type=\"text/javascript\">window.addEventListener(\"resize\", function(){if (document.getElementById(\"9d4ace32-83cc-4440-9b91-c7063342337f\")) {window._Plotly.Plots.resize(document.getElementById(\"9d4ace32-83cc-4440-9b91-c7063342337f\"));};})</script>"
      ],
      "text/vnd.plotly.v1+html": [
       "<div id=\"9d4ace32-83cc-4440-9b91-c7063342337f\" style=\"height: 525px; width: 100%;\" class=\"plotly-graph-div\"></div><script type=\"text/javascript\">require([\"plotly\"], function(Plotly) { window.PLOTLYENV=window.PLOTLYENV || {};window.PLOTLYENV.BASE_URL=\"https://plot.ly\";\n",
       "if (document.getElementById(\"9d4ace32-83cc-4440-9b91-c7063342337f\")) {\n",
       "    Plotly.newPlot(\"9d4ace32-83cc-4440-9b91-c7063342337f\", [{\"x\": [0, 1, 2, 3, 4, 5, 6, 7, 8, 9], \"y\": [11.429200616604271, 11.319092710856639, 10.24003523452984, 8.32415767452103, 17.198854877780224, 3.721647214269985, 10.526315789473685, 8.654481391763928, 9.46927989429641, 9.116934595903986], \"type\": \"bar\", \"uid\": \"b9773176-f33a-42c0-9219-419c4c9d553a\"}, {\"x\": [0, 1, 2, 3, 4, 5, 6, 7, 8, 9], \"y\": [24.277456647398843, 19.844357976653697, 18.27956989247312, 18.51851851851852, 26.5044814340589, 23.076923076923077, 19.8744769874477, 23.155216284987276, 26.976744186046513, 28.019323671497585], \"yaxis\": \"y2\", \"type\": \"scatter\", \"uid\": \"4f3b5d07-56dc-4f44-88bf-899c22b225d2\"}], {\"title\": {\"text\": \"Double Y axis - Dbp\"}, \"yaxis\": {\"title\": {\"text\": \"Population Distibution\"}}, \"yaxis2\": {\"overlaying\": \"y\", \"side\": \"right\", \"tickfont\": {\"color\": \"rgb(148, 103, 189)\"}, \"title\": {\"font\": {\"color\": \"rgb(148, 103, 189)\"}, \"text\": \"Death Rate\"}}}, {\"showLink\": false, \"linkText\": \"Export to plot.ly\", \"plotlyServerURL\": \"https://plot.ly\"}); \n",
       "}\n",
       "});</script><script type=\"text/javascript\">window.addEventListener(\"resize\", function(){if (document.getElementById(\"9d4ace32-83cc-4440-9b91-c7063342337f\")) {window._Plotly.Plots.resize(document.getElementById(\"9d4ace32-83cc-4440-9b91-c7063342337f\"));};})</script>"
      ]
     },
     "metadata": {},
     "output_type": "display_data"
    },
    {
     "data": {
      "application/vnd.plotly.v1+json": {
       "config": {
        "linkText": "Export to plot.ly",
        "plotlyServerURL": "https://plot.ly",
        "showLink": false
       },
       "data": [
        {
         "type": "bar",
         "uid": "fd45035c-7fe1-4901-abbf-c31185877c29",
         "x": [
          0,
          1,
          2,
          3,
          4,
          5,
          6,
          7,
          8,
          9
         ],
         "y": [
          10.129927328782207,
          10.24003523452984,
          9.887689936137415,
          9.79960361153931,
          10.61440211407179,
          9.73353886809073,
          10.063862585333627,
          9.755560449240255,
          9.909711517286942,
          9.865668354987887
         ]
        },
        {
         "type": "scatter",
         "uid": "4585900e-0da9-4bba-be20-44980f4a3249",
         "x": [
          0,
          1,
          2,
          3,
          4,
          5,
          6,
          7,
          8,
          9
         ],
         "y": [
          31.08695652173913,
          21.0752688172043,
          17.817371937639198,
          20.89887640449438,
          19.70954356846473,
          29.41176470588235,
          22.319474835886215,
          16.93002257336343,
          24.88888888888889,
          26.5625
         ],
         "yaxis": "y2"
        }
       ],
       "layout": {
        "title": {
         "text": "Double Y axis - Bmi"
        },
        "yaxis": {
         "title": {
          "text": "Population Distibution"
         }
        },
        "yaxis2": {
         "overlaying": "y",
         "side": "right",
         "tickfont": {
          "color": "rgb(148, 103, 189)"
         },
         "title": {
          "font": {
           "color": "rgb(148, 103, 189)"
          },
          "text": "Death Rate"
         }
        }
       }
      },
      "text/html": [
       "<div id=\"f4220094-187a-49e1-a116-91df90acfa62\" style=\"height: 525px; width: 100%;\" class=\"plotly-graph-div\"></div><script type=\"text/javascript\">require([\"plotly\"], function(Plotly) { window.PLOTLYENV=window.PLOTLYENV || {};window.PLOTLYENV.BASE_URL=\"https://plot.ly\";\n",
       "if (document.getElementById(\"f4220094-187a-49e1-a116-91df90acfa62\")) {\n",
       "    Plotly.newPlot(\"f4220094-187a-49e1-a116-91df90acfa62\", [{\"x\": [0, 1, 2, 3, 4, 5, 6, 7, 8, 9], \"y\": [10.129927328782207, 10.24003523452984, 9.887689936137415, 9.79960361153931, 10.61440211407179, 9.73353886809073, 10.063862585333627, 9.755560449240255, 9.909711517286942, 9.865668354987887], \"type\": \"bar\", \"uid\": \"fd45035c-7fe1-4901-abbf-c31185877c29\"}, {\"x\": [0, 1, 2, 3, 4, 5, 6, 7, 8, 9], \"y\": [31.08695652173913, 21.0752688172043, 17.817371937639198, 20.89887640449438, 19.70954356846473, 29.41176470588235, 22.319474835886215, 16.93002257336343, 24.88888888888889, 26.5625], \"yaxis\": \"y2\", \"type\": \"scatter\", \"uid\": \"4585900e-0da9-4bba-be20-44980f4a3249\"}], {\"title\": {\"text\": \"Double Y axis - Bmi\"}, \"yaxis\": {\"title\": {\"text\": \"Population Distibution\"}}, \"yaxis2\": {\"overlaying\": \"y\", \"side\": \"right\", \"tickfont\": {\"color\": \"rgb(148, 103, 189)\"}, \"title\": {\"font\": {\"color\": \"rgb(148, 103, 189)\"}, \"text\": \"Death Rate\"}}}, {\"showLink\": false, \"linkText\": \"Export to plot.ly\", \"plotlyServerURL\": \"https://plot.ly\"}); \n",
       "}\n",
       "});</script><script type=\"text/javascript\">window.addEventListener(\"resize\", function(){if (document.getElementById(\"f4220094-187a-49e1-a116-91df90acfa62\")) {window._Plotly.Plots.resize(document.getElementById(\"f4220094-187a-49e1-a116-91df90acfa62\"));};})</script>"
      ],
      "text/vnd.plotly.v1+html": [
       "<div id=\"f4220094-187a-49e1-a116-91df90acfa62\" style=\"height: 525px; width: 100%;\" class=\"plotly-graph-div\"></div><script type=\"text/javascript\">require([\"plotly\"], function(Plotly) { window.PLOTLYENV=window.PLOTLYENV || {};window.PLOTLYENV.BASE_URL=\"https://plot.ly\";\n",
       "if (document.getElementById(\"f4220094-187a-49e1-a116-91df90acfa62\")) {\n",
       "    Plotly.newPlot(\"f4220094-187a-49e1-a116-91df90acfa62\", [{\"x\": [0, 1, 2, 3, 4, 5, 6, 7, 8, 9], \"y\": [10.129927328782207, 10.24003523452984, 9.887689936137415, 9.79960361153931, 10.61440211407179, 9.73353886809073, 10.063862585333627, 9.755560449240255, 9.909711517286942, 9.865668354987887], \"type\": \"bar\", \"uid\": \"fd45035c-7fe1-4901-abbf-c31185877c29\"}, {\"x\": [0, 1, 2, 3, 4, 5, 6, 7, 8, 9], \"y\": [31.08695652173913, 21.0752688172043, 17.817371937639198, 20.89887640449438, 19.70954356846473, 29.41176470588235, 22.319474835886215, 16.93002257336343, 24.88888888888889, 26.5625], \"yaxis\": \"y2\", \"type\": \"scatter\", \"uid\": \"4585900e-0da9-4bba-be20-44980f4a3249\"}], {\"title\": {\"text\": \"Double Y axis - Bmi\"}, \"yaxis\": {\"title\": {\"text\": \"Population Distibution\"}}, \"yaxis2\": {\"overlaying\": \"y\", \"side\": \"right\", \"tickfont\": {\"color\": \"rgb(148, 103, 189)\"}, \"title\": {\"font\": {\"color\": \"rgb(148, 103, 189)\"}, \"text\": \"Death Rate\"}}}, {\"showLink\": false, \"linkText\": \"Export to plot.ly\", \"plotlyServerURL\": \"https://plot.ly\"}); \n",
       "}\n",
       "});</script><script type=\"text/javascript\">window.addEventListener(\"resize\", function(){if (document.getElementById(\"f4220094-187a-49e1-a116-91df90acfa62\")) {window._Plotly.Plots.resize(document.getElementById(\"f4220094-187a-49e1-a116-91df90acfa62\"));};})</script>"
      ]
     },
     "metadata": {},
     "output_type": "display_data"
    },
    {
     "data": {
      "application/vnd.plotly.v1+json": {
       "config": {
        "linkText": "Export to plot.ly",
        "plotlyServerURL": "https://plot.ly",
        "showLink": false
       },
       "data": [
        {
         "type": "bar",
         "uid": "fb2ec69a-da70-4178-8188-8928838b05b7",
         "x": [
          0,
          1,
          2,
          3,
          4,
          5,
          6,
          7,
          8,
          9
         ],
         "y": [
          10.702488438669896,
          9.447258313146884,
          10.416207883726052,
          9.66747412464215,
          9.953754679585995,
          9.953754679585995,
          9.997797841885047,
          9.909711517286942,
          11.693459590398591,
          8.25809293107245
         ]
        },
        {
         "type": "scatter",
         "uid": "bae9d729-41d1-4d1e-9e63-a00c5935452a",
         "x": [
          0,
          1,
          2,
          3,
          4,
          5,
          6,
          7,
          8,
          9
         ],
         "y": [
          11.728395061728396,
          15.151515151515152,
          14.799154334038056,
          20.273348519362187,
          18.805309734513273,
          20.79646017699115,
          25.550660792951543,
          27.11111111111111,
          32.76836158192091,
          46.666666666666664
         ],
         "yaxis": "y2"
        }
       ],
       "layout": {
        "title": {
         "text": "Double Y axis - Uralb"
        },
        "yaxis": {
         "title": {
          "text": "Population Distibution"
         }
        },
        "yaxis2": {
         "overlaying": "y",
         "side": "right",
         "tickfont": {
          "color": "rgb(148, 103, 189)"
         },
         "title": {
          "font": {
           "color": "rgb(148, 103, 189)"
          },
          "text": "Death Rate"
         }
        }
       }
      },
      "text/html": [
       "<div id=\"7355749c-e5e4-4576-9a3d-710ce68133fc\" style=\"height: 525px; width: 100%;\" class=\"plotly-graph-div\"></div><script type=\"text/javascript\">require([\"plotly\"], function(Plotly) { window.PLOTLYENV=window.PLOTLYENV || {};window.PLOTLYENV.BASE_URL=\"https://plot.ly\";\n",
       "if (document.getElementById(\"7355749c-e5e4-4576-9a3d-710ce68133fc\")) {\n",
       "    Plotly.newPlot(\"7355749c-e5e4-4576-9a3d-710ce68133fc\", [{\"x\": [0, 1, 2, 3, 4, 5, 6, 7, 8, 9], \"y\": [10.702488438669896, 9.447258313146884, 10.416207883726052, 9.66747412464215, 9.953754679585995, 9.953754679585995, 9.997797841885047, 9.909711517286942, 11.693459590398591, 8.25809293107245], \"type\": \"bar\", \"uid\": \"fb2ec69a-da70-4178-8188-8928838b05b7\"}, {\"x\": [0, 1, 2, 3, 4, 5, 6, 7, 8, 9], \"y\": [11.728395061728396, 15.151515151515152, 14.799154334038056, 20.273348519362187, 18.805309734513273, 20.79646017699115, 25.550660792951543, 27.11111111111111, 32.76836158192091, 46.666666666666664], \"yaxis\": \"y2\", \"type\": \"scatter\", \"uid\": \"bae9d729-41d1-4d1e-9e63-a00c5935452a\"}], {\"title\": {\"text\": \"Double Y axis - Uralb\"}, \"yaxis\": {\"title\": {\"text\": \"Population Distibution\"}}, \"yaxis2\": {\"overlaying\": \"y\", \"side\": \"right\", \"tickfont\": {\"color\": \"rgb(148, 103, 189)\"}, \"title\": {\"font\": {\"color\": \"rgb(148, 103, 189)\"}, \"text\": \"Death Rate\"}}}, {\"showLink\": false, \"linkText\": \"Export to plot.ly\", \"plotlyServerURL\": \"https://plot.ly\"}); \n",
       "}\n",
       "});</script><script type=\"text/javascript\">window.addEventListener(\"resize\", function(){if (document.getElementById(\"7355749c-e5e4-4576-9a3d-710ce68133fc\")) {window._Plotly.Plots.resize(document.getElementById(\"7355749c-e5e4-4576-9a3d-710ce68133fc\"));};})</script>"
      ],
      "text/vnd.plotly.v1+html": [
       "<div id=\"7355749c-e5e4-4576-9a3d-710ce68133fc\" style=\"height: 525px; width: 100%;\" class=\"plotly-graph-div\"></div><script type=\"text/javascript\">require([\"plotly\"], function(Plotly) { window.PLOTLYENV=window.PLOTLYENV || {};window.PLOTLYENV.BASE_URL=\"https://plot.ly\";\n",
       "if (document.getElementById(\"7355749c-e5e4-4576-9a3d-710ce68133fc\")) {\n",
       "    Plotly.newPlot(\"7355749c-e5e4-4576-9a3d-710ce68133fc\", [{\"x\": [0, 1, 2, 3, 4, 5, 6, 7, 8, 9], \"y\": [10.702488438669896, 9.447258313146884, 10.416207883726052, 9.66747412464215, 9.953754679585995, 9.953754679585995, 9.997797841885047, 9.909711517286942, 11.693459590398591, 8.25809293107245], \"type\": \"bar\", \"uid\": \"fb2ec69a-da70-4178-8188-8928838b05b7\"}, {\"x\": [0, 1, 2, 3, 4, 5, 6, 7, 8, 9], \"y\": [11.728395061728396, 15.151515151515152, 14.799154334038056, 20.273348519362187, 18.805309734513273, 20.79646017699115, 25.550660792951543, 27.11111111111111, 32.76836158192091, 46.666666666666664], \"yaxis\": \"y2\", \"type\": \"scatter\", \"uid\": \"bae9d729-41d1-4d1e-9e63-a00c5935452a\"}], {\"title\": {\"text\": \"Double Y axis - Uralb\"}, \"yaxis\": {\"title\": {\"text\": \"Population Distibution\"}}, \"yaxis2\": {\"overlaying\": \"y\", \"side\": \"right\", \"tickfont\": {\"color\": \"rgb(148, 103, 189)\"}, \"title\": {\"font\": {\"color\": \"rgb(148, 103, 189)\"}, \"text\": \"Death Rate\"}}}, {\"showLink\": false, \"linkText\": \"Export to plot.ly\", \"plotlyServerURL\": \"https://plot.ly\"}); \n",
       "}\n",
       "});</script><script type=\"text/javascript\">window.addEventListener(\"resize\", function(){if (document.getElementById(\"7355749c-e5e4-4576-9a3d-710ce68133fc\")) {window._Plotly.Plots.resize(document.getElementById(\"7355749c-e5e4-4576-9a3d-710ce68133fc\"));};})</script>"
      ]
     },
     "metadata": {},
     "output_type": "display_data"
    },
    {
     "data": {
      "application/vnd.plotly.v1+json": {
       "config": {
        "linkText": "Export to plot.ly",
        "plotlyServerURL": "https://plot.ly",
        "showLink": false
       },
       "data": [
        {
         "type": "bar",
         "uid": "3be9f1c3-6e6b-4b77-8a6a-6883263cc607",
         "x": [
          0,
          1,
          2,
          3,
          4,
          5,
          6,
          7,
          8
         ],
         "y": [
          10.570358951772738,
          11.076855318211848,
          8.368200836820083,
          10.30609997797842,
          22.175732217573223,
          7.663510240035235,
          10.878661087866108,
          9.447258313146884,
          9.513323056595464
         ]
        },
        {
         "type": "scatter",
         "uid": "e2c45557-bdd9-4053-88eb-63246e4fd68c",
         "x": [
          0,
          1,
          2,
          3,
          4,
          5,
          6,
          7,
          8
         ],
         "y": [
          28.125,
          23.26043737574553,
          24.473684210526315,
          22.64957264957265,
          25.918570009930487,
          21.264367816091955,
          17.611336032388664,
          18.181818181818183,
          22.22222222222222
         ],
         "yaxis": "y2"
        }
       ],
       "layout": {
        "title": {
         "text": "Double Y axis - Hdl"
        },
        "yaxis": {
         "title": {
          "text": "Population Distibution"
         }
        },
        "yaxis2": {
         "overlaying": "y",
         "side": "right",
         "tickfont": {
          "color": "rgb(148, 103, 189)"
         },
         "title": {
          "font": {
           "color": "rgb(148, 103, 189)"
          },
          "text": "Death Rate"
         }
        }
       }
      },
      "text/html": [
       "<div id=\"4335f4a2-d175-4709-ba99-1819478b2b9c\" style=\"height: 525px; width: 100%;\" class=\"plotly-graph-div\"></div><script type=\"text/javascript\">require([\"plotly\"], function(Plotly) { window.PLOTLYENV=window.PLOTLYENV || {};window.PLOTLYENV.BASE_URL=\"https://plot.ly\";\n",
       "if (document.getElementById(\"4335f4a2-d175-4709-ba99-1819478b2b9c\")) {\n",
       "    Plotly.newPlot(\"4335f4a2-d175-4709-ba99-1819478b2b9c\", [{\"x\": [0, 1, 2, 3, 4, 5, 6, 7, 8], \"y\": [10.570358951772738, 11.076855318211848, 8.368200836820083, 10.30609997797842, 22.175732217573223, 7.663510240035235, 10.878661087866108, 9.447258313146884, 9.513323056595464], \"type\": \"bar\", \"uid\": \"3be9f1c3-6e6b-4b77-8a6a-6883263cc607\"}, {\"x\": [0, 1, 2, 3, 4, 5, 6, 7, 8], \"y\": [28.125, 23.26043737574553, 24.473684210526315, 22.64957264957265, 25.918570009930487, 21.264367816091955, 17.611336032388664, 18.181818181818183, 22.22222222222222], \"yaxis\": \"y2\", \"type\": \"scatter\", \"uid\": \"e2c45557-bdd9-4053-88eb-63246e4fd68c\"}], {\"title\": {\"text\": \"Double Y axis - Hdl\"}, \"yaxis\": {\"title\": {\"text\": \"Population Distibution\"}}, \"yaxis2\": {\"overlaying\": \"y\", \"side\": \"right\", \"tickfont\": {\"color\": \"rgb(148, 103, 189)\"}, \"title\": {\"font\": {\"color\": \"rgb(148, 103, 189)\"}, \"text\": \"Death Rate\"}}}, {\"showLink\": false, \"linkText\": \"Export to plot.ly\", \"plotlyServerURL\": \"https://plot.ly\"}); \n",
       "}\n",
       "});</script><script type=\"text/javascript\">window.addEventListener(\"resize\", function(){if (document.getElementById(\"4335f4a2-d175-4709-ba99-1819478b2b9c\")) {window._Plotly.Plots.resize(document.getElementById(\"4335f4a2-d175-4709-ba99-1819478b2b9c\"));};})</script>"
      ],
      "text/vnd.plotly.v1+html": [
       "<div id=\"4335f4a2-d175-4709-ba99-1819478b2b9c\" style=\"height: 525px; width: 100%;\" class=\"plotly-graph-div\"></div><script type=\"text/javascript\">require([\"plotly\"], function(Plotly) { window.PLOTLYENV=window.PLOTLYENV || {};window.PLOTLYENV.BASE_URL=\"https://plot.ly\";\n",
       "if (document.getElementById(\"4335f4a2-d175-4709-ba99-1819478b2b9c\")) {\n",
       "    Plotly.newPlot(\"4335f4a2-d175-4709-ba99-1819478b2b9c\", [{\"x\": [0, 1, 2, 3, 4, 5, 6, 7, 8], \"y\": [10.570358951772738, 11.076855318211848, 8.368200836820083, 10.30609997797842, 22.175732217573223, 7.663510240035235, 10.878661087866108, 9.447258313146884, 9.513323056595464], \"type\": \"bar\", \"uid\": \"3be9f1c3-6e6b-4b77-8a6a-6883263cc607\"}, {\"x\": [0, 1, 2, 3, 4, 5, 6, 7, 8], \"y\": [28.125, 23.26043737574553, 24.473684210526315, 22.64957264957265, 25.918570009930487, 21.264367816091955, 17.611336032388664, 18.181818181818183, 22.22222222222222], \"yaxis\": \"y2\", \"type\": \"scatter\", \"uid\": \"e2c45557-bdd9-4053-88eb-63246e4fd68c\"}], {\"title\": {\"text\": \"Double Y axis - Hdl\"}, \"yaxis\": {\"title\": {\"text\": \"Population Distibution\"}}, \"yaxis2\": {\"overlaying\": \"y\", \"side\": \"right\", \"tickfont\": {\"color\": \"rgb(148, 103, 189)\"}, \"title\": {\"font\": {\"color\": \"rgb(148, 103, 189)\"}, \"text\": \"Death Rate\"}}}, {\"showLink\": false, \"linkText\": \"Export to plot.ly\", \"plotlyServerURL\": \"https://plot.ly\"}); \n",
       "}\n",
       "});</script><script type=\"text/javascript\">window.addEventListener(\"resize\", function(){if (document.getElementById(\"4335f4a2-d175-4709-ba99-1819478b2b9c\")) {window._Plotly.Plots.resize(document.getElementById(\"4335f4a2-d175-4709-ba99-1819478b2b9c\"));};})</script>"
      ]
     },
     "metadata": {},
     "output_type": "display_data"
    },
    {
     "data": {
      "application/vnd.plotly.v1+json": {
       "config": {
        "linkText": "Export to plot.ly",
        "plotlyServerURL": "https://plot.ly",
        "showLink": false
       },
       "data": [
        {
         "type": "bar",
         "uid": "99c615ec-ce57-4cde-a65d-8ce78a36bb13",
         "x": [
          0,
          1,
          2,
          3,
          4,
          5,
          6,
          7,
          8,
          9
         ],
         "y": [
          10.24003523452984,
          10.438229464875578,
          9.359171988548777,
          10.063862585333627,
          17.925567055714602,
          1.9819423034573882,
          10.019819423034575,
          10.063862585333627,
          9.909711517286942,
          9.997797841885047
         ]
        },
        {
         "type": "scatter",
         "uid": "cbc2d32c-f056-48f9-b749-9b12556cec6e",
         "x": [
          0,
          1,
          2,
          3,
          4,
          5,
          6,
          7,
          8,
          9
         ],
         "y": [
          28.172043010752688,
          21.518987341772153,
          20.941176470588236,
          20.13129102844639,
          27.51842751842752,
          20,
          19.34065934065934,
          20.35010940919037,
          22.22222222222222,
          24.229074889867842
         ],
         "yaxis": "y2"
        }
       ],
       "layout": {
        "title": {
         "text": "Double Y axis - Chol"
        },
        "yaxis": {
         "title": {
          "text": "Population Distibution"
         }
        },
        "yaxis2": {
         "overlaying": "y",
         "side": "right",
         "tickfont": {
          "color": "rgb(148, 103, 189)"
         },
         "title": {
          "font": {
           "color": "rgb(148, 103, 189)"
          },
          "text": "Death Rate"
         }
        }
       }
      },
      "text/html": [
       "<div id=\"57d3b99f-9a6d-419b-a070-82cef961f0be\" style=\"height: 525px; width: 100%;\" class=\"plotly-graph-div\"></div><script type=\"text/javascript\">require([\"plotly\"], function(Plotly) { window.PLOTLYENV=window.PLOTLYENV || {};window.PLOTLYENV.BASE_URL=\"https://plot.ly\";\n",
       "if (document.getElementById(\"57d3b99f-9a6d-419b-a070-82cef961f0be\")) {\n",
       "    Plotly.newPlot(\"57d3b99f-9a6d-419b-a070-82cef961f0be\", [{\"x\": [0, 1, 2, 3, 4, 5, 6, 7, 8, 9], \"y\": [10.24003523452984, 10.438229464875578, 9.359171988548777, 10.063862585333627, 17.925567055714602, 1.9819423034573882, 10.019819423034575, 10.063862585333627, 9.909711517286942, 9.997797841885047], \"type\": \"bar\", \"uid\": \"99c615ec-ce57-4cde-a65d-8ce78a36bb13\"}, {\"x\": [0, 1, 2, 3, 4, 5, 6, 7, 8, 9], \"y\": [28.172043010752688, 21.518987341772153, 20.941176470588236, 20.13129102844639, 27.51842751842752, 20.0, 19.34065934065934, 20.35010940919037, 22.22222222222222, 24.229074889867842], \"yaxis\": \"y2\", \"type\": \"scatter\", \"uid\": \"cbc2d32c-f056-48f9-b749-9b12556cec6e\"}], {\"title\": {\"text\": \"Double Y axis - Chol\"}, \"yaxis\": {\"title\": {\"text\": \"Population Distibution\"}}, \"yaxis2\": {\"overlaying\": \"y\", \"side\": \"right\", \"tickfont\": {\"color\": \"rgb(148, 103, 189)\"}, \"title\": {\"font\": {\"color\": \"rgb(148, 103, 189)\"}, \"text\": \"Death Rate\"}}}, {\"showLink\": false, \"linkText\": \"Export to plot.ly\", \"plotlyServerURL\": \"https://plot.ly\"}); \n",
       "}\n",
       "});</script><script type=\"text/javascript\">window.addEventListener(\"resize\", function(){if (document.getElementById(\"57d3b99f-9a6d-419b-a070-82cef961f0be\")) {window._Plotly.Plots.resize(document.getElementById(\"57d3b99f-9a6d-419b-a070-82cef961f0be\"));};})</script>"
      ],
      "text/vnd.plotly.v1+html": [
       "<div id=\"57d3b99f-9a6d-419b-a070-82cef961f0be\" style=\"height: 525px; width: 100%;\" class=\"plotly-graph-div\"></div><script type=\"text/javascript\">require([\"plotly\"], function(Plotly) { window.PLOTLYENV=window.PLOTLYENV || {};window.PLOTLYENV.BASE_URL=\"https://plot.ly\";\n",
       "if (document.getElementById(\"57d3b99f-9a6d-419b-a070-82cef961f0be\")) {\n",
       "    Plotly.newPlot(\"57d3b99f-9a6d-419b-a070-82cef961f0be\", [{\"x\": [0, 1, 2, 3, 4, 5, 6, 7, 8, 9], \"y\": [10.24003523452984, 10.438229464875578, 9.359171988548777, 10.063862585333627, 17.925567055714602, 1.9819423034573882, 10.019819423034575, 10.063862585333627, 9.909711517286942, 9.997797841885047], \"type\": \"bar\", \"uid\": \"99c615ec-ce57-4cde-a65d-8ce78a36bb13\"}, {\"x\": [0, 1, 2, 3, 4, 5, 6, 7, 8, 9], \"y\": [28.172043010752688, 21.518987341772153, 20.941176470588236, 20.13129102844639, 27.51842751842752, 20.0, 19.34065934065934, 20.35010940919037, 22.22222222222222, 24.229074889867842], \"yaxis\": \"y2\", \"type\": \"scatter\", \"uid\": \"cbc2d32c-f056-48f9-b749-9b12556cec6e\"}], {\"title\": {\"text\": \"Double Y axis - Chol\"}, \"yaxis\": {\"title\": {\"text\": \"Population Distibution\"}}, \"yaxis2\": {\"overlaying\": \"y\", \"side\": \"right\", \"tickfont\": {\"color\": \"rgb(148, 103, 189)\"}, \"title\": {\"font\": {\"color\": \"rgb(148, 103, 189)\"}, \"text\": \"Death Rate\"}}}, {\"showLink\": false, \"linkText\": \"Export to plot.ly\", \"plotlyServerURL\": \"https://plot.ly\"}); \n",
       "}\n",
       "});</script><script type=\"text/javascript\">window.addEventListener(\"resize\", function(){if (document.getElementById(\"57d3b99f-9a6d-419b-a070-82cef961f0be\")) {window._Plotly.Plots.resize(document.getElementById(\"57d3b99f-9a6d-419b-a070-82cef961f0be\"));};})</script>"
      ]
     },
     "metadata": {},
     "output_type": "display_data"
    },
    {
     "data": {
      "application/vnd.plotly.v1+json": {
       "config": {
        "linkText": "Export to plot.ly",
        "plotlyServerURL": "https://plot.ly",
        "showLink": false
       },
       "data": [
        {
         "type": "bar",
         "uid": "32decf3c-87a7-46ed-996d-85afd792c75d",
         "x": [
          0,
          1,
          2,
          3,
          4,
          5,
          6,
          7,
          8,
          9
         ],
         "y": [
          11.05483373706232,
          9.337150407399252,
          11.979740145342436,
          13.234970270865448,
          6.782646994054173,
          9.865668354987887,
          11.473243778903326,
          6.914776480951332,
          9.79960361153931,
          9.557366218894517
         ]
        },
        {
         "type": "scatter",
         "uid": "ae91048f-7163-4403-b816-e9fd6bdcd1a1",
         "x": [
          0,
          1,
          2,
          3,
          4,
          5,
          6,
          7,
          8,
          9
         ],
         "y": [
          20.717131474103585,
          15.80188679245283,
          17.830882352941178,
          18.63560732113145,
          19.805194805194805,
          19.419642857142858,
          28.982725527831093,
          21.97452229299363,
          28.089887640449437,
          40.09216589861751
         ],
         "yaxis": "y2"
        }
       ],
       "layout": {
        "title": {
         "text": "Double Y axis - Hba1c"
        },
        "yaxis": {
         "title": {
          "text": "Population Distibution"
         }
        },
        "yaxis2": {
         "overlaying": "y",
         "side": "right",
         "tickfont": {
          "color": "rgb(148, 103, 189)"
         },
         "title": {
          "font": {
           "color": "rgb(148, 103, 189)"
          },
          "text": "Death Rate"
         }
        }
       }
      },
      "text/html": [
       "<div id=\"0d7a1a9f-e70a-4942-8e41-3aee5938e5b1\" style=\"height: 525px; width: 100%;\" class=\"plotly-graph-div\"></div><script type=\"text/javascript\">require([\"plotly\"], function(Plotly) { window.PLOTLYENV=window.PLOTLYENV || {};window.PLOTLYENV.BASE_URL=\"https://plot.ly\";\n",
       "if (document.getElementById(\"0d7a1a9f-e70a-4942-8e41-3aee5938e5b1\")) {\n",
       "    Plotly.newPlot(\"0d7a1a9f-e70a-4942-8e41-3aee5938e5b1\", [{\"x\": [0, 1, 2, 3, 4, 5, 6, 7, 8, 9], \"y\": [11.05483373706232, 9.337150407399252, 11.979740145342436, 13.234970270865448, 6.782646994054173, 9.865668354987887, 11.473243778903326, 6.914776480951332, 9.79960361153931, 9.557366218894517], \"type\": \"bar\", \"uid\": \"32decf3c-87a7-46ed-996d-85afd792c75d\"}, {\"x\": [0, 1, 2, 3, 4, 5, 6, 7, 8, 9], \"y\": [20.717131474103585, 15.80188679245283, 17.830882352941178, 18.63560732113145, 19.805194805194805, 19.419642857142858, 28.982725527831093, 21.97452229299363, 28.089887640449437, 40.09216589861751], \"yaxis\": \"y2\", \"type\": \"scatter\", \"uid\": \"ae91048f-7163-4403-b816-e9fd6bdcd1a1\"}], {\"title\": {\"text\": \"Double Y axis - Hba1c\"}, \"yaxis\": {\"title\": {\"text\": \"Population Distibution\"}}, \"yaxis2\": {\"overlaying\": \"y\", \"side\": \"right\", \"tickfont\": {\"color\": \"rgb(148, 103, 189)\"}, \"title\": {\"font\": {\"color\": \"rgb(148, 103, 189)\"}, \"text\": \"Death Rate\"}}}, {\"showLink\": false, \"linkText\": \"Export to plot.ly\", \"plotlyServerURL\": \"https://plot.ly\"}); \n",
       "}\n",
       "});</script><script type=\"text/javascript\">window.addEventListener(\"resize\", function(){if (document.getElementById(\"0d7a1a9f-e70a-4942-8e41-3aee5938e5b1\")) {window._Plotly.Plots.resize(document.getElementById(\"0d7a1a9f-e70a-4942-8e41-3aee5938e5b1\"));};})</script>"
      ],
      "text/vnd.plotly.v1+html": [
       "<div id=\"0d7a1a9f-e70a-4942-8e41-3aee5938e5b1\" style=\"height: 525px; width: 100%;\" class=\"plotly-graph-div\"></div><script type=\"text/javascript\">require([\"plotly\"], function(Plotly) { window.PLOTLYENV=window.PLOTLYENV || {};window.PLOTLYENV.BASE_URL=\"https://plot.ly\";\n",
       "if (document.getElementById(\"0d7a1a9f-e70a-4942-8e41-3aee5938e5b1\")) {\n",
       "    Plotly.newPlot(\"0d7a1a9f-e70a-4942-8e41-3aee5938e5b1\", [{\"x\": [0, 1, 2, 3, 4, 5, 6, 7, 8, 9], \"y\": [11.05483373706232, 9.337150407399252, 11.979740145342436, 13.234970270865448, 6.782646994054173, 9.865668354987887, 11.473243778903326, 6.914776480951332, 9.79960361153931, 9.557366218894517], \"type\": \"bar\", \"uid\": \"32decf3c-87a7-46ed-996d-85afd792c75d\"}, {\"x\": [0, 1, 2, 3, 4, 5, 6, 7, 8, 9], \"y\": [20.717131474103585, 15.80188679245283, 17.830882352941178, 18.63560732113145, 19.805194805194805, 19.419642857142858, 28.982725527831093, 21.97452229299363, 28.089887640449437, 40.09216589861751], \"yaxis\": \"y2\", \"type\": \"scatter\", \"uid\": \"ae91048f-7163-4403-b816-e9fd6bdcd1a1\"}], {\"title\": {\"text\": \"Double Y axis - Hba1c\"}, \"yaxis\": {\"title\": {\"text\": \"Population Distibution\"}}, \"yaxis2\": {\"overlaying\": \"y\", \"side\": \"right\", \"tickfont\": {\"color\": \"rgb(148, 103, 189)\"}, \"title\": {\"font\": {\"color\": \"rgb(148, 103, 189)\"}, \"text\": \"Death Rate\"}}}, {\"showLink\": false, \"linkText\": \"Export to plot.ly\", \"plotlyServerURL\": \"https://plot.ly\"}); \n",
       "}\n",
       "});</script><script type=\"text/javascript\">window.addEventListener(\"resize\", function(){if (document.getElementById(\"0d7a1a9f-e70a-4942-8e41-3aee5938e5b1\")) {window._Plotly.Plots.resize(document.getElementById(\"0d7a1a9f-e70a-4942-8e41-3aee5938e5b1\"));};})</script>"
      ]
     },
     "metadata": {},
     "output_type": "display_data"
    },
    {
     "data": {
      "application/vnd.plotly.v1+json": {
       "config": {
        "linkText": "Export to plot.ly",
        "plotlyServerURL": "https://plot.ly",
        "showLink": false
       },
       "data": [
        {
         "type": "bar",
         "uid": "831f4adb-70bc-44db-ae32-e4b7798e193b",
         "x": [
          0,
          1,
          2,
          3,
          4,
          5,
          6,
          7,
          8,
          9
         ],
         "y": [
          10.48227262717463,
          10.063862585333627,
          9.579387800044044,
          10.195992072230785,
          10.195992072230785,
          19.092710856639506,
          0.41841004184100417,
          9.997797841885047,
          9.97577626073552,
          9.997797841885047
         ]
        },
        {
         "type": "scatter",
         "uid": "3d132b2d-cc6d-4e07-8b62-5268f2e9e7d6",
         "x": [
          0,
          1,
          2,
          3,
          4,
          5,
          6,
          7,
          8,
          9
         ],
         "y": [
          18.69747899159664,
          20.787746170678336,
          20.689655172413794,
          21.382289416846653,
          22.4622030237581,
          27.68166089965398,
          10.526315789473685,
          21.58590308370044,
          23.178807947019866,
          27.53303964757709
         ],
         "yaxis": "y2"
        }
       ],
       "layout": {
        "title": {
         "text": "Double Y axis - Trig"
        },
        "yaxis": {
         "title": {
          "text": "Population Distibution"
         }
        },
        "yaxis2": {
         "overlaying": "y",
         "side": "right",
         "tickfont": {
          "color": "rgb(148, 103, 189)"
         },
         "title": {
          "font": {
           "color": "rgb(148, 103, 189)"
          },
          "text": "Death Rate"
         }
        }
       }
      },
      "text/html": [
       "<div id=\"9911bc80-a60e-48b1-89d1-bcf44b2ba08a\" style=\"height: 525px; width: 100%;\" class=\"plotly-graph-div\"></div><script type=\"text/javascript\">require([\"plotly\"], function(Plotly) { window.PLOTLYENV=window.PLOTLYENV || {};window.PLOTLYENV.BASE_URL=\"https://plot.ly\";\n",
       "if (document.getElementById(\"9911bc80-a60e-48b1-89d1-bcf44b2ba08a\")) {\n",
       "    Plotly.newPlot(\"9911bc80-a60e-48b1-89d1-bcf44b2ba08a\", [{\"x\": [0, 1, 2, 3, 4, 5, 6, 7, 8, 9], \"y\": [10.48227262717463, 10.063862585333627, 9.579387800044044, 10.195992072230785, 10.195992072230785, 19.092710856639506, 0.41841004184100417, 9.997797841885047, 9.97577626073552, 9.997797841885047], \"type\": \"bar\", \"uid\": \"831f4adb-70bc-44db-ae32-e4b7798e193b\"}, {\"x\": [0, 1, 2, 3, 4, 5, 6, 7, 8, 9], \"y\": [18.69747899159664, 20.787746170678336, 20.689655172413794, 21.382289416846653, 22.4622030237581, 27.68166089965398, 10.526315789473685, 21.58590308370044, 23.178807947019866, 27.53303964757709], \"yaxis\": \"y2\", \"type\": \"scatter\", \"uid\": \"3d132b2d-cc6d-4e07-8b62-5268f2e9e7d6\"}], {\"title\": {\"text\": \"Double Y axis - Trig\"}, \"yaxis\": {\"title\": {\"text\": \"Population Distibution\"}}, \"yaxis2\": {\"overlaying\": \"y\", \"side\": \"right\", \"tickfont\": {\"color\": \"rgb(148, 103, 189)\"}, \"title\": {\"font\": {\"color\": \"rgb(148, 103, 189)\"}, \"text\": \"Death Rate\"}}}, {\"showLink\": false, \"linkText\": \"Export to plot.ly\", \"plotlyServerURL\": \"https://plot.ly\"}); \n",
       "}\n",
       "});</script><script type=\"text/javascript\">window.addEventListener(\"resize\", function(){if (document.getElementById(\"9911bc80-a60e-48b1-89d1-bcf44b2ba08a\")) {window._Plotly.Plots.resize(document.getElementById(\"9911bc80-a60e-48b1-89d1-bcf44b2ba08a\"));};})</script>"
      ],
      "text/vnd.plotly.v1+html": [
       "<div id=\"9911bc80-a60e-48b1-89d1-bcf44b2ba08a\" style=\"height: 525px; width: 100%;\" class=\"plotly-graph-div\"></div><script type=\"text/javascript\">require([\"plotly\"], function(Plotly) { window.PLOTLYENV=window.PLOTLYENV || {};window.PLOTLYENV.BASE_URL=\"https://plot.ly\";\n",
       "if (document.getElementById(\"9911bc80-a60e-48b1-89d1-bcf44b2ba08a\")) {\n",
       "    Plotly.newPlot(\"9911bc80-a60e-48b1-89d1-bcf44b2ba08a\", [{\"x\": [0, 1, 2, 3, 4, 5, 6, 7, 8, 9], \"y\": [10.48227262717463, 10.063862585333627, 9.579387800044044, 10.195992072230785, 10.195992072230785, 19.092710856639506, 0.41841004184100417, 9.997797841885047, 9.97577626073552, 9.997797841885047], \"type\": \"bar\", \"uid\": \"831f4adb-70bc-44db-ae32-e4b7798e193b\"}, {\"x\": [0, 1, 2, 3, 4, 5, 6, 7, 8, 9], \"y\": [18.69747899159664, 20.787746170678336, 20.689655172413794, 21.382289416846653, 22.4622030237581, 27.68166089965398, 10.526315789473685, 21.58590308370044, 23.178807947019866, 27.53303964757709], \"yaxis\": \"y2\", \"type\": \"scatter\", \"uid\": \"3d132b2d-cc6d-4e07-8b62-5268f2e9e7d6\"}], {\"title\": {\"text\": \"Double Y axis - Trig\"}, \"yaxis\": {\"title\": {\"text\": \"Population Distibution\"}}, \"yaxis2\": {\"overlaying\": \"y\", \"side\": \"right\", \"tickfont\": {\"color\": \"rgb(148, 103, 189)\"}, \"title\": {\"font\": {\"color\": \"rgb(148, 103, 189)\"}, \"text\": \"Death Rate\"}}}, {\"showLink\": false, \"linkText\": \"Export to plot.ly\", \"plotlyServerURL\": \"https://plot.ly\"}); \n",
       "}\n",
       "});</script><script type=\"text/javascript\">window.addEventListener(\"resize\", function(){if (document.getElementById(\"9911bc80-a60e-48b1-89d1-bcf44b2ba08a\")) {window._Plotly.Plots.resize(document.getElementById(\"9911bc80-a60e-48b1-89d1-bcf44b2ba08a\"));};})</script>"
      ]
     },
     "metadata": {},
     "output_type": "display_data"
    }
   ],
   "source": [
    "plt_event_rate(er_data)"
   ]
  },
  {
   "cell_type": "code",
   "execution_count": 54,
   "metadata": {},
   "outputs": [
    {
     "data": {
      "text/plain": [
       "<matplotlib.axes._subplots.AxesSubplot at 0x7f0ca9b592b0>"
      ]
     },
     "execution_count": 54,
     "metadata": {},
     "output_type": "execute_result"
    },
    {
     "data": {
      "image/png": "[encoded data removed]",
      "text/plain": [
       "<Figure size 432x288 with 2 Axes>"
      ]
     },
     "metadata": {
      "needs_background": "light"
     },
     "output_type": "display_data"
    }
   ],
   "source": [
    "sns.heatmap(data[numerical_columns].corr(), cmap=sns.diverging_palette(220, 10, as_cmap=True),square=True)"
   ]
  },
  {
   "cell_type": "code",
   "execution_count": 55,
   "metadata": {},
   "outputs": [],
   "source": [
    "data_filtered_cat = pd.get_dummies(data[categorical_columns], drop_first=True)"
   ]
  },
  {
   "cell_type": "code",
   "execution_count": 56,
   "metadata": {},
   "outputs": [
    {
     "data": {
      "text/html": [
       "<div>\n",
       "<style scoped>\n",
       "    .dataframe tbody tr th:only-of-type {\n",
       "        vertical-align: middle;\n",
       "    }\n",
       "\n",
       "    .dataframe tbody tr th {\n",
       "        vertical-align: top;\n",
       "    }\n",
       "\n",
       "    .dataframe thead th {\n",
       "        text-align: right;\n",
       "    }\n",
       "</style>\n",
       "<table border=\"1\" class=\"dataframe\">\n",
       "  <thead>\n",
       "    <tr style=\"text-align: right;\">\n",
       "      <th></th>\n",
       "      <th>obese_no</th>\n",
       "      <th>obese_yes</th>\n",
       "      <th>hldhx_2.0</th>\n",
       "      <th>htnhx_hypertensive</th>\n",
       "      <th>htnhx_no</th>\n",
       "      <th>smokehx_yes</th>\n",
       "      <th>race_multiracial</th>\n",
       "      <th>race_non hispanic black</th>\n",
       "      <th>race_non hispanic white</th>\n",
       "      <th>sex_male</th>\n",
       "      <th>hf_yes</th>\n",
       "      <th>stroke_yes</th>\n",
       "      <th>mi_no</th>\n",
       "      <th>mi_yes</th>\n",
       "    </tr>\n",
       "  </thead>\n",
       "  <tbody>\n",
       "    <tr>\n",
       "      <th>2</th>\n",
       "      <td>0</td>\n",
       "      <td>1</td>\n",
       "      <td>1</td>\n",
       "      <td>0</td>\n",
       "      <td>1</td>\n",
       "      <td>0</td>\n",
       "      <td>0</td>\n",
       "      <td>0</td>\n",
       "      <td>0</td>\n",
       "      <td>0</td>\n",
       "      <td>0</td>\n",
       "      <td>0</td>\n",
       "      <td>1</td>\n",
       "      <td>0</td>\n",
       "    </tr>\n",
       "    <tr>\n",
       "      <th>4</th>\n",
       "      <td>1</td>\n",
       "      <td>0</td>\n",
       "      <td>0</td>\n",
       "      <td>0</td>\n",
       "      <td>1</td>\n",
       "      <td>0</td>\n",
       "      <td>0</td>\n",
       "      <td>1</td>\n",
       "      <td>0</td>\n",
       "      <td>1</td>\n",
       "      <td>0</td>\n",
       "      <td>0</td>\n",
       "      <td>1</td>\n",
       "      <td>0</td>\n",
       "    </tr>\n",
       "    <tr>\n",
       "      <th>9</th>\n",
       "      <td>0</td>\n",
       "      <td>1</td>\n",
       "      <td>1</td>\n",
       "      <td>0</td>\n",
       "      <td>1</td>\n",
       "      <td>0</td>\n",
       "      <td>0</td>\n",
       "      <td>0</td>\n",
       "      <td>0</td>\n",
       "      <td>0</td>\n",
       "      <td>0</td>\n",
       "      <td>0</td>\n",
       "      <td>1</td>\n",
       "      <td>0</td>\n",
       "    </tr>\n",
       "    <tr>\n",
       "      <th>12</th>\n",
       "      <td>1</td>\n",
       "      <td>0</td>\n",
       "      <td>1</td>\n",
       "      <td>0</td>\n",
       "      <td>1</td>\n",
       "      <td>1</td>\n",
       "      <td>0</td>\n",
       "      <td>1</td>\n",
       "      <td>0</td>\n",
       "      <td>1</td>\n",
       "      <td>0</td>\n",
       "      <td>0</td>\n",
       "      <td>1</td>\n",
       "      <td>0</td>\n",
       "    </tr>\n",
       "    <tr>\n",
       "      <th>14</th>\n",
       "      <td>0</td>\n",
       "      <td>1</td>\n",
       "      <td>0</td>\n",
       "      <td>1</td>\n",
       "      <td>0</td>\n",
       "      <td>0</td>\n",
       "      <td>0</td>\n",
       "      <td>1</td>\n",
       "      <td>0</td>\n",
       "      <td>1</td>\n",
       "      <td>0</td>\n",
       "      <td>0</td>\n",
       "      <td>1</td>\n",
       "      <td>0</td>\n",
       "    </tr>\n",
       "  </tbody>\n",
       "</table>\n",
       "</div>"
      ],
      "text/plain": [
       "    obese_no  obese_yes  hldhx_2.0  htnhx_hypertensive  htnhx_no  smokehx_yes  \\\n",
       "2          0          1          1                   0         1            0   \n",
       "4          1          0          0                   0         1            0   \n",
       "9          0          1          1                   0         1            0   \n",
       "12         1          0          1                   0         1            1   \n",
       "14         0          1          0                   1         0            0   \n",
       "\n",
       "    race_multiracial  race_non hispanic black  race_non hispanic white  \\\n",
       "2                  0                        0                        0   \n",
       "4                  0                        1                        0   \n",
       "9                  0                        0                        0   \n",
       "12                 0                        1                        0   \n",
       "14                 0                        1                        0   \n",
       "\n",
       "    sex_male  hf_yes  stroke_yes  mi_no  mi_yes  \n",
       "2          0       0           0      1       0  \n",
       "4          1       0           0      1       0  \n",
       "9          0       0           0      1       0  \n",
       "12         1       0           0      1       0  \n",
       "14         1       0           0      1       0  "
      ]
     },
     "execution_count": 56,
     "metadata": {},
     "output_type": "execute_result"
    }
   ],
   "source": [
    "data_filtered_cat.head()"
   ]
  },
  {
   "cell_type": "code",
   "execution_count": 57,
   "metadata": {},
   "outputs": [],
   "source": [
    "model_data = pd.concat((data[numerical_columns], data_filtered_cat), axis=1)"
   ]
  },
  {
   "cell_type": "code",
   "execution_count": 58,
   "metadata": {},
   "outputs": [
    {
     "data": {
      "text/html": [
       "<div>\n",
       "<style scoped>\n",
       "    .dataframe tbody tr th:only-of-type {\n",
       "        vertical-align: middle;\n",
       "    }\n",
       "\n",
       "    .dataframe tbody tr th {\n",
       "        vertical-align: top;\n",
       "    }\n",
       "\n",
       "    .dataframe thead th {\n",
       "        text-align: right;\n",
       "    }\n",
       "</style>\n",
       "<table border=\"1\" class=\"dataframe\">\n",
       "  <thead>\n",
       "    <tr style=\"text-align: right;\">\n",
       "      <th></th>\n",
       "      <th>ses</th>\n",
       "      <th>sbp</th>\n",
       "      <th>age</th>\n",
       "      <th>dbp</th>\n",
       "      <th>bmi</th>\n",
       "      <th>uralb</th>\n",
       "      <th>hdl</th>\n",
       "      <th>chol</th>\n",
       "      <th>hba1c</th>\n",
       "      <th>trig</th>\n",
       "      <th>...</th>\n",
       "      <th>htnhx_no</th>\n",
       "      <th>smokehx_yes</th>\n",
       "      <th>race_multiracial</th>\n",
       "      <th>race_non hispanic black</th>\n",
       "      <th>race_non hispanic white</th>\n",
       "      <th>sex_male</th>\n",
       "      <th>hf_yes</th>\n",
       "      <th>stroke_yes</th>\n",
       "      <th>mi_no</th>\n",
       "      <th>mi_yes</th>\n",
       "    </tr>\n",
       "  </thead>\n",
       "  <tbody>\n",
       "    <tr>\n",
       "      <th>2</th>\n",
       "      <td>3.747</td>\n",
       "      <td>131.0</td>\n",
       "      <td>48.583333</td>\n",
       "      <td>73.0</td>\n",
       "      <td>27.6</td>\n",
       "      <td>1.6</td>\n",
       "      <td>66.0</td>\n",
       "      <td>236.0</td>\n",
       "      <td>5.3</td>\n",
       "      <td>98.0</td>\n",
       "      <td>...</td>\n",
       "      <td>1</td>\n",
       "      <td>0</td>\n",
       "      <td>0</td>\n",
       "      <td>0</td>\n",
       "      <td>0</td>\n",
       "      <td>0</td>\n",
       "      <td>0</td>\n",
       "      <td>0</td>\n",
       "      <td>1</td>\n",
       "      <td>0</td>\n",
       "    </tr>\n",
       "    <tr>\n",
       "      <th>4</th>\n",
       "      <td>1.676</td>\n",
       "      <td>120.0</td>\n",
       "      <td>48.500000</td>\n",
       "      <td>70.0</td>\n",
       "      <td>25.0</td>\n",
       "      <td>11.3</td>\n",
       "      <td>51.0</td>\n",
       "      <td>260.0</td>\n",
       "      <td>9.1</td>\n",
       "      <td>94.0</td>\n",
       "      <td>...</td>\n",
       "      <td>1</td>\n",
       "      <td>0</td>\n",
       "      <td>0</td>\n",
       "      <td>1</td>\n",
       "      <td>0</td>\n",
       "      <td>1</td>\n",
       "      <td>0</td>\n",
       "      <td>0</td>\n",
       "      <td>1</td>\n",
       "      <td>0</td>\n",
       "    </tr>\n",
       "    <tr>\n",
       "      <th>9</th>\n",
       "      <td>5.690</td>\n",
       "      <td>128.0</td>\n",
       "      <td>56.750000</td>\n",
       "      <td>73.0</td>\n",
       "      <td>37.0</td>\n",
       "      <td>0.4</td>\n",
       "      <td>42.0</td>\n",
       "      <td>156.0</td>\n",
       "      <td>5.0</td>\n",
       "      <td>171.0</td>\n",
       "      <td>...</td>\n",
       "      <td>1</td>\n",
       "      <td>0</td>\n",
       "      <td>0</td>\n",
       "      <td>0</td>\n",
       "      <td>0</td>\n",
       "      <td>0</td>\n",
       "      <td>0</td>\n",
       "      <td>0</td>\n",
       "      <td>1</td>\n",
       "      <td>0</td>\n",
       "    </tr>\n",
       "    <tr>\n",
       "      <th>12</th>\n",
       "      <td>3.416</td>\n",
       "      <td>117.0</td>\n",
       "      <td>50.166667</td>\n",
       "      <td>74.0</td>\n",
       "      <td>25.1</td>\n",
       "      <td>1.8</td>\n",
       "      <td>47.0</td>\n",
       "      <td>244.0</td>\n",
       "      <td>5.9</td>\n",
       "      <td>204.0</td>\n",
       "      <td>...</td>\n",
       "      <td>1</td>\n",
       "      <td>1</td>\n",
       "      <td>0</td>\n",
       "      <td>1</td>\n",
       "      <td>0</td>\n",
       "      <td>1</td>\n",
       "      <td>0</td>\n",
       "      <td>0</td>\n",
       "      <td>1</td>\n",
       "      <td>0</td>\n",
       "    </tr>\n",
       "    <tr>\n",
       "      <th>14</th>\n",
       "      <td>0.622</td>\n",
       "      <td>155.0</td>\n",
       "      <td>48.416667</td>\n",
       "      <td>91.0</td>\n",
       "      <td>37.5</td>\n",
       "      <td>105.0</td>\n",
       "      <td>30.0</td>\n",
       "      <td>212.0</td>\n",
       "      <td>5.7</td>\n",
       "      <td>479.0</td>\n",
       "      <td>...</td>\n",
       "      <td>0</td>\n",
       "      <td>0</td>\n",
       "      <td>0</td>\n",
       "      <td>1</td>\n",
       "      <td>0</td>\n",
       "      <td>1</td>\n",
       "      <td>0</td>\n",
       "      <td>0</td>\n",
       "      <td>1</td>\n",
       "      <td>0</td>\n",
       "    </tr>\n",
       "  </tbody>\n",
       "</table>\n",
       "<p>5 rows × 24 columns</p>\n",
       "</div>"
      ],
      "text/plain": [
       "      ses    sbp        age   dbp   bmi  uralb   hdl   chol  hba1c   trig  \\\n",
       "2   3.747  131.0  48.583333  73.0  27.6    1.6  66.0  236.0    5.3   98.0   \n",
       "4   1.676  120.0  48.500000  70.0  25.0   11.3  51.0  260.0    9.1   94.0   \n",
       "9   5.690  128.0  56.750000  73.0  37.0    0.4  42.0  156.0    5.0  171.0   \n",
       "12  3.416  117.0  50.166667  74.0  25.1    1.8  47.0  244.0    5.9  204.0   \n",
       "14  0.622  155.0  48.416667  91.0  37.5  105.0  30.0  212.0    5.7  479.0   \n",
       "\n",
       "    ...  htnhx_no  smokehx_yes  race_multiracial  race_non hispanic black  \\\n",
       "2   ...         1            0                 0                        0   \n",
       "4   ...         1            0                 0                        1   \n",
       "9   ...         1            0                 0                        0   \n",
       "12  ...         1            1                 0                        1   \n",
       "14  ...         0            0                 0                        1   \n",
       "\n",
       "    race_non hispanic white  sex_male  hf_yes  stroke_yes  mi_no  mi_yes  \n",
       "2                         0         0       0           0      1       0  \n",
       "4                         0         1       0           0      1       0  \n",
       "9                         0         0       0           0      1       0  \n",
       "12                        0         1       0           0      1       0  \n",
       "14                        0         1       0           0      1       0  \n",
       "\n",
       "[5 rows x 24 columns]"
      ]
     },
     "execution_count": 58,
     "metadata": {},
     "output_type": "execute_result"
    }
   ],
   "source": [
    "model_data.head()"
   ]
  },
  {
   "cell_type": "code",
   "execution_count": 59,
   "metadata": {},
   "outputs": [
    {
     "data": {
      "text/plain": [
       "(4541, 24)"
      ]
     },
     "execution_count": 59,
     "metadata": {},
     "output_type": "execute_result"
    }
   ],
   "source": [
    "model_data.shape"
   ]
  },
  {
   "cell_type": "code",
   "execution_count": 60,
   "metadata": {},
   "outputs": [
    {
     "data": {
      "text/plain": [
       "(4541,)"
      ]
     },
     "execution_count": 60,
     "metadata": {},
     "output_type": "execute_result"
    }
   ],
   "source": [
    "data['mortstat'].shape"
   ]
  },
  {
   "cell_type": "markdown",
   "metadata": {},
   "source": [
    "Split data into train and test"
   ]
  },
  {
   "cell_type": "code",
   "execution_count": 61,
   "metadata": {},
   "outputs": [],
   "source": [
    "train_x, test_x, train_y, test_y = train_test_split(model_data, data['mortstat'], test_size = 0.3, random_state = 10)"
   ]
  },
  {
   "cell_type": "code",
   "execution_count": 62,
   "metadata": {},
   "outputs": [
    {
     "name": "stdout",
     "output_type": "stream",
     "text": [
      "(3178, 24) (1363, 24) (3178,) (1363,)\n"
     ]
    }
   ],
   "source": [
    "print(train_x.shape, test_x.shape, train_y.shape, test_y.shape)"
   ]
  },
  {
   "cell_type": "code",
   "execution_count": 63,
   "metadata": {},
   "outputs": [],
   "source": [
    "rf_params = { \n",
    "    'max_depth': np.arange(2,7),  \n",
    "    'min_samples_leaf': [0.01, 0.05, 0.1, 0.15, 0.2],\n",
    "    'n_estimators': [100, 200, 400, 600, 1000], \n",
    "    'max_features': [3, 4, 5, 6, 7, 10, 20]\n",
    "}\n",
    "rf = RandomForestClassifier(class_weight='balanced', n_jobs=-1, verbose=False, oob_score=True)\n",
    "random_cv = RandomizedSearchCV(rf, cv=5, param_distributions=rf_params)"
   ]
  },
  {
   "cell_type": "code",
   "execution_count": 64,
   "metadata": {},
   "outputs": [
    {
     "data": {
      "text/plain": [
       "RandomizedSearchCV(cv=5, error_score='raise-deprecating',\n",
       "          estimator=RandomForestClassifier(bootstrap=True, class_weight='balanced',\n",
       "            criterion='gini', max_depth=None, max_features='auto',\n",
       "            max_leaf_nodes=None, min_impurity_decrease=0.0,\n",
       "            min_impurity_split=None, min_samples_leaf=1,\n",
       "            min_samples_split=2, min_weight_fraction_leaf=0.0,\n",
       "            n_estimators='warn', n_jobs=-1, oob_score=True,\n",
       "            random_state=None, verbose=False, warm_start=False),\n",
       "          fit_params=None, iid='warn', n_iter=10, n_jobs=None,\n",
       "          param_distributions={'max_depth': array([2, 3, 4, 5, 6]), 'min_samples_leaf': [0.01, 0.05, 0.1, 0.15, 0.2], 'n_estimators': [100, 200, 400, 600, 1000], 'max_features': [3, 4, 5, 6, 7, 10, 20]},\n",
       "          pre_dispatch='2*n_jobs', random_state=None, refit=True,\n",
       "          return_train_score='warn', scoring=None, verbose=0)"
      ]
     },
     "execution_count": 64,
     "metadata": {},
     "output_type": "execute_result"
    }
   ],
   "source": [
    "random_cv.fit(train_x, train_y)"
   ]
  },
  {
   "cell_type": "code",
   "execution_count": 65,
   "metadata": {},
   "outputs": [
    {
     "data": {
      "text/plain": [
       "{'n_estimators': 100,\n",
       " 'min_samples_leaf': 0.01,\n",
       " 'max_features': 20,\n",
       " 'max_depth': 6}"
      ]
     },
     "execution_count": 65,
     "metadata": {},
     "output_type": "execute_result"
    }
   ],
   "source": [
    "random_cv.best_params_"
   ]
  },
  {
   "cell_type": "code",
   "execution_count": 66,
   "metadata": {},
   "outputs": [],
   "source": [
    "rf = RandomForestClassifier(class_weight='balanced', n_jobs=-1, verbose=True, **random_cv.best_params_)"
   ]
  },
  {
   "cell_type": "code",
   "execution_count": 67,
   "metadata": {},
   "outputs": [
    {
     "name": "stderr",
     "output_type": "stream",
     "text": [
      "[Parallel(n_jobs=-1)]: Using backend ThreadingBackend with 12 concurrent workers.\n",
      "[Parallel(n_jobs=-1)]: Done  26 tasks      | elapsed:    0.0s\n",
      "[Parallel(n_jobs=-1)]: Done 100 out of 100 | elapsed:    0.1s finished\n"
     ]
    },
    {
     "data": {
      "text/plain": [
       "RandomForestClassifier(bootstrap=True, class_weight='balanced',\n",
       "            criterion='gini', max_depth=6, max_features=20,\n",
       "            max_leaf_nodes=None, min_impurity_decrease=0.0,\n",
       "            min_impurity_split=None, min_samples_leaf=0.01,\n",
       "            min_samples_split=2, min_weight_fraction_leaf=0.0,\n",
       "            n_estimators=100, n_jobs=-1, oob_score=False,\n",
       "            random_state=None, verbose=True, warm_start=False)"
      ]
     },
     "execution_count": 67,
     "metadata": {},
     "output_type": "execute_result"
    }
   ],
   "source": [
    "rf.fit(train_x, train_y)"
   ]
  },
  {
   "cell_type": "code",
   "execution_count": 68,
   "metadata": {},
   "outputs": [
    {
     "name": "stderr",
     "output_type": "stream",
     "text": [
      "[Parallel(n_jobs=12)]: Using backend ThreadingBackend with 12 concurrent workers.\n",
      "[Parallel(n_jobs=12)]: Done  26 tasks      | elapsed:    0.0s\n",
      "[Parallel(n_jobs=12)]: Done 100 out of 100 | elapsed:    0.0s finished\n"
     ]
    }
   ],
   "source": [
    "test_pred = rf.predict_proba(test_x)[:,1]"
   ]
  },
  {
   "cell_type": "code",
   "execution_count": 69,
   "metadata": {},
   "outputs": [
    {
     "data": {
      "text/plain": [
       "0.7479838947728856"
      ]
     },
     "execution_count": 69,
     "metadata": {},
     "output_type": "execute_result"
    }
   ],
   "source": [
    "roc_auc_score(test_y, test_pred)"
   ]
  },
  {
   "cell_type": "code",
   "execution_count": 70,
   "metadata": {},
   "outputs": [
    {
     "name": "stderr",
     "output_type": "stream",
     "text": [
      "[Parallel(n_jobs=12)]: Using backend ThreadingBackend with 12 concurrent workers.\n",
      "[Parallel(n_jobs=12)]: Done  26 tasks      | elapsed:    0.0s\n",
      "[Parallel(n_jobs=12)]: Done 100 out of 100 | elapsed:    0.1s finished\n"
     ]
    },
    {
     "data": {
      "text/plain": [
       "0.7248716067498165"
      ]
     },
     "execution_count": 70,
     "metadata": {},
     "output_type": "execute_result"
    }
   ],
   "source": [
    "accuracy_score(test_y, rf.predict(test_x))"
   ]
  },
  {
   "cell_type": "code",
   "execution_count": 71,
   "metadata": {},
   "outputs": [
    {
     "data": {
      "image/png": "[encoded data removed]",
      "text/plain": [
       "<Figure size 432x288 with 1 Axes>"
      ]
     },
     "metadata": {
      "needs_background": "light"
     },
     "output_type": "display_data"
    }
   ],
   "source": [
    "features = model_data.columns\n",
    "importances = rf.feature_importances_\n",
    "indices = np.argsort(importances)\n",
    "\n",
    "plt.title('Feature Importances')\n",
    "plt.barh(range(len(indices)), importances[indices], color='b', align='center')\n",
    "plt.yticks(range(len(indices)), [features[i] for i in indices])\n",
    "plt.xlabel('Relative Importance')\n",
    "plt.show()"
   ]
  },
  {
   "cell_type": "code",
   "execution_count": 72,
   "metadata": {},
   "outputs": [
    {
     "data": {
      "image/png": "[encoded data removed]",
      "text/plain": [
       "<Figure size 432x288 with 1 Axes>"
      ]
     },
     "metadata": {
      "needs_background": "light"
     },
     "output_type": "display_data"
    }
   ],
   "source": [
    "fpr, tpr, threshold = roc_curve(test_y, test_pred)\n",
    "roc_auc = auc(fpr, tpr)\n",
    "plt.title('ROC RF testing')\n",
    "plt.plot(fpr, tpr, 'b', label = 'AUC = %0.2f' % roc_auc)\n",
    "plt.legend(loc = 'lower right')\n",
    "plt.plot([0, 1], [0, 1],'r--')\n",
    "plt.xlim([0, 1])\n",
    "plt.ylim([0, 1])\n",
    "plt.ylabel('True Positive Rate')\n",
    "plt.xlabel('False Positive Rate')\n",
    "plt.show()"
   ]
  },
  {
   "cell_type": "code",
   "execution_count": 73,
   "metadata": {},
   "outputs": [
    {
     "name": "stderr",
     "output_type": "stream",
     "text": [
      "[Parallel(n_jobs=12)]: Using backend ThreadingBackend with 12 concurrent workers.\n",
      "[Parallel(n_jobs=12)]: Done  26 tasks      | elapsed:    0.0s\n",
      "[Parallel(n_jobs=12)]: Done 100 out of 100 | elapsed:    0.0s finished\n"
     ]
    },
    {
     "data": {
      "image/png": "[encoded data removed]",
      "text/plain": [
       "<Figure size 432x288 with 1 Axes>"
      ]
     },
     "metadata": {
      "needs_background": "light"
     },
     "output_type": "display_data"
    }
   ],
   "source": [
    "train_pred = rf.predict_proba(train_x)[:,1]\n",
    "fpr, tpr, threshold = roc_curve(train_y, train_pred)\n",
    "roc_auc = auc(fpr, tpr)\n",
    "plt.title('ROC RF training')\n",
    "plt.plot(fpr, tpr, 'b', label = 'AUC = %0.2f' % roc_auc)\n",
    "plt.legend(loc = 'lower right')\n",
    "plt.plot([0, 1], [0, 1],'r--')\n",
    "plt.xlim([0, 1])\n",
    "plt.ylim([0, 1])\n",
    "plt.ylabel('True Positive Rate')\n",
    "plt.xlabel('False Positive Rate')\n",
    "plt.show()"
   ]
  },
  {
   "cell_type": "code",
   "execution_count": 74,
   "metadata": {},
   "outputs": [
    {
     "name": "stderr",
     "output_type": "stream",
     "text": [
      "[Parallel(n_jobs=12)]: Using backend ThreadingBackend with 12 concurrent workers.\n",
      "[Parallel(n_jobs=12)]: Done  26 tasks      | elapsed:    0.0s\n",
      "[Parallel(n_jobs=12)]: Done 100 out of 100 | elapsed:    0.0s finished\n"
     ]
    },
    {
     "data": {
      "text/plain": [
       "<matplotlib.axes._subplots.AxesSubplot at 0x7f0ca9cb2eb8>"
      ]
     },
     "execution_count": 74,
     "metadata": {},
     "output_type": "execute_result"
    },
    {
     "data": {
      "image/png": "[encoded data removed]",
      "text/plain": [
       "<Figure size 432x288 with 2 Axes>"
      ]
     },
     "metadata": {
      "needs_background": "light"
     },
     "output_type": "display_data"
    }
   ],
   "source": [
    "labelname = rf.classes_\n",
    "sns.heatmap(confusion_matrix(test_y, rf.predict(test_x)), annot=True,  fmt='', xticklabels=labelname, yticklabels=labelname)"
   ]
  },
  {
   "cell_type": "code",
   "execution_count": 75,
   "metadata": {},
   "outputs": [
    {
     "name": "stdout",
     "output_type": "stream",
     "text": [
      "              precision    recall  f1-score   support\n",
      "\n",
      "           0       0.86      0.76      0.81      1036\n",
      "           1       0.45      0.62      0.52       327\n",
      "\n",
      "   micro avg       0.72      0.72      0.72      1363\n",
      "   macro avg       0.66      0.69      0.66      1363\n",
      "weighted avg       0.76      0.72      0.74      1363\n",
      "\n"
     ]
    },
    {
     "name": "stderr",
     "output_type": "stream",
     "text": [
      "[Parallel(n_jobs=12)]: Using backend ThreadingBackend with 12 concurrent workers.\n",
      "[Parallel(n_jobs=12)]: Done  26 tasks      | elapsed:    0.0s\n",
      "[Parallel(n_jobs=12)]: Done 100 out of 100 | elapsed:    0.0s finished\n"
     ]
    }
   ],
   "source": [
    "print(classification_report(test_y, rf.predict(test_x)))"
   ]
  },
  {
   "cell_type": "code",
   "execution_count": 76,
   "metadata": {},
   "outputs": [],
   "source": [
    "xgb_params = { \n",
    "    'max_depth': np.arange(3,7),\n",
    "    'learn_rate' : [0.001, 0.01, 0.0001],\n",
    "    'gamma': [0.01, 0.05, 0.1, 0.15, 0.2, 0.5, 1],\n",
    "    'min_child_weight': [1, 2, 3, 4, 5, 6, 7, 10, 15],\n",
    "    'max_delta_step': [1, 2, 3, 4, 5, 6, 7, 10, 15],\n",
    "    'subsample' : [0.5, 0.8, 1],\n",
    "    'colsample_bytree' : [0.25, 0.5, 0.75, 1],\n",
    "    'n_estimators' : [100,200,500],\n",
    "    'importance_type' : [\"gain\", \"weight\", \"cover\", \"total_gain\", \"total_cover\"]\n",
    "}\n",
    "xgb = XGBClassifier(n_jobs=-1, eval_metric=[\"auc\", \"error\"], class_weight='balanced')\n",
    "random_cv = RandomizedSearchCV(xgb, cv=5, param_distributions=xgb_params)"
   ]
  },
  {
   "cell_type": "code",
   "execution_count": 77,
   "metadata": {},
   "outputs": [],
   "source": [
    "random_cv.fit(train_x, train_y)\n",
    "xgb = XGBClassifier(n_jobs=-1, eval_metric=[\"auc\", \"error\"], class_weight='balanced', **random_cv.best_params_)"
   ]
  },
  {
   "cell_type": "code",
   "execution_count": 78,
   "metadata": {},
   "outputs": [
    {
     "data": {
      "text/plain": [
       "XGBClassifier(base_score=0.5, booster='gbtree', class_weight='balanced',\n",
       "       colsample_bylevel=1, colsample_bytree=0.5,\n",
       "       eval_metric=['auc', 'error'], gamma=0.5, learn_rate=0.01,\n",
       "       learning_rate=0.1, max_delta_step=2, max_depth=4,\n",
       "       min_child_weight=15, missing=None, n_estimators=100, n_jobs=-1,\n",
       "       nthread=None, objective='binary:logistic', random_state=0,\n",
       "       reg_alpha=0, reg_lambda=1, scale_pos_weight=1, seed=None,\n",
       "       silent=True, subsample=1)"
      ]
     },
     "execution_count": 78,
     "metadata": {},
     "output_type": "execute_result"
    }
   ],
   "source": [
    "xgb"
   ]
  },
  {
   "cell_type": "code",
   "execution_count": 79,
   "metadata": {},
   "outputs": [
    {
     "data": {
      "text/plain": [
       "{'subsample': 1,\n",
       " 'n_estimators': 100,\n",
       " 'min_child_weight': 15,\n",
       " 'max_depth': 4,\n",
       " 'max_delta_step': 2,\n",
       " 'learn_rate': 0.01,\n",
       " 'importance_type': 'gain',\n",
       " 'gamma': 0.5,\n",
       " 'colsample_bytree': 0.5}"
      ]
     },
     "execution_count": 79,
     "metadata": {},
     "output_type": "execute_result"
    }
   ],
   "source": [
    "random_cv.best_params_"
   ]
  },
  {
   "cell_type": "code",
   "execution_count": 80,
   "metadata": {},
   "outputs": [
    {
     "data": {
      "text/plain": [
       "0.7630338398687023"
      ]
     },
     "execution_count": 80,
     "metadata": {},
     "output_type": "execute_result"
    }
   ],
   "source": [
    "xgb.fit(train_x, train_y)\n",
    "test_pred = xgb.predict_proba(test_x)[:,1]\n",
    "roc_auc_score(test_y, test_pred)"
   ]
  },
  {
   "cell_type": "code",
   "execution_count": 81,
   "metadata": {},
   "outputs": [
    {
     "data": {
      "text/plain": [
       "0.7791636096845195"
      ]
     },
     "execution_count": 81,
     "metadata": {},
     "output_type": "execute_result"
    }
   ],
   "source": [
    "accuracy_score(test_y, xgb.predict(test_x))"
   ]
  },
  {
   "cell_type": "code",
   "execution_count": 82,
   "metadata": {},
   "outputs": [
    {
     "data": {
      "image/png": "[encoded data removed]",
      "text/plain": [
       "<Figure size 432x288 with 1 Axes>"
      ]
     },
     "metadata": {
      "needs_background": "light"
     },
     "output_type": "display_data"
    }
   ],
   "source": [
    "fpr, tpr, threshold = roc_curve(test_y, test_pred)\n",
    "roc_auc = auc(fpr, tpr)\n",
    "plt.title('ROC XGBoost testing')\n",
    "plt.plot(fpr, tpr, 'b', label = 'AUC = %0.2f' % roc_auc)\n",
    "plt.legend(loc = 'lower right')\n",
    "plt.plot([0, 1], [0, 1],'r--')\n",
    "plt.xlim([0, 1])\n",
    "plt.ylim([0, 1])\n",
    "plt.ylabel('True Positive Rate')\n",
    "plt.xlabel('False Positive Rate')\n",
    "plt.show()"
   ]
  },
  {
   "cell_type": "code",
   "execution_count": 83,
   "metadata": {},
   "outputs": [
    {
     "name": "stderr",
     "output_type": "stream",
     "text": [
      "[Parallel(n_jobs=12)]: Using backend ThreadingBackend with 12 concurrent workers.\n",
      "[Parallel(n_jobs=12)]: Done  26 tasks      | elapsed:    0.0s\n",
      "[Parallel(n_jobs=12)]: Done 100 out of 100 | elapsed:    0.0s finished\n"
     ]
    },
    {
     "data": {
      "image/png": "[encoded data removed]",
      "text/plain": [
       "<Figure size 432x288 with 1 Axes>"
      ]
     },
     "metadata": {
      "needs_background": "light"
     },
     "output_type": "display_data"
    }
   ],
   "source": [
    "train_pred = rf.predict_proba(train_x)[:,1]\n",
    "fpr, tpr, threshold = roc_curve(train_y, train_pred)\n",
    "roc_auc = auc(fpr, tpr)\n",
    "plt.title('ROC XGBoost training')\n",
    "plt.plot(fpr, tpr, 'b', label = 'AUC = %0.2f' % roc_auc)\n",
    "plt.legend(loc = 'lower right')\n",
    "plt.plot([0, 1], [0, 1],'r--')\n",
    "plt.xlim([0, 1])\n",
    "plt.ylim([0, 1])\n",
    "plt.ylabel('True Positive Rate')\n",
    "plt.xlabel('False Positive Rate')\n",
    "plt.show()"
   ]
  },
  {
   "cell_type": "code",
   "execution_count": 84,
   "metadata": {},
   "outputs": [
    {
     "data": {
      "text/plain": [
       "<matplotlib.axes._subplots.AxesSubplot at 0x7f0cd8aa5e80>"
      ]
     },
     "execution_count": 84,
     "metadata": {},
     "output_type": "execute_result"
    },
    {
     "data": {
      "image/png": "[encoded data removed]",
      "text/plain": [
       "<Figure size 432x288 with 2 Axes>"
      ]
     },
     "metadata": {
      "needs_background": "light"
     },
     "output_type": "display_data"
    }
   ],
   "source": [
    "labelname = xgb.classes_\n",
    "sns.heatmap(confusion_matrix(test_y, xgb.predict(test_x)), annot=True,  fmt='', xticklabels=labelname, yticklabels=labelname)"
   ]
  },
  {
   "cell_type": "code",
   "execution_count": 85,
   "metadata": {},
   "outputs": [
    {
     "name": "stdout",
     "output_type": "stream",
     "text": [
      "              precision    recall  f1-score   support\n",
      "\n",
      "           0       0.80      0.94      0.87      1036\n",
      "           1       0.59      0.27      0.37       327\n",
      "\n",
      "   micro avg       0.78      0.78      0.78      1363\n",
      "   macro avg       0.69      0.61      0.62      1363\n",
      "weighted avg       0.75      0.78      0.75      1363\n",
      "\n"
     ]
    }
   ],
   "source": [
    "print(classification_report(test_y, xgb.predict(test_x)))"
   ]
  },
  {
   "cell_type": "code",
   "execution_count": null,
   "metadata": {},
   "outputs": [],
   "source": []
  },
  {
   "cell_type": "code",
   "execution_count": null,
   "metadata": {},
   "outputs": [],
   "source": []
  }
 ],
 "metadata": {
  "kernelspec": {
   "display_name": "Python 3",
   "language": "python",
   "name": "python3"
  },
  "language_info": {
   "codemirror_mode": {
    "name": "ipython",
    "version": 3
   },
   "file_extension": ".py",
   "mimetype": "text/x-python",
   "name": "python",
   "nbconvert_exporter": "python",
   "pygments_lexer": "ipython3",
   "version": "3.6.6"
  }
 },
 "nbformat": 4,
 "nbformat_minor": 2
}
