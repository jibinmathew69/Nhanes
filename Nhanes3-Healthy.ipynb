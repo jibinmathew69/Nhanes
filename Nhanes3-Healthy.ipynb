{
 "cells": [
  {
   "cell_type": "code",
   "execution_count": 1,
   "metadata": {},
   "outputs": [
    {
     "data": {
      "text/html": [
       "<script type=\"text/javascript\">window.PlotlyConfig = {MathJaxConfig: 'local'};</script><script type=\"text/javascript\">if (window.MathJax) {MathJax.Hub.Config({SVG: {font: \"STIX-Web\"}});}</script><script>requirejs.config({paths: { 'plotly': ['https://cdn.plot.ly/plotly-latest.min']},});if(!window._Plotly) {require(['plotly'],function(plotly) {window._Plotly=plotly;});}</script>"
      ],
      "text/vnd.plotly.v1+html": [
       "<script type=\"text/javascript\">window.PlotlyConfig = {MathJaxConfig: 'local'};</script><script type=\"text/javascript\">if (window.MathJax) {MathJax.Hub.Config({SVG: {font: \"STIX-Web\"}});}</script><script>requirejs.config({paths: { 'plotly': ['https://cdn.plot.ly/plotly-latest.min']},});if(!window._Plotly) {require(['plotly'],function(plotly) {window._Plotly=plotly;});}</script>"
      ]
     },
     "metadata": {},
     "output_type": "display_data"
    }
   ],
   "source": [
    "import numpy as np\n",
    "import pandas as pd\n",
    "\n",
    "import plotly.graph_objs as go\n",
    "from plotly.offline import init_notebook_mode, plot, iplot\n",
    "init_notebook_mode(connected=True)\n",
    "\n",
    "from statsmodels.stats.outliers_influence import variance_inflation_factor\n",
    "\n",
    "import seaborn as sns\n",
    "import matplotlib.pyplot as plt\n",
    "%matplotlib inline\n",
    "\n",
    "import sklearn\n",
    "from sklearn.model_selection import train_test_split, RandomizedSearchCV, GridSearchCV\n",
    "from sklearn.ensemble import RandomForestClassifier\n",
    "\n",
    "from sklearn.metrics import roc_auc_score, roc_curve, auc, confusion_matrix, classification_report, accuracy_score\n",
    "\n",
    "from xgboost import XGBClassifier"
   ]
  },
  {
   "cell_type": "code",
   "execution_count": 2,
   "metadata": {},
   "outputs": [],
   "source": [
    "data = pd.read_csv('data/nhanes32006data.csv')"
   ]
  },
  {
   "cell_type": "code",
   "execution_count": 3,
   "metadata": {},
   "outputs": [
    {
     "data": {
      "text/html": [
       "<div>\n",
       "<style scoped>\n",
       "    .dataframe tbody tr th:only-of-type {\n",
       "        vertical-align: middle;\n",
       "    }\n",
       "\n",
       "    .dataframe tbody tr th {\n",
       "        vertical-align: top;\n",
       "    }\n",
       "\n",
       "    .dataframe thead th {\n",
       "        text-align: right;\n",
       "    }\n",
       "</style>\n",
       "<table border=\"1\" class=\"dataframe\">\n",
       "  <thead>\n",
       "    <tr style=\"text-align: right;\">\n",
       "      <th></th>\n",
       "      <th>Unnamed: 0</th>\n",
       "      <th>age</th>\n",
       "      <th>agestrat</th>\n",
       "      <th>sex</th>\n",
       "      <th>race</th>\n",
       "      <th>ses</th>\n",
       "      <th>smokehx</th>\n",
       "      <th>bmi</th>\n",
       "      <th>obese</th>\n",
       "      <th>htnhx</th>\n",
       "      <th>...</th>\n",
       "      <th>higlu</th>\n",
       "      <th>hba1c</th>\n",
       "      <th>dm</th>\n",
       "      <th>hf</th>\n",
       "      <th>stroke</th>\n",
       "      <th>mi</th>\n",
       "      <th>fasttime</th>\n",
       "      <th>fast</th>\n",
       "      <th>mortstat</th>\n",
       "      <th>PERMTH_INT</th>\n",
       "    </tr>\n",
       "  </thead>\n",
       "  <tbody>\n",
       "    <tr>\n",
       "      <th>0</th>\n",
       "      <td>1</td>\n",
       "      <td>21.750000</td>\n",
       "      <td>21-35</td>\n",
       "      <td>male</td>\n",
       "      <td>non hispanic black</td>\n",
       "      <td>0.641</td>\n",
       "      <td>yes</td>\n",
       "      <td>25.5</td>\n",
       "      <td>no</td>\n",
       "      <td>hypertensive</td>\n",
       "      <td>...</td>\n",
       "      <td>no</td>\n",
       "      <td>5.3</td>\n",
       "      <td>no</td>\n",
       "      <td>no</td>\n",
       "      <td>no</td>\n",
       "      <td>no</td>\n",
       "      <td>6.52</td>\n",
       "      <td>no</td>\n",
       "      <td>alive</td>\n",
       "      <td>203.0</td>\n",
       "    </tr>\n",
       "    <tr>\n",
       "      <th>1</th>\n",
       "      <td>2</td>\n",
       "      <td>32.000000</td>\n",
       "      <td>21-35</td>\n",
       "      <td>female</td>\n",
       "      <td>non hispanic black</td>\n",
       "      <td>4.803</td>\n",
       "      <td>yes</td>\n",
       "      <td>23.4</td>\n",
       "      <td>yes</td>\n",
       "      <td>no</td>\n",
       "      <td>...</td>\n",
       "      <td>no</td>\n",
       "      <td>4.6</td>\n",
       "      <td>no</td>\n",
       "      <td>no</td>\n",
       "      <td>no</td>\n",
       "      <td>no</td>\n",
       "      <td>6.12</td>\n",
       "      <td>no</td>\n",
       "      <td>alive</td>\n",
       "      <td>201.0</td>\n",
       "    </tr>\n",
       "    <tr>\n",
       "      <th>2</th>\n",
       "      <td>3</td>\n",
       "      <td>48.583333</td>\n",
       "      <td>35-50</td>\n",
       "      <td>female</td>\n",
       "      <td>hispanic</td>\n",
       "      <td>3.747</td>\n",
       "      <td>no</td>\n",
       "      <td>27.6</td>\n",
       "      <td>yes</td>\n",
       "      <td>no</td>\n",
       "      <td>...</td>\n",
       "      <td>no</td>\n",
       "      <td>5.3</td>\n",
       "      <td>no</td>\n",
       "      <td>no</td>\n",
       "      <td>no</td>\n",
       "      <td>no</td>\n",
       "      <td>13.73</td>\n",
       "      <td>no</td>\n",
       "      <td>alive</td>\n",
       "      <td>201.0</td>\n",
       "    </tr>\n",
       "    <tr>\n",
       "      <th>3</th>\n",
       "      <td>4</td>\n",
       "      <td>35.666667</td>\n",
       "      <td>35-50</td>\n",
       "      <td>male</td>\n",
       "      <td>hispanic</td>\n",
       "      <td>5.406</td>\n",
       "      <td>yes</td>\n",
       "      <td>29.4</td>\n",
       "      <td>yes</td>\n",
       "      <td>hypertensive</td>\n",
       "      <td>...</td>\n",
       "      <td>no</td>\n",
       "      <td>4.6</td>\n",
       "      <td>no</td>\n",
       "      <td>no</td>\n",
       "      <td>no</td>\n",
       "      <td>no</td>\n",
       "      <td>15.45</td>\n",
       "      <td>no</td>\n",
       "      <td>alive</td>\n",
       "      <td>196.0</td>\n",
       "    </tr>\n",
       "    <tr>\n",
       "      <th>4</th>\n",
       "      <td>5</td>\n",
       "      <td>48.500000</td>\n",
       "      <td>35-50</td>\n",
       "      <td>male</td>\n",
       "      <td>non hispanic black</td>\n",
       "      <td>1.676</td>\n",
       "      <td>no</td>\n",
       "      <td>25.0</td>\n",
       "      <td>no</td>\n",
       "      <td>no</td>\n",
       "      <td>...</td>\n",
       "      <td>yes</td>\n",
       "      <td>9.1</td>\n",
       "      <td>diabetes</td>\n",
       "      <td>no</td>\n",
       "      <td>no</td>\n",
       "      <td>no</td>\n",
       "      <td>1.85</td>\n",
       "      <td>yes</td>\n",
       "      <td>alive</td>\n",
       "      <td>190.0</td>\n",
       "    </tr>\n",
       "  </tbody>\n",
       "</table>\n",
       "<p>5 rows × 33 columns</p>\n",
       "</div>"
      ],
      "text/plain": [
       "   Unnamed: 0        age agestrat     sex                race    ses smokehx  \\\n",
       "0           1  21.750000    21-35    male  non hispanic black  0.641     yes   \n",
       "1           2  32.000000    21-35  female  non hispanic black  4.803     yes   \n",
       "2           3  48.583333    35-50  female            hispanic  3.747      no   \n",
       "3           4  35.666667    35-50    male            hispanic  5.406     yes   \n",
       "4           5  48.500000    35-50    male  non hispanic black  1.676      no   \n",
       "\n",
       "    bmi obese         htnhx  ...  higlu  hba1c        dm  hf  stroke  mi  \\\n",
       "0  25.5    no  hypertensive  ...     no    5.3        no  no      no  no   \n",
       "1  23.4   yes            no  ...     no    4.6        no  no      no  no   \n",
       "2  27.6   yes            no  ...     no    5.3        no  no      no  no   \n",
       "3  29.4   yes  hypertensive  ...     no    4.6        no  no      no  no   \n",
       "4  25.0    no            no  ...    yes    9.1  diabetes  no      no  no   \n",
       "\n",
       "  fasttime fast mortstat  PERMTH_INT  \n",
       "0     6.52   no    alive       203.0  \n",
       "1     6.12   no    alive       201.0  \n",
       "2    13.73   no    alive       201.0  \n",
       "3    15.45   no    alive       196.0  \n",
       "4     1.85  yes    alive       190.0  \n",
       "\n",
       "[5 rows x 33 columns]"
      ]
     },
     "execution_count": 3,
     "metadata": {},
     "output_type": "execute_result"
    }
   ],
   "source": [
    "data.head()"
   ]
  },
  {
   "cell_type": "code",
   "execution_count": 4,
   "metadata": {},
   "outputs": [
    {
     "data": {
      "text/plain": [
       "(18414, 33)"
      ]
     },
     "execution_count": 4,
     "metadata": {},
     "output_type": "execute_result"
    }
   ],
   "source": [
    "data.shape"
   ]
  },
  {
   "cell_type": "code",
   "execution_count": 5,
   "metadata": {},
   "outputs": [],
   "source": [
    "required_columns = ['obese', 'uralb', 'trig', 'hdl', 'chol', 'hldhx', 'htnhx', 'sbp', 'dbp', 'bmi', 'smokehx', 'ses', 'race', 'sex', 'age', 'hf', 'stroke', 'mi', 'hba1c']\n",
    "target = \"mortstat\""
   ]
  },
  {
   "cell_type": "code",
   "execution_count": 6,
   "metadata": {},
   "outputs": [
    {
     "data": {
      "text/plain": [
       "obese       object\n",
       "uralb      float64\n",
       "trig       float64\n",
       "hdl        float64\n",
       "chol       float64\n",
       "hldhx      float64\n",
       "htnhx       object\n",
       "sbp        float64\n",
       "dbp        float64\n",
       "bmi        float64\n",
       "smokehx     object\n",
       "ses        float64\n",
       "race        object\n",
       "sex         object\n",
       "age        float64\n",
       "hf          object\n",
       "stroke      object\n",
       "mi          object\n",
       "hba1c      float64\n",
       "dtype: object"
      ]
     },
     "execution_count": 6,
     "metadata": {},
     "output_type": "execute_result"
    }
   ],
   "source": [
    "data[required_columns].dtypes"
   ]
  },
  {
   "cell_type": "code",
   "execution_count": 7,
   "metadata": {},
   "outputs": [],
   "source": [
    "data = data[required_columns + [target]]"
   ]
  },
  {
   "cell_type": "code",
   "execution_count": 8,
   "metadata": {},
   "outputs": [
    {
     "data": {
      "text/html": [
       "<div>\n",
       "<style scoped>\n",
       "    .dataframe tbody tr th:only-of-type {\n",
       "        vertical-align: middle;\n",
       "    }\n",
       "\n",
       "    .dataframe tbody tr th {\n",
       "        vertical-align: top;\n",
       "    }\n",
       "\n",
       "    .dataframe thead th {\n",
       "        text-align: right;\n",
       "    }\n",
       "</style>\n",
       "<table border=\"1\" class=\"dataframe\">\n",
       "  <thead>\n",
       "    <tr style=\"text-align: right;\">\n",
       "      <th></th>\n",
       "      <th>obese</th>\n",
       "      <th>uralb</th>\n",
       "      <th>trig</th>\n",
       "      <th>hdl</th>\n",
       "      <th>chol</th>\n",
       "      <th>hldhx</th>\n",
       "      <th>htnhx</th>\n",
       "      <th>sbp</th>\n",
       "      <th>dbp</th>\n",
       "      <th>bmi</th>\n",
       "      <th>smokehx</th>\n",
       "      <th>ses</th>\n",
       "      <th>race</th>\n",
       "      <th>sex</th>\n",
       "      <th>age</th>\n",
       "      <th>hf</th>\n",
       "      <th>stroke</th>\n",
       "      <th>mi</th>\n",
       "      <th>hba1c</th>\n",
       "      <th>mortstat</th>\n",
       "    </tr>\n",
       "  </thead>\n",
       "  <tbody>\n",
       "    <tr>\n",
       "      <th>0</th>\n",
       "      <td>no</td>\n",
       "      <td>5.8</td>\n",
       "      <td>174.0</td>\n",
       "      <td>38.0</td>\n",
       "      <td>268.0</td>\n",
       "      <td>1.0</td>\n",
       "      <td>hypertensive</td>\n",
       "      <td>120.0</td>\n",
       "      <td>67.0</td>\n",
       "      <td>25.5</td>\n",
       "      <td>yes</td>\n",
       "      <td>0.641</td>\n",
       "      <td>non hispanic black</td>\n",
       "      <td>male</td>\n",
       "      <td>21.750000</td>\n",
       "      <td>no</td>\n",
       "      <td>no</td>\n",
       "      <td>no</td>\n",
       "      <td>5.3</td>\n",
       "      <td>alive</td>\n",
       "    </tr>\n",
       "    <tr>\n",
       "      <th>1</th>\n",
       "      <td>yes</td>\n",
       "      <td>2.2</td>\n",
       "      <td>84.0</td>\n",
       "      <td>55.0</td>\n",
       "      <td>160.0</td>\n",
       "      <td>1.0</td>\n",
       "      <td>no</td>\n",
       "      <td>126.0</td>\n",
       "      <td>86.0</td>\n",
       "      <td>23.4</td>\n",
       "      <td>yes</td>\n",
       "      <td>4.803</td>\n",
       "      <td>non hispanic black</td>\n",
       "      <td>female</td>\n",
       "      <td>32.000000</td>\n",
       "      <td>no</td>\n",
       "      <td>no</td>\n",
       "      <td>no</td>\n",
       "      <td>4.6</td>\n",
       "      <td>alive</td>\n",
       "    </tr>\n",
       "    <tr>\n",
       "      <th>2</th>\n",
       "      <td>yes</td>\n",
       "      <td>1.6</td>\n",
       "      <td>98.0</td>\n",
       "      <td>66.0</td>\n",
       "      <td>236.0</td>\n",
       "      <td>2.0</td>\n",
       "      <td>no</td>\n",
       "      <td>131.0</td>\n",
       "      <td>73.0</td>\n",
       "      <td>27.6</td>\n",
       "      <td>no</td>\n",
       "      <td>3.747</td>\n",
       "      <td>hispanic</td>\n",
       "      <td>female</td>\n",
       "      <td>48.583333</td>\n",
       "      <td>no</td>\n",
       "      <td>no</td>\n",
       "      <td>no</td>\n",
       "      <td>5.3</td>\n",
       "      <td>alive</td>\n",
       "    </tr>\n",
       "    <tr>\n",
       "      <th>3</th>\n",
       "      <td>yes</td>\n",
       "      <td>8.5</td>\n",
       "      <td>109.0</td>\n",
       "      <td>43.0</td>\n",
       "      <td>225.0</td>\n",
       "      <td>2.0</td>\n",
       "      <td>hypertensive</td>\n",
       "      <td>130.0</td>\n",
       "      <td>82.0</td>\n",
       "      <td>29.4</td>\n",
       "      <td>yes</td>\n",
       "      <td>5.406</td>\n",
       "      <td>hispanic</td>\n",
       "      <td>male</td>\n",
       "      <td>35.666667</td>\n",
       "      <td>no</td>\n",
       "      <td>no</td>\n",
       "      <td>no</td>\n",
       "      <td>4.6</td>\n",
       "      <td>alive</td>\n",
       "    </tr>\n",
       "    <tr>\n",
       "      <th>4</th>\n",
       "      <td>no</td>\n",
       "      <td>11.3</td>\n",
       "      <td>94.0</td>\n",
       "      <td>51.0</td>\n",
       "      <td>260.0</td>\n",
       "      <td>1.0</td>\n",
       "      <td>no</td>\n",
       "      <td>120.0</td>\n",
       "      <td>70.0</td>\n",
       "      <td>25.0</td>\n",
       "      <td>no</td>\n",
       "      <td>1.676</td>\n",
       "      <td>non hispanic black</td>\n",
       "      <td>male</td>\n",
       "      <td>48.500000</td>\n",
       "      <td>no</td>\n",
       "      <td>no</td>\n",
       "      <td>no</td>\n",
       "      <td>9.1</td>\n",
       "      <td>alive</td>\n",
       "    </tr>\n",
       "  </tbody>\n",
       "</table>\n",
       "</div>"
      ],
      "text/plain": [
       "  obese  uralb   trig   hdl   chol  hldhx         htnhx    sbp   dbp   bmi  \\\n",
       "0    no    5.8  174.0  38.0  268.0    1.0  hypertensive  120.0  67.0  25.5   \n",
       "1   yes    2.2   84.0  55.0  160.0    1.0            no  126.0  86.0  23.4   \n",
       "2   yes    1.6   98.0  66.0  236.0    2.0            no  131.0  73.0  27.6   \n",
       "3   yes    8.5  109.0  43.0  225.0    2.0  hypertensive  130.0  82.0  29.4   \n",
       "4    no   11.3   94.0  51.0  260.0    1.0            no  120.0  70.0  25.0   \n",
       "\n",
       "  smokehx    ses                race     sex        age  hf stroke  mi  hba1c  \\\n",
       "0     yes  0.641  non hispanic black    male  21.750000  no     no  no    5.3   \n",
       "1     yes  4.803  non hispanic black  female  32.000000  no     no  no    4.6   \n",
       "2      no  3.747            hispanic  female  48.583333  no     no  no    5.3   \n",
       "3     yes  5.406            hispanic    male  35.666667  no     no  no    4.6   \n",
       "4      no  1.676  non hispanic black    male  48.500000  no     no  no    9.1   \n",
       "\n",
       "  mortstat  \n",
       "0    alive  \n",
       "1    alive  \n",
       "2    alive  \n",
       "3    alive  \n",
       "4    alive  "
      ]
     },
     "execution_count": 8,
     "metadata": {},
     "output_type": "execute_result"
    }
   ],
   "source": [
    "data.head()"
   ]
  },
  {
   "cell_type": "code",
   "execution_count": 9,
   "metadata": {},
   "outputs": [
    {
     "data": {
      "text/plain": [
       "(18414, 20)"
      ]
     },
     "execution_count": 9,
     "metadata": {},
     "output_type": "execute_result"
    }
   ],
   "source": [
    "data.shape"
   ]
  },
  {
   "cell_type": "code",
   "execution_count": 10,
   "metadata": {},
   "outputs": [],
   "source": [
    "data = data[(data['age'] >= 45 ) & (data['age'] <= 65)]"
   ]
  },
  {
   "cell_type": "code",
   "execution_count": 11,
   "metadata": {},
   "outputs": [
    {
     "data": {
      "text/plain": [
       "(4545, 20)"
      ]
     },
     "execution_count": 11,
     "metadata": {},
     "output_type": "execute_result"
    }
   ],
   "source": [
    "data.shape"
   ]
  },
  {
   "cell_type": "markdown",
   "metadata": {},
   "source": [
    "Remove patients with mi or hf or stroke"
   ]
  },
  {
   "cell_type": "code",
   "execution_count": 12,
   "metadata": {},
   "outputs": [
    {
     "data": {
      "text/plain": [
       "(4133, 20)"
      ]
     },
     "execution_count": 12,
     "metadata": {},
     "output_type": "execute_result"
    }
   ],
   "source": [
    "data = data[(data['hf'] != 'yes') & (data['stroke'] != 'yes') & (data['mi'] != 'yes')]\n",
    "data.shape"
   ]
  },
  {
   "cell_type": "markdown",
   "metadata": {},
   "source": [
    "Read the number of nan values"
   ]
  },
  {
   "cell_type": "code",
   "execution_count": 13,
   "metadata": {},
   "outputs": [
    {
     "name": "stdout",
     "output_type": "stream",
     "text": [
      "<class 'pandas.core.frame.DataFrame'>\n",
      "Int64Index: 4133 entries, 2 to 18407\n",
      "Data columns (total 20 columns):\n",
      "obese       3746 non-null object\n",
      "uralb       3746 non-null float64\n",
      "trig        3621 non-null float64\n",
      "hdl         3600 non-null float64\n",
      "chol        3627 non-null float64\n",
      "hldhx       4024 non-null float64\n",
      "htnhx       4114 non-null object\n",
      "sbp         3741 non-null float64\n",
      "dbp         3740 non-null float64\n",
      "bmi         3767 non-null float64\n",
      "smokehx     4133 non-null object\n",
      "ses         4133 non-null float64\n",
      "race        4133 non-null object\n",
      "sex         4133 non-null object\n",
      "age         4133 non-null float64\n",
      "hf          4131 non-null object\n",
      "stroke      4131 non-null object\n",
      "mi          4073 non-null object\n",
      "hba1c       3667 non-null float64\n",
      "mortstat    4129 non-null object\n",
      "dtypes: float64(11), object(9)\n",
      "memory usage: 678.1+ KB\n"
     ]
    }
   ],
   "source": [
    "data.info()"
   ]
  },
  {
   "cell_type": "markdown",
   "metadata": {},
   "source": [
    "Percentage of missing data"
   ]
  },
  {
   "cell_type": "code",
   "execution_count": 14,
   "metadata": {},
   "outputs": [
    {
     "data": {
      "text/plain": [
       "738"
      ]
     },
     "execution_count": 14,
     "metadata": {},
     "output_type": "execute_result"
    }
   ],
   "source": [
    "data.isna().any(axis = 1).sum()"
   ]
  },
  {
   "cell_type": "code",
   "execution_count": 15,
   "metadata": {},
   "outputs": [
    {
     "data": {
      "text/plain": [
       "17.85627873215582"
      ]
     },
     "execution_count": 15,
     "metadata": {},
     "output_type": "execute_result"
    }
   ],
   "source": [
    "100*data.isna().any(axis = 1).sum()/data.shape[0]"
   ]
  },
  {
   "cell_type": "code",
   "execution_count": 16,
   "metadata": {},
   "outputs": [],
   "source": [
    "data['hldhx'] = data['hldhx'].astype(object)"
   ]
  },
  {
   "cell_type": "code",
   "execution_count": 17,
   "metadata": {},
   "outputs": [
    {
     "data": {
      "text/plain": [
       "Index(['obese', 'hldhx', 'htnhx', 'smokehx', 'race', 'sex', 'hf', 'stroke',\n",
       "       'mi', 'mortstat'],\n",
       "      dtype='object')"
      ]
     },
     "execution_count": 17,
     "metadata": {},
     "output_type": "execute_result"
    }
   ],
   "source": [
    "categorical_columns = data.select_dtypes('object').columns\n",
    "categorical_columns"
   ]
  },
  {
   "cell_type": "code",
   "execution_count": 18,
   "metadata": {},
   "outputs": [
    {
     "data": {
      "text/plain": [
       "['sbp', 'age', 'dbp', 'bmi', 'uralb', 'trig', 'chol', 'hdl', 'ses', 'hba1c']"
      ]
     },
     "execution_count": 18,
     "metadata": {},
     "output_type": "execute_result"
    }
   ],
   "source": [
    "numerical_columns = list(set(data.columns) - set(categorical_columns))\n",
    "numerical_columns"
   ]
  },
  {
   "cell_type": "markdown",
   "metadata": {},
   "source": [
    "Missing data in Categorical Columns"
   ]
  },
  {
   "cell_type": "code",
   "execution_count": 19,
   "metadata": {},
   "outputs": [],
   "source": [
    "def count_empty(data, columns):\n",
    "    return data[columns].isna().sum()"
   ]
  },
  {
   "cell_type": "markdown",
   "metadata": {},
   "source": [
    "Percentage of missing data in each column"
   ]
  },
  {
   "cell_type": "code",
   "execution_count": 20,
   "metadata": {},
   "outputs": [],
   "source": [
    "def percentage_empty(data, columns):\n",
    "    return 100*data[columns].isna().sum()/data.shape[0]"
   ]
  },
  {
   "cell_type": "code",
   "execution_count": 21,
   "metadata": {},
   "outputs": [
    {
     "data": {
      "text/plain": [
       "obese       9.363658\n",
       "hldhx       2.637309\n",
       "htnhx       0.459714\n",
       "smokehx     0.000000\n",
       "race        0.000000\n",
       "sex         0.000000\n",
       "hf          0.048391\n",
       "stroke      0.048391\n",
       "mi          1.451730\n",
       "mortstat    0.096782\n",
       "dtype: float64"
      ]
     },
     "execution_count": 21,
     "metadata": {},
     "output_type": "execute_result"
    }
   ],
   "source": [
    "percentage_empty(data, categorical_columns)"
   ]
  },
  {
   "cell_type": "code",
   "execution_count": 22,
   "metadata": {},
   "outputs": [],
   "source": [
    "data.loc[data['obese'].isnull(), 'obese'] = \"Not_Available\"\n",
    "data.loc[data['htnhx'].isnull(), 'htnhx'] = \"Not_Available\"\n",
    "data.loc[data['mi'].isnull(), 'mi'] = \"Not_Available\""
   ]
  },
  {
   "cell_type": "code",
   "execution_count": 23,
   "metadata": {},
   "outputs": [
    {
     "data": {
      "text/plain": [
       "obese       0.000000\n",
       "hldhx       2.637309\n",
       "htnhx       0.000000\n",
       "smokehx     0.000000\n",
       "race        0.000000\n",
       "sex         0.000000\n",
       "hf          0.048391\n",
       "stroke      0.048391\n",
       "mi          0.000000\n",
       "mortstat    0.096782\n",
       "dtype: float64"
      ]
     },
     "execution_count": 23,
     "metadata": {},
     "output_type": "execute_result"
    }
   ],
   "source": [
    "percentage_empty(data, categorical_columns)"
   ]
  },
  {
   "cell_type": "code",
   "execution_count": 24,
   "metadata": {},
   "outputs": [
    {
     "data": {
      "text/plain": [
       "obese         0\n",
       "hldhx       109\n",
       "htnhx         0\n",
       "smokehx       0\n",
       "race          0\n",
       "sex           0\n",
       "hf            2\n",
       "stroke        2\n",
       "mi            0\n",
       "mortstat      4\n",
       "dtype: int64"
      ]
     },
     "execution_count": 24,
     "metadata": {},
     "output_type": "execute_result"
    }
   ],
   "source": [
    "count_empty(data, categorical_columns)"
   ]
  },
  {
   "cell_type": "code",
   "execution_count": 25,
   "metadata": {},
   "outputs": [
    {
     "data": {
      "text/plain": [
       "no     4131\n",
       "NaN       2\n",
       "Name: hf, dtype: int64"
      ]
     },
     "execution_count": 25,
     "metadata": {},
     "output_type": "execute_result"
    }
   ],
   "source": [
    "data['hf'].value_counts(dropna = False)"
   ]
  },
  {
   "cell_type": "code",
   "execution_count": 26,
   "metadata": {},
   "outputs": [
    {
     "data": {
      "text/plain": [
       "no     4131\n",
       "NaN       2\n",
       "Name: stroke, dtype: int64"
      ]
     },
     "execution_count": 26,
     "metadata": {},
     "output_type": "execute_result"
    }
   ],
   "source": [
    "data['stroke'].value_counts(dropna = False)"
   ]
  },
  {
   "cell_type": "code",
   "execution_count": 27,
   "metadata": {},
   "outputs": [],
   "source": [
    "data.loc[data['hf'].isna(), 'hf'] = 'no'\n",
    "data.loc[data['stroke'].isna(), 'stroke'] = 'no'"
   ]
  },
  {
   "cell_type": "code",
   "execution_count": 28,
   "metadata": {},
   "outputs": [],
   "source": [
    "data.dropna(subset=['mortstat'], inplace=True)"
   ]
  },
  {
   "cell_type": "code",
   "execution_count": 29,
   "metadata": {},
   "outputs": [
    {
     "data": {
      "text/plain": [
       "(4129, 20)"
      ]
     },
     "execution_count": 29,
     "metadata": {},
     "output_type": "execute_result"
    }
   ],
   "source": [
    "data.shape"
   ]
  },
  {
   "cell_type": "code",
   "execution_count": 30,
   "metadata": {},
   "outputs": [
    {
     "data": {
      "text/plain": [
       "obese         0\n",
       "hldhx       108\n",
       "htnhx         0\n",
       "smokehx       0\n",
       "race          0\n",
       "sex           0\n",
       "hf            0\n",
       "stroke        0\n",
       "mi            0\n",
       "mortstat      0\n",
       "dtype: int64"
      ]
     },
     "execution_count": 30,
     "metadata": {},
     "output_type": "execute_result"
    }
   ],
   "source": [
    "count_empty(data, categorical_columns)"
   ]
  },
  {
   "cell_type": "markdown",
   "metadata": {},
   "source": [
    "Missing values in Numeric columns"
   ]
  },
  {
   "cell_type": "code",
   "execution_count": 31,
   "metadata": {},
   "outputs": [
    {
     "data": {
      "text/html": [
       "<div>\n",
       "<style scoped>\n",
       "    .dataframe tbody tr th:only-of-type {\n",
       "        vertical-align: middle;\n",
       "    }\n",
       "\n",
       "    .dataframe tbody tr th {\n",
       "        vertical-align: top;\n",
       "    }\n",
       "\n",
       "    .dataframe thead th {\n",
       "        text-align: right;\n",
       "    }\n",
       "</style>\n",
       "<table border=\"1\" class=\"dataframe\">\n",
       "  <thead>\n",
       "    <tr style=\"text-align: right;\">\n",
       "      <th></th>\n",
       "      <th>sbp</th>\n",
       "      <th>age</th>\n",
       "      <th>dbp</th>\n",
       "      <th>bmi</th>\n",
       "      <th>uralb</th>\n",
       "      <th>trig</th>\n",
       "      <th>chol</th>\n",
       "      <th>hdl</th>\n",
       "      <th>ses</th>\n",
       "      <th>hba1c</th>\n",
       "    </tr>\n",
       "  </thead>\n",
       "  <tbody>\n",
       "    <tr>\n",
       "      <th>2</th>\n",
       "      <td>131.0</td>\n",
       "      <td>48.583333</td>\n",
       "      <td>73.0</td>\n",
       "      <td>27.6</td>\n",
       "      <td>1.6</td>\n",
       "      <td>98.0</td>\n",
       "      <td>236.0</td>\n",
       "      <td>66.0</td>\n",
       "      <td>3.747</td>\n",
       "      <td>5.3</td>\n",
       "    </tr>\n",
       "    <tr>\n",
       "      <th>4</th>\n",
       "      <td>120.0</td>\n",
       "      <td>48.500000</td>\n",
       "      <td>70.0</td>\n",
       "      <td>25.0</td>\n",
       "      <td>11.3</td>\n",
       "      <td>94.0</td>\n",
       "      <td>260.0</td>\n",
       "      <td>51.0</td>\n",
       "      <td>1.676</td>\n",
       "      <td>9.1</td>\n",
       "    </tr>\n",
       "    <tr>\n",
       "      <th>9</th>\n",
       "      <td>128.0</td>\n",
       "      <td>56.750000</td>\n",
       "      <td>73.0</td>\n",
       "      <td>37.0</td>\n",
       "      <td>0.4</td>\n",
       "      <td>171.0</td>\n",
       "      <td>156.0</td>\n",
       "      <td>42.0</td>\n",
       "      <td>5.690</td>\n",
       "      <td>5.0</td>\n",
       "    </tr>\n",
       "    <tr>\n",
       "      <th>12</th>\n",
       "      <td>117.0</td>\n",
       "      <td>50.166667</td>\n",
       "      <td>74.0</td>\n",
       "      <td>25.1</td>\n",
       "      <td>1.8</td>\n",
       "      <td>204.0</td>\n",
       "      <td>244.0</td>\n",
       "      <td>47.0</td>\n",
       "      <td>3.416</td>\n",
       "      <td>5.9</td>\n",
       "    </tr>\n",
       "    <tr>\n",
       "      <th>14</th>\n",
       "      <td>155.0</td>\n",
       "      <td>48.416667</td>\n",
       "      <td>91.0</td>\n",
       "      <td>37.5</td>\n",
       "      <td>105.0</td>\n",
       "      <td>479.0</td>\n",
       "      <td>212.0</td>\n",
       "      <td>30.0</td>\n",
       "      <td>0.622</td>\n",
       "      <td>5.7</td>\n",
       "    </tr>\n",
       "  </tbody>\n",
       "</table>\n",
       "</div>"
      ],
      "text/plain": [
       "      sbp        age   dbp   bmi  uralb   trig   chol   hdl    ses  hba1c\n",
       "2   131.0  48.583333  73.0  27.6    1.6   98.0  236.0  66.0  3.747    5.3\n",
       "4   120.0  48.500000  70.0  25.0   11.3   94.0  260.0  51.0  1.676    9.1\n",
       "9   128.0  56.750000  73.0  37.0    0.4  171.0  156.0  42.0  5.690    5.0\n",
       "12  117.0  50.166667  74.0  25.1    1.8  204.0  244.0  47.0  3.416    5.9\n",
       "14  155.0  48.416667  91.0  37.5  105.0  479.0  212.0  30.0  0.622    5.7"
      ]
     },
     "execution_count": 31,
     "metadata": {},
     "output_type": "execute_result"
    }
   ],
   "source": [
    "data[numerical_columns].head()"
   ]
  },
  {
   "cell_type": "code",
   "execution_count": 32,
   "metadata": {},
   "outputs": [
    {
     "data": {
      "text/plain": [
       "sbp      390\n",
       "age        0\n",
       "dbp      391\n",
       "bmi      364\n",
       "uralb    385\n",
       "trig     510\n",
       "chol     504\n",
       "hdl      531\n",
       "ses        0\n",
       "hba1c    464\n",
       "dtype: int64"
      ]
     },
     "execution_count": 32,
     "metadata": {},
     "output_type": "execute_result"
    }
   ],
   "source": [
    "count_empty(data, numerical_columns)"
   ]
  },
  {
   "cell_type": "code",
   "execution_count": 33,
   "metadata": {},
   "outputs": [
    {
     "data": {
      "text/html": [
       "<div>\n",
       "<style scoped>\n",
       "    .dataframe tbody tr th:only-of-type {\n",
       "        vertical-align: middle;\n",
       "    }\n",
       "\n",
       "    .dataframe tbody tr th {\n",
       "        vertical-align: top;\n",
       "    }\n",
       "\n",
       "    .dataframe thead th {\n",
       "        text-align: right;\n",
       "    }\n",
       "</style>\n",
       "<table border=\"1\" class=\"dataframe\">\n",
       "  <thead>\n",
       "    <tr style=\"text-align: right;\">\n",
       "      <th></th>\n",
       "      <th>sbp</th>\n",
       "      <th>age</th>\n",
       "      <th>dbp</th>\n",
       "      <th>bmi</th>\n",
       "      <th>uralb</th>\n",
       "      <th>trig</th>\n",
       "      <th>chol</th>\n",
       "      <th>hdl</th>\n",
       "      <th>ses</th>\n",
       "      <th>hba1c</th>\n",
       "    </tr>\n",
       "  </thead>\n",
       "  <tbody>\n",
       "    <tr>\n",
       "      <th>count</th>\n",
       "      <td>3739.000000</td>\n",
       "      <td>4129.000000</td>\n",
       "      <td>3738.000000</td>\n",
       "      <td>3765.000000</td>\n",
       "      <td>3744.000000</td>\n",
       "      <td>3619.000000</td>\n",
       "      <td>3625.000000</td>\n",
       "      <td>3598.000000</td>\n",
       "      <td>4129.000000</td>\n",
       "      <td>3665.000000</td>\n",
       "    </tr>\n",
       "    <tr>\n",
       "      <th>mean</th>\n",
       "      <td>130.025675</td>\n",
       "      <td>55.011484</td>\n",
       "      <td>78.111557</td>\n",
       "      <td>28.129907</td>\n",
       "      <td>15954.355823</td>\n",
       "      <td>165.497099</td>\n",
       "      <td>219.889931</td>\n",
       "      <td>51.423013</td>\n",
       "      <td>89558.771615</td>\n",
       "      <td>5.820518</td>\n",
       "    </tr>\n",
       "    <tr>\n",
       "      <th>std</th>\n",
       "      <td>17.997470</td>\n",
       "      <td>6.005141</td>\n",
       "      <td>9.758558</td>\n",
       "      <td>5.662946</td>\n",
       "      <td>117850.620796</td>\n",
       "      <td>138.369686</td>\n",
       "      <td>43.785812</td>\n",
       "      <td>16.624608</td>\n",
       "      <td>267585.441783</td>\n",
       "      <td>1.334759</td>\n",
       "    </tr>\n",
       "    <tr>\n",
       "      <th>min</th>\n",
       "      <td>81.000000</td>\n",
       "      <td>45.000000</td>\n",
       "      <td>44.000000</td>\n",
       "      <td>13.300000</td>\n",
       "      <td>0.400000</td>\n",
       "      <td>27.000000</td>\n",
       "      <td>59.000000</td>\n",
       "      <td>12.000000</td>\n",
       "      <td>0.000000</td>\n",
       "      <td>3.300000</td>\n",
       "    </tr>\n",
       "    <tr>\n",
       "      <th>25%</th>\n",
       "      <td>118.000000</td>\n",
       "      <td>49.750000</td>\n",
       "      <td>72.000000</td>\n",
       "      <td>24.200001</td>\n",
       "      <td>2.700000</td>\n",
       "      <td>92.000000</td>\n",
       "      <td>191.000000</td>\n",
       "      <td>40.000000</td>\n",
       "      <td>1.426000</td>\n",
       "      <td>5.200000</td>\n",
       "    </tr>\n",
       "    <tr>\n",
       "      <th>50%</th>\n",
       "      <td>128.000000</td>\n",
       "      <td>55.000000</td>\n",
       "      <td>77.000000</td>\n",
       "      <td>27.200001</td>\n",
       "      <td>6.500000</td>\n",
       "      <td>130.000000</td>\n",
       "      <td>217.000000</td>\n",
       "      <td>48.000000</td>\n",
       "      <td>2.812000</td>\n",
       "      <td>5.500000</td>\n",
       "    </tr>\n",
       "    <tr>\n",
       "      <th>75%</th>\n",
       "      <td>140.000000</td>\n",
       "      <td>60.500000</td>\n",
       "      <td>84.000000</td>\n",
       "      <td>31.100000</td>\n",
       "      <td>15.200000</td>\n",
       "      <td>193.000000</td>\n",
       "      <td>245.000000</td>\n",
       "      <td>60.000000</td>\n",
       "      <td>4.917000</td>\n",
       "      <td>5.900000</td>\n",
       "    </tr>\n",
       "    <tr>\n",
       "      <th>max</th>\n",
       "      <td>237.000000</td>\n",
       "      <td>65.000000</td>\n",
       "      <td>124.000000</td>\n",
       "      <td>54.299999</td>\n",
       "      <td>888888.000000</td>\n",
       "      <td>3616.000000</td>\n",
       "      <td>464.000000</td>\n",
       "      <td>191.000000</td>\n",
       "      <td>888888.000000</td>\n",
       "      <td>16.100000</td>\n",
       "    </tr>\n",
       "  </tbody>\n",
       "</table>\n",
       "</div>"
      ],
      "text/plain": [
       "               sbp          age          dbp          bmi          uralb  \\\n",
       "count  3739.000000  4129.000000  3738.000000  3765.000000    3744.000000   \n",
       "mean    130.025675    55.011484    78.111557    28.129907   15954.355823   \n",
       "std      17.997470     6.005141     9.758558     5.662946  117850.620796   \n",
       "min      81.000000    45.000000    44.000000    13.300000       0.400000   \n",
       "25%     118.000000    49.750000    72.000000    24.200001       2.700000   \n",
       "50%     128.000000    55.000000    77.000000    27.200001       6.500000   \n",
       "75%     140.000000    60.500000    84.000000    31.100000      15.200000   \n",
       "max     237.000000    65.000000   124.000000    54.299999  888888.000000   \n",
       "\n",
       "              trig         chol          hdl            ses        hba1c  \n",
       "count  3619.000000  3625.000000  3598.000000    4129.000000  3665.000000  \n",
       "mean    165.497099   219.889931    51.423013   89558.771615     5.820518  \n",
       "std     138.369686    43.785812    16.624608  267585.441783     1.334759  \n",
       "min      27.000000    59.000000    12.000000       0.000000     3.300000  \n",
       "25%      92.000000   191.000000    40.000000       1.426000     5.200000  \n",
       "50%     130.000000   217.000000    48.000000       2.812000     5.500000  \n",
       "75%     193.000000   245.000000    60.000000       4.917000     5.900000  \n",
       "max    3616.000000   464.000000   191.000000  888888.000000    16.100000  "
      ]
     },
     "execution_count": 33,
     "metadata": {},
     "output_type": "execute_result"
    }
   ],
   "source": [
    "data[numerical_columns].describe()"
   ]
  },
  {
   "cell_type": "code",
   "execution_count": 34,
   "metadata": {},
   "outputs": [],
   "source": [
    "data.loc[data['uralb'] == 888888.000, 'uralb'] = np.nan\n",
    "data.loc[data['ses'] == 888888.000, 'ses'] = np.nan"
   ]
  },
  {
   "cell_type": "code",
   "execution_count": 35,
   "metadata": {},
   "outputs": [
    {
     "data": {
      "text/html": [
       "<div>\n",
       "<style scoped>\n",
       "    .dataframe tbody tr th:only-of-type {\n",
       "        vertical-align: middle;\n",
       "    }\n",
       "\n",
       "    .dataframe tbody tr th {\n",
       "        vertical-align: top;\n",
       "    }\n",
       "\n",
       "    .dataframe thead th {\n",
       "        text-align: right;\n",
       "    }\n",
       "</style>\n",
       "<table border=\"1\" class=\"dataframe\">\n",
       "  <thead>\n",
       "    <tr style=\"text-align: right;\">\n",
       "      <th></th>\n",
       "      <th>sbp</th>\n",
       "      <th>age</th>\n",
       "      <th>dbp</th>\n",
       "      <th>bmi</th>\n",
       "      <th>uralb</th>\n",
       "      <th>trig</th>\n",
       "      <th>chol</th>\n",
       "      <th>hdl</th>\n",
       "      <th>ses</th>\n",
       "      <th>hba1c</th>\n",
       "    </tr>\n",
       "  </thead>\n",
       "  <tbody>\n",
       "    <tr>\n",
       "      <th>count</th>\n",
       "      <td>3739.000000</td>\n",
       "      <td>4129.000000</td>\n",
       "      <td>3738.000000</td>\n",
       "      <td>3765.000000</td>\n",
       "      <td>3677.000000</td>\n",
       "      <td>3619.000000</td>\n",
       "      <td>3625.000000</td>\n",
       "      <td>3598.000000</td>\n",
       "      <td>3713.000000</td>\n",
       "      <td>3665.000000</td>\n",
       "    </tr>\n",
       "    <tr>\n",
       "      <th>mean</th>\n",
       "      <td>130.025675</td>\n",
       "      <td>55.011484</td>\n",
       "      <td>78.111557</td>\n",
       "      <td>28.129907</td>\n",
       "      <td>48.303563</td>\n",
       "      <td>165.497099</td>\n",
       "      <td>219.889931</td>\n",
       "      <td>51.423013</td>\n",
       "      <td>2.897925</td>\n",
       "      <td>5.820518</td>\n",
       "    </tr>\n",
       "    <tr>\n",
       "      <th>std</th>\n",
       "      <td>17.997470</td>\n",
       "      <td>6.005141</td>\n",
       "      <td>9.758558</td>\n",
       "      <td>5.662946</td>\n",
       "      <td>365.342982</td>\n",
       "      <td>138.369686</td>\n",
       "      <td>43.785812</td>\n",
       "      <td>16.624608</td>\n",
       "      <td>1.977917</td>\n",
       "      <td>1.334759</td>\n",
       "    </tr>\n",
       "    <tr>\n",
       "      <th>min</th>\n",
       "      <td>81.000000</td>\n",
       "      <td>45.000000</td>\n",
       "      <td>44.000000</td>\n",
       "      <td>13.300000</td>\n",
       "      <td>0.400000</td>\n",
       "      <td>27.000000</td>\n",
       "      <td>59.000000</td>\n",
       "      <td>12.000000</td>\n",
       "      <td>0.000000</td>\n",
       "      <td>3.300000</td>\n",
       "    </tr>\n",
       "    <tr>\n",
       "      <th>25%</th>\n",
       "      <td>118.000000</td>\n",
       "      <td>49.750000</td>\n",
       "      <td>72.000000</td>\n",
       "      <td>24.200001</td>\n",
       "      <td>2.600000</td>\n",
       "      <td>92.000000</td>\n",
       "      <td>191.000000</td>\n",
       "      <td>40.000000</td>\n",
       "      <td>1.302000</td>\n",
       "      <td>5.200000</td>\n",
       "    </tr>\n",
       "    <tr>\n",
       "      <th>50%</th>\n",
       "      <td>128.000000</td>\n",
       "      <td>55.000000</td>\n",
       "      <td>77.000000</td>\n",
       "      <td>27.200001</td>\n",
       "      <td>6.300000</td>\n",
       "      <td>130.000000</td>\n",
       "      <td>217.000000</td>\n",
       "      <td>48.000000</td>\n",
       "      <td>2.535000</td>\n",
       "      <td>5.500000</td>\n",
       "    </tr>\n",
       "    <tr>\n",
       "      <th>75%</th>\n",
       "      <td>140.000000</td>\n",
       "      <td>60.500000</td>\n",
       "      <td>84.000000</td>\n",
       "      <td>31.100000</td>\n",
       "      <td>14.400000</td>\n",
       "      <td>193.000000</td>\n",
       "      <td>245.000000</td>\n",
       "      <td>60.000000</td>\n",
       "      <td>4.191000</td>\n",
       "      <td>5.900000</td>\n",
       "    </tr>\n",
       "    <tr>\n",
       "      <th>max</th>\n",
       "      <td>237.000000</td>\n",
       "      <td>65.000000</td>\n",
       "      <td>124.000000</td>\n",
       "      <td>54.299999</td>\n",
       "      <td>12400.000000</td>\n",
       "      <td>3616.000000</td>\n",
       "      <td>464.000000</td>\n",
       "      <td>191.000000</td>\n",
       "      <td>11.290000</td>\n",
       "      <td>16.100000</td>\n",
       "    </tr>\n",
       "  </tbody>\n",
       "</table>\n",
       "</div>"
      ],
      "text/plain": [
       "               sbp          age          dbp          bmi         uralb  \\\n",
       "count  3739.000000  4129.000000  3738.000000  3765.000000   3677.000000   \n",
       "mean    130.025675    55.011484    78.111557    28.129907     48.303563   \n",
       "std      17.997470     6.005141     9.758558     5.662946    365.342982   \n",
       "min      81.000000    45.000000    44.000000    13.300000      0.400000   \n",
       "25%     118.000000    49.750000    72.000000    24.200001      2.600000   \n",
       "50%     128.000000    55.000000    77.000000    27.200001      6.300000   \n",
       "75%     140.000000    60.500000    84.000000    31.100000     14.400000   \n",
       "max     237.000000    65.000000   124.000000    54.299999  12400.000000   \n",
       "\n",
       "              trig         chol          hdl          ses        hba1c  \n",
       "count  3619.000000  3625.000000  3598.000000  3713.000000  3665.000000  \n",
       "mean    165.497099   219.889931    51.423013     2.897925     5.820518  \n",
       "std     138.369686    43.785812    16.624608     1.977917     1.334759  \n",
       "min      27.000000    59.000000    12.000000     0.000000     3.300000  \n",
       "25%      92.000000   191.000000    40.000000     1.302000     5.200000  \n",
       "50%     130.000000   217.000000    48.000000     2.535000     5.500000  \n",
       "75%     193.000000   245.000000    60.000000     4.191000     5.900000  \n",
       "max    3616.000000   464.000000   191.000000    11.290000    16.100000  "
      ]
     },
     "execution_count": 35,
     "metadata": {},
     "output_type": "execute_result"
    }
   ],
   "source": [
    "data[numerical_columns].describe()"
   ]
  },
  {
   "cell_type": "markdown",
   "metadata": {},
   "source": [
    "Data shows outliers in trig and uralb"
   ]
  },
  {
   "cell_type": "code",
   "execution_count": 36,
   "metadata": {},
   "outputs": [
    {
     "data": {
      "text/plain": [
       "713.5600000000013"
      ]
     },
     "execution_count": 36,
     "metadata": {},
     "output_type": "execute_result"
    }
   ],
   "source": [
    "np.nanpercentile(data['trig'], 99)"
   ]
  },
  {
   "cell_type": "code",
   "execution_count": 37,
   "metadata": {},
   "outputs": [
    {
     "data": {
      "text/plain": [
       "1768.199999999988"
      ]
     },
     "execution_count": 37,
     "metadata": {},
     "output_type": "execute_result"
    }
   ],
   "source": [
    "np.nanpercentile(data['uralb'], 99.5)"
   ]
  },
  {
   "cell_type": "code",
   "execution_count": 38,
   "metadata": {},
   "outputs": [],
   "source": [
    "data.loc[data['trig'] > np.nanpercentile(data['trig'], 99), 'trig'] = np.nanpercentile(data['trig'], 99)"
   ]
  },
  {
   "cell_type": "code",
   "execution_count": 39,
   "metadata": {},
   "outputs": [],
   "source": [
    "data.loc[data['uralb'] > np.nanpercentile(data['uralb'], 99.5), 'uralb'] = np.nanpercentile(data['uralb'], 99.5)"
   ]
  },
  {
   "cell_type": "code",
   "execution_count": 40,
   "metadata": {},
   "outputs": [
    {
     "data": {
      "text/html": [
       "<div>\n",
       "<style scoped>\n",
       "    .dataframe tbody tr th:only-of-type {\n",
       "        vertical-align: middle;\n",
       "    }\n",
       "\n",
       "    .dataframe tbody tr th {\n",
       "        vertical-align: top;\n",
       "    }\n",
       "\n",
       "    .dataframe thead th {\n",
       "        text-align: right;\n",
       "    }\n",
       "</style>\n",
       "<table border=\"1\" class=\"dataframe\">\n",
       "  <thead>\n",
       "    <tr style=\"text-align: right;\">\n",
       "      <th></th>\n",
       "      <th>uralb</th>\n",
       "      <th>trig</th>\n",
       "      <th>hdl</th>\n",
       "      <th>chol</th>\n",
       "      <th>sbp</th>\n",
       "      <th>dbp</th>\n",
       "      <th>bmi</th>\n",
       "      <th>ses</th>\n",
       "      <th>age</th>\n",
       "      <th>hba1c</th>\n",
       "    </tr>\n",
       "  </thead>\n",
       "  <tbody>\n",
       "    <tr>\n",
       "      <th>count</th>\n",
       "      <td>3677.000000</td>\n",
       "      <td>3619.000000</td>\n",
       "      <td>3598.000000</td>\n",
       "      <td>3625.000000</td>\n",
       "      <td>3739.000000</td>\n",
       "      <td>3738.000000</td>\n",
       "      <td>3765.000000</td>\n",
       "      <td>3713.000000</td>\n",
       "      <td>4129.000000</td>\n",
       "      <td>3665.000000</td>\n",
       "    </tr>\n",
       "    <tr>\n",
       "      <th>mean</th>\n",
       "      <td>35.421267</td>\n",
       "      <td>162.676353</td>\n",
       "      <td>51.423013</td>\n",
       "      <td>219.889931</td>\n",
       "      <td>130.025675</td>\n",
       "      <td>78.111557</td>\n",
       "      <td>28.129907</td>\n",
       "      <td>2.897925</td>\n",
       "      <td>55.011484</td>\n",
       "      <td>5.820518</td>\n",
       "    </tr>\n",
       "    <tr>\n",
       "      <th>std</th>\n",
       "      <td>164.972488</td>\n",
       "      <td>113.660564</td>\n",
       "      <td>16.624608</td>\n",
       "      <td>43.785812</td>\n",
       "      <td>17.997470</td>\n",
       "      <td>9.758558</td>\n",
       "      <td>5.662946</td>\n",
       "      <td>1.977917</td>\n",
       "      <td>6.005141</td>\n",
       "      <td>1.334759</td>\n",
       "    </tr>\n",
       "    <tr>\n",
       "      <th>min</th>\n",
       "      <td>0.400000</td>\n",
       "      <td>27.000000</td>\n",
       "      <td>12.000000</td>\n",
       "      <td>59.000000</td>\n",
       "      <td>81.000000</td>\n",
       "      <td>44.000000</td>\n",
       "      <td>13.300000</td>\n",
       "      <td>0.000000</td>\n",
       "      <td>45.000000</td>\n",
       "      <td>3.300000</td>\n",
       "    </tr>\n",
       "    <tr>\n",
       "      <th>25%</th>\n",
       "      <td>2.600000</td>\n",
       "      <td>92.000000</td>\n",
       "      <td>40.000000</td>\n",
       "      <td>191.000000</td>\n",
       "      <td>118.000000</td>\n",
       "      <td>72.000000</td>\n",
       "      <td>24.200001</td>\n",
       "      <td>1.302000</td>\n",
       "      <td>49.750000</td>\n",
       "      <td>5.200000</td>\n",
       "    </tr>\n",
       "    <tr>\n",
       "      <th>50%</th>\n",
       "      <td>6.300000</td>\n",
       "      <td>130.000000</td>\n",
       "      <td>48.000000</td>\n",
       "      <td>217.000000</td>\n",
       "      <td>128.000000</td>\n",
       "      <td>77.000000</td>\n",
       "      <td>27.200001</td>\n",
       "      <td>2.535000</td>\n",
       "      <td>55.000000</td>\n",
       "      <td>5.500000</td>\n",
       "    </tr>\n",
       "    <tr>\n",
       "      <th>75%</th>\n",
       "      <td>14.400000</td>\n",
       "      <td>193.000000</td>\n",
       "      <td>60.000000</td>\n",
       "      <td>245.000000</td>\n",
       "      <td>140.000000</td>\n",
       "      <td>84.000000</td>\n",
       "      <td>31.100000</td>\n",
       "      <td>4.191000</td>\n",
       "      <td>60.500000</td>\n",
       "      <td>5.900000</td>\n",
       "    </tr>\n",
       "    <tr>\n",
       "      <th>max</th>\n",
       "      <td>1768.200000</td>\n",
       "      <td>713.560000</td>\n",
       "      <td>191.000000</td>\n",
       "      <td>464.000000</td>\n",
       "      <td>237.000000</td>\n",
       "      <td>124.000000</td>\n",
       "      <td>54.299999</td>\n",
       "      <td>11.290000</td>\n",
       "      <td>65.000000</td>\n",
       "      <td>16.100000</td>\n",
       "    </tr>\n",
       "  </tbody>\n",
       "</table>\n",
       "</div>"
      ],
      "text/plain": [
       "             uralb         trig          hdl         chol          sbp  \\\n",
       "count  3677.000000  3619.000000  3598.000000  3625.000000  3739.000000   \n",
       "mean     35.421267   162.676353    51.423013   219.889931   130.025675   \n",
       "std     164.972488   113.660564    16.624608    43.785812    17.997470   \n",
       "min       0.400000    27.000000    12.000000    59.000000    81.000000   \n",
       "25%       2.600000    92.000000    40.000000   191.000000   118.000000   \n",
       "50%       6.300000   130.000000    48.000000   217.000000   128.000000   \n",
       "75%      14.400000   193.000000    60.000000   245.000000   140.000000   \n",
       "max    1768.200000   713.560000   191.000000   464.000000   237.000000   \n",
       "\n",
       "               dbp          bmi          ses          age        hba1c  \n",
       "count  3738.000000  3765.000000  3713.000000  4129.000000  3665.000000  \n",
       "mean     78.111557    28.129907     2.897925    55.011484     5.820518  \n",
       "std       9.758558     5.662946     1.977917     6.005141     1.334759  \n",
       "min      44.000000    13.300000     0.000000    45.000000     3.300000  \n",
       "25%      72.000000    24.200001     1.302000    49.750000     5.200000  \n",
       "50%      77.000000    27.200001     2.535000    55.000000     5.500000  \n",
       "75%      84.000000    31.100000     4.191000    60.500000     5.900000  \n",
       "max     124.000000    54.299999    11.290000    65.000000    16.100000  "
      ]
     },
     "execution_count": 40,
     "metadata": {},
     "output_type": "execute_result"
    }
   ],
   "source": [
    "data.describe()"
   ]
  },
  {
   "cell_type": "code",
   "execution_count": 41,
   "metadata": {},
   "outputs": [],
   "source": [
    "for column in numerical_columns:\n",
    "    data.loc[data[column].isna(), column] = data[column].mean()"
   ]
  },
  {
   "cell_type": "code",
   "execution_count": 42,
   "metadata": {},
   "outputs": [
    {
     "data": {
      "text/plain": [
       "sbp      0\n",
       "age      0\n",
       "dbp      0\n",
       "bmi      0\n",
       "uralb    0\n",
       "trig     0\n",
       "chol     0\n",
       "hdl      0\n",
       "ses      0\n",
       "hba1c    0\n",
       "dtype: int64"
      ]
     },
     "execution_count": 42,
     "metadata": {},
     "output_type": "execute_result"
    }
   ],
   "source": [
    "count_empty(data, numerical_columns)"
   ]
  },
  {
   "cell_type": "code",
   "execution_count": 43,
   "metadata": {},
   "outputs": [
    {
     "data": {
      "text/plain": [
       "Index(['obese', 'uralb', 'trig', 'hdl', 'chol', 'hldhx', 'htnhx', 'sbp', 'dbp',\n",
       "       'bmi', 'smokehx', 'ses', 'race', 'sex', 'age', 'hf', 'stroke', 'mi',\n",
       "       'hba1c', 'mortstat'],\n",
       "      dtype='object')"
      ]
     },
     "execution_count": 43,
     "metadata": {},
     "output_type": "execute_result"
    }
   ],
   "source": [
    "data.columns"
   ]
  },
  {
   "cell_type": "code",
   "execution_count": 44,
   "metadata": {},
   "outputs": [
    {
     "data": {
      "text/plain": [
       "alive    3281\n",
       "dead      848\n",
       "Name: mortstat, dtype: int64"
      ]
     },
     "execution_count": 44,
     "metadata": {},
     "output_type": "execute_result"
    }
   ],
   "source": [
    "data['mortstat'].value_counts()"
   ]
  },
  {
   "cell_type": "markdown",
   "metadata": {},
   "source": [
    "Removing Bivariate"
   ]
  },
  {
   "cell_type": "code",
   "execution_count": 45,
   "metadata": {},
   "outputs": [],
   "source": [
    "data['mortstat'] = data['mortstat'].map({\n",
    "    'alive' : 0,\n",
    "    'dead' : 1\n",
    "})"
   ]
  },
  {
   "cell_type": "code",
   "execution_count": 46,
   "metadata": {},
   "outputs": [
    {
     "data": {
      "text/plain": [
       "0    0.794623\n",
       "1    0.205377\n",
       "Name: mortstat, dtype: float64"
      ]
     },
     "execution_count": 46,
     "metadata": {},
     "output_type": "execute_result"
    }
   ],
   "source": [
    "data['mortstat'].value_counts(normalize = True)"
   ]
  },
  {
   "cell_type": "code",
   "execution_count": 47,
   "metadata": {},
   "outputs": [],
   "source": [
    "categorical_columns = list(categorical_columns)\n",
    "categorical_columns.remove('mortstat')"
   ]
  },
  {
   "cell_type": "code",
   "execution_count": 48,
   "metadata": {},
   "outputs": [],
   "source": [
    "er_data = pd.DataFrame()\n",
    "for column in categorical_columns:\n",
    "    groupby_data = data[[column] + ['mortstat']].groupby(column).agg({'mortstat' : ['sum', 'count']})\n",
    "    groupby_data.columns = ['deaths', 'population']\n",
    "    groupby_data.reset_index(inplace=True)\n",
    "    groupby_data['event_rate'] = 100*groupby_data['deaths']/groupby_data['population']\n",
    "    groupby_data['population_dist'] = 100*groupby_data['population']/ groupby_data['population'].sum()\n",
    "    groupby_data.columns = ['levels', 'deaths', 'population', 'death_rate', 'population_dist']\n",
    "    groupby_data['field'] = column\n",
    "    er_data = er_data.append(groupby_data)\n",
    "er_data = er_data[['field', 'levels', 'deaths', 'population', 'death_rate', 'population_dist']]"
   ]
  },
  {
   "cell_type": "code",
   "execution_count": 49,
   "metadata": {
    "scrolled": true
   },
   "outputs": [
    {
     "data": {
      "text/html": [
       "<div>\n",
       "<style scoped>\n",
       "    .dataframe tbody tr th:only-of-type {\n",
       "        vertical-align: middle;\n",
       "    }\n",
       "\n",
       "    .dataframe tbody tr th {\n",
       "        vertical-align: top;\n",
       "    }\n",
       "\n",
       "    .dataframe thead th {\n",
       "        text-align: right;\n",
       "    }\n",
       "</style>\n",
       "<table border=\"1\" class=\"dataframe\">\n",
       "  <thead>\n",
       "    <tr style=\"text-align: right;\">\n",
       "      <th></th>\n",
       "      <th>field</th>\n",
       "      <th>levels</th>\n",
       "      <th>deaths</th>\n",
       "      <th>population</th>\n",
       "      <th>death_rate</th>\n",
       "      <th>population_dist</th>\n",
       "    </tr>\n",
       "  </thead>\n",
       "  <tbody>\n",
       "    <tr>\n",
       "      <th>0</th>\n",
       "      <td>obese</td>\n",
       "      <td>Not_Available</td>\n",
       "      <td>104</td>\n",
       "      <td>385</td>\n",
       "      <td>27.012987</td>\n",
       "      <td>9.324292</td>\n",
       "    </tr>\n",
       "    <tr>\n",
       "      <th>1</th>\n",
       "      <td>obese</td>\n",
       "      <td>no</td>\n",
       "      <td>304</td>\n",
       "      <td>1649</td>\n",
       "      <td>18.435415</td>\n",
       "      <td>39.937031</td>\n",
       "    </tr>\n",
       "    <tr>\n",
       "      <th>2</th>\n",
       "      <td>obese</td>\n",
       "      <td>yes</td>\n",
       "      <td>440</td>\n",
       "      <td>2095</td>\n",
       "      <td>21.002387</td>\n",
       "      <td>50.738678</td>\n",
       "    </tr>\n",
       "    <tr>\n",
       "      <th>0</th>\n",
       "      <td>hldhx</td>\n",
       "      <td>1</td>\n",
       "      <td>338</td>\n",
       "      <td>1450</td>\n",
       "      <td>23.310345</td>\n",
       "      <td>36.060681</td>\n",
       "    </tr>\n",
       "    <tr>\n",
       "      <th>1</th>\n",
       "      <td>hldhx</td>\n",
       "      <td>2</td>\n",
       "      <td>472</td>\n",
       "      <td>2571</td>\n",
       "      <td>18.358615</td>\n",
       "      <td>63.939319</td>\n",
       "    </tr>\n",
       "    <tr>\n",
       "      <th>0</th>\n",
       "      <td>htnhx</td>\n",
       "      <td>Not_Available</td>\n",
       "      <td>3</td>\n",
       "      <td>19</td>\n",
       "      <td>15.789474</td>\n",
       "      <td>0.460160</td>\n",
       "    </tr>\n",
       "    <tr>\n",
       "      <th>1</th>\n",
       "      <td>htnhx</td>\n",
       "      <td>hypertensive</td>\n",
       "      <td>387</td>\n",
       "      <td>1431</td>\n",
       "      <td>27.044025</td>\n",
       "      <td>34.657302</td>\n",
       "    </tr>\n",
       "    <tr>\n",
       "      <th>2</th>\n",
       "      <td>htnhx</td>\n",
       "      <td>no</td>\n",
       "      <td>458</td>\n",
       "      <td>2679</td>\n",
       "      <td>17.095931</td>\n",
       "      <td>64.882538</td>\n",
       "    </tr>\n",
       "    <tr>\n",
       "      <th>0</th>\n",
       "      <td>smokehx</td>\n",
       "      <td>no</td>\n",
       "      <td>631</td>\n",
       "      <td>2451</td>\n",
       "      <td>25.744594</td>\n",
       "      <td>59.360620</td>\n",
       "    </tr>\n",
       "    <tr>\n",
       "      <th>1</th>\n",
       "      <td>smokehx</td>\n",
       "      <td>yes</td>\n",
       "      <td>217</td>\n",
       "      <td>1678</td>\n",
       "      <td>12.932062</td>\n",
       "      <td>40.639380</td>\n",
       "    </tr>\n",
       "    <tr>\n",
       "      <th>0</th>\n",
       "      <td>race</td>\n",
       "      <td>hispanic</td>\n",
       "      <td>337</td>\n",
       "      <td>1874</td>\n",
       "      <td>17.982924</td>\n",
       "      <td>45.386292</td>\n",
       "    </tr>\n",
       "    <tr>\n",
       "      <th>1</th>\n",
       "      <td>race</td>\n",
       "      <td>multiracial</td>\n",
       "      <td>22</td>\n",
       "      <td>179</td>\n",
       "      <td>12.290503</td>\n",
       "      <td>4.335190</td>\n",
       "    </tr>\n",
       "    <tr>\n",
       "      <th>2</th>\n",
       "      <td>race</td>\n",
       "      <td>non hispanic black</td>\n",
       "      <td>203</td>\n",
       "      <td>1011</td>\n",
       "      <td>20.079130</td>\n",
       "      <td>24.485348</td>\n",
       "    </tr>\n",
       "    <tr>\n",
       "      <th>3</th>\n",
       "      <td>race</td>\n",
       "      <td>non hispanic white</td>\n",
       "      <td>286</td>\n",
       "      <td>1065</td>\n",
       "      <td>26.854460</td>\n",
       "      <td>25.793170</td>\n",
       "    </tr>\n",
       "    <tr>\n",
       "      <th>0</th>\n",
       "      <td>sex</td>\n",
       "      <td>female</td>\n",
       "      <td>387</td>\n",
       "      <td>2187</td>\n",
       "      <td>17.695473</td>\n",
       "      <td>52.966820</td>\n",
       "    </tr>\n",
       "    <tr>\n",
       "      <th>1</th>\n",
       "      <td>sex</td>\n",
       "      <td>male</td>\n",
       "      <td>461</td>\n",
       "      <td>1942</td>\n",
       "      <td>23.738414</td>\n",
       "      <td>47.033180</td>\n",
       "    </tr>\n",
       "    <tr>\n",
       "      <th>0</th>\n",
       "      <td>hf</td>\n",
       "      <td>no</td>\n",
       "      <td>848</td>\n",
       "      <td>4129</td>\n",
       "      <td>20.537660</td>\n",
       "      <td>100.000000</td>\n",
       "    </tr>\n",
       "    <tr>\n",
       "      <th>0</th>\n",
       "      <td>stroke</td>\n",
       "      <td>no</td>\n",
       "      <td>848</td>\n",
       "      <td>4129</td>\n",
       "      <td>20.537660</td>\n",
       "      <td>100.000000</td>\n",
       "    </tr>\n",
       "    <tr>\n",
       "      <th>0</th>\n",
       "      <td>mi</td>\n",
       "      <td>Not_Available</td>\n",
       "      <td>13</td>\n",
       "      <td>60</td>\n",
       "      <td>21.666667</td>\n",
       "      <td>1.453136</td>\n",
       "    </tr>\n",
       "    <tr>\n",
       "      <th>1</th>\n",
       "      <td>mi</td>\n",
       "      <td>no</td>\n",
       "      <td>835</td>\n",
       "      <td>4069</td>\n",
       "      <td>20.521013</td>\n",
       "      <td>98.546864</td>\n",
       "    </tr>\n",
       "  </tbody>\n",
       "</table>\n",
       "</div>"
      ],
      "text/plain": [
       "     field              levels  deaths  population  death_rate  \\\n",
       "0    obese       Not_Available     104         385   27.012987   \n",
       "1    obese                  no     304        1649   18.435415   \n",
       "2    obese                 yes     440        2095   21.002387   \n",
       "0    hldhx                   1     338        1450   23.310345   \n",
       "1    hldhx                   2     472        2571   18.358615   \n",
       "0    htnhx       Not_Available       3          19   15.789474   \n",
       "1    htnhx        hypertensive     387        1431   27.044025   \n",
       "2    htnhx                  no     458        2679   17.095931   \n",
       "0  smokehx                  no     631        2451   25.744594   \n",
       "1  smokehx                 yes     217        1678   12.932062   \n",
       "0     race            hispanic     337        1874   17.982924   \n",
       "1     race         multiracial      22         179   12.290503   \n",
       "2     race  non hispanic black     203        1011   20.079130   \n",
       "3     race  non hispanic white     286        1065   26.854460   \n",
       "0      sex              female     387        2187   17.695473   \n",
       "1      sex                male     461        1942   23.738414   \n",
       "0       hf                  no     848        4129   20.537660   \n",
       "0   stroke                  no     848        4129   20.537660   \n",
       "0       mi       Not_Available      13          60   21.666667   \n",
       "1       mi                  no     835        4069   20.521013   \n",
       "\n",
       "   population_dist  \n",
       "0         9.324292  \n",
       "1        39.937031  \n",
       "2        50.738678  \n",
       "0        36.060681  \n",
       "1        63.939319  \n",
       "0         0.460160  \n",
       "1        34.657302  \n",
       "2        64.882538  \n",
       "0        59.360620  \n",
       "1        40.639380  \n",
       "0        45.386292  \n",
       "1         4.335190  \n",
       "2        24.485348  \n",
       "3        25.793170  \n",
       "0        52.966820  \n",
       "1        47.033180  \n",
       "0       100.000000  \n",
       "0       100.000000  \n",
       "0         1.453136  \n",
       "1        98.546864  "
      ]
     },
     "execution_count": 49,
     "metadata": {},
     "output_type": "execute_result"
    }
   ],
   "source": [
    "er_data"
   ]
  },
  {
   "cell_type": "markdown",
   "metadata": {},
   "source": [
    "Ploting death rates"
   ]
  },
  {
   "cell_type": "code",
   "execution_count": 50,
   "metadata": {},
   "outputs": [],
   "source": [
    "def plt_event_rate(er_data):\n",
    "    for field in er_data['field'].unique():\n",
    "        trace1 = go.Bar(x=list(er_data[er_data['field'] == field]['levels'].values), y=list(er_data[er_data['field'] == field]['population_dist'].values))\n",
    "        trace2 = go.Scatter(x=list(er_data[er_data['field'] == field]['levels'].values), y=list(er_data[er_data['field'] == field]['death_rate'].values), yaxis='y2')\n",
    "        data = [trace1, trace2]\n",
    "        layout = go.Layout(\n",
    "            title=\"Double Y axis - \"+field.capitalize(),\n",
    "            yaxis=dict(\n",
    "                title='Population Distibution'\n",
    "            ),\n",
    "            yaxis2=dict(\n",
    "                title='Death Rate',\n",
    "                titlefont=dict(\n",
    "                    color='rgb(148, 103, 189)'\n",
    "                ),\n",
    "                tickfont=dict(\n",
    "                    color='rgb(148, 103, 189)'\n",
    "                ),\n",
    "                overlaying='y',\n",
    "                side='right'\n",
    "            )\n",
    "        )\n",
    "        fig = go.Figure(data=data, layout=layout)\n",
    "        plot_url = iplot(fig, filename='multiple-axes-double')"
   ]
  },
  {
   "cell_type": "code",
   "execution_count": 51,
   "metadata": {},
   "outputs": [
    {
     "data": {
      "application/vnd.plotly.v1+json": {
       "config": {
        "linkText": "Export to plot.ly",
        "plotlyServerURL": "https://plot.ly",
        "showLink": false
       },
       "data": [
        {
         "type": "bar",
         "uid": "f048ea69-460d-419c-8c7c-62419a7c6865",
         "x": [
          "Not_Available",
          "no",
          "yes"
         ],
         "y": [
          9.324291596028093,
          39.9370307580528,
          50.73867764591911
         ]
        },
        {
         "type": "scatter",
         "uid": "d51b4892-8aed-4da5-a162-3d87e4a5b067",
         "x": [
          "Not_Available",
          "no",
          "yes"
         ],
         "y": [
          27.01298701298701,
          18.43541540327471,
          21.002386634844868
         ],
         "yaxis": "y2"
        }
       ],
       "layout": {
        "title": {
         "text": "Double Y axis - Obese"
        },
        "yaxis": {
         "title": {
          "text": "Population Distibution"
         }
        },
        "yaxis2": {
         "overlaying": "y",
         "side": "right",
         "tickfont": {
          "color": "rgb(148, 103, 189)"
         },
         "title": {
          "font": {
           "color": "rgb(148, 103, 189)"
          },
          "text": "Death Rate"
         }
        }
       }
      },
      "text/html": [
       "<div id=\"d9a618d2-6c30-4738-8388-04b1abab8811\" style=\"height: 525px; width: 100%;\" class=\"plotly-graph-div\"></div><script type=\"text/javascript\">require([\"plotly\"], function(Plotly) { window.PLOTLYENV=window.PLOTLYENV || {};window.PLOTLYENV.BASE_URL=\"https://plot.ly\";\n",
       "if (document.getElementById(\"d9a618d2-6c30-4738-8388-04b1abab8811\")) {\n",
       "    Plotly.newPlot(\"d9a618d2-6c30-4738-8388-04b1abab8811\", [{\"x\": [\"Not_Available\", \"no\", \"yes\"], \"y\": [9.324291596028093, 39.9370307580528, 50.73867764591911], \"type\": \"bar\", \"uid\": \"f048ea69-460d-419c-8c7c-62419a7c6865\"}, {\"x\": [\"Not_Available\", \"no\", \"yes\"], \"y\": [27.01298701298701, 18.43541540327471, 21.002386634844868], \"yaxis\": \"y2\", \"type\": \"scatter\", \"uid\": \"d51b4892-8aed-4da5-a162-3d87e4a5b067\"}], {\"title\": {\"text\": \"Double Y axis - Obese\"}, \"yaxis\": {\"title\": {\"text\": \"Population Distibution\"}}, \"yaxis2\": {\"overlaying\": \"y\", \"side\": \"right\", \"tickfont\": {\"color\": \"rgb(148, 103, 189)\"}, \"title\": {\"font\": {\"color\": \"rgb(148, 103, 189)\"}, \"text\": \"Death Rate\"}}}, {\"showLink\": false, \"linkText\": \"Export to plot.ly\", \"plotlyServerURL\": \"https://plot.ly\"}); \n",
       "}\n",
       "});</script><script type=\"text/javascript\">window.addEventListener(\"resize\", function(){if (document.getElementById(\"d9a618d2-6c30-4738-8388-04b1abab8811\")) {window._Plotly.Plots.resize(document.getElementById(\"d9a618d2-6c30-4738-8388-04b1abab8811\"));};})</script>"
      ],
      "text/vnd.plotly.v1+html": [
       "<div id=\"d9a618d2-6c30-4738-8388-04b1abab8811\" style=\"height: 525px; width: 100%;\" class=\"plotly-graph-div\"></div><script type=\"text/javascript\">require([\"plotly\"], function(Plotly) { window.PLOTLYENV=window.PLOTLYENV || {};window.PLOTLYENV.BASE_URL=\"https://plot.ly\";\n",
       "if (document.getElementById(\"d9a618d2-6c30-4738-8388-04b1abab8811\")) {\n",
       "    Plotly.newPlot(\"d9a618d2-6c30-4738-8388-04b1abab8811\", [{\"x\": [\"Not_Available\", \"no\", \"yes\"], \"y\": [9.324291596028093, 39.9370307580528, 50.73867764591911], \"type\": \"bar\", \"uid\": \"f048ea69-460d-419c-8c7c-62419a7c6865\"}, {\"x\": [\"Not_Available\", \"no\", \"yes\"], \"y\": [27.01298701298701, 18.43541540327471, 21.002386634844868], \"yaxis\": \"y2\", \"type\": \"scatter\", \"uid\": \"d51b4892-8aed-4da5-a162-3d87e4a5b067\"}], {\"title\": {\"text\": \"Double Y axis - Obese\"}, \"yaxis\": {\"title\": {\"text\": \"Population Distibution\"}}, \"yaxis2\": {\"overlaying\": \"y\", \"side\": \"right\", \"tickfont\": {\"color\": \"rgb(148, 103, 189)\"}, \"title\": {\"font\": {\"color\": \"rgb(148, 103, 189)\"}, \"text\": \"Death Rate\"}}}, {\"showLink\": false, \"linkText\": \"Export to plot.ly\", \"plotlyServerURL\": \"https://plot.ly\"}); \n",
       "}\n",
       "});</script><script type=\"text/javascript\">window.addEventListener(\"resize\", function(){if (document.getElementById(\"d9a618d2-6c30-4738-8388-04b1abab8811\")) {window._Plotly.Plots.resize(document.getElementById(\"d9a618d2-6c30-4738-8388-04b1abab8811\"));};})</script>"
      ]
     },
     "metadata": {},
     "output_type": "display_data"
    },
    {
     "data": {
      "application/vnd.plotly.v1+json": {
       "config": {
        "linkText": "Export to plot.ly",
        "plotlyServerURL": "https://plot.ly",
        "showLink": false
       },
       "data": [
        {
         "type": "bar",
         "uid": "02f4c74b-a89e-476b-a6d5-a8acb007261e",
         "x": [
          1,
          2
         ],
         "y": [
          36.06068142253171,
          63.93931857746829
         ]
        },
        {
         "type": "scatter",
         "uid": "379bdabd-fc08-4358-ba02-d4c79dfa7791",
         "x": [
          1,
          2
         ],
         "y": [
          23.310344827586206,
          18.358615324776352
         ],
         "yaxis": "y2"
        }
       ],
       "layout": {
        "title": {
         "text": "Double Y axis - Hldhx"
        },
        "yaxis": {
         "title": {
          "text": "Population Distibution"
         }
        },
        "yaxis2": {
         "overlaying": "y",
         "side": "right",
         "tickfont": {
          "color": "rgb(148, 103, 189)"
         },
         "title": {
          "font": {
           "color": "rgb(148, 103, 189)"
          },
          "text": "Death Rate"
         }
        }
       }
      },
      "text/html": [
       "<div id=\"81e21393-21cb-4556-90d7-b479639f5f40\" style=\"height: 525px; width: 100%;\" class=\"plotly-graph-div\"></div><script type=\"text/javascript\">require([\"plotly\"], function(Plotly) { window.PLOTLYENV=window.PLOTLYENV || {};window.PLOTLYENV.BASE_URL=\"https://plot.ly\";\n",
       "if (document.getElementById(\"81e21393-21cb-4556-90d7-b479639f5f40\")) {\n",
       "    Plotly.newPlot(\"81e21393-21cb-4556-90d7-b479639f5f40\", [{\"x\": [1.0, 2.0], \"y\": [36.06068142253171, 63.93931857746829], \"type\": \"bar\", \"uid\": \"02f4c74b-a89e-476b-a6d5-a8acb007261e\"}, {\"x\": [1.0, 2.0], \"y\": [23.310344827586206, 18.358615324776352], \"yaxis\": \"y2\", \"type\": \"scatter\", \"uid\": \"379bdabd-fc08-4358-ba02-d4c79dfa7791\"}], {\"title\": {\"text\": \"Double Y axis - Hldhx\"}, \"yaxis\": {\"title\": {\"text\": \"Population Distibution\"}}, \"yaxis2\": {\"overlaying\": \"y\", \"side\": \"right\", \"tickfont\": {\"color\": \"rgb(148, 103, 189)\"}, \"title\": {\"font\": {\"color\": \"rgb(148, 103, 189)\"}, \"text\": \"Death Rate\"}}}, {\"showLink\": false, \"linkText\": \"Export to plot.ly\", \"plotlyServerURL\": \"https://plot.ly\"}); \n",
       "}\n",
       "});</script><script type=\"text/javascript\">window.addEventListener(\"resize\", function(){if (document.getElementById(\"81e21393-21cb-4556-90d7-b479639f5f40\")) {window._Plotly.Plots.resize(document.getElementById(\"81e21393-21cb-4556-90d7-b479639f5f40\"));};})</script>"
      ],
      "text/vnd.plotly.v1+html": [
       "<div id=\"81e21393-21cb-4556-90d7-b479639f5f40\" style=\"height: 525px; width: 100%;\" class=\"plotly-graph-div\"></div><script type=\"text/javascript\">require([\"plotly\"], function(Plotly) { window.PLOTLYENV=window.PLOTLYENV || {};window.PLOTLYENV.BASE_URL=\"https://plot.ly\";\n",
       "if (document.getElementById(\"81e21393-21cb-4556-90d7-b479639f5f40\")) {\n",
       "    Plotly.newPlot(\"81e21393-21cb-4556-90d7-b479639f5f40\", [{\"x\": [1.0, 2.0], \"y\": [36.06068142253171, 63.93931857746829], \"type\": \"bar\", \"uid\": \"02f4c74b-a89e-476b-a6d5-a8acb007261e\"}, {\"x\": [1.0, 2.0], \"y\": [23.310344827586206, 18.358615324776352], \"yaxis\": \"y2\", \"type\": \"scatter\", \"uid\": \"379bdabd-fc08-4358-ba02-d4c79dfa7791\"}], {\"title\": {\"text\": \"Double Y axis - Hldhx\"}, \"yaxis\": {\"title\": {\"text\": \"Population Distibution\"}}, \"yaxis2\": {\"overlaying\": \"y\", \"side\": \"right\", \"tickfont\": {\"color\": \"rgb(148, 103, 189)\"}, \"title\": {\"font\": {\"color\": \"rgb(148, 103, 189)\"}, \"text\": \"Death Rate\"}}}, {\"showLink\": false, \"linkText\": \"Export to plot.ly\", \"plotlyServerURL\": \"https://plot.ly\"}); \n",
       "}\n",
       "});</script><script type=\"text/javascript\">window.addEventListener(\"resize\", function(){if (document.getElementById(\"81e21393-21cb-4556-90d7-b479639f5f40\")) {window._Plotly.Plots.resize(document.getElementById(\"81e21393-21cb-4556-90d7-b479639f5f40\"));};})</script>"
      ]
     },
     "metadata": {},
     "output_type": "display_data"
    },
    {
     "data": {
      "application/vnd.plotly.v1+json": {
       "config": {
        "linkText": "Export to plot.ly",
        "plotlyServerURL": "https://plot.ly",
        "showLink": false
       },
       "data": [
        {
         "type": "bar",
         "uid": "5cc219b8-4523-45ca-8c46-9b99c1c0465e",
         "x": [
          "Not_Available",
          "hypertensive",
          "no"
         ],
         "y": [
          0.46015984499878904,
          34.657302010171954,
          64.88253814482925
         ]
        },
        {
         "type": "scatter",
         "uid": "abc4852c-e989-4021-94e6-0d8b13a43f22",
         "x": [
          "Not_Available",
          "hypertensive",
          "no"
         ],
         "y": [
          15.789473684210526,
          27.044025157232703,
          17.095931317655843
         ],
         "yaxis": "y2"
        }
       ],
       "layout": {
        "title": {
         "text": "Double Y axis - Htnhx"
        },
        "yaxis": {
         "title": {
          "text": "Population Distibution"
         }
        },
        "yaxis2": {
         "overlaying": "y",
         "side": "right",
         "tickfont": {
          "color": "rgb(148, 103, 189)"
         },
         "title": {
          "font": {
           "color": "rgb(148, 103, 189)"
          },
          "text": "Death Rate"
         }
        }
       }
      },
      "text/html": [
       "<div id=\"6ec11760-61b7-4b4e-970e-29d6fd80b8d3\" style=\"height: 525px; width: 100%;\" class=\"plotly-graph-div\"></div><script type=\"text/javascript\">require([\"plotly\"], function(Plotly) { window.PLOTLYENV=window.PLOTLYENV || {};window.PLOTLYENV.BASE_URL=\"https://plot.ly\";\n",
       "if (document.getElementById(\"6ec11760-61b7-4b4e-970e-29d6fd80b8d3\")) {\n",
       "    Plotly.newPlot(\"6ec11760-61b7-4b4e-970e-29d6fd80b8d3\", [{\"x\": [\"Not_Available\", \"hypertensive\", \"no\"], \"y\": [0.46015984499878904, 34.657302010171954, 64.88253814482925], \"type\": \"bar\", \"uid\": \"5cc219b8-4523-45ca-8c46-9b99c1c0465e\"}, {\"x\": [\"Not_Available\", \"hypertensive\", \"no\"], \"y\": [15.789473684210526, 27.044025157232703, 17.095931317655843], \"yaxis\": \"y2\", \"type\": \"scatter\", \"uid\": \"abc4852c-e989-4021-94e6-0d8b13a43f22\"}], {\"title\": {\"text\": \"Double Y axis - Htnhx\"}, \"yaxis\": {\"title\": {\"text\": \"Population Distibution\"}}, \"yaxis2\": {\"overlaying\": \"y\", \"side\": \"right\", \"tickfont\": {\"color\": \"rgb(148, 103, 189)\"}, \"title\": {\"font\": {\"color\": \"rgb(148, 103, 189)\"}, \"text\": \"Death Rate\"}}}, {\"showLink\": false, \"linkText\": \"Export to plot.ly\", \"plotlyServerURL\": \"https://plot.ly\"}); \n",
       "}\n",
       "});</script><script type=\"text/javascript\">window.addEventListener(\"resize\", function(){if (document.getElementById(\"6ec11760-61b7-4b4e-970e-29d6fd80b8d3\")) {window._Plotly.Plots.resize(document.getElementById(\"6ec11760-61b7-4b4e-970e-29d6fd80b8d3\"));};})</script>"
      ],
      "text/vnd.plotly.v1+html": [
       "<div id=\"6ec11760-61b7-4b4e-970e-29d6fd80b8d3\" style=\"height: 525px; width: 100%;\" class=\"plotly-graph-div\"></div><script type=\"text/javascript\">require([\"plotly\"], function(Plotly) { window.PLOTLYENV=window.PLOTLYENV || {};window.PLOTLYENV.BASE_URL=\"https://plot.ly\";\n",
       "if (document.getElementById(\"6ec11760-61b7-4b4e-970e-29d6fd80b8d3\")) {\n",
       "    Plotly.newPlot(\"6ec11760-61b7-4b4e-970e-29d6fd80b8d3\", [{\"x\": [\"Not_Available\", \"hypertensive\", \"no\"], \"y\": [0.46015984499878904, 34.657302010171954, 64.88253814482925], \"type\": \"bar\", \"uid\": \"5cc219b8-4523-45ca-8c46-9b99c1c0465e\"}, {\"x\": [\"Not_Available\", \"hypertensive\", \"no\"], \"y\": [15.789473684210526, 27.044025157232703, 17.095931317655843], \"yaxis\": \"y2\", \"type\": \"scatter\", \"uid\": \"abc4852c-e989-4021-94e6-0d8b13a43f22\"}], {\"title\": {\"text\": \"Double Y axis - Htnhx\"}, \"yaxis\": {\"title\": {\"text\": \"Population Distibution\"}}, \"yaxis2\": {\"overlaying\": \"y\", \"side\": \"right\", \"tickfont\": {\"color\": \"rgb(148, 103, 189)\"}, \"title\": {\"font\": {\"color\": \"rgb(148, 103, 189)\"}, \"text\": \"Death Rate\"}}}, {\"showLink\": false, \"linkText\": \"Export to plot.ly\", \"plotlyServerURL\": \"https://plot.ly\"}); \n",
       "}\n",
       "});</script><script type=\"text/javascript\">window.addEventListener(\"resize\", function(){if (document.getElementById(\"6ec11760-61b7-4b4e-970e-29d6fd80b8d3\")) {window._Plotly.Plots.resize(document.getElementById(\"6ec11760-61b7-4b4e-970e-29d6fd80b8d3\"));};})</script>"
      ]
     },
     "metadata": {},
     "output_type": "display_data"
    },
    {
     "data": {
      "application/vnd.plotly.v1+json": {
       "config": {
        "linkText": "Export to plot.ly",
        "plotlyServerURL": "https://plot.ly",
        "showLink": false
       },
       "data": [
        {
         "type": "bar",
         "uid": "62a49070-2a0f-48f5-9c33-14ee6685cb89",
         "x": [
          "no",
          "yes"
         ],
         "y": [
          59.36062000484379,
          40.63937999515621
         ]
        },
        {
         "type": "scatter",
         "uid": "ba861c87-b76b-4fe7-a40e-b951eb1678a1",
         "x": [
          "no",
          "yes"
         ],
         "y": [
          25.744594043247655,
          12.932061978545889
         ],
         "yaxis": "y2"
        }
       ],
       "layout": {
        "title": {
         "text": "Double Y axis - Smokehx"
        },
        "yaxis": {
         "title": {
          "text": "Population Distibution"
         }
        },
        "yaxis2": {
         "overlaying": "y",
         "side": "right",
         "tickfont": {
          "color": "rgb(148, 103, 189)"
         },
         "title": {
          "font": {
           "color": "rgb(148, 103, 189)"
          },
          "text": "Death Rate"
         }
        }
       }
      },
      "text/html": [
       "<div id=\"97db3199-90cd-49cf-868f-f05d7c724d3d\" style=\"height: 525px; width: 100%;\" class=\"plotly-graph-div\"></div><script type=\"text/javascript\">require([\"plotly\"], function(Plotly) { window.PLOTLYENV=window.PLOTLYENV || {};window.PLOTLYENV.BASE_URL=\"https://plot.ly\";\n",
       "if (document.getElementById(\"97db3199-90cd-49cf-868f-f05d7c724d3d\")) {\n",
       "    Plotly.newPlot(\"97db3199-90cd-49cf-868f-f05d7c724d3d\", [{\"x\": [\"no\", \"yes\"], \"y\": [59.36062000484379, 40.63937999515621], \"type\": \"bar\", \"uid\": \"62a49070-2a0f-48f5-9c33-14ee6685cb89\"}, {\"x\": [\"no\", \"yes\"], \"y\": [25.744594043247655, 12.932061978545889], \"yaxis\": \"y2\", \"type\": \"scatter\", \"uid\": \"ba861c87-b76b-4fe7-a40e-b951eb1678a1\"}], {\"title\": {\"text\": \"Double Y axis - Smokehx\"}, \"yaxis\": {\"title\": {\"text\": \"Population Distibution\"}}, \"yaxis2\": {\"overlaying\": \"y\", \"side\": \"right\", \"tickfont\": {\"color\": \"rgb(148, 103, 189)\"}, \"title\": {\"font\": {\"color\": \"rgb(148, 103, 189)\"}, \"text\": \"Death Rate\"}}}, {\"showLink\": false, \"linkText\": \"Export to plot.ly\", \"plotlyServerURL\": \"https://plot.ly\"}); \n",
       "}\n",
       "});</script><script type=\"text/javascript\">window.addEventListener(\"resize\", function(){if (document.getElementById(\"97db3199-90cd-49cf-868f-f05d7c724d3d\")) {window._Plotly.Plots.resize(document.getElementById(\"97db3199-90cd-49cf-868f-f05d7c724d3d\"));};})</script>"
      ],
      "text/vnd.plotly.v1+html": [
       "<div id=\"97db3199-90cd-49cf-868f-f05d7c724d3d\" style=\"height: 525px; width: 100%;\" class=\"plotly-graph-div\"></div><script type=\"text/javascript\">require([\"plotly\"], function(Plotly) { window.PLOTLYENV=window.PLOTLYENV || {};window.PLOTLYENV.BASE_URL=\"https://plot.ly\";\n",
       "if (document.getElementById(\"97db3199-90cd-49cf-868f-f05d7c724d3d\")) {\n",
       "    Plotly.newPlot(\"97db3199-90cd-49cf-868f-f05d7c724d3d\", [{\"x\": [\"no\", \"yes\"], \"y\": [59.36062000484379, 40.63937999515621], \"type\": \"bar\", \"uid\": \"62a49070-2a0f-48f5-9c33-14ee6685cb89\"}, {\"x\": [\"no\", \"yes\"], \"y\": [25.744594043247655, 12.932061978545889], \"yaxis\": \"y2\", \"type\": \"scatter\", \"uid\": \"ba861c87-b76b-4fe7-a40e-b951eb1678a1\"}], {\"title\": {\"text\": \"Double Y axis - Smokehx\"}, \"yaxis\": {\"title\": {\"text\": \"Population Distibution\"}}, \"yaxis2\": {\"overlaying\": \"y\", \"side\": \"right\", \"tickfont\": {\"color\": \"rgb(148, 103, 189)\"}, \"title\": {\"font\": {\"color\": \"rgb(148, 103, 189)\"}, \"text\": \"Death Rate\"}}}, {\"showLink\": false, \"linkText\": \"Export to plot.ly\", \"plotlyServerURL\": \"https://plot.ly\"}); \n",
       "}\n",
       "});</script><script type=\"text/javascript\">window.addEventListener(\"resize\", function(){if (document.getElementById(\"97db3199-90cd-49cf-868f-f05d7c724d3d\")) {window._Plotly.Plots.resize(document.getElementById(\"97db3199-90cd-49cf-868f-f05d7c724d3d\"));};})</script>"
      ]
     },
     "metadata": {},
     "output_type": "display_data"
    },
    {
     "data": {
      "application/vnd.plotly.v1+json": {
       "config": {
        "linkText": "Export to plot.ly",
        "plotlyServerURL": "https://plot.ly",
        "showLink": false
       },
       "data": [
        {
         "type": "bar",
         "uid": "4ab863f5-155b-4ac4-be97-4c9f49ae17a3",
         "x": [
          "hispanic",
          "multiracial",
          "non hispanic black",
          "non hispanic white"
         ],
         "y": [
          45.386292080406875,
          4.335190118672802,
          24.48534754177767,
          25.79317025914265
         ]
        },
        {
         "type": "scatter",
         "uid": "6292cece-5b27-49c8-8d5d-339f08aa01dd",
         "x": [
          "hispanic",
          "multiracial",
          "non hispanic black",
          "non hispanic white"
         ],
         "y": [
          17.982924226254003,
          12.29050279329609,
          20.079129574678536,
          26.854460093896712
         ],
         "yaxis": "y2"
        }
       ],
       "layout": {
        "title": {
         "text": "Double Y axis - Race"
        },
        "yaxis": {
         "title": {
          "text": "Population Distibution"
         }
        },
        "yaxis2": {
         "overlaying": "y",
         "side": "right",
         "tickfont": {
          "color": "rgb(148, 103, 189)"
         },
         "title": {
          "font": {
           "color": "rgb(148, 103, 189)"
          },
          "text": "Death Rate"
         }
        }
       }
      },
      "text/html": [
       "<div id=\"3c43e720-1db1-4c82-a761-43f2c8520eac\" style=\"height: 525px; width: 100%;\" class=\"plotly-graph-div\"></div><script type=\"text/javascript\">require([\"plotly\"], function(Plotly) { window.PLOTLYENV=window.PLOTLYENV || {};window.PLOTLYENV.BASE_URL=\"https://plot.ly\";\n",
       "if (document.getElementById(\"3c43e720-1db1-4c82-a761-43f2c8520eac\")) {\n",
       "    Plotly.newPlot(\"3c43e720-1db1-4c82-a761-43f2c8520eac\", [{\"x\": [\"hispanic\", \"multiracial\", \"non hispanic black\", \"non hispanic white\"], \"y\": [45.386292080406875, 4.335190118672802, 24.48534754177767, 25.79317025914265], \"type\": \"bar\", \"uid\": \"4ab863f5-155b-4ac4-be97-4c9f49ae17a3\"}, {\"x\": [\"hispanic\", \"multiracial\", \"non hispanic black\", \"non hispanic white\"], \"y\": [17.982924226254003, 12.29050279329609, 20.079129574678536, 26.854460093896712], \"yaxis\": \"y2\", \"type\": \"scatter\", \"uid\": \"6292cece-5b27-49c8-8d5d-339f08aa01dd\"}], {\"title\": {\"text\": \"Double Y axis - Race\"}, \"yaxis\": {\"title\": {\"text\": \"Population Distibution\"}}, \"yaxis2\": {\"overlaying\": \"y\", \"side\": \"right\", \"tickfont\": {\"color\": \"rgb(148, 103, 189)\"}, \"title\": {\"font\": {\"color\": \"rgb(148, 103, 189)\"}, \"text\": \"Death Rate\"}}}, {\"showLink\": false, \"linkText\": \"Export to plot.ly\", \"plotlyServerURL\": \"https://plot.ly\"}); \n",
       "}\n",
       "});</script><script type=\"text/javascript\">window.addEventListener(\"resize\", function(){if (document.getElementById(\"3c43e720-1db1-4c82-a761-43f2c8520eac\")) {window._Plotly.Plots.resize(document.getElementById(\"3c43e720-1db1-4c82-a761-43f2c8520eac\"));};})</script>"
      ],
      "text/vnd.plotly.v1+html": [
       "<div id=\"3c43e720-1db1-4c82-a761-43f2c8520eac\" style=\"height: 525px; width: 100%;\" class=\"plotly-graph-div\"></div><script type=\"text/javascript\">require([\"plotly\"], function(Plotly) { window.PLOTLYENV=window.PLOTLYENV || {};window.PLOTLYENV.BASE_URL=\"https://plot.ly\";\n",
       "if (document.getElementById(\"3c43e720-1db1-4c82-a761-43f2c8520eac\")) {\n",
       "    Plotly.newPlot(\"3c43e720-1db1-4c82-a761-43f2c8520eac\", [{\"x\": [\"hispanic\", \"multiracial\", \"non hispanic black\", \"non hispanic white\"], \"y\": [45.386292080406875, 4.335190118672802, 24.48534754177767, 25.79317025914265], \"type\": \"bar\", \"uid\": \"4ab863f5-155b-4ac4-be97-4c9f49ae17a3\"}, {\"x\": [\"hispanic\", \"multiracial\", \"non hispanic black\", \"non hispanic white\"], \"y\": [17.982924226254003, 12.29050279329609, 20.079129574678536, 26.854460093896712], \"yaxis\": \"y2\", \"type\": \"scatter\", \"uid\": \"6292cece-5b27-49c8-8d5d-339f08aa01dd\"}], {\"title\": {\"text\": \"Double Y axis - Race\"}, \"yaxis\": {\"title\": {\"text\": \"Population Distibution\"}}, \"yaxis2\": {\"overlaying\": \"y\", \"side\": \"right\", \"tickfont\": {\"color\": \"rgb(148, 103, 189)\"}, \"title\": {\"font\": {\"color\": \"rgb(148, 103, 189)\"}, \"text\": \"Death Rate\"}}}, {\"showLink\": false, \"linkText\": \"Export to plot.ly\", \"plotlyServerURL\": \"https://plot.ly\"}); \n",
       "}\n",
       "});</script><script type=\"text/javascript\">window.addEventListener(\"resize\", function(){if (document.getElementById(\"3c43e720-1db1-4c82-a761-43f2c8520eac\")) {window._Plotly.Plots.resize(document.getElementById(\"3c43e720-1db1-4c82-a761-43f2c8520eac\"));};})</script>"
      ]
     },
     "metadata": {},
     "output_type": "display_data"
    },
    {
     "data": {
      "application/vnd.plotly.v1+json": {
       "config": {
        "linkText": "Export to plot.ly",
        "plotlyServerURL": "https://plot.ly",
        "showLink": false
       },
       "data": [
        {
         "type": "bar",
         "uid": "5fadddbb-9f2d-4a43-a19b-a3d064c87d33",
         "x": [
          "female",
          "male"
         ],
         "y": [
          52.966820053281666,
          47.033179946718334
         ]
        },
        {
         "type": "scatter",
         "uid": "089b53fc-a377-4471-b358-498d6841cf19",
         "x": [
          "female",
          "male"
         ],
         "y": [
          17.695473251028808,
          23.738414006179198
         ],
         "yaxis": "y2"
        }
       ],
       "layout": {
        "title": {
         "text": "Double Y axis - Sex"
        },
        "yaxis": {
         "title": {
          "text": "Population Distibution"
         }
        },
        "yaxis2": {
         "overlaying": "y",
         "side": "right",
         "tickfont": {
          "color": "rgb(148, 103, 189)"
         },
         "title": {
          "font": {
           "color": "rgb(148, 103, 189)"
          },
          "text": "Death Rate"
         }
        }
       }
      },
      "text/html": [
       "<div id=\"2cd39287-8fb6-47cb-b2fd-f5264d186dc7\" style=\"height: 525px; width: 100%;\" class=\"plotly-graph-div\"></div><script type=\"text/javascript\">require([\"plotly\"], function(Plotly) { window.PLOTLYENV=window.PLOTLYENV || {};window.PLOTLYENV.BASE_URL=\"https://plot.ly\";\n",
       "if (document.getElementById(\"2cd39287-8fb6-47cb-b2fd-f5264d186dc7\")) {\n",
       "    Plotly.newPlot(\"2cd39287-8fb6-47cb-b2fd-f5264d186dc7\", [{\"x\": [\"female\", \"male\"], \"y\": [52.966820053281666, 47.033179946718334], \"type\": \"bar\", \"uid\": \"5fadddbb-9f2d-4a43-a19b-a3d064c87d33\"}, {\"x\": [\"female\", \"male\"], \"y\": [17.695473251028808, 23.738414006179198], \"yaxis\": \"y2\", \"type\": \"scatter\", \"uid\": \"089b53fc-a377-4471-b358-498d6841cf19\"}], {\"title\": {\"text\": \"Double Y axis - Sex\"}, \"yaxis\": {\"title\": {\"text\": \"Population Distibution\"}}, \"yaxis2\": {\"overlaying\": \"y\", \"side\": \"right\", \"tickfont\": {\"color\": \"rgb(148, 103, 189)\"}, \"title\": {\"font\": {\"color\": \"rgb(148, 103, 189)\"}, \"text\": \"Death Rate\"}}}, {\"showLink\": false, \"linkText\": \"Export to plot.ly\", \"plotlyServerURL\": \"https://plot.ly\"}); \n",
       "}\n",
       "});</script><script type=\"text/javascript\">window.addEventListener(\"resize\", function(){if (document.getElementById(\"2cd39287-8fb6-47cb-b2fd-f5264d186dc7\")) {window._Plotly.Plots.resize(document.getElementById(\"2cd39287-8fb6-47cb-b2fd-f5264d186dc7\"));};})</script>"
      ],
      "text/vnd.plotly.v1+html": [
       "<div id=\"2cd39287-8fb6-47cb-b2fd-f5264d186dc7\" style=\"height: 525px; width: 100%;\" class=\"plotly-graph-div\"></div><script type=\"text/javascript\">require([\"plotly\"], function(Plotly) { window.PLOTLYENV=window.PLOTLYENV || {};window.PLOTLYENV.BASE_URL=\"https://plot.ly\";\n",
       "if (document.getElementById(\"2cd39287-8fb6-47cb-b2fd-f5264d186dc7\")) {\n",
       "    Plotly.newPlot(\"2cd39287-8fb6-47cb-b2fd-f5264d186dc7\", [{\"x\": [\"female\", \"male\"], \"y\": [52.966820053281666, 47.033179946718334], \"type\": \"bar\", \"uid\": \"5fadddbb-9f2d-4a43-a19b-a3d064c87d33\"}, {\"x\": [\"female\", \"male\"], \"y\": [17.695473251028808, 23.738414006179198], \"yaxis\": \"y2\", \"type\": \"scatter\", \"uid\": \"089b53fc-a377-4471-b358-498d6841cf19\"}], {\"title\": {\"text\": \"Double Y axis - Sex\"}, \"yaxis\": {\"title\": {\"text\": \"Population Distibution\"}}, \"yaxis2\": {\"overlaying\": \"y\", \"side\": \"right\", \"tickfont\": {\"color\": \"rgb(148, 103, 189)\"}, \"title\": {\"font\": {\"color\": \"rgb(148, 103, 189)\"}, \"text\": \"Death Rate\"}}}, {\"showLink\": false, \"linkText\": \"Export to plot.ly\", \"plotlyServerURL\": \"https://plot.ly\"}); \n",
       "}\n",
       "});</script><script type=\"text/javascript\">window.addEventListener(\"resize\", function(){if (document.getElementById(\"2cd39287-8fb6-47cb-b2fd-f5264d186dc7\")) {window._Plotly.Plots.resize(document.getElementById(\"2cd39287-8fb6-47cb-b2fd-f5264d186dc7\"));};})</script>"
      ]
     },
     "metadata": {},
     "output_type": "display_data"
    },
    {
     "data": {
      "application/vnd.plotly.v1+json": {
       "config": {
        "linkText": "Export to plot.ly",
        "plotlyServerURL": "https://plot.ly",
        "showLink": false
       },
       "data": [
        {
         "type": "bar",
         "uid": "bb5807ec-6029-4465-ac8c-64a7e0fea0cf",
         "x": [
          "no"
         ],
         "y": [
          100
         ]
        },
        {
         "type": "scatter",
         "uid": "16e0c8d0-e4ec-4e01-95af-6020d1f3423f",
         "x": [
          "no"
         ],
         "y": [
          20.53766045047227
         ],
         "yaxis": "y2"
        }
       ],
       "layout": {
        "title": {
         "text": "Double Y axis - Hf"
        },
        "yaxis": {
         "title": {
          "text": "Population Distibution"
         }
        },
        "yaxis2": {
         "overlaying": "y",
         "side": "right",
         "tickfont": {
          "color": "rgb(148, 103, 189)"
         },
         "title": {
          "font": {
           "color": "rgb(148, 103, 189)"
          },
          "text": "Death Rate"
         }
        }
       }
      },
      "text/html": [
       "<div id=\"a0725cbe-cf03-4672-a04f-0f0f087f0050\" style=\"height: 525px; width: 100%;\" class=\"plotly-graph-div\"></div><script type=\"text/javascript\">require([\"plotly\"], function(Plotly) { window.PLOTLYENV=window.PLOTLYENV || {};window.PLOTLYENV.BASE_URL=\"https://plot.ly\";\n",
       "if (document.getElementById(\"a0725cbe-cf03-4672-a04f-0f0f087f0050\")) {\n",
       "    Plotly.newPlot(\"a0725cbe-cf03-4672-a04f-0f0f087f0050\", [{\"x\": [\"no\"], \"y\": [100.0], \"type\": \"bar\", \"uid\": \"bb5807ec-6029-4465-ac8c-64a7e0fea0cf\"}, {\"x\": [\"no\"], \"y\": [20.53766045047227], \"yaxis\": \"y2\", \"type\": \"scatter\", \"uid\": \"16e0c8d0-e4ec-4e01-95af-6020d1f3423f\"}], {\"title\": {\"text\": \"Double Y axis - Hf\"}, \"yaxis\": {\"title\": {\"text\": \"Population Distibution\"}}, \"yaxis2\": {\"overlaying\": \"y\", \"side\": \"right\", \"tickfont\": {\"color\": \"rgb(148, 103, 189)\"}, \"title\": {\"font\": {\"color\": \"rgb(148, 103, 189)\"}, \"text\": \"Death Rate\"}}}, {\"showLink\": false, \"linkText\": \"Export to plot.ly\", \"plotlyServerURL\": \"https://plot.ly\"}); \n",
       "}\n",
       "});</script><script type=\"text/javascript\">window.addEventListener(\"resize\", function(){if (document.getElementById(\"a0725cbe-cf03-4672-a04f-0f0f087f0050\")) {window._Plotly.Plots.resize(document.getElementById(\"a0725cbe-cf03-4672-a04f-0f0f087f0050\"));};})</script>"
      ],
      "text/vnd.plotly.v1+html": [
       "<div id=\"a0725cbe-cf03-4672-a04f-0f0f087f0050\" style=\"height: 525px; width: 100%;\" class=\"plotly-graph-div\"></div><script type=\"text/javascript\">require([\"plotly\"], function(Plotly) { window.PLOTLYENV=window.PLOTLYENV || {};window.PLOTLYENV.BASE_URL=\"https://plot.ly\";\n",
       "if (document.getElementById(\"a0725cbe-cf03-4672-a04f-0f0f087f0050\")) {\n",
       "    Plotly.newPlot(\"a0725cbe-cf03-4672-a04f-0f0f087f0050\", [{\"x\": [\"no\"], \"y\": [100.0], \"type\": \"bar\", \"uid\": \"bb5807ec-6029-4465-ac8c-64a7e0fea0cf\"}, {\"x\": [\"no\"], \"y\": [20.53766045047227], \"yaxis\": \"y2\", \"type\": \"scatter\", \"uid\": \"16e0c8d0-e4ec-4e01-95af-6020d1f3423f\"}], {\"title\": {\"text\": \"Double Y axis - Hf\"}, \"yaxis\": {\"title\": {\"text\": \"Population Distibution\"}}, \"yaxis2\": {\"overlaying\": \"y\", \"side\": \"right\", \"tickfont\": {\"color\": \"rgb(148, 103, 189)\"}, \"title\": {\"font\": {\"color\": \"rgb(148, 103, 189)\"}, \"text\": \"Death Rate\"}}}, {\"showLink\": false, \"linkText\": \"Export to plot.ly\", \"plotlyServerURL\": \"https://plot.ly\"}); \n",
       "}\n",
       "});</script><script type=\"text/javascript\">window.addEventListener(\"resize\", function(){if (document.getElementById(\"a0725cbe-cf03-4672-a04f-0f0f087f0050\")) {window._Plotly.Plots.resize(document.getElementById(\"a0725cbe-cf03-4672-a04f-0f0f087f0050\"));};})</script>"
      ]
     },
     "metadata": {},
     "output_type": "display_data"
    },
    {
     "data": {
      "application/vnd.plotly.v1+json": {
       "config": {
        "linkText": "Export to plot.ly",
        "plotlyServerURL": "https://plot.ly",
        "showLink": false
       },
       "data": [
        {
         "type": "bar",
         "uid": "2787a211-70bf-4768-b561-eabb55d17310",
         "x": [
          "no"
         ],
         "y": [
          100
         ]
        },
        {
         "type": "scatter",
         "uid": "156f08d5-3afc-40f4-ba08-8486a77c8903",
         "x": [
          "no"
         ],
         "y": [
          20.53766045047227
         ],
         "yaxis": "y2"
        }
       ],
       "layout": {
        "title": {
         "text": "Double Y axis - Stroke"
        },
        "yaxis": {
         "title": {
          "text": "Population Distibution"
         }
        },
        "yaxis2": {
         "overlaying": "y",
         "side": "right",
         "tickfont": {
          "color": "rgb(148, 103, 189)"
         },
         "title": {
          "font": {
           "color": "rgb(148, 103, 189)"
          },
          "text": "Death Rate"
         }
        }
       }
      },
      "text/html": [
       "<div id=\"dba012f4-651d-4071-a864-b0f54f7a939c\" style=\"height: 525px; width: 100%;\" class=\"plotly-graph-div\"></div><script type=\"text/javascript\">require([\"plotly\"], function(Plotly) { window.PLOTLYENV=window.PLOTLYENV || {};window.PLOTLYENV.BASE_URL=\"https://plot.ly\";\n",
       "if (document.getElementById(\"dba012f4-651d-4071-a864-b0f54f7a939c\")) {\n",
       "    Plotly.newPlot(\"dba012f4-651d-4071-a864-b0f54f7a939c\", [{\"x\": [\"no\"], \"y\": [100.0], \"type\": \"bar\", \"uid\": \"2787a211-70bf-4768-b561-eabb55d17310\"}, {\"x\": [\"no\"], \"y\": [20.53766045047227], \"yaxis\": \"y2\", \"type\": \"scatter\", \"uid\": \"156f08d5-3afc-40f4-ba08-8486a77c8903\"}], {\"title\": {\"text\": \"Double Y axis - Stroke\"}, \"yaxis\": {\"title\": {\"text\": \"Population Distibution\"}}, \"yaxis2\": {\"overlaying\": \"y\", \"side\": \"right\", \"tickfont\": {\"color\": \"rgb(148, 103, 189)\"}, \"title\": {\"font\": {\"color\": \"rgb(148, 103, 189)\"}, \"text\": \"Death Rate\"}}}, {\"showLink\": false, \"linkText\": \"Export to plot.ly\", \"plotlyServerURL\": \"https://plot.ly\"}); \n",
       "}\n",
       "});</script><script type=\"text/javascript\">window.addEventListener(\"resize\", function(){if (document.getElementById(\"dba012f4-651d-4071-a864-b0f54f7a939c\")) {window._Plotly.Plots.resize(document.getElementById(\"dba012f4-651d-4071-a864-b0f54f7a939c\"));};})</script>"
      ],
      "text/vnd.plotly.v1+html": [
       "<div id=\"dba012f4-651d-4071-a864-b0f54f7a939c\" style=\"height: 525px; width: 100%;\" class=\"plotly-graph-div\"></div><script type=\"text/javascript\">require([\"plotly\"], function(Plotly) { window.PLOTLYENV=window.PLOTLYENV || {};window.PLOTLYENV.BASE_URL=\"https://plot.ly\";\n",
       "if (document.getElementById(\"dba012f4-651d-4071-a864-b0f54f7a939c\")) {\n",
       "    Plotly.newPlot(\"dba012f4-651d-4071-a864-b0f54f7a939c\", [{\"x\": [\"no\"], \"y\": [100.0], \"type\": \"bar\", \"uid\": \"2787a211-70bf-4768-b561-eabb55d17310\"}, {\"x\": [\"no\"], \"y\": [20.53766045047227], \"yaxis\": \"y2\", \"type\": \"scatter\", \"uid\": \"156f08d5-3afc-40f4-ba08-8486a77c8903\"}], {\"title\": {\"text\": \"Double Y axis - Stroke\"}, \"yaxis\": {\"title\": {\"text\": \"Population Distibution\"}}, \"yaxis2\": {\"overlaying\": \"y\", \"side\": \"right\", \"tickfont\": {\"color\": \"rgb(148, 103, 189)\"}, \"title\": {\"font\": {\"color\": \"rgb(148, 103, 189)\"}, \"text\": \"Death Rate\"}}}, {\"showLink\": false, \"linkText\": \"Export to plot.ly\", \"plotlyServerURL\": \"https://plot.ly\"}); \n",
       "}\n",
       "});</script><script type=\"text/javascript\">window.addEventListener(\"resize\", function(){if (document.getElementById(\"dba012f4-651d-4071-a864-b0f54f7a939c\")) {window._Plotly.Plots.resize(document.getElementById(\"dba012f4-651d-4071-a864-b0f54f7a939c\"));};})</script>"
      ]
     },
     "metadata": {},
     "output_type": "display_data"
    },
    {
     "data": {
      "application/vnd.plotly.v1+json": {
       "config": {
        "linkText": "Export to plot.ly",
        "plotlyServerURL": "https://plot.ly",
        "showLink": false
       },
       "data": [
        {
         "type": "bar",
         "uid": "225c2576-ccd9-4091-92fe-639485a5e474",
         "x": [
          "Not_Available",
          "no"
         ],
         "y": [
          1.453136352627755,
          98.54686364737225
         ]
        },
        {
         "type": "scatter",
         "uid": "e5c6c70a-a5c0-48d6-81df-131363d60a8c",
         "x": [
          "Not_Available",
          "no"
         ],
         "y": [
          21.666666666666668,
          20.521012533792085
         ],
         "yaxis": "y2"
        }
       ],
       "layout": {
        "title": {
         "text": "Double Y axis - Mi"
        },
        "yaxis": {
         "title": {
          "text": "Population Distibution"
         }
        },
        "yaxis2": {
         "overlaying": "y",
         "side": "right",
         "tickfont": {
          "color": "rgb(148, 103, 189)"
         },
         "title": {
          "font": {
           "color": "rgb(148, 103, 189)"
          },
          "text": "Death Rate"
         }
        }
       }
      },
      "text/html": [
       "<div id=\"e64048aa-78d3-4bf8-95b5-282cf6a79cc0\" style=\"height: 525px; width: 100%;\" class=\"plotly-graph-div\"></div><script type=\"text/javascript\">require([\"plotly\"], function(Plotly) { window.PLOTLYENV=window.PLOTLYENV || {};window.PLOTLYENV.BASE_URL=\"https://plot.ly\";\n",
       "if (document.getElementById(\"e64048aa-78d3-4bf8-95b5-282cf6a79cc0\")) {\n",
       "    Plotly.newPlot(\"e64048aa-78d3-4bf8-95b5-282cf6a79cc0\", [{\"x\": [\"Not_Available\", \"no\"], \"y\": [1.453136352627755, 98.54686364737225], \"type\": \"bar\", \"uid\": \"225c2576-ccd9-4091-92fe-639485a5e474\"}, {\"x\": [\"Not_Available\", \"no\"], \"y\": [21.666666666666668, 20.521012533792085], \"yaxis\": \"y2\", \"type\": \"scatter\", \"uid\": \"e5c6c70a-a5c0-48d6-81df-131363d60a8c\"}], {\"title\": {\"text\": \"Double Y axis - Mi\"}, \"yaxis\": {\"title\": {\"text\": \"Population Distibution\"}}, \"yaxis2\": {\"overlaying\": \"y\", \"side\": \"right\", \"tickfont\": {\"color\": \"rgb(148, 103, 189)\"}, \"title\": {\"font\": {\"color\": \"rgb(148, 103, 189)\"}, \"text\": \"Death Rate\"}}}, {\"showLink\": false, \"linkText\": \"Export to plot.ly\", \"plotlyServerURL\": \"https://plot.ly\"}); \n",
       "}\n",
       "});</script><script type=\"text/javascript\">window.addEventListener(\"resize\", function(){if (document.getElementById(\"e64048aa-78d3-4bf8-95b5-282cf6a79cc0\")) {window._Plotly.Plots.resize(document.getElementById(\"e64048aa-78d3-4bf8-95b5-282cf6a79cc0\"));};})</script>"
      ],
      "text/vnd.plotly.v1+html": [
       "<div id=\"e64048aa-78d3-4bf8-95b5-282cf6a79cc0\" style=\"height: 525px; width: 100%;\" class=\"plotly-graph-div\"></div><script type=\"text/javascript\">require([\"plotly\"], function(Plotly) { window.PLOTLYENV=window.PLOTLYENV || {};window.PLOTLYENV.BASE_URL=\"https://plot.ly\";\n",
       "if (document.getElementById(\"e64048aa-78d3-4bf8-95b5-282cf6a79cc0\")) {\n",
       "    Plotly.newPlot(\"e64048aa-78d3-4bf8-95b5-282cf6a79cc0\", [{\"x\": [\"Not_Available\", \"no\"], \"y\": [1.453136352627755, 98.54686364737225], \"type\": \"bar\", \"uid\": \"225c2576-ccd9-4091-92fe-639485a5e474\"}, {\"x\": [\"Not_Available\", \"no\"], \"y\": [21.666666666666668, 20.521012533792085], \"yaxis\": \"y2\", \"type\": \"scatter\", \"uid\": \"e5c6c70a-a5c0-48d6-81df-131363d60a8c\"}], {\"title\": {\"text\": \"Double Y axis - Mi\"}, \"yaxis\": {\"title\": {\"text\": \"Population Distibution\"}}, \"yaxis2\": {\"overlaying\": \"y\", \"side\": \"right\", \"tickfont\": {\"color\": \"rgb(148, 103, 189)\"}, \"title\": {\"font\": {\"color\": \"rgb(148, 103, 189)\"}, \"text\": \"Death Rate\"}}}, {\"showLink\": false, \"linkText\": \"Export to plot.ly\", \"plotlyServerURL\": \"https://plot.ly\"}); \n",
       "}\n",
       "});</script><script type=\"text/javascript\">window.addEventListener(\"resize\", function(){if (document.getElementById(\"e64048aa-78d3-4bf8-95b5-282cf6a79cc0\")) {window._Plotly.Plots.resize(document.getElementById(\"e64048aa-78d3-4bf8-95b5-282cf6a79cc0\"));};})</script>"
      ]
     },
     "metadata": {},
     "output_type": "display_data"
    }
   ],
   "source": [
    "plt_event_rate(er_data)"
   ]
  },
  {
   "cell_type": "code",
   "execution_count": 52,
   "metadata": {},
   "outputs": [],
   "source": [
    "er_data = pd.DataFrame()\n",
    "for column in numerical_columns:\n",
    "    data['decile'] = pd.qcut(data[column], q=10, duplicates='drop', labels=False)\n",
    "    groupby_data = data[['decile'] + ['mortstat']].groupby('decile').agg({'mortstat' : ['sum', 'count']})\n",
    "    groupby_data.columns = ['deaths', 'population']\n",
    "    groupby_data.reset_index(inplace=True)\n",
    "    groupby_data['event_rate'] = 100*groupby_data['deaths']/groupby_data['population']\n",
    "    groupby_data['population_dist'] = 100*groupby_data['population']/ groupby_data['population'].sum()\n",
    "    groupby_data.columns = ['levels', 'deaths', 'population', 'death_rate', 'population_dist']\n",
    "    groupby_data['field'] = column\n",
    "    er_data = er_data.append(groupby_data)"
   ]
  },
  {
   "cell_type": "code",
   "execution_count": 53,
   "metadata": {},
   "outputs": [
    {
     "data": {
      "text/html": [
       "<div>\n",
       "<style scoped>\n",
       "    .dataframe tbody tr th:only-of-type {\n",
       "        vertical-align: middle;\n",
       "    }\n",
       "\n",
       "    .dataframe tbody tr th {\n",
       "        vertical-align: top;\n",
       "    }\n",
       "\n",
       "    .dataframe thead th {\n",
       "        text-align: right;\n",
       "    }\n",
       "</style>\n",
       "<table border=\"1\" class=\"dataframe\">\n",
       "  <thead>\n",
       "    <tr style=\"text-align: right;\">\n",
       "      <th></th>\n",
       "      <th>levels</th>\n",
       "      <th>deaths</th>\n",
       "      <th>population</th>\n",
       "      <th>death_rate</th>\n",
       "      <th>population_dist</th>\n",
       "      <th>field</th>\n",
       "    </tr>\n",
       "  </thead>\n",
       "  <tbody>\n",
       "    <tr>\n",
       "      <th>0</th>\n",
       "      <td>0</td>\n",
       "      <td>58</td>\n",
       "      <td>429</td>\n",
       "      <td>13.519814</td>\n",
       "      <td>10.389925</td>\n",
       "      <td>sbp</td>\n",
       "    </tr>\n",
       "    <tr>\n",
       "      <th>1</th>\n",
       "      <td>1</td>\n",
       "      <td>53</td>\n",
       "      <td>429</td>\n",
       "      <td>12.354312</td>\n",
       "      <td>10.389925</td>\n",
       "      <td>sbp</td>\n",
       "    </tr>\n",
       "    <tr>\n",
       "      <th>2</th>\n",
       "      <td>2</td>\n",
       "      <td>75</td>\n",
       "      <td>472</td>\n",
       "      <td>15.889831</td>\n",
       "      <td>11.431339</td>\n",
       "      <td>sbp</td>\n",
       "    </tr>\n",
       "    <tr>\n",
       "      <th>3</th>\n",
       "      <td>3</td>\n",
       "      <td>49</td>\n",
       "      <td>344</td>\n",
       "      <td>14.244186</td>\n",
       "      <td>8.331315</td>\n",
       "      <td>sbp</td>\n",
       "    </tr>\n",
       "    <tr>\n",
       "      <th>4</th>\n",
       "      <td>4</td>\n",
       "      <td>79</td>\n",
       "      <td>473</td>\n",
       "      <td>16.701903</td>\n",
       "      <td>11.455558</td>\n",
       "      <td>sbp</td>\n",
       "    </tr>\n",
       "    <tr>\n",
       "      <th>5</th>\n",
       "      <td>5</td>\n",
       "      <td>105</td>\n",
       "      <td>390</td>\n",
       "      <td>26.923077</td>\n",
       "      <td>9.445386</td>\n",
       "      <td>sbp</td>\n",
       "    </tr>\n",
       "    <tr>\n",
       "      <th>6</th>\n",
       "      <td>6</td>\n",
       "      <td>77</td>\n",
       "      <td>379</td>\n",
       "      <td>20.316623</td>\n",
       "      <td>9.178978</td>\n",
       "      <td>sbp</td>\n",
       "    </tr>\n",
       "    <tr>\n",
       "      <th>7</th>\n",
       "      <td>7</td>\n",
       "      <td>94</td>\n",
       "      <td>416</td>\n",
       "      <td>22.596154</td>\n",
       "      <td>10.075079</td>\n",
       "      <td>sbp</td>\n",
       "    </tr>\n",
       "    <tr>\n",
       "      <th>8</th>\n",
       "      <td>8</td>\n",
       "      <td>107</td>\n",
       "      <td>407</td>\n",
       "      <td>26.289926</td>\n",
       "      <td>9.857108</td>\n",
       "      <td>sbp</td>\n",
       "    </tr>\n",
       "    <tr>\n",
       "      <th>9</th>\n",
       "      <td>9</td>\n",
       "      <td>151</td>\n",
       "      <td>390</td>\n",
       "      <td>38.717949</td>\n",
       "      <td>9.445386</td>\n",
       "      <td>sbp</td>\n",
       "    </tr>\n",
       "    <tr>\n",
       "      <th>0</th>\n",
       "      <td>0</td>\n",
       "      <td>34</td>\n",
       "      <td>430</td>\n",
       "      <td>7.906977</td>\n",
       "      <td>10.414144</td>\n",
       "      <td>age</td>\n",
       "    </tr>\n",
       "    <tr>\n",
       "      <th>1</th>\n",
       "      <td>1</td>\n",
       "      <td>57</td>\n",
       "      <td>403</td>\n",
       "      <td>14.143921</td>\n",
       "      <td>9.760233</td>\n",
       "      <td>age</td>\n",
       "    </tr>\n",
       "    <tr>\n",
       "      <th>2</th>\n",
       "      <td>2</td>\n",
       "      <td>56</td>\n",
       "      <td>413</td>\n",
       "      <td>13.559322</td>\n",
       "      <td>10.002422</td>\n",
       "      <td>age</td>\n",
       "    </tr>\n",
       "    <tr>\n",
       "      <th>3</th>\n",
       "      <td>3</td>\n",
       "      <td>58</td>\n",
       "      <td>415</td>\n",
       "      <td>13.975904</td>\n",
       "      <td>10.050860</td>\n",
       "      <td>age</td>\n",
       "    </tr>\n",
       "    <tr>\n",
       "      <th>4</th>\n",
       "      <td>4</td>\n",
       "      <td>71</td>\n",
       "      <td>418</td>\n",
       "      <td>16.985646</td>\n",
       "      <td>10.123517</td>\n",
       "      <td>age</td>\n",
       "    </tr>\n",
       "    <tr>\n",
       "      <th>5</th>\n",
       "      <td>5</td>\n",
       "      <td>89</td>\n",
       "      <td>415</td>\n",
       "      <td>21.445783</td>\n",
       "      <td>10.050860</td>\n",
       "      <td>age</td>\n",
       "    </tr>\n",
       "    <tr>\n",
       "      <th>6</th>\n",
       "      <td>6</td>\n",
       "      <td>93</td>\n",
       "      <td>397</td>\n",
       "      <td>23.425693</td>\n",
       "      <td>9.614919</td>\n",
       "      <td>age</td>\n",
       "    </tr>\n",
       "    <tr>\n",
       "      <th>7</th>\n",
       "      <td>7</td>\n",
       "      <td>107</td>\n",
       "      <td>427</td>\n",
       "      <td>25.058548</td>\n",
       "      <td>10.341487</td>\n",
       "      <td>age</td>\n",
       "    </tr>\n",
       "    <tr>\n",
       "      <th>8</th>\n",
       "      <td>8</td>\n",
       "      <td>139</td>\n",
       "      <td>398</td>\n",
       "      <td>34.924623</td>\n",
       "      <td>9.639138</td>\n",
       "      <td>age</td>\n",
       "    </tr>\n",
       "    <tr>\n",
       "      <th>9</th>\n",
       "      <td>9</td>\n",
       "      <td>144</td>\n",
       "      <td>413</td>\n",
       "      <td>34.866828</td>\n",
       "      <td>10.002422</td>\n",
       "      <td>age</td>\n",
       "    </tr>\n",
       "    <tr>\n",
       "      <th>0</th>\n",
       "      <td>0</td>\n",
       "      <td>103</td>\n",
       "      <td>467</td>\n",
       "      <td>22.055675</td>\n",
       "      <td>11.310245</td>\n",
       "      <td>dbp</td>\n",
       "    </tr>\n",
       "    <tr>\n",
       "      <th>1</th>\n",
       "      <td>1</td>\n",
       "      <td>82</td>\n",
       "      <td>467</td>\n",
       "      <td>17.558887</td>\n",
       "      <td>11.310245</td>\n",
       "      <td>dbp</td>\n",
       "    </tr>\n",
       "    <tr>\n",
       "      <th>2</th>\n",
       "      <td>2</td>\n",
       "      <td>66</td>\n",
       "      <td>426</td>\n",
       "      <td>15.492958</td>\n",
       "      <td>10.317268</td>\n",
       "      <td>dbp</td>\n",
       "    </tr>\n",
       "    <tr>\n",
       "      <th>3</th>\n",
       "      <td>3</td>\n",
       "      <td>56</td>\n",
       "      <td>345</td>\n",
       "      <td>16.231884</td>\n",
       "      <td>8.355534</td>\n",
       "      <td>dbp</td>\n",
       "    </tr>\n",
       "    <tr>\n",
       "      <th>4</th>\n",
       "      <td>4</td>\n",
       "      <td>168</td>\n",
       "      <td>718</td>\n",
       "      <td>23.398329</td>\n",
       "      <td>17.389198</td>\n",
       "      <td>dbp</td>\n",
       "    </tr>\n",
       "    <tr>\n",
       "      <th>5</th>\n",
       "      <td>5</td>\n",
       "      <td>34</td>\n",
       "      <td>153</td>\n",
       "      <td>22.222222</td>\n",
       "      <td>3.705498</td>\n",
       "      <td>dbp</td>\n",
       "    </tr>\n",
       "    <tr>\n",
       "      <th>6</th>\n",
       "      <td>6</td>\n",
       "      <td>73</td>\n",
       "      <td>429</td>\n",
       "      <td>17.016317</td>\n",
       "      <td>10.389925</td>\n",
       "      <td>dbp</td>\n",
       "    </tr>\n",
       "    <tr>\n",
       "      <th>7</th>\n",
       "      <td>7</td>\n",
       "      <td>79</td>\n",
       "      <td>359</td>\n",
       "      <td>22.005571</td>\n",
       "      <td>8.694599</td>\n",
       "      <td>dbp</td>\n",
       "    </tr>\n",
       "    <tr>\n",
       "      <th>8</th>\n",
       "      <td>8</td>\n",
       "      <td>90</td>\n",
       "      <td>388</td>\n",
       "      <td>23.195876</td>\n",
       "      <td>9.396948</td>\n",
       "      <td>dbp</td>\n",
       "    </tr>\n",
       "    <tr>\n",
       "      <th>9</th>\n",
       "      <td>9</td>\n",
       "      <td>97</td>\n",
       "      <td>377</td>\n",
       "      <td>25.729443</td>\n",
       "      <td>9.130540</td>\n",
       "      <td>dbp</td>\n",
       "    </tr>\n",
       "    <tr>\n",
       "      <th>...</th>\n",
       "      <td>...</td>\n",
       "      <td>...</td>\n",
       "      <td>...</td>\n",
       "      <td>...</td>\n",
       "      <td>...</td>\n",
       "      <td>...</td>\n",
       "    </tr>\n",
       "    <tr>\n",
       "      <th>0</th>\n",
       "      <td>0</td>\n",
       "      <td>104</td>\n",
       "      <td>415</td>\n",
       "      <td>25.060241</td>\n",
       "      <td>10.050860</td>\n",
       "      <td>hdl</td>\n",
       "    </tr>\n",
       "    <tr>\n",
       "      <th>1</th>\n",
       "      <td>1</td>\n",
       "      <td>85</td>\n",
       "      <td>440</td>\n",
       "      <td>19.318182</td>\n",
       "      <td>10.656333</td>\n",
       "      <td>hdl</td>\n",
       "    </tr>\n",
       "    <tr>\n",
       "      <th>2</th>\n",
       "      <td>2</td>\n",
       "      <td>87</td>\n",
       "      <td>435</td>\n",
       "      <td>20.000000</td>\n",
       "      <td>10.535239</td>\n",
       "      <td>hdl</td>\n",
       "    </tr>\n",
       "    <tr>\n",
       "      <th>3</th>\n",
       "      <td>3</td>\n",
       "      <td>85</td>\n",
       "      <td>406</td>\n",
       "      <td>20.935961</td>\n",
       "      <td>9.832889</td>\n",
       "      <td>hdl</td>\n",
       "    </tr>\n",
       "    <tr>\n",
       "      <th>4</th>\n",
       "      <td>4</td>\n",
       "      <td>56</td>\n",
       "      <td>375</td>\n",
       "      <td>14.933333</td>\n",
       "      <td>9.082102</td>\n",
       "      <td>hdl</td>\n",
       "    </tr>\n",
       "    <tr>\n",
       "      <th>5</th>\n",
       "      <td>5</td>\n",
       "      <td>143</td>\n",
       "      <td>531</td>\n",
       "      <td>26.930320</td>\n",
       "      <td>12.860257</td>\n",
       "      <td>hdl</td>\n",
       "    </tr>\n",
       "    <tr>\n",
       "      <th>6</th>\n",
       "      <td>6</td>\n",
       "      <td>71</td>\n",
       "      <td>326</td>\n",
       "      <td>21.779141</td>\n",
       "      <td>7.895374</td>\n",
       "      <td>hdl</td>\n",
       "    </tr>\n",
       "    <tr>\n",
       "      <th>7</th>\n",
       "      <td>7</td>\n",
       "      <td>66</td>\n",
       "      <td>383</td>\n",
       "      <td>17.232376</td>\n",
       "      <td>9.275854</td>\n",
       "      <td>hdl</td>\n",
       "    </tr>\n",
       "    <tr>\n",
       "      <th>8</th>\n",
       "      <td>8</td>\n",
       "      <td>68</td>\n",
       "      <td>409</td>\n",
       "      <td>16.625917</td>\n",
       "      <td>9.905546</td>\n",
       "      <td>hdl</td>\n",
       "    </tr>\n",
       "    <tr>\n",
       "      <th>9</th>\n",
       "      <td>9</td>\n",
       "      <td>83</td>\n",
       "      <td>409</td>\n",
       "      <td>20.293399</td>\n",
       "      <td>9.905546</td>\n",
       "      <td>hdl</td>\n",
       "    </tr>\n",
       "    <tr>\n",
       "      <th>0</th>\n",
       "      <td>0</td>\n",
       "      <td>118</td>\n",
       "      <td>413</td>\n",
       "      <td>28.571429</td>\n",
       "      <td>10.002422</td>\n",
       "      <td>ses</td>\n",
       "    </tr>\n",
       "    <tr>\n",
       "      <th>1</th>\n",
       "      <td>1</td>\n",
       "      <td>140</td>\n",
       "      <td>414</td>\n",
       "      <td>33.816425</td>\n",
       "      <td>10.026641</td>\n",
       "      <td>ses</td>\n",
       "    </tr>\n",
       "    <tr>\n",
       "      <th>2</th>\n",
       "      <td>2</td>\n",
       "      <td>95</td>\n",
       "      <td>412</td>\n",
       "      <td>23.058252</td>\n",
       "      <td>9.978203</td>\n",
       "      <td>ses</td>\n",
       "    </tr>\n",
       "    <tr>\n",
       "      <th>3</th>\n",
       "      <td>3</td>\n",
       "      <td>80</td>\n",
       "      <td>413</td>\n",
       "      <td>19.370460</td>\n",
       "      <td>10.002422</td>\n",
       "      <td>ses</td>\n",
       "    </tr>\n",
       "    <tr>\n",
       "      <th>4</th>\n",
       "      <td>4</td>\n",
       "      <td>73</td>\n",
       "      <td>414</td>\n",
       "      <td>17.632850</td>\n",
       "      <td>10.026641</td>\n",
       "      <td>ses</td>\n",
       "    </tr>\n",
       "    <tr>\n",
       "      <th>5</th>\n",
       "      <td>5</td>\n",
       "      <td>105</td>\n",
       "      <td>470</td>\n",
       "      <td>22.340426</td>\n",
       "      <td>11.382901</td>\n",
       "      <td>ses</td>\n",
       "    </tr>\n",
       "    <tr>\n",
       "      <th>6</th>\n",
       "      <td>6</td>\n",
       "      <td>60</td>\n",
       "      <td>355</td>\n",
       "      <td>16.901408</td>\n",
       "      <td>8.597723</td>\n",
       "      <td>ses</td>\n",
       "    </tr>\n",
       "    <tr>\n",
       "      <th>7</th>\n",
       "      <td>7</td>\n",
       "      <td>71</td>\n",
       "      <td>412</td>\n",
       "      <td>17.233010</td>\n",
       "      <td>9.978203</td>\n",
       "      <td>ses</td>\n",
       "    </tr>\n",
       "    <tr>\n",
       "      <th>8</th>\n",
       "      <td>8</td>\n",
       "      <td>51</td>\n",
       "      <td>420</td>\n",
       "      <td>12.142857</td>\n",
       "      <td>10.171954</td>\n",
       "      <td>ses</td>\n",
       "    </tr>\n",
       "    <tr>\n",
       "      <th>9</th>\n",
       "      <td>9</td>\n",
       "      <td>55</td>\n",
       "      <td>406</td>\n",
       "      <td>13.546798</td>\n",
       "      <td>9.832889</td>\n",
       "      <td>ses</td>\n",
       "    </tr>\n",
       "    <tr>\n",
       "      <th>0</th>\n",
       "      <td>0</td>\n",
       "      <td>88</td>\n",
       "      <td>465</td>\n",
       "      <td>18.924731</td>\n",
       "      <td>11.261807</td>\n",
       "      <td>hba1c</td>\n",
       "    </tr>\n",
       "    <tr>\n",
       "      <th>1</th>\n",
       "      <td>1</td>\n",
       "      <td>60</td>\n",
       "      <td>404</td>\n",
       "      <td>14.851485</td>\n",
       "      <td>9.784451</td>\n",
       "      <td>hba1c</td>\n",
       "    </tr>\n",
       "    <tr>\n",
       "      <th>2</th>\n",
       "      <td>2</td>\n",
       "      <td>83</td>\n",
       "      <td>510</td>\n",
       "      <td>16.274510</td>\n",
       "      <td>12.351659</td>\n",
       "      <td>hba1c</td>\n",
       "    </tr>\n",
       "    <tr>\n",
       "      <th>3</th>\n",
       "      <td>3</td>\n",
       "      <td>50</td>\n",
       "      <td>286</td>\n",
       "      <td>17.482517</td>\n",
       "      <td>6.926617</td>\n",
       "      <td>hba1c</td>\n",
       "    </tr>\n",
       "    <tr>\n",
       "      <th>4</th>\n",
       "      <td>4</td>\n",
       "      <td>89</td>\n",
       "      <td>550</td>\n",
       "      <td>16.181818</td>\n",
       "      <td>13.320417</td>\n",
       "      <td>hba1c</td>\n",
       "    </tr>\n",
       "    <tr>\n",
       "      <th>5</th>\n",
       "      <td>5</td>\n",
       "      <td>79</td>\n",
       "      <td>421</td>\n",
       "      <td>18.764846</td>\n",
       "      <td>10.196173</td>\n",
       "      <td>hba1c</td>\n",
       "    </tr>\n",
       "    <tr>\n",
       "      <th>6</th>\n",
       "      <td>6</td>\n",
       "      <td>116</td>\n",
       "      <td>464</td>\n",
       "      <td>25.000000</td>\n",
       "      <td>11.237588</td>\n",
       "      <td>hba1c</td>\n",
       "    </tr>\n",
       "    <tr>\n",
       "      <th>7</th>\n",
       "      <td>7</td>\n",
       "      <td>55</td>\n",
       "      <td>274</td>\n",
       "      <td>20.072993</td>\n",
       "      <td>6.635989</td>\n",
       "      <td>hba1c</td>\n",
       "    </tr>\n",
       "    <tr>\n",
       "      <th>8</th>\n",
       "      <td>8</td>\n",
       "      <td>87</td>\n",
       "      <td>351</td>\n",
       "      <td>24.786325</td>\n",
       "      <td>8.500848</td>\n",
       "      <td>hba1c</td>\n",
       "    </tr>\n",
       "    <tr>\n",
       "      <th>9</th>\n",
       "      <td>9</td>\n",
       "      <td>141</td>\n",
       "      <td>404</td>\n",
       "      <td>34.900990</td>\n",
       "      <td>9.784451</td>\n",
       "      <td>hba1c</td>\n",
       "    </tr>\n",
       "  </tbody>\n",
       "</table>\n",
       "<p>99 rows × 6 columns</p>\n",
       "</div>"
      ],
      "text/plain": [
       "    levels  deaths  population  death_rate  population_dist  field\n",
       "0        0      58         429   13.519814        10.389925    sbp\n",
       "1        1      53         429   12.354312        10.389925    sbp\n",
       "2        2      75         472   15.889831        11.431339    sbp\n",
       "3        3      49         344   14.244186         8.331315    sbp\n",
       "4        4      79         473   16.701903        11.455558    sbp\n",
       "5        5     105         390   26.923077         9.445386    sbp\n",
       "6        6      77         379   20.316623         9.178978    sbp\n",
       "7        7      94         416   22.596154        10.075079    sbp\n",
       "8        8     107         407   26.289926         9.857108    sbp\n",
       "9        9     151         390   38.717949         9.445386    sbp\n",
       "0        0      34         430    7.906977        10.414144    age\n",
       "1        1      57         403   14.143921         9.760233    age\n",
       "2        2      56         413   13.559322        10.002422    age\n",
       "3        3      58         415   13.975904        10.050860    age\n",
       "4        4      71         418   16.985646        10.123517    age\n",
       "5        5      89         415   21.445783        10.050860    age\n",
       "6        6      93         397   23.425693         9.614919    age\n",
       "7        7     107         427   25.058548        10.341487    age\n",
       "8        8     139         398   34.924623         9.639138    age\n",
       "9        9     144         413   34.866828        10.002422    age\n",
       "0        0     103         467   22.055675        11.310245    dbp\n",
       "1        1      82         467   17.558887        11.310245    dbp\n",
       "2        2      66         426   15.492958        10.317268    dbp\n",
       "3        3      56         345   16.231884         8.355534    dbp\n",
       "4        4     168         718   23.398329        17.389198    dbp\n",
       "5        5      34         153   22.222222         3.705498    dbp\n",
       "6        6      73         429   17.016317        10.389925    dbp\n",
       "7        7      79         359   22.005571         8.694599    dbp\n",
       "8        8      90         388   23.195876         9.396948    dbp\n",
       "9        9      97         377   25.729443         9.130540    dbp\n",
       "..     ...     ...         ...         ...              ...    ...\n",
       "0        0     104         415   25.060241        10.050860    hdl\n",
       "1        1      85         440   19.318182        10.656333    hdl\n",
       "2        2      87         435   20.000000        10.535239    hdl\n",
       "3        3      85         406   20.935961         9.832889    hdl\n",
       "4        4      56         375   14.933333         9.082102    hdl\n",
       "5        5     143         531   26.930320        12.860257    hdl\n",
       "6        6      71         326   21.779141         7.895374    hdl\n",
       "7        7      66         383   17.232376         9.275854    hdl\n",
       "8        8      68         409   16.625917         9.905546    hdl\n",
       "9        9      83         409   20.293399         9.905546    hdl\n",
       "0        0     118         413   28.571429        10.002422    ses\n",
       "1        1     140         414   33.816425        10.026641    ses\n",
       "2        2      95         412   23.058252         9.978203    ses\n",
       "3        3      80         413   19.370460        10.002422    ses\n",
       "4        4      73         414   17.632850        10.026641    ses\n",
       "5        5     105         470   22.340426        11.382901    ses\n",
       "6        6      60         355   16.901408         8.597723    ses\n",
       "7        7      71         412   17.233010         9.978203    ses\n",
       "8        8      51         420   12.142857        10.171954    ses\n",
       "9        9      55         406   13.546798         9.832889    ses\n",
       "0        0      88         465   18.924731        11.261807  hba1c\n",
       "1        1      60         404   14.851485         9.784451  hba1c\n",
       "2        2      83         510   16.274510        12.351659  hba1c\n",
       "3        3      50         286   17.482517         6.926617  hba1c\n",
       "4        4      89         550   16.181818        13.320417  hba1c\n",
       "5        5      79         421   18.764846        10.196173  hba1c\n",
       "6        6     116         464   25.000000        11.237588  hba1c\n",
       "7        7      55         274   20.072993         6.635989  hba1c\n",
       "8        8      87         351   24.786325         8.500848  hba1c\n",
       "9        9     141         404   34.900990         9.784451  hba1c\n",
       "\n",
       "[99 rows x 6 columns]"
      ]
     },
     "execution_count": 53,
     "metadata": {},
     "output_type": "execute_result"
    }
   ],
   "source": [
    "er_data"
   ]
  },
  {
   "cell_type": "markdown",
   "metadata": {},
   "source": [
    "Plot death rates using numeric columns"
   ]
  },
  {
   "cell_type": "code",
   "execution_count": 54,
   "metadata": {},
   "outputs": [
    {
     "data": {
      "application/vnd.plotly.v1+json": {
       "config": {
        "linkText": "Export to plot.ly",
        "plotlyServerURL": "https://plot.ly",
        "showLink": false
       },
       "data": [
        {
         "type": "bar",
         "uid": "bb3637b0-9c68-4034-95ed-161987b2d9a8",
         "x": [
          0,
          1,
          2,
          3,
          4,
          5,
          6,
          7,
          8,
          9
         ],
         "y": [
          10.389924921288447,
          10.389924921288447,
          11.43133930733834,
          8.331315088399128,
          11.4555582465488,
          9.445386292080407,
          9.178977960765318,
          10.075078711552434,
          9.85710825865827,
          9.445386292080407
         ]
        },
        {
         "type": "scatter",
         "uid": "399ef0e2-11bc-4c28-acb3-100e05d14266",
         "x": [
          0,
          1,
          2,
          3,
          4,
          5,
          6,
          7,
          8,
          9
         ],
         "y": [
          13.51981351981352,
          12.354312354312354,
          15.889830508474576,
          14.244186046511627,
          16.701902748414376,
          26.923076923076923,
          20.316622691292874,
          22.596153846153847,
          26.28992628992629,
          38.717948717948715
         ],
         "yaxis": "y2"
        }
       ],
       "layout": {
        "title": {
         "text": "Double Y axis - Sbp"
        },
        "yaxis": {
         "title": {
          "text": "Population Distibution"
         }
        },
        "yaxis2": {
         "overlaying": "y",
         "side": "right",
         "tickfont": {
          "color": "rgb(148, 103, 189)"
         },
         "title": {
          "font": {
           "color": "rgb(148, 103, 189)"
          },
          "text": "Death Rate"
         }
        }
       }
      },
      "text/html": [
       "<div id=\"b612fc49-7b73-4acb-b3c5-469864cce9c6\" style=\"height: 525px; width: 100%;\" class=\"plotly-graph-div\"></div><script type=\"text/javascript\">require([\"plotly\"], function(Plotly) { window.PLOTLYENV=window.PLOTLYENV || {};window.PLOTLYENV.BASE_URL=\"https://plot.ly\";\n",
       "if (document.getElementById(\"b612fc49-7b73-4acb-b3c5-469864cce9c6\")) {\n",
       "    Plotly.newPlot(\"b612fc49-7b73-4acb-b3c5-469864cce9c6\", [{\"x\": [0, 1, 2, 3, 4, 5, 6, 7, 8, 9], \"y\": [10.389924921288447, 10.389924921288447, 11.43133930733834, 8.331315088399128, 11.4555582465488, 9.445386292080407, 9.178977960765318, 10.075078711552434, 9.85710825865827, 9.445386292080407], \"type\": \"bar\", \"uid\": \"bb3637b0-9c68-4034-95ed-161987b2d9a8\"}, {\"x\": [0, 1, 2, 3, 4, 5, 6, 7, 8, 9], \"y\": [13.51981351981352, 12.354312354312354, 15.889830508474576, 14.244186046511627, 16.701902748414376, 26.923076923076923, 20.316622691292874, 22.596153846153847, 26.28992628992629, 38.717948717948715], \"yaxis\": \"y2\", \"type\": \"scatter\", \"uid\": \"399ef0e2-11bc-4c28-acb3-100e05d14266\"}], {\"title\": {\"text\": \"Double Y axis - Sbp\"}, \"yaxis\": {\"title\": {\"text\": \"Population Distibution\"}}, \"yaxis2\": {\"overlaying\": \"y\", \"side\": \"right\", \"tickfont\": {\"color\": \"rgb(148, 103, 189)\"}, \"title\": {\"font\": {\"color\": \"rgb(148, 103, 189)\"}, \"text\": \"Death Rate\"}}}, {\"showLink\": false, \"linkText\": \"Export to plot.ly\", \"plotlyServerURL\": \"https://plot.ly\"}); \n",
       "}\n",
       "});</script><script type=\"text/javascript\">window.addEventListener(\"resize\", function(){if (document.getElementById(\"b612fc49-7b73-4acb-b3c5-469864cce9c6\")) {window._Plotly.Plots.resize(document.getElementById(\"b612fc49-7b73-4acb-b3c5-469864cce9c6\"));};})</script>"
      ],
      "text/vnd.plotly.v1+html": [
       "<div id=\"b612fc49-7b73-4acb-b3c5-469864cce9c6\" style=\"height: 525px; width: 100%;\" class=\"plotly-graph-div\"></div><script type=\"text/javascript\">require([\"plotly\"], function(Plotly) { window.PLOTLYENV=window.PLOTLYENV || {};window.PLOTLYENV.BASE_URL=\"https://plot.ly\";\n",
       "if (document.getElementById(\"b612fc49-7b73-4acb-b3c5-469864cce9c6\")) {\n",
       "    Plotly.newPlot(\"b612fc49-7b73-4acb-b3c5-469864cce9c6\", [{\"x\": [0, 1, 2, 3, 4, 5, 6, 7, 8, 9], \"y\": [10.389924921288447, 10.389924921288447, 11.43133930733834, 8.331315088399128, 11.4555582465488, 9.445386292080407, 9.178977960765318, 10.075078711552434, 9.85710825865827, 9.445386292080407], \"type\": \"bar\", \"uid\": \"bb3637b0-9c68-4034-95ed-161987b2d9a8\"}, {\"x\": [0, 1, 2, 3, 4, 5, 6, 7, 8, 9], \"y\": [13.51981351981352, 12.354312354312354, 15.889830508474576, 14.244186046511627, 16.701902748414376, 26.923076923076923, 20.316622691292874, 22.596153846153847, 26.28992628992629, 38.717948717948715], \"yaxis\": \"y2\", \"type\": \"scatter\", \"uid\": \"399ef0e2-11bc-4c28-acb3-100e05d14266\"}], {\"title\": {\"text\": \"Double Y axis - Sbp\"}, \"yaxis\": {\"title\": {\"text\": \"Population Distibution\"}}, \"yaxis2\": {\"overlaying\": \"y\", \"side\": \"right\", \"tickfont\": {\"color\": \"rgb(148, 103, 189)\"}, \"title\": {\"font\": {\"color\": \"rgb(148, 103, 189)\"}, \"text\": \"Death Rate\"}}}, {\"showLink\": false, \"linkText\": \"Export to plot.ly\", \"plotlyServerURL\": \"https://plot.ly\"}); \n",
       "}\n",
       "});</script><script type=\"text/javascript\">window.addEventListener(\"resize\", function(){if (document.getElementById(\"b612fc49-7b73-4acb-b3c5-469864cce9c6\")) {window._Plotly.Plots.resize(document.getElementById(\"b612fc49-7b73-4acb-b3c5-469864cce9c6\"));};})</script>"
      ]
     },
     "metadata": {},
     "output_type": "display_data"
    },
    {
     "data": {
      "application/vnd.plotly.v1+json": {
       "config": {
        "linkText": "Export to plot.ly",
        "plotlyServerURL": "https://plot.ly",
        "showLink": false
       },
       "data": [
        {
         "type": "bar",
         "uid": "52659645-3595-4625-bea3-6c0c60cff5bd",
         "x": [
          0,
          1,
          2,
          3,
          4,
          5,
          6,
          7,
          8,
          9
         ],
         "y": [
          10.41414386049891,
          9.76023250181642,
          10.002421893921046,
          10.05085977234197,
          10.12351658997336,
          10.05085977234197,
          9.614918866553644,
          10.341487042867522,
          9.639137805764108,
          10.002421893921046
         ]
        },
        {
         "type": "scatter",
         "uid": "bb285b74-8a35-4dce-a24b-a80513e65913",
         "x": [
          0,
          1,
          2,
          3,
          4,
          5,
          6,
          7,
          8,
          9
         ],
         "y": [
          7.906976744186046,
          14.1439205955335,
          13.559322033898304,
          13.975903614457831,
          16.985645933014354,
          21.44578313253012,
          23.425692695214106,
          25.05854800936768,
          34.92462311557789,
          34.86682808716707
         ],
         "yaxis": "y2"
        }
       ],
       "layout": {
        "title": {
         "text": "Double Y axis - Age"
        },
        "yaxis": {
         "title": {
          "text": "Population Distibution"
         }
        },
        "yaxis2": {
         "overlaying": "y",
         "side": "right",
         "tickfont": {
          "color": "rgb(148, 103, 189)"
         },
         "title": {
          "font": {
           "color": "rgb(148, 103, 189)"
          },
          "text": "Death Rate"
         }
        }
       }
      },
      "text/html": [
       "<div id=\"b8f9fb52-a6d7-468e-9c21-6fc5ca42d693\" style=\"height: 525px; width: 100%;\" class=\"plotly-graph-div\"></div><script type=\"text/javascript\">require([\"plotly\"], function(Plotly) { window.PLOTLYENV=window.PLOTLYENV || {};window.PLOTLYENV.BASE_URL=\"https://plot.ly\";\n",
       "if (document.getElementById(\"b8f9fb52-a6d7-468e-9c21-6fc5ca42d693\")) {\n",
       "    Plotly.newPlot(\"b8f9fb52-a6d7-468e-9c21-6fc5ca42d693\", [{\"x\": [0, 1, 2, 3, 4, 5, 6, 7, 8, 9], \"y\": [10.41414386049891, 9.76023250181642, 10.002421893921046, 10.05085977234197, 10.12351658997336, 10.05085977234197, 9.614918866553644, 10.341487042867522, 9.639137805764108, 10.002421893921046], \"type\": \"bar\", \"uid\": \"52659645-3595-4625-bea3-6c0c60cff5bd\"}, {\"x\": [0, 1, 2, 3, 4, 5, 6, 7, 8, 9], \"y\": [7.906976744186046, 14.1439205955335, 13.559322033898304, 13.975903614457831, 16.985645933014354, 21.44578313253012, 23.425692695214106, 25.05854800936768, 34.92462311557789, 34.86682808716707], \"yaxis\": \"y2\", \"type\": \"scatter\", \"uid\": \"bb285b74-8a35-4dce-a24b-a80513e65913\"}], {\"title\": {\"text\": \"Double Y axis - Age\"}, \"yaxis\": {\"title\": {\"text\": \"Population Distibution\"}}, \"yaxis2\": {\"overlaying\": \"y\", \"side\": \"right\", \"tickfont\": {\"color\": \"rgb(148, 103, 189)\"}, \"title\": {\"font\": {\"color\": \"rgb(148, 103, 189)\"}, \"text\": \"Death Rate\"}}}, {\"showLink\": false, \"linkText\": \"Export to plot.ly\", \"plotlyServerURL\": \"https://plot.ly\"}); \n",
       "}\n",
       "});</script><script type=\"text/javascript\">window.addEventListener(\"resize\", function(){if (document.getElementById(\"b8f9fb52-a6d7-468e-9c21-6fc5ca42d693\")) {window._Plotly.Plots.resize(document.getElementById(\"b8f9fb52-a6d7-468e-9c21-6fc5ca42d693\"));};})</script>"
      ],
      "text/vnd.plotly.v1+html": [
       "<div id=\"b8f9fb52-a6d7-468e-9c21-6fc5ca42d693\" style=\"height: 525px; width: 100%;\" class=\"plotly-graph-div\"></div><script type=\"text/javascript\">require([\"plotly\"], function(Plotly) { window.PLOTLYENV=window.PLOTLYENV || {};window.PLOTLYENV.BASE_URL=\"https://plot.ly\";\n",
       "if (document.getElementById(\"b8f9fb52-a6d7-468e-9c21-6fc5ca42d693\")) {\n",
       "    Plotly.newPlot(\"b8f9fb52-a6d7-468e-9c21-6fc5ca42d693\", [{\"x\": [0, 1, 2, 3, 4, 5, 6, 7, 8, 9], \"y\": [10.41414386049891, 9.76023250181642, 10.002421893921046, 10.05085977234197, 10.12351658997336, 10.05085977234197, 9.614918866553644, 10.341487042867522, 9.639137805764108, 10.002421893921046], \"type\": \"bar\", \"uid\": \"52659645-3595-4625-bea3-6c0c60cff5bd\"}, {\"x\": [0, 1, 2, 3, 4, 5, 6, 7, 8, 9], \"y\": [7.906976744186046, 14.1439205955335, 13.559322033898304, 13.975903614457831, 16.985645933014354, 21.44578313253012, 23.425692695214106, 25.05854800936768, 34.92462311557789, 34.86682808716707], \"yaxis\": \"y2\", \"type\": \"scatter\", \"uid\": \"bb285b74-8a35-4dce-a24b-a80513e65913\"}], {\"title\": {\"text\": \"Double Y axis - Age\"}, \"yaxis\": {\"title\": {\"text\": \"Population Distibution\"}}, \"yaxis2\": {\"overlaying\": \"y\", \"side\": \"right\", \"tickfont\": {\"color\": \"rgb(148, 103, 189)\"}, \"title\": {\"font\": {\"color\": \"rgb(148, 103, 189)\"}, \"text\": \"Death Rate\"}}}, {\"showLink\": false, \"linkText\": \"Export to plot.ly\", \"plotlyServerURL\": \"https://plot.ly\"}); \n",
       "}\n",
       "});</script><script type=\"text/javascript\">window.addEventListener(\"resize\", function(){if (document.getElementById(\"b8f9fb52-a6d7-468e-9c21-6fc5ca42d693\")) {window._Plotly.Plots.resize(document.getElementById(\"b8f9fb52-a6d7-468e-9c21-6fc5ca42d693\"));};})</script>"
      ]
     },
     "metadata": {},
     "output_type": "display_data"
    },
    {
     "data": {
      "application/vnd.plotly.v1+json": {
       "config": {
        "linkText": "Export to plot.ly",
        "plotlyServerURL": "https://plot.ly",
        "showLink": false
       },
       "data": [
        {
         "type": "bar",
         "uid": "7df949d4-190c-482f-a082-f6c0d8896cc0",
         "x": [
          0,
          1,
          2,
          3,
          4,
          5,
          6,
          7,
          8,
          9
         ],
         "y": [
          11.310244611286025,
          11.310244611286025,
          10.31726810365706,
          8.355534027609592,
          17.389198353112135,
          3.705497699200775,
          10.389924921288447,
          8.694599176556068,
          9.396948413659482,
          9.130540082344393
         ]
        },
        {
         "type": "scatter",
         "uid": "21e429e2-2ed6-4e9f-8f11-9ec5cf4a67cd",
         "x": [
          0,
          1,
          2,
          3,
          4,
          5,
          6,
          7,
          8,
          9
         ],
         "y": [
          22.055674518201286,
          17.558886509635975,
          15.492957746478874,
          16.231884057971016,
          23.398328690807798,
          22.22222222222222,
          17.016317016317018,
          22.00557103064067,
          23.195876288659793,
          25.72944297082228
         ],
         "yaxis": "y2"
        }
       ],
       "layout": {
        "title": {
         "text": "Double Y axis - Dbp"
        },
        "yaxis": {
         "title": {
          "text": "Population Distibution"
         }
        },
        "yaxis2": {
         "overlaying": "y",
         "side": "right",
         "tickfont": {
          "color": "rgb(148, 103, 189)"
         },
         "title": {
          "font": {
           "color": "rgb(148, 103, 189)"
          },
          "text": "Death Rate"
         }
        }
       }
      },
      "text/html": [
       "<div id=\"99b2e485-8f1a-4665-b8cd-ee11fbd73000\" style=\"height: 525px; width: 100%;\" class=\"plotly-graph-div\"></div><script type=\"text/javascript\">require([\"plotly\"], function(Plotly) { window.PLOTLYENV=window.PLOTLYENV || {};window.PLOTLYENV.BASE_URL=\"https://plot.ly\";\n",
       "if (document.getElementById(\"99b2e485-8f1a-4665-b8cd-ee11fbd73000\")) {\n",
       "    Plotly.newPlot(\"99b2e485-8f1a-4665-b8cd-ee11fbd73000\", [{\"x\": [0, 1, 2, 3, 4, 5, 6, 7, 8, 9], \"y\": [11.310244611286025, 11.310244611286025, 10.31726810365706, 8.355534027609592, 17.389198353112135, 3.705497699200775, 10.389924921288447, 8.694599176556068, 9.396948413659482, 9.130540082344393], \"type\": \"bar\", \"uid\": \"7df949d4-190c-482f-a082-f6c0d8896cc0\"}, {\"x\": [0, 1, 2, 3, 4, 5, 6, 7, 8, 9], \"y\": [22.055674518201286, 17.558886509635975, 15.492957746478874, 16.231884057971016, 23.398328690807798, 22.22222222222222, 17.016317016317018, 22.00557103064067, 23.195876288659793, 25.72944297082228], \"yaxis\": \"y2\", \"type\": \"scatter\", \"uid\": \"21e429e2-2ed6-4e9f-8f11-9ec5cf4a67cd\"}], {\"title\": {\"text\": \"Double Y axis - Dbp\"}, \"yaxis\": {\"title\": {\"text\": \"Population Distibution\"}}, \"yaxis2\": {\"overlaying\": \"y\", \"side\": \"right\", \"tickfont\": {\"color\": \"rgb(148, 103, 189)\"}, \"title\": {\"font\": {\"color\": \"rgb(148, 103, 189)\"}, \"text\": \"Death Rate\"}}}, {\"showLink\": false, \"linkText\": \"Export to plot.ly\", \"plotlyServerURL\": \"https://plot.ly\"}); \n",
       "}\n",
       "});</script><script type=\"text/javascript\">window.addEventListener(\"resize\", function(){if (document.getElementById(\"99b2e485-8f1a-4665-b8cd-ee11fbd73000\")) {window._Plotly.Plots.resize(document.getElementById(\"99b2e485-8f1a-4665-b8cd-ee11fbd73000\"));};})</script>"
      ],
      "text/vnd.plotly.v1+html": [
       "<div id=\"99b2e485-8f1a-4665-b8cd-ee11fbd73000\" style=\"height: 525px; width: 100%;\" class=\"plotly-graph-div\"></div><script type=\"text/javascript\">require([\"plotly\"], function(Plotly) { window.PLOTLYENV=window.PLOTLYENV || {};window.PLOTLYENV.BASE_URL=\"https://plot.ly\";\n",
       "if (document.getElementById(\"99b2e485-8f1a-4665-b8cd-ee11fbd73000\")) {\n",
       "    Plotly.newPlot(\"99b2e485-8f1a-4665-b8cd-ee11fbd73000\", [{\"x\": [0, 1, 2, 3, 4, 5, 6, 7, 8, 9], \"y\": [11.310244611286025, 11.310244611286025, 10.31726810365706, 8.355534027609592, 17.389198353112135, 3.705497699200775, 10.389924921288447, 8.694599176556068, 9.396948413659482, 9.130540082344393], \"type\": \"bar\", \"uid\": \"7df949d4-190c-482f-a082-f6c0d8896cc0\"}, {\"x\": [0, 1, 2, 3, 4, 5, 6, 7, 8, 9], \"y\": [22.055674518201286, 17.558886509635975, 15.492957746478874, 16.231884057971016, 23.398328690807798, 22.22222222222222, 17.016317016317018, 22.00557103064067, 23.195876288659793, 25.72944297082228], \"yaxis\": \"y2\", \"type\": \"scatter\", \"uid\": \"21e429e2-2ed6-4e9f-8f11-9ec5cf4a67cd\"}], {\"title\": {\"text\": \"Double Y axis - Dbp\"}, \"yaxis\": {\"title\": {\"text\": \"Population Distibution\"}}, \"yaxis2\": {\"overlaying\": \"y\", \"side\": \"right\", \"tickfont\": {\"color\": \"rgb(148, 103, 189)\"}, \"title\": {\"font\": {\"color\": \"rgb(148, 103, 189)\"}, \"text\": \"Death Rate\"}}}, {\"showLink\": false, \"linkText\": \"Export to plot.ly\", \"plotlyServerURL\": \"https://plot.ly\"}); \n",
       "}\n",
       "});</script><script type=\"text/javascript\">window.addEventListener(\"resize\", function(){if (document.getElementById(\"99b2e485-8f1a-4665-b8cd-ee11fbd73000\")) {window._Plotly.Plots.resize(document.getElementById(\"99b2e485-8f1a-4665-b8cd-ee11fbd73000\"));};})</script>"
      ]
     },
     "metadata": {},
     "output_type": "display_data"
    },
    {
     "data": {
      "application/vnd.plotly.v1+json": {
       "config": {
        "linkText": "Export to plot.ly",
        "plotlyServerURL": "https://plot.ly",
        "showLink": false
       },
       "data": [
        {
         "type": "bar",
         "uid": "440aff46-3e77-4add-84c1-de3dddc5a146",
         "x": [
          0,
          1,
          2,
          3,
          4,
          5,
          6,
          7,
          8,
          9
         ],
         "y": [
          10.341487042867522,
          9.736013562605958,
          10.12351658997336,
          10.05085977234197,
          10.12351658997336,
          10.147735529183821,
          9.639137805764108,
          10.026640833131509,
          9.808670380237345,
          10.002421893921046
         ]
        },
        {
         "type": "scatter",
         "uid": "c3981f2f-ffef-46e9-8ed8-b48d1a70809f",
         "x": [
          0,
          1,
          2,
          3,
          4,
          5,
          6,
          7,
          8,
          9
         ],
         "y": [
          29.27400468384075,
          18.1592039800995,
          15.789473684210526,
          18.55421686746988,
          15.55023923444976,
          26.014319809069214,
          21.105527638190956,
          14.492753623188406,
          22.71604938271605,
          23.486682808716708
         ],
         "yaxis": "y2"
        }
       ],
       "layout": {
        "title": {
         "text": "Double Y axis - Bmi"
        },
        "yaxis": {
         "title": {
          "text": "Population Distibution"
         }
        },
        "yaxis2": {
         "overlaying": "y",
         "side": "right",
         "tickfont": {
          "color": "rgb(148, 103, 189)"
         },
         "title": {
          "font": {
           "color": "rgb(148, 103, 189)"
          },
          "text": "Death Rate"
         }
        }
       }
      },
      "text/html": [
       "<div id=\"4efbdb79-4f8a-4400-87bb-4e183e8ae922\" style=\"height: 525px; width: 100%;\" class=\"plotly-graph-div\"></div><script type=\"text/javascript\">require([\"plotly\"], function(Plotly) { window.PLOTLYENV=window.PLOTLYENV || {};window.PLOTLYENV.BASE_URL=\"https://plot.ly\";\n",
       "if (document.getElementById(\"4efbdb79-4f8a-4400-87bb-4e183e8ae922\")) {\n",
       "    Plotly.newPlot(\"4efbdb79-4f8a-4400-87bb-4e183e8ae922\", [{\"x\": [0, 1, 2, 3, 4, 5, 6, 7, 8, 9], \"y\": [10.341487042867522, 9.736013562605958, 10.12351658997336, 10.05085977234197, 10.12351658997336, 10.147735529183821, 9.639137805764108, 10.026640833131509, 9.808670380237345, 10.002421893921046], \"type\": \"bar\", \"uid\": \"440aff46-3e77-4add-84c1-de3dddc5a146\"}, {\"x\": [0, 1, 2, 3, 4, 5, 6, 7, 8, 9], \"y\": [29.27400468384075, 18.1592039800995, 15.789473684210526, 18.55421686746988, 15.55023923444976, 26.014319809069214, 21.105527638190956, 14.492753623188406, 22.71604938271605, 23.486682808716708], \"yaxis\": \"y2\", \"type\": \"scatter\", \"uid\": \"c3981f2f-ffef-46e9-8ed8-b48d1a70809f\"}], {\"title\": {\"text\": \"Double Y axis - Bmi\"}, \"yaxis\": {\"title\": {\"text\": \"Population Distibution\"}}, \"yaxis2\": {\"overlaying\": \"y\", \"side\": \"right\", \"tickfont\": {\"color\": \"rgb(148, 103, 189)\"}, \"title\": {\"font\": {\"color\": \"rgb(148, 103, 189)\"}, \"text\": \"Death Rate\"}}}, {\"showLink\": false, \"linkText\": \"Export to plot.ly\", \"plotlyServerURL\": \"https://plot.ly\"}); \n",
       "}\n",
       "});</script><script type=\"text/javascript\">window.addEventListener(\"resize\", function(){if (document.getElementById(\"4efbdb79-4f8a-4400-87bb-4e183e8ae922\")) {window._Plotly.Plots.resize(document.getElementById(\"4efbdb79-4f8a-4400-87bb-4e183e8ae922\"));};})</script>"
      ],
      "text/vnd.plotly.v1+html": [
       "<div id=\"4efbdb79-4f8a-4400-87bb-4e183e8ae922\" style=\"height: 525px; width: 100%;\" class=\"plotly-graph-div\"></div><script type=\"text/javascript\">require([\"plotly\"], function(Plotly) { window.PLOTLYENV=window.PLOTLYENV || {};window.PLOTLYENV.BASE_URL=\"https://plot.ly\";\n",
       "if (document.getElementById(\"4efbdb79-4f8a-4400-87bb-4e183e8ae922\")) {\n",
       "    Plotly.newPlot(\"4efbdb79-4f8a-4400-87bb-4e183e8ae922\", [{\"x\": [0, 1, 2, 3, 4, 5, 6, 7, 8, 9], \"y\": [10.341487042867522, 9.736013562605958, 10.12351658997336, 10.05085977234197, 10.12351658997336, 10.147735529183821, 9.639137805764108, 10.026640833131509, 9.808670380237345, 10.002421893921046], \"type\": \"bar\", \"uid\": \"440aff46-3e77-4add-84c1-de3dddc5a146\"}, {\"x\": [0, 1, 2, 3, 4, 5, 6, 7, 8, 9], \"y\": [29.27400468384075, 18.1592039800995, 15.789473684210526, 18.55421686746988, 15.55023923444976, 26.014319809069214, 21.105527638190956, 14.492753623188406, 22.71604938271605, 23.486682808716708], \"yaxis\": \"y2\", \"type\": \"scatter\", \"uid\": \"c3981f2f-ffef-46e9-8ed8-b48d1a70809f\"}], {\"title\": {\"text\": \"Double Y axis - Bmi\"}, \"yaxis\": {\"title\": {\"text\": \"Population Distibution\"}}, \"yaxis2\": {\"overlaying\": \"y\", \"side\": \"right\", \"tickfont\": {\"color\": \"rgb(148, 103, 189)\"}, \"title\": {\"font\": {\"color\": \"rgb(148, 103, 189)\"}, \"text\": \"Death Rate\"}}}, {\"showLink\": false, \"linkText\": \"Export to plot.ly\", \"plotlyServerURL\": \"https://plot.ly\"}); \n",
       "}\n",
       "});</script><script type=\"text/javascript\">window.addEventListener(\"resize\", function(){if (document.getElementById(\"4efbdb79-4f8a-4400-87bb-4e183e8ae922\")) {window._Plotly.Plots.resize(document.getElementById(\"4efbdb79-4f8a-4400-87bb-4e183e8ae922\"));};})</script>"
      ]
     },
     "metadata": {},
     "output_type": "display_data"
    },
    {
     "data": {
      "application/vnd.plotly.v1+json": {
       "config": {
        "linkText": "Export to plot.ly",
        "plotlyServerURL": "https://plot.ly",
        "showLink": false
       },
       "data": [
        {
         "type": "bar",
         "uid": "666a6d97-a95a-4be8-9853-8bae86184a82",
         "x": [
          0,
          1,
          2,
          3,
          4,
          5,
          6,
          7,
          8
         ],
         "y": [
          11.019617340760474,
          9.00944538629208,
          10.075078711552434,
          10.171954468394285,
          9.784451441026883,
          9.929765076289659,
          10.002421893921046,
          20.368127875999033,
          9.639137805764108
         ]
        },
        {
         "type": "scatter",
         "uid": "29a653ba-3457-48c4-ab2f-08c3a2983117",
         "x": [
          0,
          1,
          2,
          3,
          4,
          5,
          6,
          7,
          8
         ],
         "y": [
          10.32967032967033,
          13.978494623655914,
          14.903846153846153,
          16.904761904761905,
          17.574257425742573,
          19.26829268292683,
          21.307506053268764,
          26.397146254458978,
          39.19597989949749
         ],
         "yaxis": "y2"
        }
       ],
       "layout": {
        "title": {
         "text": "Double Y axis - Uralb"
        },
        "yaxis": {
         "title": {
          "text": "Population Distibution"
         }
        },
        "yaxis2": {
         "overlaying": "y",
         "side": "right",
         "tickfont": {
          "color": "rgb(148, 103, 189)"
         },
         "title": {
          "font": {
           "color": "rgb(148, 103, 189)"
          },
          "text": "Death Rate"
         }
        }
       }
      },
      "text/html": [
       "<div id=\"49b261ef-e9a5-4614-8d4b-144c15ea4f24\" style=\"height: 525px; width: 100%;\" class=\"plotly-graph-div\"></div><script type=\"text/javascript\">require([\"plotly\"], function(Plotly) { window.PLOTLYENV=window.PLOTLYENV || {};window.PLOTLYENV.BASE_URL=\"https://plot.ly\";\n",
       "if (document.getElementById(\"49b261ef-e9a5-4614-8d4b-144c15ea4f24\")) {\n",
       "    Plotly.newPlot(\"49b261ef-e9a5-4614-8d4b-144c15ea4f24\", [{\"x\": [0, 1, 2, 3, 4, 5, 6, 7, 8], \"y\": [11.019617340760474, 9.00944538629208, 10.075078711552434, 10.171954468394285, 9.784451441026883, 9.929765076289659, 10.002421893921046, 20.368127875999033, 9.639137805764108], \"type\": \"bar\", \"uid\": \"666a6d97-a95a-4be8-9853-8bae86184a82\"}, {\"x\": [0, 1, 2, 3, 4, 5, 6, 7, 8], \"y\": [10.32967032967033, 13.978494623655914, 14.903846153846153, 16.904761904761905, 17.574257425742573, 19.26829268292683, 21.307506053268764, 26.397146254458978, 39.19597989949749], \"yaxis\": \"y2\", \"type\": \"scatter\", \"uid\": \"29a653ba-3457-48c4-ab2f-08c3a2983117\"}], {\"title\": {\"text\": \"Double Y axis - Uralb\"}, \"yaxis\": {\"title\": {\"text\": \"Population Distibution\"}}, \"yaxis2\": {\"overlaying\": \"y\", \"side\": \"right\", \"tickfont\": {\"color\": \"rgb(148, 103, 189)\"}, \"title\": {\"font\": {\"color\": \"rgb(148, 103, 189)\"}, \"text\": \"Death Rate\"}}}, {\"showLink\": false, \"linkText\": \"Export to plot.ly\", \"plotlyServerURL\": \"https://plot.ly\"}); \n",
       "}\n",
       "});</script><script type=\"text/javascript\">window.addEventListener(\"resize\", function(){if (document.getElementById(\"49b261ef-e9a5-4614-8d4b-144c15ea4f24\")) {window._Plotly.Plots.resize(document.getElementById(\"49b261ef-e9a5-4614-8d4b-144c15ea4f24\"));};})</script>"
      ],
      "text/vnd.plotly.v1+html": [
       "<div id=\"49b261ef-e9a5-4614-8d4b-144c15ea4f24\" style=\"height: 525px; width: 100%;\" class=\"plotly-graph-div\"></div><script type=\"text/javascript\">require([\"plotly\"], function(Plotly) { window.PLOTLYENV=window.PLOTLYENV || {};window.PLOTLYENV.BASE_URL=\"https://plot.ly\";\n",
       "if (document.getElementById(\"49b261ef-e9a5-4614-8d4b-144c15ea4f24\")) {\n",
       "    Plotly.newPlot(\"49b261ef-e9a5-4614-8d4b-144c15ea4f24\", [{\"x\": [0, 1, 2, 3, 4, 5, 6, 7, 8], \"y\": [11.019617340760474, 9.00944538629208, 10.075078711552434, 10.171954468394285, 9.784451441026883, 9.929765076289659, 10.002421893921046, 20.368127875999033, 9.639137805764108], \"type\": \"bar\", \"uid\": \"666a6d97-a95a-4be8-9853-8bae86184a82\"}, {\"x\": [0, 1, 2, 3, 4, 5, 6, 7, 8], \"y\": [10.32967032967033, 13.978494623655914, 14.903846153846153, 16.904761904761905, 17.574257425742573, 19.26829268292683, 21.307506053268764, 26.397146254458978, 39.19597989949749], \"yaxis\": \"y2\", \"type\": \"scatter\", \"uid\": \"29a653ba-3457-48c4-ab2f-08c3a2983117\"}], {\"title\": {\"text\": \"Double Y axis - Uralb\"}, \"yaxis\": {\"title\": {\"text\": \"Population Distibution\"}}, \"yaxis2\": {\"overlaying\": \"y\", \"side\": \"right\", \"tickfont\": {\"color\": \"rgb(148, 103, 189)\"}, \"title\": {\"font\": {\"color\": \"rgb(148, 103, 189)\"}, \"text\": \"Death Rate\"}}}, {\"showLink\": false, \"linkText\": \"Export to plot.ly\", \"plotlyServerURL\": \"https://plot.ly\"}); \n",
       "}\n",
       "});</script><script type=\"text/javascript\">window.addEventListener(\"resize\", function(){if (document.getElementById(\"49b261ef-e9a5-4614-8d4b-144c15ea4f24\")) {window._Plotly.Plots.resize(document.getElementById(\"49b261ef-e9a5-4614-8d4b-144c15ea4f24\"));};})</script>"
      ]
     },
     "metadata": {},
     "output_type": "display_data"
    },
    {
     "data": {
      "application/vnd.plotly.v1+json": {
       "config": {
        "linkText": "Export to plot.ly",
        "plotlyServerURL": "https://plot.ly",
        "showLink": false
       },
       "data": [
        {
         "type": "bar",
         "uid": "4ae3ea6f-10b8-4511-b45d-48cd793b4155",
         "x": [
          0,
          1,
          2,
          3,
          4,
          5,
          6,
          7,
          8,
          9
         ],
         "y": [
          10.341487042867522,
          10.268830225236135,
          9.493824170501332,
          9.929765076289659,
          10.171954468394285,
          19.59312182126423,
          0.2664083313150884,
          10.05085977234197,
          9.905546137079195,
          9.978202954710584
         ]
        },
        {
         "type": "scatter",
         "uid": "f1ea3710-c844-4630-9f9a-90b94bccd5fe",
         "x": [
          0,
          1,
          2,
          3,
          4,
          5,
          6,
          7,
          8,
          9
         ],
         "y": [
          17.56440281030445,
          18.39622641509434,
          19.132653061224488,
          19.26829268292683,
          20.714285714285715,
          25.216316440049443,
          18.181818181818183,
          16.867469879518072,
          18.82640586797066,
          24.514563106796118
         ],
         "yaxis": "y2"
        }
       ],
       "layout": {
        "title": {
         "text": "Double Y axis - Trig"
        },
        "yaxis": {
         "title": {
          "text": "Population Distibution"
         }
        },
        "yaxis2": {
         "overlaying": "y",
         "side": "right",
         "tickfont": {
          "color": "rgb(148, 103, 189)"
         },
         "title": {
          "font": {
           "color": "rgb(148, 103, 189)"
          },
          "text": "Death Rate"
         }
        }
       }
      },
      "text/html": [
       "<div id=\"2b2c3f8c-9957-4c07-afc6-c48fbf80699c\" style=\"height: 525px; width: 100%;\" class=\"plotly-graph-div\"></div><script type=\"text/javascript\">require([\"plotly\"], function(Plotly) { window.PLOTLYENV=window.PLOTLYENV || {};window.PLOTLYENV.BASE_URL=\"https://plot.ly\";\n",
       "if (document.getElementById(\"2b2c3f8c-9957-4c07-afc6-c48fbf80699c\")) {\n",
       "    Plotly.newPlot(\"2b2c3f8c-9957-4c07-afc6-c48fbf80699c\", [{\"x\": [0, 1, 2, 3, 4, 5, 6, 7, 8, 9], \"y\": [10.341487042867522, 10.268830225236135, 9.493824170501332, 9.929765076289659, 10.171954468394285, 19.59312182126423, 0.2664083313150884, 10.05085977234197, 9.905546137079195, 9.978202954710584], \"type\": \"bar\", \"uid\": \"4ae3ea6f-10b8-4511-b45d-48cd793b4155\"}, {\"x\": [0, 1, 2, 3, 4, 5, 6, 7, 8, 9], \"y\": [17.56440281030445, 18.39622641509434, 19.132653061224488, 19.26829268292683, 20.714285714285715, 25.216316440049443, 18.181818181818183, 16.867469879518072, 18.82640586797066, 24.514563106796118], \"yaxis\": \"y2\", \"type\": \"scatter\", \"uid\": \"f1ea3710-c844-4630-9f9a-90b94bccd5fe\"}], {\"title\": {\"text\": \"Double Y axis - Trig\"}, \"yaxis\": {\"title\": {\"text\": \"Population Distibution\"}}, \"yaxis2\": {\"overlaying\": \"y\", \"side\": \"right\", \"tickfont\": {\"color\": \"rgb(148, 103, 189)\"}, \"title\": {\"font\": {\"color\": \"rgb(148, 103, 189)\"}, \"text\": \"Death Rate\"}}}, {\"showLink\": false, \"linkText\": \"Export to plot.ly\", \"plotlyServerURL\": \"https://plot.ly\"}); \n",
       "}\n",
       "});</script><script type=\"text/javascript\">window.addEventListener(\"resize\", function(){if (document.getElementById(\"2b2c3f8c-9957-4c07-afc6-c48fbf80699c\")) {window._Plotly.Plots.resize(document.getElementById(\"2b2c3f8c-9957-4c07-afc6-c48fbf80699c\"));};})</script>"
      ],
      "text/vnd.plotly.v1+html": [
       "<div id=\"2b2c3f8c-9957-4c07-afc6-c48fbf80699c\" style=\"height: 525px; width: 100%;\" class=\"plotly-graph-div\"></div><script type=\"text/javascript\">require([\"plotly\"], function(Plotly) { window.PLOTLYENV=window.PLOTLYENV || {};window.PLOTLYENV.BASE_URL=\"https://plot.ly\";\n",
       "if (document.getElementById(\"2b2c3f8c-9957-4c07-afc6-c48fbf80699c\")) {\n",
       "    Plotly.newPlot(\"2b2c3f8c-9957-4c07-afc6-c48fbf80699c\", [{\"x\": [0, 1, 2, 3, 4, 5, 6, 7, 8, 9], \"y\": [10.341487042867522, 10.268830225236135, 9.493824170501332, 9.929765076289659, 10.171954468394285, 19.59312182126423, 0.2664083313150884, 10.05085977234197, 9.905546137079195, 9.978202954710584], \"type\": \"bar\", \"uid\": \"4ae3ea6f-10b8-4511-b45d-48cd793b4155\"}, {\"x\": [0, 1, 2, 3, 4, 5, 6, 7, 8, 9], \"y\": [17.56440281030445, 18.39622641509434, 19.132653061224488, 19.26829268292683, 20.714285714285715, 25.216316440049443, 18.181818181818183, 16.867469879518072, 18.82640586797066, 24.514563106796118], \"yaxis\": \"y2\", \"type\": \"scatter\", \"uid\": \"f1ea3710-c844-4630-9f9a-90b94bccd5fe\"}], {\"title\": {\"text\": \"Double Y axis - Trig\"}, \"yaxis\": {\"title\": {\"text\": \"Population Distibution\"}}, \"yaxis2\": {\"overlaying\": \"y\", \"side\": \"right\", \"tickfont\": {\"color\": \"rgb(148, 103, 189)\"}, \"title\": {\"font\": {\"color\": \"rgb(148, 103, 189)\"}, \"text\": \"Death Rate\"}}}, {\"showLink\": false, \"linkText\": \"Export to plot.ly\", \"plotlyServerURL\": \"https://plot.ly\"}); \n",
       "}\n",
       "});</script><script type=\"text/javascript\">window.addEventListener(\"resize\", function(){if (document.getElementById(\"2b2c3f8c-9957-4c07-afc6-c48fbf80699c\")) {window._Plotly.Plots.resize(document.getElementById(\"2b2c3f8c-9957-4c07-afc6-c48fbf80699c\"));};})</script>"
      ]
     },
     "metadata": {},
     "output_type": "display_data"
    },
    {
     "data": {
      "application/vnd.plotly.v1+json": {
       "config": {
        "linkText": "Export to plot.ly",
        "plotlyServerURL": "https://plot.ly",
        "showLink": false
       },
       "data": [
        {
         "type": "bar",
         "uid": "e3b1b1e8-85a8-47a2-b3f6-526a66aee480",
         "x": [
          0,
          1,
          2,
          3,
          4,
          5,
          6,
          7,
          8,
          9
         ],
         "y": [
          10.389924921288447,
          9.95398401550012,
          10.147735529183821,
          10.341487042867522,
          17.001695325744734,
          2.615645434729959,
          9.85710825865827,
          10.075078711552434,
          9.85710825865827,
          9.76023250181642
         ]
        },
        {
         "type": "scatter",
         "uid": "9cfe08ab-c015-4c0b-816b-06f794736911",
         "x": [
          0,
          1,
          2,
          3,
          4,
          5,
          6,
          7,
          8,
          9
         ],
         "y": [
          27.03962703962704,
          20.437956204379564,
          19.809069212410503,
          18.501170960187352,
          24.501424501424502,
          12.962962962962964,
          16.953316953316953,
          17.78846153846154,
          18.42751842751843,
          20.34739454094293
         ],
         "yaxis": "y2"
        }
       ],
       "layout": {
        "title": {
         "text": "Double Y axis - Chol"
        },
        "yaxis": {
         "title": {
          "text": "Population Distibution"
         }
        },
        "yaxis2": {
         "overlaying": "y",
         "side": "right",
         "tickfont": {
          "color": "rgb(148, 103, 189)"
         },
         "title": {
          "font": {
           "color": "rgb(148, 103, 189)"
          },
          "text": "Death Rate"
         }
        }
       }
      },
      "text/html": [
       "<div id=\"69bb73d8-bd5e-41f4-b6a3-726808eee2bd\" style=\"height: 525px; width: 100%;\" class=\"plotly-graph-div\"></div><script type=\"text/javascript\">require([\"plotly\"], function(Plotly) { window.PLOTLYENV=window.PLOTLYENV || {};window.PLOTLYENV.BASE_URL=\"https://plot.ly\";\n",
       "if (document.getElementById(\"69bb73d8-bd5e-41f4-b6a3-726808eee2bd\")) {\n",
       "    Plotly.newPlot(\"69bb73d8-bd5e-41f4-b6a3-726808eee2bd\", [{\"x\": [0, 1, 2, 3, 4, 5, 6, 7, 8, 9], \"y\": [10.389924921288447, 9.95398401550012, 10.147735529183821, 10.341487042867522, 17.001695325744734, 2.615645434729959, 9.85710825865827, 10.075078711552434, 9.85710825865827, 9.76023250181642], \"type\": \"bar\", \"uid\": \"e3b1b1e8-85a8-47a2-b3f6-526a66aee480\"}, {\"x\": [0, 1, 2, 3, 4, 5, 6, 7, 8, 9], \"y\": [27.03962703962704, 20.437956204379564, 19.809069212410503, 18.501170960187352, 24.501424501424502, 12.962962962962964, 16.953316953316953, 17.78846153846154, 18.42751842751843, 20.34739454094293], \"yaxis\": \"y2\", \"type\": \"scatter\", \"uid\": \"9cfe08ab-c015-4c0b-816b-06f794736911\"}], {\"title\": {\"text\": \"Double Y axis - Chol\"}, \"yaxis\": {\"title\": {\"text\": \"Population Distibution\"}}, \"yaxis2\": {\"overlaying\": \"y\", \"side\": \"right\", \"tickfont\": {\"color\": \"rgb(148, 103, 189)\"}, \"title\": {\"font\": {\"color\": \"rgb(148, 103, 189)\"}, \"text\": \"Death Rate\"}}}, {\"showLink\": false, \"linkText\": \"Export to plot.ly\", \"plotlyServerURL\": \"https://plot.ly\"}); \n",
       "}\n",
       "});</script><script type=\"text/javascript\">window.addEventListener(\"resize\", function(){if (document.getElementById(\"69bb73d8-bd5e-41f4-b6a3-726808eee2bd\")) {window._Plotly.Plots.resize(document.getElementById(\"69bb73d8-bd5e-41f4-b6a3-726808eee2bd\"));};})</script>"
      ],
      "text/vnd.plotly.v1+html": [
       "<div id=\"69bb73d8-bd5e-41f4-b6a3-726808eee2bd\" style=\"height: 525px; width: 100%;\" class=\"plotly-graph-div\"></div><script type=\"text/javascript\">require([\"plotly\"], function(Plotly) { window.PLOTLYENV=window.PLOTLYENV || {};window.PLOTLYENV.BASE_URL=\"https://plot.ly\";\n",
       "if (document.getElementById(\"69bb73d8-bd5e-41f4-b6a3-726808eee2bd\")) {\n",
       "    Plotly.newPlot(\"69bb73d8-bd5e-41f4-b6a3-726808eee2bd\", [{\"x\": [0, 1, 2, 3, 4, 5, 6, 7, 8, 9], \"y\": [10.389924921288447, 9.95398401550012, 10.147735529183821, 10.341487042867522, 17.001695325744734, 2.615645434729959, 9.85710825865827, 10.075078711552434, 9.85710825865827, 9.76023250181642], \"type\": \"bar\", \"uid\": \"e3b1b1e8-85a8-47a2-b3f6-526a66aee480\"}, {\"x\": [0, 1, 2, 3, 4, 5, 6, 7, 8, 9], \"y\": [27.03962703962704, 20.437956204379564, 19.809069212410503, 18.501170960187352, 24.501424501424502, 12.962962962962964, 16.953316953316953, 17.78846153846154, 18.42751842751843, 20.34739454094293], \"yaxis\": \"y2\", \"type\": \"scatter\", \"uid\": \"9cfe08ab-c015-4c0b-816b-06f794736911\"}], {\"title\": {\"text\": \"Double Y axis - Chol\"}, \"yaxis\": {\"title\": {\"text\": \"Population Distibution\"}}, \"yaxis2\": {\"overlaying\": \"y\", \"side\": \"right\", \"tickfont\": {\"color\": \"rgb(148, 103, 189)\"}, \"title\": {\"font\": {\"color\": \"rgb(148, 103, 189)\"}, \"text\": \"Death Rate\"}}}, {\"showLink\": false, \"linkText\": \"Export to plot.ly\", \"plotlyServerURL\": \"https://plot.ly\"}); \n",
       "}\n",
       "});</script><script type=\"text/javascript\">window.addEventListener(\"resize\", function(){if (document.getElementById(\"69bb73d8-bd5e-41f4-b6a3-726808eee2bd\")) {window._Plotly.Plots.resize(document.getElementById(\"69bb73d8-bd5e-41f4-b6a3-726808eee2bd\"));};})</script>"
      ]
     },
     "metadata": {},
     "output_type": "display_data"
    },
    {
     "data": {
      "application/vnd.plotly.v1+json": {
       "config": {
        "linkText": "Export to plot.ly",
        "plotlyServerURL": "https://plot.ly",
        "showLink": false
       },
       "data": [
        {
         "type": "bar",
         "uid": "e3ccb0fe-c366-49dd-a6b4-8245e9f70ddf",
         "x": [
          0,
          1,
          2,
          3,
          4,
          5,
          6,
          7,
          8,
          9
         ],
         "y": [
          10.05085977234197,
          10.656333252603536,
          10.535238556551223,
          9.832889319447808,
          9.082102203923467,
          12.86025672075563,
          7.8953741826108015,
          9.275853717607168,
          9.905546137079195,
          9.905546137079195
         ]
        },
        {
         "type": "scatter",
         "uid": "ba05346d-2fb8-49bc-a0d3-3b3c1b0e7616",
         "x": [
          0,
          1,
          2,
          3,
          4,
          5,
          6,
          7,
          8,
          9
         ],
         "y": [
          25.06024096385542,
          19.318181818181817,
          20,
          20.935960591133004,
          14.933333333333334,
          26.930320150659135,
          21.779141104294478,
          17.232375979112273,
          16.625916870415647,
          20.293398533007334
         ],
         "yaxis": "y2"
        }
       ],
       "layout": {
        "title": {
         "text": "Double Y axis - Hdl"
        },
        "yaxis": {
         "title": {
          "text": "Population Distibution"
         }
        },
        "yaxis2": {
         "overlaying": "y",
         "side": "right",
         "tickfont": {
          "color": "rgb(148, 103, 189)"
         },
         "title": {
          "font": {
           "color": "rgb(148, 103, 189)"
          },
          "text": "Death Rate"
         }
        }
       }
      },
      "text/html": [
       "<div id=\"62c06c23-ac39-44d3-b61d-8fe827b17c12\" style=\"height: 525px; width: 100%;\" class=\"plotly-graph-div\"></div><script type=\"text/javascript\">require([\"plotly\"], function(Plotly) { window.PLOTLYENV=window.PLOTLYENV || {};window.PLOTLYENV.BASE_URL=\"https://plot.ly\";\n",
       "if (document.getElementById(\"62c06c23-ac39-44d3-b61d-8fe827b17c12\")) {\n",
       "    Plotly.newPlot(\"62c06c23-ac39-44d3-b61d-8fe827b17c12\", [{\"x\": [0, 1, 2, 3, 4, 5, 6, 7, 8, 9], \"y\": [10.05085977234197, 10.656333252603536, 10.535238556551223, 9.832889319447808, 9.082102203923467, 12.86025672075563, 7.8953741826108015, 9.275853717607168, 9.905546137079195, 9.905546137079195], \"type\": \"bar\", \"uid\": \"e3ccb0fe-c366-49dd-a6b4-8245e9f70ddf\"}, {\"x\": [0, 1, 2, 3, 4, 5, 6, 7, 8, 9], \"y\": [25.06024096385542, 19.318181818181817, 20.0, 20.935960591133004, 14.933333333333334, 26.930320150659135, 21.779141104294478, 17.232375979112273, 16.625916870415647, 20.293398533007334], \"yaxis\": \"y2\", \"type\": \"scatter\", \"uid\": \"ba05346d-2fb8-49bc-a0d3-3b3c1b0e7616\"}], {\"title\": {\"text\": \"Double Y axis - Hdl\"}, \"yaxis\": {\"title\": {\"text\": \"Population Distibution\"}}, \"yaxis2\": {\"overlaying\": \"y\", \"side\": \"right\", \"tickfont\": {\"color\": \"rgb(148, 103, 189)\"}, \"title\": {\"font\": {\"color\": \"rgb(148, 103, 189)\"}, \"text\": \"Death Rate\"}}}, {\"showLink\": false, \"linkText\": \"Export to plot.ly\", \"plotlyServerURL\": \"https://plot.ly\"}); \n",
       "}\n",
       "});</script><script type=\"text/javascript\">window.addEventListener(\"resize\", function(){if (document.getElementById(\"62c06c23-ac39-44d3-b61d-8fe827b17c12\")) {window._Plotly.Plots.resize(document.getElementById(\"62c06c23-ac39-44d3-b61d-8fe827b17c12\"));};})</script>"
      ],
      "text/vnd.plotly.v1+html": [
       "<div id=\"62c06c23-ac39-44d3-b61d-8fe827b17c12\" style=\"height: 525px; width: 100%;\" class=\"plotly-graph-div\"></div><script type=\"text/javascript\">require([\"plotly\"], function(Plotly) { window.PLOTLYENV=window.PLOTLYENV || {};window.PLOTLYENV.BASE_URL=\"https://plot.ly\";\n",
       "if (document.getElementById(\"62c06c23-ac39-44d3-b61d-8fe827b17c12\")) {\n",
       "    Plotly.newPlot(\"62c06c23-ac39-44d3-b61d-8fe827b17c12\", [{\"x\": [0, 1, 2, 3, 4, 5, 6, 7, 8, 9], \"y\": [10.05085977234197, 10.656333252603536, 10.535238556551223, 9.832889319447808, 9.082102203923467, 12.86025672075563, 7.8953741826108015, 9.275853717607168, 9.905546137079195, 9.905546137079195], \"type\": \"bar\", \"uid\": \"e3ccb0fe-c366-49dd-a6b4-8245e9f70ddf\"}, {\"x\": [0, 1, 2, 3, 4, 5, 6, 7, 8, 9], \"y\": [25.06024096385542, 19.318181818181817, 20.0, 20.935960591133004, 14.933333333333334, 26.930320150659135, 21.779141104294478, 17.232375979112273, 16.625916870415647, 20.293398533007334], \"yaxis\": \"y2\", \"type\": \"scatter\", \"uid\": \"ba05346d-2fb8-49bc-a0d3-3b3c1b0e7616\"}], {\"title\": {\"text\": \"Double Y axis - Hdl\"}, \"yaxis\": {\"title\": {\"text\": \"Population Distibution\"}}, \"yaxis2\": {\"overlaying\": \"y\", \"side\": \"right\", \"tickfont\": {\"color\": \"rgb(148, 103, 189)\"}, \"title\": {\"font\": {\"color\": \"rgb(148, 103, 189)\"}, \"text\": \"Death Rate\"}}}, {\"showLink\": false, \"linkText\": \"Export to plot.ly\", \"plotlyServerURL\": \"https://plot.ly\"}); \n",
       "}\n",
       "});</script><script type=\"text/javascript\">window.addEventListener(\"resize\", function(){if (document.getElementById(\"62c06c23-ac39-44d3-b61d-8fe827b17c12\")) {window._Plotly.Plots.resize(document.getElementById(\"62c06c23-ac39-44d3-b61d-8fe827b17c12\"));};})</script>"
      ]
     },
     "metadata": {},
     "output_type": "display_data"
    },
    {
     "data": {
      "application/vnd.plotly.v1+json": {
       "config": {
        "linkText": "Export to plot.ly",
        "plotlyServerURL": "https://plot.ly",
        "showLink": false
       },
       "data": [
        {
         "type": "bar",
         "uid": "d6f865d9-17d7-4944-b853-b927e3401048",
         "x": [
          0,
          1,
          2,
          3,
          4,
          5,
          6,
          7,
          8,
          9
         ],
         "y": [
          10.002421893921046,
          10.026640833131509,
          9.978202954710584,
          10.002421893921046,
          10.026640833131509,
          11.382901428917414,
          8.597723419714217,
          9.978202954710584,
          10.171954468394285,
          9.832889319447808
         ]
        },
        {
         "type": "scatter",
         "uid": "47385b84-51a6-4a4e-9668-89c3e121c20a",
         "x": [
          0,
          1,
          2,
          3,
          4,
          5,
          6,
          7,
          8,
          9
         ],
         "y": [
          28.571428571428573,
          33.81642512077295,
          23.058252427184467,
          19.37046004842615,
          17.632850241545892,
          22.340425531914892,
          16.901408450704224,
          17.233009708737864,
          12.142857142857142,
          13.54679802955665
         ],
         "yaxis": "y2"
        }
       ],
       "layout": {
        "title": {
         "text": "Double Y axis - Ses"
        },
        "yaxis": {
         "title": {
          "text": "Population Distibution"
         }
        },
        "yaxis2": {
         "overlaying": "y",
         "side": "right",
         "tickfont": {
          "color": "rgb(148, 103, 189)"
         },
         "title": {
          "font": {
           "color": "rgb(148, 103, 189)"
          },
          "text": "Death Rate"
         }
        }
       }
      },
      "text/html": [
       "<div id=\"d1f3bcd2-2eb6-43c4-b451-d4f37bc05b65\" style=\"height: 525px; width: 100%;\" class=\"plotly-graph-div\"></div><script type=\"text/javascript\">require([\"plotly\"], function(Plotly) { window.PLOTLYENV=window.PLOTLYENV || {};window.PLOTLYENV.BASE_URL=\"https://plot.ly\";\n",
       "if (document.getElementById(\"d1f3bcd2-2eb6-43c4-b451-d4f37bc05b65\")) {\n",
       "    Plotly.newPlot(\"d1f3bcd2-2eb6-43c4-b451-d4f37bc05b65\", [{\"x\": [0, 1, 2, 3, 4, 5, 6, 7, 8, 9], \"y\": [10.002421893921046, 10.026640833131509, 9.978202954710584, 10.002421893921046, 10.026640833131509, 11.382901428917414, 8.597723419714217, 9.978202954710584, 10.171954468394285, 9.832889319447808], \"type\": \"bar\", \"uid\": \"d6f865d9-17d7-4944-b853-b927e3401048\"}, {\"x\": [0, 1, 2, 3, 4, 5, 6, 7, 8, 9], \"y\": [28.571428571428573, 33.81642512077295, 23.058252427184467, 19.37046004842615, 17.632850241545892, 22.340425531914892, 16.901408450704224, 17.233009708737864, 12.142857142857142, 13.54679802955665], \"yaxis\": \"y2\", \"type\": \"scatter\", \"uid\": \"47385b84-51a6-4a4e-9668-89c3e121c20a\"}], {\"title\": {\"text\": \"Double Y axis - Ses\"}, \"yaxis\": {\"title\": {\"text\": \"Population Distibution\"}}, \"yaxis2\": {\"overlaying\": \"y\", \"side\": \"right\", \"tickfont\": {\"color\": \"rgb(148, 103, 189)\"}, \"title\": {\"font\": {\"color\": \"rgb(148, 103, 189)\"}, \"text\": \"Death Rate\"}}}, {\"showLink\": false, \"linkText\": \"Export to plot.ly\", \"plotlyServerURL\": \"https://plot.ly\"}); \n",
       "}\n",
       "});</script><script type=\"text/javascript\">window.addEventListener(\"resize\", function(){if (document.getElementById(\"d1f3bcd2-2eb6-43c4-b451-d4f37bc05b65\")) {window._Plotly.Plots.resize(document.getElementById(\"d1f3bcd2-2eb6-43c4-b451-d4f37bc05b65\"));};})</script>"
      ],
      "text/vnd.plotly.v1+html": [
       "<div id=\"d1f3bcd2-2eb6-43c4-b451-d4f37bc05b65\" style=\"height: 525px; width: 100%;\" class=\"plotly-graph-div\"></div><script type=\"text/javascript\">require([\"plotly\"], function(Plotly) { window.PLOTLYENV=window.PLOTLYENV || {};window.PLOTLYENV.BASE_URL=\"https://plot.ly\";\n",
       "if (document.getElementById(\"d1f3bcd2-2eb6-43c4-b451-d4f37bc05b65\")) {\n",
       "    Plotly.newPlot(\"d1f3bcd2-2eb6-43c4-b451-d4f37bc05b65\", [{\"x\": [0, 1, 2, 3, 4, 5, 6, 7, 8, 9], \"y\": [10.002421893921046, 10.026640833131509, 9.978202954710584, 10.002421893921046, 10.026640833131509, 11.382901428917414, 8.597723419714217, 9.978202954710584, 10.171954468394285, 9.832889319447808], \"type\": \"bar\", \"uid\": \"d6f865d9-17d7-4944-b853-b927e3401048\"}, {\"x\": [0, 1, 2, 3, 4, 5, 6, 7, 8, 9], \"y\": [28.571428571428573, 33.81642512077295, 23.058252427184467, 19.37046004842615, 17.632850241545892, 22.340425531914892, 16.901408450704224, 17.233009708737864, 12.142857142857142, 13.54679802955665], \"yaxis\": \"y2\", \"type\": \"scatter\", \"uid\": \"47385b84-51a6-4a4e-9668-89c3e121c20a\"}], {\"title\": {\"text\": \"Double Y axis - Ses\"}, \"yaxis\": {\"title\": {\"text\": \"Population Distibution\"}}, \"yaxis2\": {\"overlaying\": \"y\", \"side\": \"right\", \"tickfont\": {\"color\": \"rgb(148, 103, 189)\"}, \"title\": {\"font\": {\"color\": \"rgb(148, 103, 189)\"}, \"text\": \"Death Rate\"}}}, {\"showLink\": false, \"linkText\": \"Export to plot.ly\", \"plotlyServerURL\": \"https://plot.ly\"}); \n",
       "}\n",
       "});</script><script type=\"text/javascript\">window.addEventListener(\"resize\", function(){if (document.getElementById(\"d1f3bcd2-2eb6-43c4-b451-d4f37bc05b65\")) {window._Plotly.Plots.resize(document.getElementById(\"d1f3bcd2-2eb6-43c4-b451-d4f37bc05b65\"));};})</script>"
      ]
     },
     "metadata": {},
     "output_type": "display_data"
    },
    {
     "data": {
      "application/vnd.plotly.v1+json": {
       "config": {
        "linkText": "Export to plot.ly",
        "plotlyServerURL": "https://plot.ly",
        "showLink": false
       },
       "data": [
        {
         "type": "bar",
         "uid": "e68ff299-a8d8-47c8-8870-6299bb82dafb",
         "x": [
          0,
          1,
          2,
          3,
          4,
          5,
          6,
          7,
          8,
          9
         ],
         "y": [
          11.2618067328651,
          9.784451441026883,
          12.351658997335917,
          6.926616614192298,
          13.32041656575442,
          10.196173407604746,
          11.237587793654638,
          6.635989343666747,
          8.500847662872367,
          9.784451441026883
         ]
        },
        {
         "type": "scatter",
         "uid": "6b4cfb0f-60fc-4269-9770-c83d03e170cb",
         "x": [
          0,
          1,
          2,
          3,
          4,
          5,
          6,
          7,
          8,
          9
         ],
         "y": [
          18.9247311827957,
          14.851485148514852,
          16.274509803921568,
          17.482517482517483,
          16.181818181818183,
          18.764845605700714,
          25,
          20.072992700729927,
          24.786324786324787,
          34.9009900990099
         ],
         "yaxis": "y2"
        }
       ],
       "layout": {
        "title": {
         "text": "Double Y axis - Hba1c"
        },
        "yaxis": {
         "title": {
          "text": "Population Distibution"
         }
        },
        "yaxis2": {
         "overlaying": "y",
         "side": "right",
         "tickfont": {
          "color": "rgb(148, 103, 189)"
         },
         "title": {
          "font": {
           "color": "rgb(148, 103, 189)"
          },
          "text": "Death Rate"
         }
        }
       }
      },
      "text/html": [
       "<div id=\"0b540417-5d3f-4d01-80bd-ccfa4fafac9c\" style=\"height: 525px; width: 100%;\" class=\"plotly-graph-div\"></div><script type=\"text/javascript\">require([\"plotly\"], function(Plotly) { window.PLOTLYENV=window.PLOTLYENV || {};window.PLOTLYENV.BASE_URL=\"https://plot.ly\";\n",
       "if (document.getElementById(\"0b540417-5d3f-4d01-80bd-ccfa4fafac9c\")) {\n",
       "    Plotly.newPlot(\"0b540417-5d3f-4d01-80bd-ccfa4fafac9c\", [{\"x\": [0, 1, 2, 3, 4, 5, 6, 7, 8, 9], \"y\": [11.2618067328651, 9.784451441026883, 12.351658997335917, 6.926616614192298, 13.32041656575442, 10.196173407604746, 11.237587793654638, 6.635989343666747, 8.500847662872367, 9.784451441026883], \"type\": \"bar\", \"uid\": \"e68ff299-a8d8-47c8-8870-6299bb82dafb\"}, {\"x\": [0, 1, 2, 3, 4, 5, 6, 7, 8, 9], \"y\": [18.9247311827957, 14.851485148514852, 16.274509803921568, 17.482517482517483, 16.181818181818183, 18.764845605700714, 25.0, 20.072992700729927, 24.786324786324787, 34.9009900990099], \"yaxis\": \"y2\", \"type\": \"scatter\", \"uid\": \"6b4cfb0f-60fc-4269-9770-c83d03e170cb\"}], {\"title\": {\"text\": \"Double Y axis - Hba1c\"}, \"yaxis\": {\"title\": {\"text\": \"Population Distibution\"}}, \"yaxis2\": {\"overlaying\": \"y\", \"side\": \"right\", \"tickfont\": {\"color\": \"rgb(148, 103, 189)\"}, \"title\": {\"font\": {\"color\": \"rgb(148, 103, 189)\"}, \"text\": \"Death Rate\"}}}, {\"showLink\": false, \"linkText\": \"Export to plot.ly\", \"plotlyServerURL\": \"https://plot.ly\"}); \n",
       "}\n",
       "});</script><script type=\"text/javascript\">window.addEventListener(\"resize\", function(){if (document.getElementById(\"0b540417-5d3f-4d01-80bd-ccfa4fafac9c\")) {window._Plotly.Plots.resize(document.getElementById(\"0b540417-5d3f-4d01-80bd-ccfa4fafac9c\"));};})</script>"
      ],
      "text/vnd.plotly.v1+html": [
       "<div id=\"0b540417-5d3f-4d01-80bd-ccfa4fafac9c\" style=\"height: 525px; width: 100%;\" class=\"plotly-graph-div\"></div><script type=\"text/javascript\">require([\"plotly\"], function(Plotly) { window.PLOTLYENV=window.PLOTLYENV || {};window.PLOTLYENV.BASE_URL=\"https://plot.ly\";\n",
       "if (document.getElementById(\"0b540417-5d3f-4d01-80bd-ccfa4fafac9c\")) {\n",
       "    Plotly.newPlot(\"0b540417-5d3f-4d01-80bd-ccfa4fafac9c\", [{\"x\": [0, 1, 2, 3, 4, 5, 6, 7, 8, 9], \"y\": [11.2618067328651, 9.784451441026883, 12.351658997335917, 6.926616614192298, 13.32041656575442, 10.196173407604746, 11.237587793654638, 6.635989343666747, 8.500847662872367, 9.784451441026883], \"type\": \"bar\", \"uid\": \"e68ff299-a8d8-47c8-8870-6299bb82dafb\"}, {\"x\": [0, 1, 2, 3, 4, 5, 6, 7, 8, 9], \"y\": [18.9247311827957, 14.851485148514852, 16.274509803921568, 17.482517482517483, 16.181818181818183, 18.764845605700714, 25.0, 20.072992700729927, 24.786324786324787, 34.9009900990099], \"yaxis\": \"y2\", \"type\": \"scatter\", \"uid\": \"6b4cfb0f-60fc-4269-9770-c83d03e170cb\"}], {\"title\": {\"text\": \"Double Y axis - Hba1c\"}, \"yaxis\": {\"title\": {\"text\": \"Population Distibution\"}}, \"yaxis2\": {\"overlaying\": \"y\", \"side\": \"right\", \"tickfont\": {\"color\": \"rgb(148, 103, 189)\"}, \"title\": {\"font\": {\"color\": \"rgb(148, 103, 189)\"}, \"text\": \"Death Rate\"}}}, {\"showLink\": false, \"linkText\": \"Export to plot.ly\", \"plotlyServerURL\": \"https://plot.ly\"}); \n",
       "}\n",
       "});</script><script type=\"text/javascript\">window.addEventListener(\"resize\", function(){if (document.getElementById(\"0b540417-5d3f-4d01-80bd-ccfa4fafac9c\")) {window._Plotly.Plots.resize(document.getElementById(\"0b540417-5d3f-4d01-80bd-ccfa4fafac9c\"));};})</script>"
      ]
     },
     "metadata": {},
     "output_type": "display_data"
    }
   ],
   "source": [
    "plt_event_rate(er_data)"
   ]
  },
  {
   "cell_type": "code",
   "execution_count": 55,
   "metadata": {},
   "outputs": [],
   "source": [
    "X = data[numerical_columns].values"
   ]
  },
  {
   "cell_type": "code",
   "execution_count": 56,
   "metadata": {},
   "outputs": [
    {
     "data": {
      "text/html": [
       "<div>\n",
       "<style scoped>\n",
       "    .dataframe tbody tr th:only-of-type {\n",
       "        vertical-align: middle;\n",
       "    }\n",
       "\n",
       "    .dataframe tbody tr th {\n",
       "        vertical-align: top;\n",
       "    }\n",
       "\n",
       "    .dataframe thead th {\n",
       "        text-align: right;\n",
       "    }\n",
       "</style>\n",
       "<table border=\"1\" class=\"dataframe\">\n",
       "  <thead>\n",
       "    <tr style=\"text-align: right;\">\n",
       "      <th></th>\n",
       "      <th>VIF Factor</th>\n",
       "      <th>features</th>\n",
       "    </tr>\n",
       "  </thead>\n",
       "  <tbody>\n",
       "    <tr>\n",
       "      <th>0</th>\n",
       "      <td>106.217737</td>\n",
       "      <td>sbp</td>\n",
       "    </tr>\n",
       "    <tr>\n",
       "      <th>1</th>\n",
       "      <td>64.283385</td>\n",
       "      <td>age</td>\n",
       "    </tr>\n",
       "    <tr>\n",
       "      <th>2</th>\n",
       "      <td>93.655568</td>\n",
       "      <td>dbp</td>\n",
       "    </tr>\n",
       "    <tr>\n",
       "      <th>3</th>\n",
       "      <td>29.701090</td>\n",
       "      <td>bmi</td>\n",
       "    </tr>\n",
       "    <tr>\n",
       "      <th>4</th>\n",
       "      <td>1.102010</td>\n",
       "      <td>uralb</td>\n",
       "    </tr>\n",
       "    <tr>\n",
       "      <th>5</th>\n",
       "      <td>4.602459</td>\n",
       "      <td>trig</td>\n",
       "    </tr>\n",
       "    <tr>\n",
       "      <th>6</th>\n",
       "      <td>34.836054</td>\n",
       "      <td>chol</td>\n",
       "    </tr>\n",
       "    <tr>\n",
       "      <th>7</th>\n",
       "      <td>14.317003</td>\n",
       "      <td>hdl</td>\n",
       "    </tr>\n",
       "    <tr>\n",
       "      <th>8</th>\n",
       "      <td>3.399858</td>\n",
       "      <td>ses</td>\n",
       "    </tr>\n",
       "    <tr>\n",
       "      <th>9</th>\n",
       "      <td>23.104378</td>\n",
       "      <td>hba1c</td>\n",
       "    </tr>\n",
       "  </tbody>\n",
       "</table>\n",
       "</div>"
      ],
      "text/plain": [
       "   VIF Factor features\n",
       "0  106.217737      sbp\n",
       "1   64.283385      age\n",
       "2   93.655568      dbp\n",
       "3   29.701090      bmi\n",
       "4    1.102010    uralb\n",
       "5    4.602459     trig\n",
       "6   34.836054     chol\n",
       "7   14.317003      hdl\n",
       "8    3.399858      ses\n",
       "9   23.104378    hba1c"
      ]
     },
     "execution_count": 56,
     "metadata": {},
     "output_type": "execute_result"
    }
   ],
   "source": [
    "vif = pd.DataFrame()\n",
    "vif[\"VIF Factor\"] = [variance_inflation_factor(X, i) for i in range(X.shape[1])]\n",
    "vif[\"features\"] = numerical_columns\n",
    "vif"
   ]
  },
  {
   "cell_type": "code",
   "execution_count": 57,
   "metadata": {},
   "outputs": [],
   "source": [
    "def calculate_vif(X, threshold = 15.0):\n",
    "    variables = list(range(X.shape[1]))\n",
    "    dropped = True\n",
    "    while dropped:\n",
    "        dropped = False\n",
    "        vif = [variance_inflation_factor(X.iloc[:, variables].values, ix)\n",
    "               for ix in range(X.iloc[:, variables].shape[1])]\n",
    "        maxloc = vif.index(max(vif))\n",
    "        if max(vif) > threshold:\n",
    "            print('dropping \\'' + X.iloc[:, variables].columns[maxloc] +\n",
    "                  '\\' at index: ' + str(maxloc))\n",
    "            del variables[maxloc]\n",
    "            dropped = True\n",
    "    print('Remaining variables:')\n",
    "    print(X.columns[variables])\n",
    "    return X.iloc[:, variables]"
   ]
  },
  {
   "cell_type": "code",
   "execution_count": 58,
   "metadata": {},
   "outputs": [
    {
     "name": "stdout",
     "output_type": "stream",
     "text": [
      "dropping 'sbp' at index: 0\n",
      "dropping 'age' at index: 0\n",
      "dropping 'dbp' at index: 0\n",
      "dropping 'chol' at index: 3\n",
      "dropping 'bmi' at index: 0\n",
      "Remaining variables:\n",
      "Index(['uralb', 'trig', 'hdl', 'ses', 'hba1c'], dtype='object')\n"
     ]
    }
   ],
   "source": [
    "data_filtered_num = calculate_vif(data[numerical_columns])"
   ]
  },
  {
   "cell_type": "markdown",
   "metadata": {},
   "source": [
    "Correlation on filtered data"
   ]
  },
  {
   "cell_type": "code",
   "execution_count": 59,
   "metadata": {},
   "outputs": [
    {
     "data": {
      "text/html": [
       "<div>\n",
       "<style scoped>\n",
       "    .dataframe tbody tr th:only-of-type {\n",
       "        vertical-align: middle;\n",
       "    }\n",
       "\n",
       "    .dataframe tbody tr th {\n",
       "        vertical-align: top;\n",
       "    }\n",
       "\n",
       "    .dataframe thead th {\n",
       "        text-align: right;\n",
       "    }\n",
       "</style>\n",
       "<table border=\"1\" class=\"dataframe\">\n",
       "  <thead>\n",
       "    <tr style=\"text-align: right;\">\n",
       "      <th></th>\n",
       "      <th>uralb</th>\n",
       "      <th>trig</th>\n",
       "      <th>hdl</th>\n",
       "      <th>ses</th>\n",
       "      <th>hba1c</th>\n",
       "    </tr>\n",
       "  </thead>\n",
       "  <tbody>\n",
       "    <tr>\n",
       "      <th>count</th>\n",
       "      <td>4129.000000</td>\n",
       "      <td>4129.000000</td>\n",
       "      <td>4129.000000</td>\n",
       "      <td>4129.000000</td>\n",
       "      <td>4129.000000</td>\n",
       "    </tr>\n",
       "    <tr>\n",
       "      <th>mean</th>\n",
       "      <td>35.421267</td>\n",
       "      <td>162.676353</td>\n",
       "      <td>51.423013</td>\n",
       "      <td>2.897925</td>\n",
       "      <td>5.820518</td>\n",
       "    </tr>\n",
       "    <tr>\n",
       "      <th>std</th>\n",
       "      <td>155.678785</td>\n",
       "      <td>106.407991</td>\n",
       "      <td>15.518573</td>\n",
       "      <td>1.875609</td>\n",
       "      <td>1.257508</td>\n",
       "    </tr>\n",
       "    <tr>\n",
       "      <th>min</th>\n",
       "      <td>0.400000</td>\n",
       "      <td>27.000000</td>\n",
       "      <td>12.000000</td>\n",
       "      <td>0.000000</td>\n",
       "      <td>3.300000</td>\n",
       "    </tr>\n",
       "    <tr>\n",
       "      <th>25%</th>\n",
       "      <td>2.900000</td>\n",
       "      <td>97.000000</td>\n",
       "      <td>41.000000</td>\n",
       "      <td>1.426000</td>\n",
       "      <td>5.200000</td>\n",
       "    </tr>\n",
       "    <tr>\n",
       "      <th>50%</th>\n",
       "      <td>7.700000</td>\n",
       "      <td>143.000000</td>\n",
       "      <td>51.000000</td>\n",
       "      <td>2.812000</td>\n",
       "      <td>5.600000</td>\n",
       "    </tr>\n",
       "    <tr>\n",
       "      <th>75%</th>\n",
       "      <td>23.600000</td>\n",
       "      <td>179.000000</td>\n",
       "      <td>58.000000</td>\n",
       "      <td>3.855000</td>\n",
       "      <td>5.820518</td>\n",
       "    </tr>\n",
       "    <tr>\n",
       "      <th>max</th>\n",
       "      <td>1768.200000</td>\n",
       "      <td>713.560000</td>\n",
       "      <td>191.000000</td>\n",
       "      <td>11.290000</td>\n",
       "      <td>16.100000</td>\n",
       "    </tr>\n",
       "  </tbody>\n",
       "</table>\n",
       "</div>"
      ],
      "text/plain": [
       "             uralb         trig          hdl          ses        hba1c\n",
       "count  4129.000000  4129.000000  4129.000000  4129.000000  4129.000000\n",
       "mean     35.421267   162.676353    51.423013     2.897925     5.820518\n",
       "std     155.678785   106.407991    15.518573     1.875609     1.257508\n",
       "min       0.400000    27.000000    12.000000     0.000000     3.300000\n",
       "25%       2.900000    97.000000    41.000000     1.426000     5.200000\n",
       "50%       7.700000   143.000000    51.000000     2.812000     5.600000\n",
       "75%      23.600000   179.000000    58.000000     3.855000     5.820518\n",
       "max    1768.200000   713.560000   191.000000    11.290000    16.100000"
      ]
     },
     "execution_count": 59,
     "metadata": {},
     "output_type": "execute_result"
    }
   ],
   "source": [
    "data_filtered_num.describe()"
   ]
  },
  {
   "cell_type": "code",
   "execution_count": 60,
   "metadata": {},
   "outputs": [
    {
     "data": {
      "text/html": [
       "<div>\n",
       "<style scoped>\n",
       "    .dataframe tbody tr th:only-of-type {\n",
       "        vertical-align: middle;\n",
       "    }\n",
       "\n",
       "    .dataframe tbody tr th {\n",
       "        vertical-align: top;\n",
       "    }\n",
       "\n",
       "    .dataframe thead th {\n",
       "        text-align: right;\n",
       "    }\n",
       "</style>\n",
       "<table border=\"1\" class=\"dataframe\">\n",
       "  <thead>\n",
       "    <tr style=\"text-align: right;\">\n",
       "      <th></th>\n",
       "      <th>uralb</th>\n",
       "      <th>trig</th>\n",
       "      <th>hdl</th>\n",
       "      <th>ses</th>\n",
       "      <th>hba1c</th>\n",
       "    </tr>\n",
       "  </thead>\n",
       "  <tbody>\n",
       "    <tr>\n",
       "      <th>uralb</th>\n",
       "      <td>1.000000</td>\n",
       "      <td>0.069481</td>\n",
       "      <td>-0.020956</td>\n",
       "      <td>-0.060887</td>\n",
       "      <td>0.146408</td>\n",
       "    </tr>\n",
       "    <tr>\n",
       "      <th>trig</th>\n",
       "      <td>0.069481</td>\n",
       "      <td>1.000000</td>\n",
       "      <td>-0.369528</td>\n",
       "      <td>-0.019121</td>\n",
       "      <td>0.178024</td>\n",
       "    </tr>\n",
       "    <tr>\n",
       "      <th>hdl</th>\n",
       "      <td>-0.020956</td>\n",
       "      <td>-0.369528</td>\n",
       "      <td>1.000000</td>\n",
       "      <td>0.027850</td>\n",
       "      <td>-0.145770</td>\n",
       "    </tr>\n",
       "    <tr>\n",
       "      <th>ses</th>\n",
       "      <td>-0.060887</td>\n",
       "      <td>-0.019121</td>\n",
       "      <td>0.027850</td>\n",
       "      <td>1.000000</td>\n",
       "      <td>-0.128628</td>\n",
       "    </tr>\n",
       "    <tr>\n",
       "      <th>hba1c</th>\n",
       "      <td>0.146408</td>\n",
       "      <td>0.178024</td>\n",
       "      <td>-0.145770</td>\n",
       "      <td>-0.128628</td>\n",
       "      <td>1.000000</td>\n",
       "    </tr>\n",
       "  </tbody>\n",
       "</table>\n",
       "</div>"
      ],
      "text/plain": [
       "          uralb      trig       hdl       ses     hba1c\n",
       "uralb  1.000000  0.069481 -0.020956 -0.060887  0.146408\n",
       "trig   0.069481  1.000000 -0.369528 -0.019121  0.178024\n",
       "hdl   -0.020956 -0.369528  1.000000  0.027850 -0.145770\n",
       "ses   -0.060887 -0.019121  0.027850  1.000000 -0.128628\n",
       "hba1c  0.146408  0.178024 -0.145770 -0.128628  1.000000"
      ]
     },
     "execution_count": 60,
     "metadata": {},
     "output_type": "execute_result"
    }
   ],
   "source": [
    "data_filtered_num.corr()"
   ]
  },
  {
   "cell_type": "code",
   "execution_count": 61,
   "metadata": {},
   "outputs": [
    {
     "data": {
      "text/plain": [
       "<matplotlib.axes._subplots.AxesSubplot at 0x7f5012c7da20>"
      ]
     },
     "execution_count": 61,
     "metadata": {},
     "output_type": "execute_result"
    },
    {
     "data": {
      "image/png": "[encoded data removed]",
      "text/plain": [
       "<Figure size 432x288 with 2 Axes>"
      ]
     },
     "metadata": {
      "needs_background": "light"
     },
     "output_type": "display_data"
    }
   ],
   "source": [
    "sns.heatmap(data_filtered_num.corr(), cmap=sns.diverging_palette(220, 10, as_cmap=True),square=True)"
   ]
  },
  {
   "cell_type": "code",
   "execution_count": 62,
   "metadata": {},
   "outputs": [
    {
     "data": {
      "text/plain": [
       "<matplotlib.axes._subplots.AxesSubplot at 0x7f5014017240>"
      ]
     },
     "execution_count": 62,
     "metadata": {},
     "output_type": "execute_result"
    },
    {
     "data": {
      "image/png": "[encoded data removed]",
      "text/plain": [
       "<Figure size 432x288 with 2 Axes>"
      ]
     },
     "metadata": {
      "needs_background": "light"
     },
     "output_type": "display_data"
    }
   ],
   "source": [
    "sns.heatmap(data[numerical_columns].corr(), cmap=sns.diverging_palette(220, 10, as_cmap=True),square=True)"
   ]
  },
  {
   "cell_type": "code",
   "execution_count": 63,
   "metadata": {},
   "outputs": [],
   "source": [
    "data_filtered_cat = pd.get_dummies(data[categorical_columns], drop_first=True)"
   ]
  },
  {
   "cell_type": "code",
   "execution_count": 64,
   "metadata": {},
   "outputs": [
    {
     "data": {
      "text/html": [
       "<div>\n",
       "<style scoped>\n",
       "    .dataframe tbody tr th:only-of-type {\n",
       "        vertical-align: middle;\n",
       "    }\n",
       "\n",
       "    .dataframe tbody tr th {\n",
       "        vertical-align: top;\n",
       "    }\n",
       "\n",
       "    .dataframe thead th {\n",
       "        text-align: right;\n",
       "    }\n",
       "</style>\n",
       "<table border=\"1\" class=\"dataframe\">\n",
       "  <thead>\n",
       "    <tr style=\"text-align: right;\">\n",
       "      <th></th>\n",
       "      <th>obese_no</th>\n",
       "      <th>obese_yes</th>\n",
       "      <th>hldhx_2.0</th>\n",
       "      <th>htnhx_hypertensive</th>\n",
       "      <th>htnhx_no</th>\n",
       "      <th>smokehx_yes</th>\n",
       "      <th>race_multiracial</th>\n",
       "      <th>race_non hispanic black</th>\n",
       "      <th>race_non hispanic white</th>\n",
       "      <th>sex_male</th>\n",
       "      <th>mi_no</th>\n",
       "    </tr>\n",
       "  </thead>\n",
       "  <tbody>\n",
       "    <tr>\n",
       "      <th>2</th>\n",
       "      <td>0</td>\n",
       "      <td>1</td>\n",
       "      <td>1</td>\n",
       "      <td>0</td>\n",
       "      <td>1</td>\n",
       "      <td>0</td>\n",
       "      <td>0</td>\n",
       "      <td>0</td>\n",
       "      <td>0</td>\n",
       "      <td>0</td>\n",
       "      <td>1</td>\n",
       "    </tr>\n",
       "    <tr>\n",
       "      <th>4</th>\n",
       "      <td>1</td>\n",
       "      <td>0</td>\n",
       "      <td>0</td>\n",
       "      <td>0</td>\n",
       "      <td>1</td>\n",
       "      <td>0</td>\n",
       "      <td>0</td>\n",
       "      <td>1</td>\n",
       "      <td>0</td>\n",
       "      <td>1</td>\n",
       "      <td>1</td>\n",
       "    </tr>\n",
       "    <tr>\n",
       "      <th>9</th>\n",
       "      <td>0</td>\n",
       "      <td>1</td>\n",
       "      <td>1</td>\n",
       "      <td>0</td>\n",
       "      <td>1</td>\n",
       "      <td>0</td>\n",
       "      <td>0</td>\n",
       "      <td>0</td>\n",
       "      <td>0</td>\n",
       "      <td>0</td>\n",
       "      <td>1</td>\n",
       "    </tr>\n",
       "    <tr>\n",
       "      <th>12</th>\n",
       "      <td>1</td>\n",
       "      <td>0</td>\n",
       "      <td>1</td>\n",
       "      <td>0</td>\n",
       "      <td>1</td>\n",
       "      <td>1</td>\n",
       "      <td>0</td>\n",
       "      <td>1</td>\n",
       "      <td>0</td>\n",
       "      <td>1</td>\n",
       "      <td>1</td>\n",
       "    </tr>\n",
       "    <tr>\n",
       "      <th>14</th>\n",
       "      <td>0</td>\n",
       "      <td>1</td>\n",
       "      <td>0</td>\n",
       "      <td>1</td>\n",
       "      <td>0</td>\n",
       "      <td>0</td>\n",
       "      <td>0</td>\n",
       "      <td>1</td>\n",
       "      <td>0</td>\n",
       "      <td>1</td>\n",
       "      <td>1</td>\n",
       "    </tr>\n",
       "  </tbody>\n",
       "</table>\n",
       "</div>"
      ],
      "text/plain": [
       "    obese_no  obese_yes  hldhx_2.0  htnhx_hypertensive  htnhx_no  smokehx_yes  \\\n",
       "2          0          1          1                   0         1            0   \n",
       "4          1          0          0                   0         1            0   \n",
       "9          0          1          1                   0         1            0   \n",
       "12         1          0          1                   0         1            1   \n",
       "14         0          1          0                   1         0            0   \n",
       "\n",
       "    race_multiracial  race_non hispanic black  race_non hispanic white  \\\n",
       "2                  0                        0                        0   \n",
       "4                  0                        1                        0   \n",
       "9                  0                        0                        0   \n",
       "12                 0                        1                        0   \n",
       "14                 0                        1                        0   \n",
       "\n",
       "    sex_male  mi_no  \n",
       "2          0      1  \n",
       "4          1      1  \n",
       "9          0      1  \n",
       "12         1      1  \n",
       "14         1      1  "
      ]
     },
     "execution_count": 64,
     "metadata": {},
     "output_type": "execute_result"
    }
   ],
   "source": [
    "data_filtered_cat.head()"
   ]
  },
  {
   "cell_type": "code",
   "execution_count": 65,
   "metadata": {},
   "outputs": [],
   "source": [
    "model_data = pd.concat((data_filtered_num, data_filtered_cat), axis=1)"
   ]
  },
  {
   "cell_type": "code",
   "execution_count": 66,
   "metadata": {},
   "outputs": [
    {
     "data": {
      "text/html": [
       "<div>\n",
       "<style scoped>\n",
       "    .dataframe tbody tr th:only-of-type {\n",
       "        vertical-align: middle;\n",
       "    }\n",
       "\n",
       "    .dataframe tbody tr th {\n",
       "        vertical-align: top;\n",
       "    }\n",
       "\n",
       "    .dataframe thead th {\n",
       "        text-align: right;\n",
       "    }\n",
       "</style>\n",
       "<table border=\"1\" class=\"dataframe\">\n",
       "  <thead>\n",
       "    <tr style=\"text-align: right;\">\n",
       "      <th></th>\n",
       "      <th>uralb</th>\n",
       "      <th>trig</th>\n",
       "      <th>hdl</th>\n",
       "      <th>ses</th>\n",
       "      <th>hba1c</th>\n",
       "      <th>obese_no</th>\n",
       "      <th>obese_yes</th>\n",
       "      <th>hldhx_2.0</th>\n",
       "      <th>htnhx_hypertensive</th>\n",
       "      <th>htnhx_no</th>\n",
       "      <th>smokehx_yes</th>\n",
       "      <th>race_multiracial</th>\n",
       "      <th>race_non hispanic black</th>\n",
       "      <th>race_non hispanic white</th>\n",
       "      <th>sex_male</th>\n",
       "      <th>mi_no</th>\n",
       "    </tr>\n",
       "  </thead>\n",
       "  <tbody>\n",
       "    <tr>\n",
       "      <th>2</th>\n",
       "      <td>1.6</td>\n",
       "      <td>98.0</td>\n",
       "      <td>66.0</td>\n",
       "      <td>3.747</td>\n",
       "      <td>5.3</td>\n",
       "      <td>0</td>\n",
       "      <td>1</td>\n",
       "      <td>1</td>\n",
       "      <td>0</td>\n",
       "      <td>1</td>\n",
       "      <td>0</td>\n",
       "      <td>0</td>\n",
       "      <td>0</td>\n",
       "      <td>0</td>\n",
       "      <td>0</td>\n",
       "      <td>1</td>\n",
       "    </tr>\n",
       "    <tr>\n",
       "      <th>4</th>\n",
       "      <td>11.3</td>\n",
       "      <td>94.0</td>\n",
       "      <td>51.0</td>\n",
       "      <td>1.676</td>\n",
       "      <td>9.1</td>\n",
       "      <td>1</td>\n",
       "      <td>0</td>\n",
       "      <td>0</td>\n",
       "      <td>0</td>\n",
       "      <td>1</td>\n",
       "      <td>0</td>\n",
       "      <td>0</td>\n",
       "      <td>1</td>\n",
       "      <td>0</td>\n",
       "      <td>1</td>\n",
       "      <td>1</td>\n",
       "    </tr>\n",
       "    <tr>\n",
       "      <th>9</th>\n",
       "      <td>0.4</td>\n",
       "      <td>171.0</td>\n",
       "      <td>42.0</td>\n",
       "      <td>5.690</td>\n",
       "      <td>5.0</td>\n",
       "      <td>0</td>\n",
       "      <td>1</td>\n",
       "      <td>1</td>\n",
       "      <td>0</td>\n",
       "      <td>1</td>\n",
       "      <td>0</td>\n",
       "      <td>0</td>\n",
       "      <td>0</td>\n",
       "      <td>0</td>\n",
       "      <td>0</td>\n",
       "      <td>1</td>\n",
       "    </tr>\n",
       "    <tr>\n",
       "      <th>12</th>\n",
       "      <td>1.8</td>\n",
       "      <td>204.0</td>\n",
       "      <td>47.0</td>\n",
       "      <td>3.416</td>\n",
       "      <td>5.9</td>\n",
       "      <td>1</td>\n",
       "      <td>0</td>\n",
       "      <td>1</td>\n",
       "      <td>0</td>\n",
       "      <td>1</td>\n",
       "      <td>1</td>\n",
       "      <td>0</td>\n",
       "      <td>1</td>\n",
       "      <td>0</td>\n",
       "      <td>1</td>\n",
       "      <td>1</td>\n",
       "    </tr>\n",
       "    <tr>\n",
       "      <th>14</th>\n",
       "      <td>105.0</td>\n",
       "      <td>479.0</td>\n",
       "      <td>30.0</td>\n",
       "      <td>0.622</td>\n",
       "      <td>5.7</td>\n",
       "      <td>0</td>\n",
       "      <td>1</td>\n",
       "      <td>0</td>\n",
       "      <td>1</td>\n",
       "      <td>0</td>\n",
       "      <td>0</td>\n",
       "      <td>0</td>\n",
       "      <td>1</td>\n",
       "      <td>0</td>\n",
       "      <td>1</td>\n",
       "      <td>1</td>\n",
       "    </tr>\n",
       "  </tbody>\n",
       "</table>\n",
       "</div>"
      ],
      "text/plain": [
       "    uralb   trig   hdl    ses  hba1c  obese_no  obese_yes  hldhx_2.0  \\\n",
       "2     1.6   98.0  66.0  3.747    5.3         0          1          1   \n",
       "4    11.3   94.0  51.0  1.676    9.1         1          0          0   \n",
       "9     0.4  171.0  42.0  5.690    5.0         0          1          1   \n",
       "12    1.8  204.0  47.0  3.416    5.9         1          0          1   \n",
       "14  105.0  479.0  30.0  0.622    5.7         0          1          0   \n",
       "\n",
       "    htnhx_hypertensive  htnhx_no  smokehx_yes  race_multiracial  \\\n",
       "2                    0         1            0                 0   \n",
       "4                    0         1            0                 0   \n",
       "9                    0         1            0                 0   \n",
       "12                   0         1            1                 0   \n",
       "14                   1         0            0                 0   \n",
       "\n",
       "    race_non hispanic black  race_non hispanic white  sex_male  mi_no  \n",
       "2                         0                        0         0      1  \n",
       "4                         1                        0         1      1  \n",
       "9                         0                        0         0      1  \n",
       "12                        1                        0         1      1  \n",
       "14                        1                        0         1      1  "
      ]
     },
     "execution_count": 66,
     "metadata": {},
     "output_type": "execute_result"
    }
   ],
   "source": [
    "model_data.head()"
   ]
  },
  {
   "cell_type": "code",
   "execution_count": 67,
   "metadata": {},
   "outputs": [
    {
     "data": {
      "text/plain": [
       "(4129, 16)"
      ]
     },
     "execution_count": 67,
     "metadata": {},
     "output_type": "execute_result"
    }
   ],
   "source": [
    "model_data.shape"
   ]
  },
  {
   "cell_type": "code",
   "execution_count": 68,
   "metadata": {},
   "outputs": [
    {
     "data": {
      "text/plain": [
       "(4129,)"
      ]
     },
     "execution_count": 68,
     "metadata": {},
     "output_type": "execute_result"
    }
   ],
   "source": [
    "data['mortstat'].shape"
   ]
  },
  {
   "cell_type": "markdown",
   "metadata": {},
   "source": [
    "Split data into train and test"
   ]
  },
  {
   "cell_type": "code",
   "execution_count": 69,
   "metadata": {},
   "outputs": [],
   "source": [
    "train_x, test_x, train_y, test_y = train_test_split(model_data, data['mortstat'], test_size = 0.3, random_state = 10)"
   ]
  },
  {
   "cell_type": "code",
   "execution_count": 70,
   "metadata": {},
   "outputs": [
    {
     "name": "stdout",
     "output_type": "stream",
     "text": [
      "(2890, 16) (1239, 16) (2890,) (1239,)\n"
     ]
    }
   ],
   "source": [
    "print(train_x.shape, test_x.shape, train_y.shape, test_y.shape)"
   ]
  },
  {
   "cell_type": "code",
   "execution_count": 71,
   "metadata": {},
   "outputs": [],
   "source": [
    "rf_params = { \n",
    "    'max_depth': np.arange(2,7),  \n",
    "    'min_samples_leaf': [0.01, 0.05, 0.1, 0.15, 0.2],\n",
    "    'n_estimators': [100, 200, 400, 600, 1000], \n",
    "    'max_features': [3, 4, 5, 6, 7, 10, 15]\n",
    "}\n",
    "rf = RandomForestClassifier(class_weight='balanced', n_jobs=-1, verbose=False, oob_score=True)\n",
    "random_cv = RandomizedSearchCV(rf, cv=5, param_distributions=rf_params)"
   ]
  },
  {
   "cell_type": "code",
   "execution_count": 72,
   "metadata": {},
   "outputs": [
    {
     "data": {
      "text/plain": [
       "RandomizedSearchCV(cv=5, error_score='raise-deprecating',\n",
       "          estimator=RandomForestClassifier(bootstrap=True, class_weight='balanced',\n",
       "            criterion='gini', max_depth=None, max_features='auto',\n",
       "            max_leaf_nodes=None, min_impurity_decrease=0.0,\n",
       "            min_impurity_split=None, min_samples_leaf=1,\n",
       "            min_samples_split=2, min_weight_fraction_leaf=0.0,\n",
       "            n_estimators='warn', n_jobs=-1, oob_score=True,\n",
       "            random_state=None, verbose=False, warm_start=False),\n",
       "          fit_params=None, iid='warn', n_iter=10, n_jobs=None,\n",
       "          param_distributions={'max_depth': array([2, 3, 4, 5, 6]), 'min_samples_leaf': [0.01, 0.05, 0.1, 0.15, 0.2], 'n_estimators': [100, 200, 400, 600, 1000], 'max_features': [3, 4, 5, 6, 7, 10, 15]},\n",
       "          pre_dispatch='2*n_jobs', random_state=None, refit=True,\n",
       "          return_train_score='warn', scoring=None, verbose=0)"
      ]
     },
     "execution_count": 72,
     "metadata": {},
     "output_type": "execute_result"
    }
   ],
   "source": [
    "random_cv.fit(train_x, train_y)"
   ]
  },
  {
   "cell_type": "code",
   "execution_count": 73,
   "metadata": {},
   "outputs": [
    {
     "data": {
      "text/plain": [
       "{'n_estimators': 400,\n",
       " 'min_samples_leaf': 0.01,\n",
       " 'max_features': 3,\n",
       " 'max_depth': 6}"
      ]
     },
     "execution_count": 73,
     "metadata": {},
     "output_type": "execute_result"
    }
   ],
   "source": [
    "random_cv.best_params_"
   ]
  },
  {
   "cell_type": "code",
   "execution_count": 74,
   "metadata": {},
   "outputs": [],
   "source": [
    "rf = RandomForestClassifier(class_weight='balanced', n_jobs=-1, verbose=True, **random_cv.best_params_)"
   ]
  },
  {
   "cell_type": "code",
   "execution_count": 75,
   "metadata": {},
   "outputs": [
    {
     "name": "stderr",
     "output_type": "stream",
     "text": [
      "[Parallel(n_jobs=-1)]: Using backend ThreadingBackend with 12 concurrent workers.\n",
      "[Parallel(n_jobs=-1)]: Done  26 tasks      | elapsed:    0.0s\n",
      "[Parallel(n_jobs=-1)]: Done 176 tasks      | elapsed:    0.1s\n",
      "[Parallel(n_jobs=-1)]: Done 400 out of 400 | elapsed:    0.2s finished\n"
     ]
    },
    {
     "data": {
      "text/plain": [
       "RandomForestClassifier(bootstrap=True, class_weight='balanced',\n",
       "            criterion='gini', max_depth=6, max_features=3,\n",
       "            max_leaf_nodes=None, min_impurity_decrease=0.0,\n",
       "            min_impurity_split=None, min_samples_leaf=0.01,\n",
       "            min_samples_split=2, min_weight_fraction_leaf=0.0,\n",
       "            n_estimators=400, n_jobs=-1, oob_score=False,\n",
       "            random_state=None, verbose=True, warm_start=False)"
      ]
     },
     "execution_count": 75,
     "metadata": {},
     "output_type": "execute_result"
    }
   ],
   "source": [
    "rf.fit(train_x, train_y)"
   ]
  },
  {
   "cell_type": "code",
   "execution_count": 76,
   "metadata": {},
   "outputs": [
    {
     "name": "stderr",
     "output_type": "stream",
     "text": [
      "[Parallel(n_jobs=12)]: Using backend ThreadingBackend with 12 concurrent workers.\n",
      "[Parallel(n_jobs=12)]: Done  26 tasks      | elapsed:    0.0s\n",
      "[Parallel(n_jobs=12)]: Done 176 tasks      | elapsed:    0.0s\n",
      "[Parallel(n_jobs=12)]: Done 400 out of 400 | elapsed:    0.1s finished\n"
     ]
    }
   ],
   "source": [
    "test_pred = rf.predict_proba(test_x)[:,1]"
   ]
  },
  {
   "cell_type": "code",
   "execution_count": 77,
   "metadata": {},
   "outputs": [
    {
     "name": "stderr",
     "output_type": "stream",
     "text": [
      "[Parallel(n_jobs=12)]: Using backend ThreadingBackend with 12 concurrent workers.\n",
      "[Parallel(n_jobs=12)]: Done  26 tasks      | elapsed:    0.0s\n",
      "[Parallel(n_jobs=12)]: Done 176 tasks      | elapsed:    0.0s\n",
      "[Parallel(n_jobs=12)]: Done 400 out of 400 | elapsed:    0.1s finished\n"
     ]
    },
    {
     "data": {
      "text/plain": [
       "array([[0.63872272, 0.36127728],\n",
       "       [0.43484274, 0.56515726],\n",
       "       [0.54159166, 0.45840834],\n",
       "       ...,\n",
       "       [0.65748598, 0.34251402],\n",
       "       [0.78299105, 0.21700895],\n",
       "       [0.5578036 , 0.4421964 ]])"
      ]
     },
     "execution_count": 77,
     "metadata": {},
     "output_type": "execute_result"
    }
   ],
   "source": [
    "rf.predict_proba(test_x)"
   ]
  },
  {
   "cell_type": "code",
   "execution_count": 78,
   "metadata": {},
   "outputs": [
    {
     "data": {
      "text/plain": [
       "0.69213013463816"
      ]
     },
     "execution_count": 78,
     "metadata": {},
     "output_type": "execute_result"
    }
   ],
   "source": [
    "roc_auc_score(test_y, test_pred)"
   ]
  },
  {
   "cell_type": "code",
   "execution_count": 79,
   "metadata": {},
   "outputs": [
    {
     "name": "stderr",
     "output_type": "stream",
     "text": [
      "[Parallel(n_jobs=12)]: Using backend ThreadingBackend with 12 concurrent workers.\n",
      "[Parallel(n_jobs=12)]: Done  26 tasks      | elapsed:    0.0s\n",
      "[Parallel(n_jobs=12)]: Done 176 tasks      | elapsed:    0.0s\n",
      "[Parallel(n_jobs=12)]: Done 400 out of 400 | elapsed:    0.1s finished\n"
     ]
    },
    {
     "data": {
      "text/plain": [
       "0.6642453591606134"
      ]
     },
     "execution_count": 79,
     "metadata": {},
     "output_type": "execute_result"
    }
   ],
   "source": [
    "accuracy_score(test_y, rf.predict(test_x))"
   ]
  },
  {
   "cell_type": "code",
   "execution_count": 80,
   "metadata": {},
   "outputs": [
    {
     "data": {
      "image/png": "[encoded data removed]",
      "text/plain": [
       "<Figure size 432x288 with 1 Axes>"
      ]
     },
     "metadata": {
      "needs_background": "light"
     },
     "output_type": "display_data"
    }
   ],
   "source": [
    "features = model_data.columns\n",
    "importances = rf.feature_importances_\n",
    "indices = np.argsort(importances)\n",
    "\n",
    "plt.title('Feature Importances')\n",
    "plt.barh(range(len(indices)), importances[indices], color='b', align='center')\n",
    "plt.yticks(range(len(indices)), [features[i] for i in indices])\n",
    "plt.xlabel('Relative Importance')\n",
    "plt.show()"
   ]
  },
  {
   "cell_type": "code",
   "execution_count": 81,
   "metadata": {},
   "outputs": [
    {
     "data": {
      "image/png": "[encoded data removed]",
      "text/plain": [
       "<Figure size 432x288 with 1 Axes>"
      ]
     },
     "metadata": {
      "needs_background": "light"
     },
     "output_type": "display_data"
    }
   ],
   "source": [
    "fpr, tpr, threshold = roc_curve(test_y, test_pred)\n",
    "roc_auc = auc(fpr, tpr)\n",
    "plt.title('ROC RF testing')\n",
    "plt.plot(fpr, tpr, 'b', label = 'AUC = %0.2f' % roc_auc)\n",
    "plt.legend(loc = 'lower right')\n",
    "plt.plot([0, 1], [0, 1],'r--')\n",
    "plt.xlim([0, 1])\n",
    "plt.ylim([0, 1])\n",
    "plt.ylabel('True Positive Rate')\n",
    "plt.xlabel('False Positive Rate')\n",
    "plt.show()"
   ]
  },
  {
   "cell_type": "code",
   "execution_count": 82,
   "metadata": {},
   "outputs": [
    {
     "name": "stderr",
     "output_type": "stream",
     "text": [
      "[Parallel(n_jobs=12)]: Using backend ThreadingBackend with 12 concurrent workers.\n",
      "[Parallel(n_jobs=12)]: Done  26 tasks      | elapsed:    0.1s\n",
      "[Parallel(n_jobs=12)]: Done 176 tasks      | elapsed:    0.1s\n",
      "[Parallel(n_jobs=12)]: Done 400 out of 400 | elapsed:    0.1s finished\n"
     ]
    },
    {
     "data": {
      "image/png": "[encoded data removed]",
      "text/plain": [
       "<Figure size 432x288 with 1 Axes>"
      ]
     },
     "metadata": {
      "needs_background": "light"
     },
     "output_type": "display_data"
    }
   ],
   "source": [
    "train_pred = rf.predict_proba(train_x)[:,1]\n",
    "fpr, tpr, threshold = roc_curve(train_y, train_pred)\n",
    "roc_auc = auc(fpr, tpr)\n",
    "plt.title('ROC RF training')\n",
    "plt.plot(fpr, tpr, 'b', label = 'AUC = %0.2f' % roc_auc)\n",
    "plt.legend(loc = 'lower right')\n",
    "plt.plot([0, 1], [0, 1],'r--')\n",
    "plt.xlim([0, 1])\n",
    "plt.ylim([0, 1])\n",
    "plt.ylabel('True Positive Rate')\n",
    "plt.xlabel('False Positive Rate')\n",
    "plt.show()"
   ]
  },
  {
   "cell_type": "code",
   "execution_count": 83,
   "metadata": {},
   "outputs": [
    {
     "name": "stderr",
     "output_type": "stream",
     "text": [
      "[Parallel(n_jobs=12)]: Using backend ThreadingBackend with 12 concurrent workers.\n",
      "[Parallel(n_jobs=12)]: Done  26 tasks      | elapsed:    0.0s\n",
      "[Parallel(n_jobs=12)]: Done 176 tasks      | elapsed:    0.0s\n",
      "[Parallel(n_jobs=12)]: Done 400 out of 400 | elapsed:    0.1s finished\n"
     ]
    },
    {
     "data": {
      "text/plain": [
       "<matplotlib.axes._subplots.AxesSubplot at 0x7f50135929e8>"
      ]
     },
     "execution_count": 83,
     "metadata": {},
     "output_type": "execute_result"
    },
    {
     "data": {
      "image/png": "[encoded data removed]",
      "text/plain": [
       "<Figure size 432x288 with 2 Axes>"
      ]
     },
     "metadata": {
      "needs_background": "light"
     },
     "output_type": "display_data"
    }
   ],
   "source": [
    "labelname = rf.classes_\n",
    "sns.heatmap(confusion_matrix(test_y, rf.predict(test_x)), annot=True,  fmt='', xticklabels=labelname, yticklabels=labelname)"
   ]
  },
  {
   "cell_type": "code",
   "execution_count": 84,
   "metadata": {},
   "outputs": [
    {
     "name": "stdout",
     "output_type": "stream",
     "text": [
      "              precision    recall  f1-score   support\n",
      "\n",
      "           0       0.86      0.69      0.76       976\n",
      "           1       0.33      0.57      0.42       263\n",
      "\n",
      "   micro avg       0.66      0.66      0.66      1239\n",
      "   macro avg       0.59      0.63      0.59      1239\n",
      "weighted avg       0.75      0.66      0.69      1239\n",
      "\n"
     ]
    },
    {
     "name": "stderr",
     "output_type": "stream",
     "text": [
      "[Parallel(n_jobs=12)]: Using backend ThreadingBackend with 12 concurrent workers.\n",
      "[Parallel(n_jobs=12)]: Done  26 tasks      | elapsed:    0.0s\n",
      "[Parallel(n_jobs=12)]: Done 176 tasks      | elapsed:    0.0s\n",
      "[Parallel(n_jobs=12)]: Done 400 out of 400 | elapsed:    0.1s finished\n"
     ]
    }
   ],
   "source": [
    "print(classification_report(test_y, rf.predict(test_x)))"
   ]
  },
  {
   "cell_type": "code",
   "execution_count": 85,
   "metadata": {},
   "outputs": [],
   "source": [
    "xgb_params = { \n",
    "    'max_depth': np.arange(3,7),\n",
    "    'learn_rate' : [0.001, 0.01, 0.0001],\n",
    "    'gamma': [0.01, 0.05, 0.1, 0.15, 0.2, 0.5, 1],\n",
    "    'min_child_weight': [1, 2, 3, 4, 5, 6, 7, 10, 15],\n",
    "    'max_delta_step': [1, 2, 3, 4, 5, 6, 7, 10, 15],\n",
    "    'subsample' : [0.5, 0.8, 1],\n",
    "    'colsample_bytree' : [0.25, 0.5, 0.75, 1],\n",
    "    'n_estimators' : [100,200,500],\n",
    "    'importance_type' : [\"gain\", \"weight\", \"cover\", \"total_gain\", \"total_cover\"]\n",
    "}\n",
    "xgb = XGBClassifier(n_jobs=-1, eval_metric=[\"auc\", \"error\"], class_weight='balanced')\n",
    "random_cv = RandomizedSearchCV(xgb, cv=5, param_distributions=xgb_params)"
   ]
  },
  {
   "cell_type": "code",
   "execution_count": 86,
   "metadata": {},
   "outputs": [],
   "source": [
    "random_cv.fit(train_x, train_y)\n",
    "xgb = XGBClassifier(n_jobs=-1, eval_metric=[\"auc\", \"error\"], class_weight='balanced', **random_cv.best_params_)"
   ]
  },
  {
   "cell_type": "code",
   "execution_count": 87,
   "metadata": {},
   "outputs": [
    {
     "data": {
      "text/plain": [
       "XGBClassifier(base_score=0.5, booster='gbtree', class_weight='balanced',\n",
       "       colsample_bylevel=1, colsample_bytree=0.25,\n",
       "       eval_metric=['auc', 'error'], gamma=1, learn_rate=0.01,\n",
       "       learning_rate=0.1, max_delta_step=5, max_depth=4,\n",
       "       min_child_weight=3, missing=None, n_estimators=100, n_jobs=-1,\n",
       "       nthread=None, objective='binary:logistic', random_state=0,\n",
       "       reg_alpha=0, reg_lambda=1, scale_pos_weight=1, seed=None,\n",
       "       silent=True, subsample=0.5)"
      ]
     },
     "execution_count": 87,
     "metadata": {},
     "output_type": "execute_result"
    }
   ],
   "source": [
    "xgb"
   ]
  },
  {
   "cell_type": "code",
   "execution_count": 88,
   "metadata": {},
   "outputs": [
    {
     "data": {
      "text/plain": [
       "{'subsample': 0.5,\n",
       " 'n_estimators': 100,\n",
       " 'min_child_weight': 3,\n",
       " 'max_depth': 4,\n",
       " 'max_delta_step': 5,\n",
       " 'learn_rate': 0.01,\n",
       " 'importance_type': 'cover',\n",
       " 'gamma': 1,\n",
       " 'colsample_bytree': 0.25}"
      ]
     },
     "execution_count": 88,
     "metadata": {},
     "output_type": "execute_result"
    }
   ],
   "source": [
    "random_cv.best_params_"
   ]
  },
  {
   "cell_type": "code",
   "execution_count": 89,
   "metadata": {},
   "outputs": [
    {
     "data": {
      "text/plain": [
       "0.6719051922957053"
      ]
     },
     "execution_count": 89,
     "metadata": {},
     "output_type": "execute_result"
    }
   ],
   "source": [
    "xgb.fit(train_x, train_y)\n",
    "test_pred = xgb.predict_proba(test_x)[:,1]\n",
    "roc_auc_score(test_y, test_pred)"
   ]
  },
  {
   "cell_type": "code",
   "execution_count": 90,
   "metadata": {},
   "outputs": [
    {
     "data": {
      "text/plain": [
       "0.7949959644874899"
      ]
     },
     "execution_count": 90,
     "metadata": {},
     "output_type": "execute_result"
    }
   ],
   "source": [
    "accuracy_score(test_y, xgb.predict(test_x))"
   ]
  },
  {
   "cell_type": "code",
   "execution_count": 91,
   "metadata": {},
   "outputs": [
    {
     "data": {
      "image/png": "[encoded data removed]",
      "text/plain": [
       "<Figure size 432x288 with 1 Axes>"
      ]
     },
     "metadata": {
      "needs_background": "light"
     },
     "output_type": "display_data"
    }
   ],
   "source": [
    "fpr, tpr, threshold = roc_curve(test_y, test_pred)\n",
    "roc_auc = auc(fpr, tpr)\n",
    "plt.title('ROC XGBoost testing')\n",
    "plt.plot(fpr, tpr, 'b', label = 'AUC = %0.2f' % roc_auc)\n",
    "plt.legend(loc = 'lower right')\n",
    "plt.plot([0, 1], [0, 1],'r--')\n",
    "plt.xlim([0, 1])\n",
    "plt.ylim([0, 1])\n",
    "plt.ylabel('True Positive Rate')\n",
    "plt.xlabel('False Positive Rate')\n",
    "plt.show()"
   ]
  },
  {
   "cell_type": "code",
   "execution_count": 92,
   "metadata": {},
   "outputs": [
    {
     "name": "stderr",
     "output_type": "stream",
     "text": [
      "[Parallel(n_jobs=12)]: Using backend ThreadingBackend with 12 concurrent workers.\n",
      "[Parallel(n_jobs=12)]: Done  26 tasks      | elapsed:    0.0s\n",
      "[Parallel(n_jobs=12)]: Done 176 tasks      | elapsed:    0.0s\n",
      "[Parallel(n_jobs=12)]: Done 400 out of 400 | elapsed:    0.1s finished\n"
     ]
    },
    {
     "data": {
      "image/png": "[encoded data removed]",
      "text/plain": [
       "<Figure size 432x288 with 1 Axes>"
      ]
     },
     "metadata": {
      "needs_background": "light"
     },
     "output_type": "display_data"
    }
   ],
   "source": [
    "train_pred = rf.predict_proba(train_x)[:,1]\n",
    "fpr, tpr, threshold = roc_curve(train_y, train_pred)\n",
    "roc_auc = auc(fpr, tpr)\n",
    "plt.title('ROC XGBoost training')\n",
    "plt.plot(fpr, tpr, 'b', label = 'AUC = %0.2f' % roc_auc)\n",
    "plt.legend(loc = 'lower right')\n",
    "plt.plot([0, 1], [0, 1],'r--')\n",
    "plt.xlim([0, 1])\n",
    "plt.ylim([0, 1])\n",
    "plt.ylabel('True Positive Rate')\n",
    "plt.xlabel('False Positive Rate')\n",
    "plt.show()"
   ]
  },
  {
   "cell_type": "code",
   "execution_count": 93,
   "metadata": {},
   "outputs": [
    {
     "data": {
      "text/plain": [
       "<matplotlib.axes._subplots.AxesSubplot at 0x7f5012d2e208>"
      ]
     },
     "execution_count": 93,
     "metadata": {},
     "output_type": "execute_result"
    },
    {
     "data": {
      "image/png": "[encoded data removed]",
      "text/plain": [
       "<Figure size 432x288 with 2 Axes>"
      ]
     },
     "metadata": {
      "needs_background": "light"
     },
     "output_type": "display_data"
    }
   ],
   "source": [
    "labelname = xgb.classes_\n",
    "sns.heatmap(confusion_matrix(test_y, xgb.predict(test_x)), annot=True,  fmt='', xticklabels=labelname, yticklabels=labelname)"
   ]
  },
  {
   "cell_type": "code",
   "execution_count": 94,
   "metadata": {},
   "outputs": [
    {
     "name": "stdout",
     "output_type": "stream",
     "text": [
      "              precision    recall  f1-score   support\n",
      "\n",
      "           0       0.81      0.98      0.88       976\n",
      "           1       0.58      0.13      0.21       263\n",
      "\n",
      "   micro avg       0.79      0.79      0.79      1239\n",
      "   macro avg       0.69      0.55      0.54      1239\n",
      "weighted avg       0.76      0.79      0.74      1239\n",
      "\n"
     ]
    }
   ],
   "source": [
    "print(classification_report(test_y, xgb.predict(test_x)))"
   ]
  },
  {
   "cell_type": "code",
   "execution_count": null,
   "metadata": {},
   "outputs": [],
   "source": []
  },
  {
   "cell_type": "code",
   "execution_count": null,
   "metadata": {},
   "outputs": [],
   "source": []
  }
 ],
 "metadata": {
  "kernelspec": {
   "display_name": "Python 3",
   "language": "python",
   "name": "python3"
  },
  "language_info": {
   "codemirror_mode": {
    "name": "ipython",
    "version": 3
   },
   "file_extension": ".py",
   "mimetype": "text/x-python",
   "name": "python",
   "nbconvert_exporter": "python",
   "pygments_lexer": "ipython3",
   "version": "3.6.6"
  }
 },
 "nbformat": 4,
 "nbformat_minor": 2
}
